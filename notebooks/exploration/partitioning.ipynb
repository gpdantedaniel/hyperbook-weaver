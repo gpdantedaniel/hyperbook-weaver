{
 "cells": [
  {
   "cell_type": "markdown",
   "id": "73e811a1",
   "metadata": {},
   "source": [
    "## Creating a partition of the Hyperbook dataset"
   ]
  },
  {
   "cell_type": "code",
   "execution_count": 5,
   "id": "ea95f0b4",
   "metadata": {},
   "outputs": [],
   "source": [
    "import pandas as pd\n",
    "\n",
    "df = pd.read_csv('../../data/raw/hyperbook.csv', index_col='url')"
   ]
  },
  {
   "cell_type": "code",
   "execution_count": 6,
   "id": "5c2d3e7b",
   "metadata": {},
   "outputs": [],
   "source": [
    "columns_keep = ['title', 'abstract']\n",
    "columns_drop = [col_name for col_name in df.columns if col_name not in columns_keep]"
   ]
  },
  {
   "cell_type": "code",
   "execution_count": 7,
   "id": "63a0ed50",
   "metadata": {},
   "outputs": [
    {
     "data": {
      "text/html": [
       "<div>\n",
       "<style scoped>\n",
       "    .dataframe tbody tr th:only-of-type {\n",
       "        vertical-align: middle;\n",
       "    }\n",
       "\n",
       "    .dataframe tbody tr th {\n",
       "        vertical-align: top;\n",
       "    }\n",
       "\n",
       "    .dataframe thead th {\n",
       "        text-align: right;\n",
       "    }\n",
       "</style>\n",
       "<table border=\"1\" class=\"dataframe\">\n",
       "  <thead>\n",
       "    <tr style=\"text-align: right;\">\n",
       "      <th></th>\n",
       "      <th>title</th>\n",
       "      <th>content</th>\n",
       "    </tr>\n",
       "    <tr>\n",
       "      <th>url</th>\n",
       "      <th></th>\n",
       "      <th></th>\n",
       "    </tr>\n",
       "  </thead>\n",
       "  <tbody>\n",
       "    <tr>\n",
       "      <th>https://bioengineering.hyperbook.mcgill.ca/just-keep-swimming-structure-movement-and-light-interactions-of-unicellular-green-algae/</th>\n",
       "      <td>Just Keep Swimming: Structure, Movement, and L...</td>\n",
       "      <td>Popular scientific theory suggests that life o...</td>\n",
       "    </tr>\n",
       "    <tr>\n",
       "      <th>https://bioengineering.hyperbook.mcgill.ca/a-mathematical-approach-to-understanding-volvox/</th>\n",
       "      <td>A Mathematical Approach to Understanding Volvox</td>\n",
       "      <td>This paper sheds light on the suitability of m...</td>\n",
       "    </tr>\n",
       "    <tr>\n",
       "      <th>https://bioengineering.hyperbook.mcgill.ca/the-chemistry-lying-deep-within-a-volvox-colony/</th>\n",
       "      <td>The Chemistry Lying Deep Within a Volvox Colony</td>\n",
       "      <td>Despite their apparent simplicity as microorga...</td>\n",
       "    </tr>\n",
       "    <tr>\n",
       "      <th>https://bioengineering.hyperbook.mcgill.ca/the-biophysics-of-volvox/</th>\n",
       "      <td>The Biophysics of Volvox</td>\n",
       "      <td>Volvox are microscopic colonial algae that are...</td>\n",
       "    </tr>\n",
       "    <tr>\n",
       "      <th>https://bioengineering.hyperbook.mcgill.ca/art-in-symmetry-mathematical-models-that-dictate-radiolarian-structures/</th>\n",
       "      <td>Art in Symmetry: Mathematical Models that Dict...</td>\n",
       "      <td>This essay explores the fascinating intersecti...</td>\n",
       "    </tr>\n",
       "  </tbody>\n",
       "</table>\n",
       "</div>"
      ],
      "text/plain": [
       "                                                                                                title  \\\n",
       "url                                                                                                     \n",
       "https://bioengineering.hyperbook.mcgill.ca/just...  Just Keep Swimming: Structure, Movement, and L...   \n",
       "https://bioengineering.hyperbook.mcgill.ca/a-ma...    A Mathematical Approach to Understanding Volvox   \n",
       "https://bioengineering.hyperbook.mcgill.ca/the-...    The Chemistry Lying Deep Within a Volvox Colony   \n",
       "https://bioengineering.hyperbook.mcgill.ca/the-...                           The Biophysics of Volvox   \n",
       "https://bioengineering.hyperbook.mcgill.ca/art-...  Art in Symmetry: Mathematical Models that Dict...   \n",
       "\n",
       "                                                                                              content  \n",
       "url                                                                                                    \n",
       "https://bioengineering.hyperbook.mcgill.ca/just...  Popular scientific theory suggests that life o...  \n",
       "https://bioengineering.hyperbook.mcgill.ca/a-ma...  This paper sheds light on the suitability of m...  \n",
       "https://bioengineering.hyperbook.mcgill.ca/the-...  Despite their apparent simplicity as microorga...  \n",
       "https://bioengineering.hyperbook.mcgill.ca/the-...  Volvox are microscopic colonial algae that are...  \n",
       "https://bioengineering.hyperbook.mcgill.ca/art-...  This essay explores the fascinating intersecti...  "
      ]
     },
     "execution_count": 7,
     "metadata": {},
     "output_type": "execute_result"
    }
   ],
   "source": [
    "partition = df[:5].drop(columns=columns_drop)\n",
    "partition = partition.rename(columns={'abstract': 'content'})\n",
    "partition"
   ]
  },
  {
   "cell_type": "code",
   "execution_count": 8,
   "id": "1cf97e63",
   "metadata": {},
   "outputs": [],
   "source": [
    "partition.to_csv('../../data/processed/testing_partition.csv')"
   ]
  },
  {
   "cell_type": "code",
   "execution_count": null,
   "id": "5c85445f",
   "metadata": {},
   "outputs": [],
   "source": []
  }
 ],
 "metadata": {
  "kernelspec": {
   "display_name": "venv",
   "language": "python",
   "name": "python3"
  },
  "language_info": {
   "codemirror_mode": {
    "name": "ipython",
    "version": 3
   },
   "file_extension": ".py",
   "mimetype": "text/x-python",
   "name": "python",
   "nbconvert_exporter": "python",
   "pygments_lexer": "ipython3",
   "version": "3.12.0"
  }
 },
 "nbformat": 4,
 "nbformat_minor": 5
}
