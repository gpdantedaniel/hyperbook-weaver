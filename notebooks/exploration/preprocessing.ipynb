{
 "cells": [
  {
   "cell_type": "markdown",
   "id": "54684d23",
   "metadata": {},
   "source": [
    "# Building contrastive examples"
   ]
  },
  {
   "cell_type": "code",
   "execution_count": 1,
   "id": "558c55b0",
   "metadata": {},
   "outputs": [],
   "source": [
    "import pandas as pd\n",
    "\n",
    "df = pd.read_csv('../../data/raw/hyperbook.csv', index_col='url')"
   ]
  },
  {
   "cell_type": "code",
   "execution_count": 5,
   "id": "9c86752d",
   "metadata": {},
   "outputs": [],
   "source": [
    "import spacy\n",
    "\n",
    "nlp = spacy.load('en_core_sci_md')  # This can take a while"
   ]
  },
  {
   "cell_type": "code",
   "execution_count": 6,
   "id": "475b6dbe",
   "metadata": {},
   "outputs": [],
   "source": [
    "import re\n",
    "\n",
    "FIG_RE = re.compile(r\"^(fig(ure)?|table|eq(uation)?)\\s*\\d+\", re.I)\n",
    "CIT_RE = re.compile(r\"^\\[?\\d{1,3}\\]?$\")\n",
    "\n",
    "def is_good(sent: str) -> bool:\n",
    "    \"\"\"\n",
    "    Validates a sentence and returns a boolean.\n",
    "    Excludes figures, citations, section heads, and\n",
    "    sentences with alphabetic ratios less than 40%,\n",
    "    less than 4 tokens or more than 128 tokens.\n",
    "    \"\"\"\n",
    "    text = sent.strip()\n",
    "    # Exclude figures and citations\n",
    "    if FIG_RE.match(text) or CIT_RE.match(text): return False\n",
    "    # Exclude section heads\n",
    "    if text.isupper() and len(text.split()) <= 6: return False\n",
    "    doc = nlp(text)\n",
    "    if len(doc) < 4 or len(doc) > 128: return False\n",
    "    # Ensure alphabetic ratio greater than 40%\n",
    "    alpha_ratio = sum(t.is_alpha for t in doc)/len(doc) \n",
    "    return alpha_ratio >= 0.4\n",
    "\n",
    "def clean_paper(content):\n",
    "    doc = nlp(content)\n",
    "    for sent in doc.sents:\n",
    "        if is_good(sent.text):\n",
    "            yield sent.text.strip()"
   ]
  },
  {
   "cell_type": "code",
   "execution_count": 11,
   "id": "08b2d385",
   "metadata": {},
   "outputs": [
    {
     "name": "stderr",
     "output_type": "stream",
     "text": [
      "100%|██████████| 207/207 [10:39<00:00,  3.09s/it]\n"
     ]
    }
   ],
   "source": [
    "from tqdm import tqdm\n",
    "\n",
    "sentences, paper_ids, positives = [], [], []\n",
    "output_path = '../../data/processed/triples.json'\n",
    "\n",
    "papers = list(df['content'])\n",
    "\n",
    "for pid, content in tqdm(list(enumerate(papers))):\n",
    "    sents = list(clean_paper(content))\n",
    "    # Last sentence has no positive\n",
    "    for i in range(len(sents) - 1):\n",
    "        sentences.append(sents[i])\n",
    "        positives.append(sents[i + 1])\n",
    "        paper_ids.append(pid)"
   ]
  },
  {
   "cell_type": "code",
   "execution_count": 12,
   "id": "0967d333",
   "metadata": {},
   "outputs": [],
   "source": [
    "import json\n",
    "\n",
    "# Save the data — it takes a while to compute!\n",
    "data = {'sentences': sentences, 'positives': positives, 'paper_ids': paper_ids}\n",
    "output_path = '../../data/processed/triples.json'\n",
    "\n",
    "with open(output_path, 'w') as file:\n",
    "    json.dump(data, file)"
   ]
  },
  {
   "cell_type": "markdown",
   "id": "f3202dfc",
   "metadata": {},
   "source": [
    "## Hard-negative mining for InfoNCE"
   ]
  },
  {
   "cell_type": "code",
   "execution_count": 13,
   "id": "8e53ea4d",
   "metadata": {},
   "outputs": [],
   "source": [
    "from sentence_transformers import SentenceTransformer\n",
    "\n",
    "model_name = 'Qwen/Qwen3-Embedding-0.6B'\n",
    "model = SentenceTransformer(model_name)"
   ]
  },
  {
   "cell_type": "code",
   "execution_count": 16,
   "id": "9f30145a",
   "metadata": {},
   "outputs": [
    {
     "data": {
      "application/vnd.jupyter.widget-view+json": {
       "model_id": "e8ea2a7975c24d53aec0789c5be56a0c",
       "version_major": 2,
       "version_minor": 0
      },
      "text/plain": [
       "Batches:   0%|          | 0/800 [00:00<?, ?it/s]"
      ]
     },
     "metadata": {},
     "output_type": "display_data"
    }
   ],
   "source": [
    "embeddings = model.encode(\n",
    "    sentences, \n",
    "    batch_size=64, \n",
    "    normalize_embeddings=True,  # Normalizes into unit vectors\n",
    "    show_progress_bar=True\n",
    ")"
   ]
  },
  {
   "cell_type": "code",
   "execution_count": 18,
   "id": "39a11322",
   "metadata": {},
   "outputs": [],
   "source": [
    "import faiss\n",
    "\n",
    "d = embeddings.shape[1]\n",
    "index = faiss.IndexFlatIP(d)    # Cosine because vectors are unit-norm\n",
    "index.add(embeddings)"
   ]
  },
  {
   "cell_type": "code",
   "execution_count": 19,
   "id": "69f13732",
   "metadata": {},
   "outputs": [],
   "source": [
    "def mine_negatives(i, k=3, lower=0.6, upper=0.9):\n",
    "    # Get the top 50 candidates\n",
    "    D, I = index.search(embeddings[i:i+1], 50)\n",
    "    hard = []\n",
    "\n",
    "    for j, score in zip(I[0], D[0]):\n",
    "        if j == i: continue\n",
    "        if paper_ids[j] == paper_ids[i]: continue\n",
    "        if lower <= score <= upper: hard.append(sentences[j])\n",
    "        if len(hard) == k: break\n",
    "\n",
    "    return hard"
   ]
  },
  {
   "cell_type": "code",
   "execution_count": null,
   "id": "5564ba63",
   "metadata": {},
   "outputs": [
    {
     "name": "stderr",
     "output_type": "stream",
     "text": [
      "100%|██████████| 51146/51146 [12:33<00:00, 67.90it/s]\n"
     ]
    }
   ],
   "source": [
    "import json\n",
    "\n",
    "output_path = '../../data/processed/hyperbook_infonce.jsonl'\n",
    "\n",
    "with open(file=output_path, mode='w', encoding='utf-8') as file:\n",
    "    for i, (anchor, positive) in tqdm(list(enumerate(zip(sentences, positives)))):\n",
    "        negatives = mine_negatives(i)\n",
    "        file.write(json.dumps({\n",
    "            'query': anchor,\n",
    "            'response': positive,\n",
    "            'rejected_response': negatives\n",
    "        }, ensure_ascii=False) + '\\n')"
   ]
  }
 ],
 "metadata": {
  "kernelspec": {
   "display_name": "venv",
   "language": "python",
   "name": "python3"
  },
  "language_info": {
   "codemirror_mode": {
    "name": "ipython",
    "version": 3
   },
   "file_extension": ".py",
   "mimetype": "text/x-python",
   "name": "python",
   "nbconvert_exporter": "python",
   "pygments_lexer": "ipython3",
   "version": "3.12.0"
  }
 },
 "nbformat": 4,
 "nbformat_minor": 5
}
