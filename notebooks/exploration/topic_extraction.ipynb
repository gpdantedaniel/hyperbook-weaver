{
 "cells": [
  {
   "cell_type": "markdown",
   "id": "d3449c03",
   "metadata": {},
   "source": [
    "### Extracting keywords for each paper"
   ]
  },
  {
   "cell_type": "code",
   "execution_count": 1,
   "id": "b01c60ef",
   "metadata": {},
   "outputs": [],
   "source": [
    "import pandas as pd\n",
    "\n",
    "df = pd.read_csv('../outputs/hyperbook_training.csv', index_col='url')"
   ]
  },
  {
   "cell_type": "code",
   "execution_count": 2,
   "id": "70203813",
   "metadata": {},
   "outputs": [
    {
     "data": {
      "text/plain": [
       "'\\nImplementation using ChunkeyBERT\\n\\nfrom transformers import AutoTokenizer\\nfrom langchain_text_splitters import TokenTextSplitter\\nfrom chunkey_bert.model import ChunkeyBert\\n\\ntokenizer = AutoTokenizer.from_pretrained(model_name)\\ntext_splitter = TokenTextSplitter.from_huggingface_tokenizer(tokenizer, chunk_size=1024,chunk_overlap=128)\\nchunker = lambda text: text_splitter.split_text(text)\\n\\nchunkey_bert = ChunkeyBert(keybert=keybert)\\n'"
      ]
     },
     "execution_count": 2,
     "metadata": {},
     "output_type": "execute_result"
    }
   ],
   "source": [
    "\"\"\"\n",
    "Implementation using ChunkeyBERT\n",
    "\n",
    "from transformers import AutoTokenizer\n",
    "from langchain_text_splitters import TokenTextSplitter\n",
    "from chunkey_bert.model import ChunkeyBert\n",
    "\n",
    "tokenizer = AutoTokenizer.from_pretrained(model_name)\n",
    "text_splitter = TokenTextSplitter.from_huggingface_tokenizer(tokenizer, chunk_size=1024,chunk_overlap=128)\n",
    "chunker = lambda text: text_splitter.split_text(text)\n",
    "\n",
    "chunkey_bert = ChunkeyBert(keybert=keybert)\n",
    "\"\"\""
   ]
  },
  {
   "cell_type": "code",
   "execution_count": 3,
   "id": "89d6a1c1",
   "metadata": {},
   "outputs": [],
   "source": [
    "from tqdm import tqdm \n",
    "from keybert import KeyBERT\n",
    "\n",
    "model_name = 'Qwen/Qwen3-Embedding-0.6B'\n",
    "\n",
    "if 'keywords' not in df.columns:\n",
    "    # Compute all the keywords. This may take a while\n",
    "    keybert = KeyBERT(model=model_name)\n",
    "    extracted_keywords = []\n",
    "\n",
    "    for content in tqdm(df['content']):\n",
    "        pairs = keybert.extract_keywords(\n",
    "            content, \n",
    "            top_n=20, \n",
    "            stop_words='english', \n",
    "            nr_candidates=40\n",
    "        )\n",
    "        keywords = ','.join([pair[0] for pair in pairs])\n",
    "        extracted_keywords.append(keywords)\n",
    "\n",
    "    # Make sure to save the results to avoid computing again the whole thing!\n",
    "    df['keywords'] = extracted_keywords\n",
    "\n",
    "    df.to_csv('../outputs/hyperbook_training.csv')\n",
    "    df = pd.read_csv('../outputs/hyperbook_training.csv', index_col='url')"
   ]
  },
  {
   "cell_type": "markdown",
   "id": "6fb711a1",
   "metadata": {},
   "source": [
    "### Clustering similar keywords to model topics"
   ]
  },
  {
   "cell_type": "code",
   "execution_count": null,
   "id": "c192bd3b",
   "metadata": {},
   "outputs": [],
   "source": [
    "from sentence_transformers import SentenceTransformer\n",
    "from hdbscan import HDBSCAN\n",
    "from sklearn.preprocessing import normalize\n",
    "from collections import defaultdict\n",
    "\n",
    "embedding_model = SentenceTransformer(model_name)\n",
    "clusterer = HDBSCAN(min_cluster_size=2, metric='euclidean', algorithm='best')\n",
    "\n",
    "def cluster_keywords(keywords: list[str]) -> dict:\n",
    "    \"\"\"\n",
    "    Clusters relevant keywords into semantically\n",
    "    related clusters and returns a map\n",
    "    \"\"\"\n",
    "    embeddings = embedding_model.encode(keywords, show_progress_bar=True)\n",
    "    embeddings = normalize(embeddings, norm='l2')\n",
    "    clusters = clusterer.fit_predict(embeddings)\n",
    "    cluster_map = defaultdict(list)\n",
    "\n",
    "    for keyword, cluster_id in zip(keywords, clusters):\n",
    "        if cluster_id != -1: # Skip noise if using HDBSCAN\n",
    "            cluster_map[int(cluster_id)].append(keyword)\n",
    "\n",
    "    print(f'Identified {len(cluster_map)} clusters')\n",
    "    return cluster_map\n",
    "\n",
    "\n",
    "# Test different clustering number members"
   ]
  },
  {
   "cell_type": "code",
   "execution_count": 5,
   "id": "6a735824",
   "metadata": {},
   "outputs": [],
   "source": [
    "from langchain_openai import AzureChatOpenAI\n",
    "\n",
    "NAMING_PROMPT = (\n",
    "    'Suggest one scientific, technical keyword that best describes the context. '\n",
    "    'The suggested keyword must not be in the set of existing keywords. '\n",
    "    'Avoid all formatting and output strictly in plaintext and lowercase.'\n",
    "    '\\n\\nContext: {context}'\n",
    "    '\\n\\nExisting keywords: {existing_keywords}'\n",
    "    '\\n\\nSuggested keyword: '\n",
    ")\n",
    "\n",
    "naming_model = AzureChatOpenAI(azure_deployment='gpt-4o', api_version='2024-10-21')\n",
    "\n",
    "def name_clusters(cluster_map: dict) -> dict:\n",
    "    \"\"\"\n",
    "    Maps each cluster identifier to a semantically relevant name\n",
    "    \"\"\"\n",
    "    cluster_names = {}\n",
    "\n",
    "    for cluster_id in tqdm(cluster_map.keys()):\n",
    "        keywords = cluster_map[cluster_id]\n",
    "        context = ', '.join(keywords)\n",
    "        existing_keywords = ', '.join(cluster_names.values())\n",
    "        prompt = NAMING_PROMPT.format(context=context, existing_keywords=existing_keywords)\n",
    "\n",
    "        try: \n",
    "            name = naming_model.invoke(prompt).content\n",
    "            if name in set(cluster_names.values()): raise Exception\n",
    "        except: \n",
    "            name = input(context)\n",
    "\n",
    "        cluster_names[cluster_id] = name\n",
    "\n",
    "    return cluster_names"
   ]
  },
  {
   "cell_type": "code",
   "execution_count": 6,
   "id": "75a3acd7",
   "metadata": {},
   "outputs": [],
   "source": [
    "def flatten_cluster_map(cluster_map: dict) -> tuple:\n",
    "    \"\"\"\n",
    "    Flattens a cluster map and returns two equally long lists\n",
    "    \"\"\"\n",
    "    flat_keywords = [\n",
    "        kw \n",
    "        for group in cluster_map.values() \n",
    "        for kw in group\n",
    "    ]\n",
    "    flat_ids = [\n",
    "        mapped_id \n",
    "        for cluster_id in cluster_map.keys() \n",
    "        for mapped_id in [cluster_id] * len(cluster_map[cluster_id]) \n",
    "    ]\n",
    "    return flat_keywords, flat_ids"
   ]
  },
  {
   "cell_type": "code",
   "execution_count": 7,
   "id": "fa953cb1",
   "metadata": {},
   "outputs": [],
   "source": [
    "import umap.umap_ as umap\n",
    "import plotly.express as px\n",
    "\n",
    "reducer = umap.UMAP(n_neighbors=10, min_dist=0.1, metric='cosine', random_state=42)\n",
    "\n",
    "def display_clusters(cluster_map: dict, cluster_names: dict):\n",
    "    \"\"\"\n",
    "    Displays clusters and their member keywords\n",
    "    \"\"\"\n",
    "\n",
    "    flat_keywords, flat_ids = flatten_cluster_map(cluster_map)\n",
    "    flat_names = [cluster_names[cluster_id] for cluster_id in flat_ids]\n",
    "\n",
    "    embeddings = embedding_model.encode(flat_keywords)\n",
    "    embeddings_2d = reducer.fit_transform(embeddings)\n",
    "\n",
    "    coords = pd.DataFrame({\n",
    "        'keyword': flat_keywords,\n",
    "        'x': embeddings_2d[:, 0],\n",
    "        'y': embeddings_2d[:, 1],\n",
    "        'cluster': flat_names\n",
    "    })\n",
    "        \n",
    "    return px.scatter(\n",
    "        coords, \n",
    "        x='x', \n",
    "        y='y',\n",
    "        color=flat_names,\n",
    "        hover_data=['keyword'],\n",
    "        title='Semantically clustered keywords'\n",
    "    )"
   ]
  },
  {
   "cell_type": "code",
   "execution_count": 8,
   "id": "e06a24b2",
   "metadata": {},
   "outputs": [],
   "source": [
    "# Flatten and remove duplicates\n",
    "extracted_keywords = [group.split(',') for group in df['keywords']]\n",
    "keywords = list(set([kw for group in extracted_keywords for kw in group]))\n",
    "titles = list(df['title'])"
   ]
  },
  {
   "cell_type": "code",
   "execution_count": 9,
   "id": "1779c2f5",
   "metadata": {},
   "outputs": [
    {
     "name": "stdout",
     "output_type": "stream",
     "text": [
      "Importing cluster map data\n"
     ]
    }
   ],
   "source": [
    "import json\n",
    "\n",
    "import_data = True  # Change this manually\n",
    "\n",
    "if import_data:\n",
    "    print('Importing cluster map data')\n",
    "    with open('../outputs/cluster_data.json', 'r') as json_file:\n",
    "        cluster_data = json.load(json_file)\n",
    "    cluster_map, cluster_names = cluster_data['cluster_map'], cluster_data['cluster_names'] \n",
    "else:\n",
    "    print('Mapping clusters')\n",
    "    cluster_map = cluster_keywords(keywords)\n",
    "    print('Naming clusters')\n",
    "    cluster_names = name_clusters(cluster_map)"
   ]
  },
  {
   "cell_type": "code",
   "execution_count": 11,
   "id": "6b5e59cf",
   "metadata": {},
   "outputs": [
    {
     "name": "stderr",
     "output_type": "stream",
     "text": [
      "100%|██████████| 274/274 [16:51<00:00,  3.69s/it]\n"
     ]
    }
   ],
   "source": [
    "cluster_names = name_clusters(cluster_map)"
   ]
  },
  {
   "cell_type": "code",
   "execution_count": 13,
   "id": "affdb371",
   "metadata": {},
   "outputs": [
    {
     "name": "stdout",
     "output_type": "stream",
     "text": [
      "You have 274 uniquely named topics\n"
     ]
    }
   ],
   "source": [
    "difference = len(cluster_map) - len(set(cluster_names.values()))\n",
    "\n",
    "if difference == 0:\n",
    "    print(f'You have {len(cluster_map)} uniquely named topics')\n",
    "else:\n",
    "    print('There are multiplicates in your topics. The difference is', difference)"
   ]
  },
  {
   "cell_type": "code",
   "execution_count": 14,
   "id": "ab580ed8",
   "metadata": {},
   "outputs": [],
   "source": [
    "import json\n",
    "\n",
    "# Save the data to avoid computing the whole thing again !\n",
    "cluster_data = {'cluster_map': cluster_map, 'cluster_names': cluster_names}\n",
    "\n",
    "with open('../outputs/cluster_data.json', 'w') as json_file:\n",
    "    json.dump(cluster_data, json_file)"
   ]
  },
  {
   "cell_type": "code",
   "execution_count": 16,
   "id": "e5329316",
   "metadata": {},
   "outputs": [
    {
     "name": "stdout",
     "output_type": "stream",
     "text": [
      "Generating display\n"
     ]
    },
    {
     "data": {
      "application/vnd.plotly.v1+json": {
       "config": {
        "plotlyServerURL": "https://plot.ly"
       },
       "data": [
        {
         "customdata": [
          [
           "cattle"
          ],
          [
           "buffalos"
          ],
          [
           "caprine"
          ],
          [
           "bovines"
          ],
          [
           "bovine"
          ]
         ],
         "hovertemplate": "color=ruminants<br>x=%{x}<br>y=%{y}<br>keyword=%{customdata[0]}<extra></extra>",
         "legendgroup": "ruminants",
         "marker": {
          "color": "#636efa",
          "symbol": "circle"
         },
         "mode": "markers",
         "name": "ruminants",
         "showlegend": true,
         "type": "scattergl",
         "x": {
          "bdata": "xYASQX1fEkFN4RFBVYQSQUO+EUE=",
          "dtype": "f4"
         },
         "xaxis": "x",
         "y": {
          "bdata": "//iowKftqcAwZqrAyDKpwKWVqsA=",
          "dtype": "f4"
         },
         "yaxis": "y"
        },
        {
         "customdata": [
          [
           "lactogenesis"
          ],
          [
           "lactation"
          ],
          [
           "postpartum"
          ],
          [
           "lactating"
          ],
          [
           "lactations"
          ]
         ],
         "hovertemplate": "color=galactopoiesis<br>x=%{x}<br>y=%{y}<br>keyword=%{customdata[0]}<extra></extra>",
         "legendgroup": "galactopoiesis",
         "marker": {
          "color": "#EF553B",
          "symbol": "circle"
         },
         "mode": "markers",
         "name": "galactopoiesis",
         "showlegend": true,
         "type": "scattergl",
         "x": {
          "bdata": "BOA9QVKsPEFMiT5BjiA7QRLePEE=",
          "dtype": "f4"
         },
         "xaxis": "x",
         "y": {
          "bdata": "LaX1Pf3mgT1zejU+lQ0LvcPKjD0=",
          "dtype": "f4"
         },
         "yaxis": "y"
        },
        {
         "customdata": [
          [
           "pseudopodia"
          ],
          [
           "pseudopods"
          ],
          [
           "pseudopod"
          ],
          [
           "pseudopodium"
          ]
         ],
         "hovertemplate": "color=amoeboid<br>x=%{x}<br>y=%{y}<br>keyword=%{customdata[0]}<extra></extra>",
         "legendgroup": "amoeboid",
         "marker": {
          "color": "#00cc96",
          "symbol": "circle"
         },
         "mode": "markers",
         "name": "amoeboid",
         "showlegend": true,
         "type": "scattergl",
         "x": {
          "bdata": "M+4PQdUMEEEGnQ9BQcIPQQ==",
          "dtype": "f4"
         },
         "xaxis": "x",
         "y": {
          "bdata": "LYUFP7+hCj/67iA/p9gMPw==",
          "dtype": "f4"
         },
         "yaxis": "y"
        },
        {
         "customdata": [
          [
           "magnetic"
          ],
          [
           "magnet"
          ],
          [
           "magneotactic"
          ],
          [
           "magnetism"
          ],
          [
           "magnetization"
          ],
          [
           "magneto"
          ]
         ],
         "hovertemplate": "color=ferromagnetic<br>x=%{x}<br>y=%{y}<br>keyword=%{customdata[0]}<extra></extra>",
         "legendgroup": "ferromagnetic",
         "marker": {
          "color": "#ab63fa",
          "symbol": "circle"
         },
         "mode": "markers",
         "name": "ferromagnetic",
         "showlegend": true,
         "type": "scattergl",
         "x": {
          "bdata": "51QbQb2QGkGkqhtBwnsbQYDHG0EQ7BpB",
          "dtype": "f4"
         },
         "xaxis": "x",
         "y": {
          "bdata": "8WsLQQoGDEHSewtB5GcLQQl7C0GmLwtB",
          "dtype": "f4"
         },
         "yaxis": "y"
        },
        {
         "customdata": [
          [
           "mutualisms"
          ],
          [
           "mutualist"
          ],
          [
           "commensalism"
          ],
          [
           "mutualistic"
          ],
          [
           "symbiotic"
          ],
          [
           "symbiosis"
          ],
          [
           "commensal"
          ],
          [
           "mutualism"
          ]
         ],
         "hovertemplate": "color=coadaptation<br>x=%{x}<br>y=%{y}<br>keyword=%{customdata[0]}<extra></extra>",
         "legendgroup": "coadaptation",
         "marker": {
          "color": "#FFA15A",
          "symbol": "circle"
         },
         "mode": "markers",
         "name": "coadaptation",
         "showlegend": true,
         "type": "scattergl",
         "x": {
          "bdata": "SsNgQYckYEGsOGFBrkNgQcX9YEGEg19BXbdfQfuNX0E=",
          "dtype": "f4"
         },
         "xaxis": "x",
         "y": {
          "bdata": "dSfbP9Kf1z+8ZuM/ZwXZP18c5T8TkOo/6UDUPz9K1j8=",
          "dtype": "f4"
         },
         "yaxis": "y"
        },
        {
         "customdata": [
          [
           "thrombocytes"
          ],
          [
           "platelet"
          ],
          [
           "platelets"
          ]
         ],
         "hovertemplate": "color=hemostasis<br>x=%{x}<br>y=%{y}<br>keyword=%{customdata[0]}<extra></extra>",
         "legendgroup": "hemostasis",
         "marker": {
          "color": "#19d3f3",
          "symbol": "circle"
         },
         "mode": "markers",
         "name": "hemostasis",
         "showlegend": true,
         "type": "scattergl",
         "x": {
          "bdata": "UD4Dv17p6r6OU+i+",
          "dtype": "f4"
         },
         "xaxis": "x",
         "y": {
          "bdata": "H2SCQETMhEA8BIVA",
          "dtype": "f4"
         },
         "yaxis": "y"
        },
        {
         "customdata": [
          [
           "mesotardigrada"
          ],
          [
           "heterotardigrada"
          ]
         ],
         "hovertemplate": "color=tardigradology<br>x=%{x}<br>y=%{y}<br>keyword=%{customdata[0]}<extra></extra>",
         "legendgroup": "tardigradology",
         "marker": {
          "color": "#FF6692",
          "symbol": "circle"
         },
         "mode": "markers",
         "name": "tardigradology",
         "showlegend": true,
         "type": "scattergl",
         "x": {
          "bdata": "vHMaQU3RGUE=",
          "dtype": "f4"
         },
         "xaxis": "x",
         "y": {
          "bdata": "jNa6vzsuub8=",
          "dtype": "f4"
         },
         "yaxis": "y"
        },
        {
         "customdata": [
          [
           "pincered"
          ],
          [
           "pincers"
          ],
          [
           "pincer"
          ],
          [
           "pinch"
          ],
          [
           "pinching"
          ]
         ],
         "hovertemplate": "color=biomechanics<br>x=%{x}<br>y=%{y}<br>keyword=%{customdata[0]}<extra></extra>",
         "legendgroup": "biomechanics",
         "marker": {
          "color": "#B6E880",
          "symbol": "circle"
         },
         "mode": "markers",
         "name": "biomechanics",
         "showlegend": true,
         "type": "scattergl",
         "x": {
          "bdata": "g0X7QHZj/UBd+fdA/ar4QAbu+EA=",
          "dtype": "f4"
         },
         "xaxis": "x",
         "y": {
          "bdata": "kQYEQMOB8z85FgBAHREEQIzlAkA=",
          "dtype": "f4"
         },
         "yaxis": "y"
        },
        {
         "customdata": [
          [
           "senescent"
          ],
          [
           "senescence"
          ],
          [
           "ageing"
          ]
         ],
         "hovertemplate": "color=cellular senescence<br>x=%{x}<br>y=%{y}<br>keyword=%{customdata[0]}<extra></extra>",
         "legendgroup": "cellular senescence",
         "marker": {
          "color": "#FF97FF",
          "symbol": "circle"
         },
         "mode": "markers",
         "name": "cellular senescence",
         "showlegend": true,
         "type": "scattergl",
         "x": {
          "bdata": "B/7tP1Wr8D/dQ+0/",
          "dtype": "f4"
         },
         "xaxis": "x",
         "y": {
          "bdata": "yqMRQS08EUGV7xFB",
          "dtype": "f4"
         },
         "yaxis": "y"
        },
        {
         "customdata": [
          [
           "flies"
          ],
          [
           "catbird"
          ],
          [
           "fly"
          ],
          [
           "birds"
          ],
          [
           "catbirds"
          ],
          [
           "bird"
          ]
         ],
         "hovertemplate": "color=ornithology<br>x=%{x}<br>y=%{y}<br>keyword=%{customdata[0]}<extra></extra>",
         "legendgroup": "ornithology",
         "marker": {
          "color": "#FECB52",
          "symbol": "circle"
         },
         "mode": "markers",
         "name": "ornithology",
         "showlegend": true,
         "type": "scattergl",
         "x": {
          "bdata": "qFA3Qbr4N0H+cjZB8ks3QSy9OEEUSThB",
          "dtype": "f4"
         },
         "xaxis": "x",
         "y": {
          "bdata": "ci0ewEYmKMBsVRfAC4spwFacI8DeMybA",
          "dtype": "f4"
         },
         "yaxis": "y"
        },
        {
         "customdata": [
          [
           "adhere"
          ],
          [
           "adhesion"
          ],
          [
           "adhesives"
          ],
          [
           "bioadhesives"
          ],
          [
           "adhering"
          ],
          [
           "bioadhesion"
          ],
          [
           "sticking"
          ],
          [
           "cadherin"
          ],
          [
           "adherens"
          ],
          [
           "bioadhesive"
          ],
          [
           "adhesive"
          ],
          [
           "adhesively"
          ],
          [
           "adhesions"
          ]
         ],
         "hovertemplate": "color=nanomechanics<br>x=%{x}<br>y=%{y}<br>keyword=%{customdata[0]}<extra></extra>",
         "legendgroup": "nanomechanics",
         "marker": {
          "color": "#636efa",
          "symbol": "circle"
         },
         "mode": "markers",
         "name": "nanomechanics",
         "showlegend": true,
         "type": "scattergl",
         "x": {
          "bdata": "JG/hQB+34UC9kN9AqrncQHkL4EDsF95A/jPhQGRYUkBwOOBAj7feQOy54UBJReBAkaHgQA==",
          "dtype": "f4"
         },
         "xaxis": "x",
         "y": {
          "bdata": "0CCwQGgSskCW8LFACICxQHJVsUBCBbRA5smwQMgqzUBv67BAJq+yQNQzsEAWArFAfJOwQA==",
          "dtype": "f4"
         },
         "yaxis": "y"
        },
        {
         "customdata": [
          [
           "holococcolithophores"
          ],
          [
           "coccolithus"
          ],
          [
           "holococcolith"
          ],
          [
           "coccolithogenesis"
          ],
          [
           "cocchlodinium"
          ],
          [
           "holococcoliths"
          ],
          [
           "coccolithale"
          ],
          [
           "coccolithales"
          ],
          [
           "coccolithophore"
          ],
          [
           "symbiodinium"
          ],
          [
           "coccolithophores"
          ],
          [
           "heterococcoliths"
          ],
          [
           "coccoliths"
          ],
          [
           "heterococcolith"
          ],
          [
           "coccolith"
          ],
          [
           "coccolithosphere"
          ]
         ],
         "hovertemplate": "color=biomineralization<br>x=%{x}<br>y=%{y}<br>keyword=%{customdata[0]}<extra></extra>",
         "legendgroup": "biomineralization",
         "marker": {
          "color": "#EF553B",
          "symbol": "circle"
         },
         "mode": "markers",
         "name": "biomineralization",
         "showlegend": true,
         "type": "scattergl",
         "x": {
          "bdata": "IvPgQDOu3kDrzN5AhiXbQHcL4UBCRN1AqnzcQOIF4ECMR+JAjXhtQRNH4EDl6uBAybfbQMI/4ECGVd1Acl3YQA==",
          "dtype": "f4"
         },
         "xaxis": "x",
         "y": {
          "bdata": "v64bvzCTG7/XsSq/7pAwv/KCGL/DQjC/aZIgv48mHr9/sSO/jCeHQOGXIL+sASa/RBEyvzYVI7/FkhW/kLhCvw==",
          "dtype": "f4"
         },
         "yaxis": "y"
        },
        {
         "customdata": [
          [
           "myxamoebae"
          ],
          [
           "amebocytes"
          ],
          [
           "amoeboids"
          ],
          [
           "amebocyte"
          ],
          [
           "amoeboid"
          ],
          [
           "ameboid"
          ],
          [
           "amoeba"
          ],
          [
           "paramecium"
          ],
          [
           "amoebas"
          ],
          [
           "amoebae"
          ],
          [
           "amoebophrya"
          ]
         ],
         "hovertemplate": "color=phagocytosis<br>x=%{x}<br>y=%{y}<br>keyword=%{customdata[0]}<extra></extra>",
         "legendgroup": "phagocytosis",
         "marker": {
          "color": "#00cc96",
          "symbol": "circle"
         },
         "mode": "markers",
         "name": "phagocytosis",
         "showlegend": true,
         "type": "scattergl",
         "x": {
          "bdata": "COccQTARHkG/Dx5BFtEdQVBUHkEo5R1B+KoeQQobC0E/FB9BNQoeQbltHkE=",
          "dtype": "f4"
         },
         "xaxis": "x",
         "y": {
          "bdata": "tYGRPnlOtD5HI7Y+Vv+rPshJ0z5QJa4+yvqpPsuMLr+JXdQ+Bgm+PiHOtT4=",
          "dtype": "f4"
         },
         "yaxis": "y"
        },
        {
         "customdata": [
          [
           "foraminifers"
          ],
          [
           "foraminifer"
          ],
          [
           "foraminifera"
          ],
          [
           "foraminiferal"
          ]
         ],
         "hovertemplate": "color=micropaleontology<br>x=%{x}<br>y=%{y}<br>keyword=%{customdata[0]}<extra></extra>",
         "legendgroup": "micropaleontology",
         "marker": {
          "color": "#ab63fa",
          "symbol": "circle"
         },
         "mode": "markers",
         "name": "micropaleontology",
         "showlegend": true,
         "type": "scattergl",
         "x": {
          "bdata": "AH7QQIR3z0CIP9BAxi7QQA==",
          "dtype": "f4"
         },
         "xaxis": "x",
         "y": {
          "bdata": "XqHvv+0F779R/um/IFDtvw==",
          "dtype": "f4"
         },
         "yaxis": "y"
        },
        {
         "customdata": [
          [
           "pheromones"
          ],
          [
           "pheromonal"
          ],
          [
           "pheromone"
          ]
         ],
         "hovertemplate": "color=semiochemicals<br>x=%{x}<br>y=%{y}<br>keyword=%{customdata[0]}<extra></extra>",
         "legendgroup": "semiochemicals",
         "marker": {
          "color": "#FFA15A",
          "symbol": "circle"
         },
         "mode": "markers",
         "name": "semiochemicals",
         "showlegend": true,
         "type": "scattergl",
         "x": {
          "bdata": "4w4KQaLICUG1nAlB",
          "dtype": "f4"
         },
         "xaxis": "x",
         "y": {
          "bdata": "WTU+QRq8PkHBYD5B",
          "dtype": "f4"
         },
         "yaxis": "y"
        },
        {
         "customdata": [
          [
           "crustacea"
          ],
          [
           "gastropod"
          ],
          [
           "crustacean"
          ],
          [
           "microcrustacean"
          ],
          [
           "microcrustaceans"
          ],
          [
           "crustaceans"
          ]
         ],
         "hovertemplate": "color=invertebrate<br>x=%{x}<br>y=%{y}<br>keyword=%{customdata[0]}<extra></extra>",
         "legendgroup": "invertebrate",
         "marker": {
          "color": "#19d3f3",
          "symbol": "circle"
         },
         "mode": "markers",
         "name": "invertebrate",
         "showlegend": true,
         "type": "scattergl",
         "x": {
          "bdata": "4Z4HQQRpCEG6XghBbBcIQcX1B0ExSQhB",
          "dtype": "f4"
         },
         "xaxis": "x",
         "y": {
          "bdata": "MOgNwG6HFMBvnxDAqP4JwIpDCsBABRDA",
          "dtype": "f4"
         },
         "yaxis": "y"
        },
        {
         "customdata": [
          [
           "smells"
          ],
          [
           "smelling"
          ],
          [
           "smell"
          ],
          [
           "terpenoids"
          ],
          [
           "isoprenoids"
          ],
          [
           "monoterpenes"
          ],
          [
           "fragrance"
          ],
          [
           "terpenes"
          ],
          [
           "scent"
          ],
          [
           "odors"
          ],
          [
           "olfactory"
          ],
          [
           "odour"
          ]
         ],
         "hovertemplate": "color=olfactometry<br>x=%{x}<br>y=%{y}<br>keyword=%{customdata[0]}<extra></extra>",
         "legendgroup": "olfactometry",
         "marker": {
          "color": "#FF6692",
          "symbol": "circle"
         },
         "mode": "markers",
         "name": "olfactometry",
         "showlegend": true,
         "type": "scattergl",
         "x": {
          "bdata": "CPkHQXOzB0Hr9QdBU7wFQeCOBEGiFwVBEpwHQT+zBkEimAdBDv4HQWvPB0Hj7wdB",
          "dtype": "f4"
         },
         "xaxis": "x",
         "y": {
          "bdata": "ml8+Qcu4PUGyxj1BaXA7QYyLOkEAqTpBIus9QY9SPUEAED5BgZc9QUvTPUG2Hj5B",
          "dtype": "f4"
         },
         "yaxis": "y"
        },
        {
         "customdata": [
          [
           "chordates"
          ],
          [
           "echinodermata"
          ],
          [
           "echinoderms"
          ],
          [
           "echinoderm"
          ]
         ],
         "hovertemplate": "color=endoskeleton<br>x=%{x}<br>y=%{y}<br>keyword=%{customdata[0]}<extra></extra>",
         "legendgroup": "endoskeleton",
         "marker": {
          "color": "#B6E880",
          "symbol": "circle"
         },
         "mode": "markers",
         "name": "endoskeleton",
         "showlegend": true,
         "type": "scattergl",
         "x": {
          "bdata": "LXLzQBVL8kDn+vNA+PnzQA==",
          "dtype": "f4"
         },
         "xaxis": "x",
         "y": {
          "bdata": "EssSwDLdEsCt+BHAm8MSwA==",
          "dtype": "f4"
         },
         "yaxis": "y"
        },
        {
         "customdata": [
          [
           "rhinoceroses"
          ],
          [
           "ungulates"
          ],
          [
           "giraffes"
          ],
          [
           "elephant"
          ],
          [
           "elephants"
          ],
          [
           "giraffe"
          ],
          [
           "rhinoceros"
          ],
          [
           "antelopes"
          ]
         ],
         "hovertemplate": "color=megafauna<br>x=%{x}<br>y=%{y}<br>keyword=%{customdata[0]}<extra></extra>",
         "legendgroup": "megafauna",
         "marker": {
          "color": "#FF97FF",
          "symbol": "circle"
         },
         "mode": "markers",
         "name": "megafauna",
         "showlegend": true,
         "type": "scattergl",
         "x": {
          "bdata": "QHMWQaRBF0FO4hZB/P4WQYgOF0FCyxZBgsoWQQ7yFkE=",
          "dtype": "f4"
         },
         "xaxis": "x",
         "y": {
          "bdata": "u8qPwFrljcAD1Y/AYdmQwBA9j8BawJDAfuuPwGm2j8A=",
          "dtype": "f4"
         },
         "yaxis": "y"
        },
        {
         "customdata": [
          [
           "iridescence"
          ],
          [
           "iridophore"
          ],
          [
           "iridophores"
          ]
         ],
         "hovertemplate": "color=biophotonics<br>x=%{x}<br>y=%{y}<br>keyword=%{customdata[0]}<extra></extra>",
         "legendgroup": "biophotonics",
         "marker": {
          "color": "#FECB52",
          "symbol": "circle"
         },
         "mode": "markers",
         "name": "biophotonics",
         "showlegend": true,
         "type": "scattergl",
         "x": {
          "bdata": "ldxXQdQjV0ELPlhB",
          "dtype": "f4"
         },
         "xaxis": "x",
         "y": {
          "bdata": "CHzfQKi140BG+uFA",
          "dtype": "f4"
         },
         "yaxis": "y"
        },
        {
         "customdata": [
          [
           "mineralizes"
          ],
          [
           "mineralized"
          ],
          [
           "mineralization"
          ]
         ],
         "hovertemplate": "color=geochemistry<br>x=%{x}<br>y=%{y}<br>keyword=%{customdata[0]}<extra></extra>",
         "legendgroup": "geochemistry",
         "marker": {
          "color": "#636efa",
          "symbol": "circle"
         },
         "mode": "markers",
         "name": "geochemistry",
         "showlegend": true,
         "type": "scattergl",
         "x": {
          "bdata": "kOi/QITCvkBPs8BA",
          "dtype": "f4"
         },
         "xaxis": "x",
         "y": {
          "bdata": "KLk7vgvEOr50poK+",
          "dtype": "f4"
         },
         "yaxis": "y"
        },
        {
         "customdata": [
          [
           "endocochlear"
          ],
          [
           "cochlea"
          ]
         ],
         "hovertemplate": "color=audiomechanics<br>x=%{x}<br>y=%{y}<br>keyword=%{customdata[0]}<extra></extra>",
         "legendgroup": "audiomechanics",
         "marker": {
          "color": "#EF553B",
          "symbol": "circle"
         },
         "mode": "markers",
         "name": "audiomechanics",
         "showlegend": true,
         "type": "scattergl",
         "x": {
          "bdata": "KOb4QKoc90A=",
          "dtype": "f4"
         },
         "xaxis": "x",
         "y": {
          "bdata": "a+IVQVqiFkE=",
          "dtype": "f4"
         },
         "yaxis": "y"
        },
        {
         "customdata": [
          [
           "myxomycetes"
          ],
          [
           "fromthechytridiomycetes"
          ],
          [
           "zygomycetes"
          ],
          [
           "chytrid"
          ],
          [
           "hyphomycetes"
          ],
          [
           "ascomycetes"
          ],
          [
           "chytrids"
          ],
          [
           "chytridiales"
          ],
          [
           "trichomycetes"
          ],
          [
           "chytridiomycetes"
          ],
          [
           "chytridiomycota"
          ]
         ],
         "hovertemplate": "color=mycology<br>x=%{x}<br>y=%{y}<br>keyword=%{customdata[0]}<extra></extra>",
         "legendgroup": "mycology",
         "marker": {
          "color": "#00cc96",
          "symbol": "circle"
         },
         "mode": "markers",
         "name": "mycology",
         "showlegend": true,
         "type": "scattergl",
         "x": {
          "bdata": "xVBxQBWsdEDl825AabJ6QD3db0DNimxATjd5QDvYeUBhgXBAPThzQL6VdUA=",
          "dtype": "f4"
         },
         "xaxis": "x",
         "y": {
          "bdata": "WmX6v2299r+Nbfy/lSrtv7ry9b+MQ/6/aVfwvwPz7r9+bvy/hr/5v46F9b8=",
          "dtype": "f4"
         },
         "yaxis": "y"
        },
        {
         "customdata": [
          [
           "cuculiforme"
          ],
          [
           "falconiformes"
          ]
         ],
         "hovertemplate": "color=avian phylogeny<br>x=%{x}<br>y=%{y}<br>keyword=%{customdata[0]}<extra></extra>",
         "legendgroup": "avian phylogeny",
         "marker": {
          "color": "#ab63fa",
          "symbol": "circle"
         },
         "mode": "markers",
         "name": "avian phylogeny",
         "showlegend": true,
         "type": "scattergl",
         "x": {
          "bdata": "hkU2QbZ0NUE=",
          "dtype": "f4"
         },
         "xaxis": "x",
         "y": {
          "bdata": "a+oewBPzIMA=",
          "dtype": "f4"
         },
         "yaxis": "y"
        },
        {
         "customdata": [
          [
           "whales"
          ],
          [
           "narwhals"
          ],
          [
           "whale"
          ],
          [
           "narwhal"
          ],
          [
           "humpback"
          ]
         ],
         "hovertemplate": "color=cetology<br>x=%{x}<br>y=%{y}<br>keyword=%{customdata[0]}<extra></extra>",
         "legendgroup": "cetology",
         "marker": {
          "color": "#FFA15A",
          "symbol": "circle"
         },
         "mode": "markers",
         "name": "cetology",
         "showlegend": true,
         "type": "scattergl",
         "x": {
          "bdata": "jCwLQbDRC0Fb1gtB45QLQXzTDEE=",
          "dtype": "f4"
         },
         "xaxis": "x",
         "y": {
          "bdata": "KzNIwEMKS8BEvknA6cVJwErATsA=",
          "dtype": "f4"
         },
         "yaxis": "y"
        },
        {
         "customdata": [
          [
           "chlorophyceae"
          ],
          [
           "chlorophytes"
          ],
          [
           "chlorophyte"
          ]
         ],
         "hovertemplate": "color=phycology<br>x=%{x}<br>y=%{y}<br>keyword=%{customdata[0]}<extra></extra>",
         "legendgroup": "phycology",
         "marker": {
          "color": "#19d3f3",
          "symbol": "circle"
         },
         "mode": "markers",
         "name": "phycology",
         "showlegend": true,
         "type": "scattergl",
         "x": {
          "bdata": "kzhzQbGfckF4jHJB",
          "dtype": "f4"
         },
         "xaxis": "x",
         "y": {
          "bdata": "pceQQAzBk0CTQJRA",
          "dtype": "f4"
         },
         "yaxis": "y"
        },
        {
         "customdata": [
          [
           "dentin"
          ],
          [
           "dentine"
          ],
          [
           "dentinal"
          ],
          [
           "dental"
          ],
          [
           "endodontic"
          ]
         ],
         "hovertemplate": "color=odontoblasts<br>x=%{x}<br>y=%{y}<br>keyword=%{customdata[0]}<extra></extra>",
         "legendgroup": "odontoblasts",
         "marker": {
          "color": "#FF6692",
          "symbol": "circle"
         },
         "mode": "markers",
         "name": "odontoblasts",
         "showlegend": true,
         "type": "scattergl",
         "x": {
          "bdata": "qJGvQN6Ar0CdZa9AQkCvQMalrkA=",
          "dtype": "f4"
         },
         "xaxis": "x",
         "y": {
          "bdata": "whT+P0vU/T8kIv4/xlcBQJ5K/D8=",
          "dtype": "f4"
         },
         "yaxis": "y"
        },
        {
         "customdata": [
          [
           "ellipsoidal"
          ],
          [
           "spheroids"
          ],
          [
           "spheroid"
          ],
          [
           "spherical"
          ],
          [
           "sphericity"
          ],
          [
           "ellipsoid"
          ],
          [
           "spheres"
          ],
          [
           "ellipsoids"
          ]
         ],
         "hovertemplate": "color=tribology<br>x=%{x}<br>y=%{y}<br>keyword=%{customdata[0]}<extra></extra>",
         "legendgroup": "tribology",
         "marker": {
          "color": "#B6E880",
          "symbol": "circle"
         },
         "mode": "markers",
         "name": "tribology",
         "showlegend": true,
         "type": "scattergl",
         "x": {
          "bdata": "pN8dQZx0HEE95xxBbVwdQbIwHUE9CB1B+wwdQWwgHUE=",
          "dtype": "f4"
         },
         "xaxis": "x",
         "y": {
          "bdata": "h3HCQPKJwkATHsRAztbDQJIVxEBFRsNASurDQEa/w0A=",
          "dtype": "f4"
         },
         "yaxis": "y"
        },
        {
         "customdata": [
          [
           "premolars"
          ],
          [
           "toothlike"
          ],
          [
           "toothed"
          ],
          [
           "teeth"
          ],
          [
           "molars"
          ],
          [
           "tooth"
          ],
          [
           "incisor"
          ],
          [
           "premolar"
          ]
         ],
         "hovertemplate": "color=dentition<br>x=%{x}<br>y=%{y}<br>keyword=%{customdata[0]}<extra></extra>",
         "legendgroup": "dentition",
         "marker": {
          "color": "#FF97FF",
          "symbol": "circle"
         },
         "mode": "markers",
         "name": "dentition",
         "showlegend": true,
         "type": "scattergl",
         "x": {
          "bdata": "at+wQJAbtUATW7tAqD6zQKQNsUDSUrNASmGyQCVWsUA=",
          "dtype": "f4"
         },
         "xaxis": "x",
         "y": {
          "bdata": "sRcFQHGFCUA0FQ5AKrMOQE/9BEAlDwtA5kAIQJhdBkA=",
          "dtype": "f4"
         },
         "yaxis": "y"
        },
        {
         "customdata": [
          [
           "granivores"
          ],
          [
           "carnivores"
          ],
          [
           "carnivorous"
          ],
          [
           "carnivore"
          ]
         ],
         "hovertemplate": "color=trophic<br>x=%{x}<br>y=%{y}<br>keyword=%{customdata[0]}<extra></extra>",
         "legendgroup": "trophic",
         "marker": {
          "color": "#FECB52",
          "symbol": "circle"
         },
         "mode": "markers",
         "name": "trophic",
         "showlegend": true,
         "type": "scattergl",
         "x": {
          "bdata": "Oz0uQXqwLkGZkS5BFKwuQQ==",
          "dtype": "f4"
         },
         "xaxis": "x",
         "y": {
          "bdata": "0d+QwHkUkMA1p5DAdKePwA==",
          "dtype": "f4"
         },
         "yaxis": "y"
        },
        {
         "customdata": [
          [
           "helices"
          ],
          [
           "helically"
          ],
          [
           "helical"
          ],
          [
           "spiral"
          ],
          [
           "helix"
          ]
         ],
         "hovertemplate": "color=chirality<br>x=%{x}<br>y=%{y}<br>keyword=%{customdata[0]}<extra></extra>",
         "legendgroup": "chirality",
         "marker": {
          "color": "#636efa",
          "symbol": "circle"
         },
         "mode": "markers",
         "name": "chirality",
         "showlegend": true,
         "type": "scattergl",
         "x": {
          "bdata": "XvgGQbdxB0FrpAdBIq8HQQt1B0E=",
          "dtype": "f4"
         },
         "xaxis": "x",
         "y": {
          "bdata": "rwNeQBjrWUBPiFpAL3pZQFfGWUA=",
          "dtype": "f4"
         },
         "yaxis": "y"
        },
        {
         "customdata": [
          [
           "carapaces"
          ],
          [
           "carapacial"
          ],
          [
           "carapace"
          ]
         ],
         "hovertemplate": "color=exoskeleton<br>x=%{x}<br>y=%{y}<br>keyword=%{customdata[0]}<extra></extra>",
         "legendgroup": "exoskeleton",
         "marker": {
          "color": "#EF553B",
          "symbol": "circle"
         },
         "mode": "markers",
         "name": "exoskeleton",
         "showlegend": true,
         "type": "scattergl",
         "x": {
          "bdata": "AaUQQZeYDEGEXA9B",
          "dtype": "f4"
         },
         "xaxis": "x",
         "y": {
          "bdata": "ZSH5P8v9A0DM8eo/",
          "dtype": "f4"
         },
         "yaxis": "y"
        },
        {
         "customdata": [
          [
           "darwinian"
          ],
          [
           "coevolutionary"
          ],
          [
           "evolutionarily"
          ],
          [
           "coevolution"
          ],
          [
           "phylogeny"
          ],
          [
           "evolution"
          ],
          [
           "phylogenesis"
          ],
          [
           "evolutional"
          ],
          [
           "evolutionary"
          ]
         ],
         "hovertemplate": "color=adaptation<br>x=%{x}<br>y=%{y}<br>keyword=%{customdata[0]}<extra></extra>",
         "legendgroup": "adaptation",
         "marker": {
          "color": "#00cc96",
          "symbol": "circle"
         },
         "mode": "markers",
         "name": "adaptation",
         "showlegend": true,
         "type": "scattergl",
         "x": {
          "bdata": "ZSk+QZ7/PUFfAD5Bww8+Qbw5PkFYGT5BiT49QSizPUGB8D1B",
          "dtype": "f4"
         },
         "xaxis": "x",
         "y": {
          "bdata": "PsIaQJsxGkC3BBpAVSkaQE/7GkB2IxtAqlsXQDWUGUDV5xlA",
          "dtype": "f4"
         },
         "yaxis": "y"
        },
        {
         "customdata": [
          [
           "embryonic"
          ],
          [
           "embryos"
          ],
          [
           "embryonically"
          ],
          [
           "fetus"
          ],
          [
           "embryogenesis"
          ],
          [
           "embryo"
          ]
         ],
         "hovertemplate": "color=morphogenesis<br>x=%{x}<br>y=%{y}<br>keyword=%{customdata[0]}<extra></extra>",
         "legendgroup": "morphogenesis",
         "marker": {
          "color": "#ab63fa",
          "symbol": "circle"
         },
         "mode": "markers",
         "name": "morphogenesis",
         "showlegend": true,
         "type": "scattergl",
         "x": {
          "bdata": "f9w5Qf3YOUHmVTlBU7M9QQtoOUE9wzpB",
          "dtype": "f4"
         },
         "xaxis": "x",
         "y": {
          "bdata": "4gwnP3cVJj+i5DA/UeLePkZxLz9dTRo/",
          "dtype": "f4"
         },
         "yaxis": "y"
        },
        {
         "customdata": [
          [
           "foragers"
          ],
          [
           "forage"
          ],
          [
           "hunting"
          ],
          [
           "foraging"
          ],
          [
           "foraged"
          ],
          [
           "forager"
          ]
         ],
         "hovertemplate": "color=ethology<br>x=%{x}<br>y=%{y}<br>keyword=%{customdata[0]}<extra></extra>",
         "legendgroup": "ethology",
         "marker": {
          "color": "#FFA15A",
          "symbol": "circle"
         },
         "mode": "markers",
         "name": "ethology",
         "showlegend": true,
         "type": "scattergl",
         "x": {
          "bdata": "7eYvQTAzMEF3sC5BzpAvQRocMEG0KDBB",
          "dtype": "f4"
         },
         "xaxis": "x",
         "y": {
          "bdata": "oIOEwH11gcCcPojAeGmDwLvrgcA2n4LA",
          "dtype": "f4"
         },
         "yaxis": "y"
        },
        {
         "customdata": [
          [
           "sucking"
          ],
          [
           "suctioning"
          ],
          [
           "suction"
          ],
          [
           "swallowing"
          ],
          [
           "suckling"
          ],
          [
           "sucker"
          ],
          [
           "suckers"
          ],
          [
           "suck"
          ]
         ],
         "hovertemplate": "color=deglutition<br>x=%{x}<br>y=%{y}<br>keyword=%{customdata[0]}<extra></extra>",
         "legendgroup": "deglutition",
         "marker": {
          "color": "#19d3f3",
          "symbol": "circle"
         },
         "mode": "markers",
         "name": "deglutition",
         "showlegend": true,
         "type": "scattergl",
         "x": {
          "bdata": "dvfHQBg2x0DI8sdAsMnKQG+wyUDHM8lAZE3JQF2ayEA=",
          "dtype": "f4"
         },
         "xaxis": "x",
         "y": {
          "bdata": "UNYtQBGUMkD29TBAYnEmQFypLUCwAC5AacktQOp7LkA=",
          "dtype": "f4"
         },
         "yaxis": "y"
        },
        {
         "customdata": [
          [
           "camouflaging"
          ],
          [
           "camouflage"
          ],
          [
           "camouflaged"
          ]
         ],
         "hovertemplate": "color=crypsis<br>x=%{x}<br>y=%{y}<br>keyword=%{customdata[0]}<extra></extra>",
         "legendgroup": "crypsis",
         "marker": {
          "color": "#FF6692",
          "symbol": "circle"
         },
         "mode": "markers",
         "name": "crypsis",
         "showlegend": true,
         "type": "scattergl",
         "x": {
          "bdata": "XekTQQw/FEGRbRNB",
          "dtype": "f4"
         },
         "xaxis": "x",
         "y": {
          "bdata": "0uUDQEZLBECrJwRA",
          "dtype": "f4"
         },
         "yaxis": "y"
        },
        {
         "customdata": [
          [
           "chitin"
          ],
          [
           "chitinous"
          ],
          [
           "chitosan"
          ],
          [
           "chitinolytic"
          ]
         ],
         "hovertemplate": "color=biopolymer<br>x=%{x}<br>y=%{y}<br>keyword=%{customdata[0]}<extra></extra>",
         "legendgroup": "biopolymer",
         "marker": {
          "color": "#B6E880",
          "symbol": "circle"
         },
         "mode": "markers",
         "name": "biopolymer",
         "showlegend": true,
         "type": "scattergl",
         "x": {
          "bdata": "5L2uQGtcrEBF4q9AL/isQA==",
          "dtype": "f4"
         },
         "xaxis": "x",
         "y": {
          "bdata": "nSe1QHMitEDxc7JAowu1QA==",
          "dtype": "f4"
         },
         "yaxis": "y"
        },
        {
         "customdata": [
          [
           "vertebrate"
          ],
          [
           "amphibian"
          ]
         ],
         "hovertemplate": "color=herpetology<br>x=%{x}<br>y=%{y}<br>keyword=%{customdata[0]}<extra></extra>",
         "legendgroup": "herpetology",
         "marker": {
          "color": "#FF97FF",
          "symbol": "circle"
         },
         "mode": "markers",
         "name": "herpetology",
         "showlegend": true,
         "type": "scattergl",
         "x": {
          "bdata": "WjUYQYxUF0E=",
          "dtype": "f4"
         },
         "xaxis": "x",
         "y": {
          "bdata": "iS46wHWPNcA=",
          "dtype": "f4"
         },
         "yaxis": "y"
        },
        {
         "customdata": [
          [
           "tusk"
          ],
          [
           "tusked"
          ],
          [
           "tusks"
          ]
         ],
         "hovertemplate": "color=ivory<br>x=%{x}<br>y=%{y}<br>keyword=%{customdata[0]}<extra></extra>",
         "legendgroup": "ivory",
         "marker": {
          "color": "#FECB52",
          "symbol": "circle"
         },
         "mode": "markers",
         "name": "ivory",
         "showlegend": true,
         "type": "scattergl",
         "x": {
          "bdata": "fwDlQP9x5UAcNORA",
          "dtype": "f4"
         },
         "xaxis": "x",
         "y": {
          "bdata": "/vi0P62ytT9TprA/",
          "dtype": "f4"
         },
         "yaxis": "y"
        },
        {
         "customdata": [
          [
           "hatchlings"
          ],
          [
           "hatching"
          ],
          [
           "larvae"
          ],
          [
           "hatched"
          ],
          [
           "hatchability"
          ]
         ],
         "hovertemplate": "color=embryogenesis<br>x=%{x}<br>y=%{y}<br>keyword=%{customdata[0]}<extra></extra>",
         "legendgroup": "embryogenesis",
         "marker": {
          "color": "#636efa",
          "symbol": "circle"
         },
         "mode": "markers",
         "name": "embryogenesis",
         "showlegend": true,
         "type": "scattergl",
         "x": {
          "bdata": "NEk9QQDBPEFGJDxByC89QSprPkE=",
          "dtype": "f4"
         },
         "xaxis": "x",
         "y": {
          "bdata": "AI2/v/IIwL+Ve8q/TvHFvwfrp78=",
          "dtype": "f4"
         },
         "yaxis": "y"
        },
        {
         "customdata": [
          [
           "estrogen"
          ],
          [
           "estrogens"
          ],
          [
           "estrone"
          ],
          [
           "ecdysteroids"
          ],
          [
           "ecdysteroid"
          ]
         ],
         "hovertemplate": "color=endocrinology<br>x=%{x}<br>y=%{y}<br>keyword=%{customdata[0]}<extra></extra>",
         "legendgroup": "endocrinology",
         "marker": {
          "color": "#EF553B",
          "symbol": "circle"
         },
         "mode": "markers",
         "name": "endocrinology",
         "showlegend": true,
         "type": "scattergl",
         "x": {
          "bdata": "o7+lQOoDpkA1WKVARESmQLF8pUA=",
          "dtype": "f4"
         },
         "xaxis": "x",
         "y": {
          "bdata": "nqoGQSmcBkFFoAZB0r0GQUfIBkE=",
          "dtype": "f4"
         },
         "yaxis": "y"
        },
        {
         "customdata": [
          [
           "cuticle"
          ],
          [
           "procuticle"
          ],
          [
           "exocuticle"
          ],
          [
           "cuticles"
          ]
         ],
         "hovertemplate": "color=sclerotization<br>x=%{x}<br>y=%{y}<br>keyword=%{customdata[0]}<extra></extra>",
         "legendgroup": "sclerotization",
         "marker": {
          "color": "#00cc96",
          "symbol": "circle"
         },
         "mode": "markers",
         "name": "sclerotization",
         "showlegend": true,
         "type": "scattergl",
         "x": {
          "bdata": "Mc0KQV2WC0FAFQpBvlAKQQ==",
          "dtype": "f4"
         },
         "xaxis": "x",
         "y": {
          "bdata": "h5HgPyFO5j9yyfQ/2erdPw==",
          "dtype": "f4"
         },
         "yaxis": "y"
        },
        {
         "customdata": [
          [
           "microbial"
          ],
          [
           "microbes"
          ],
          [
           "organisms"
          ],
          [
           "bacteria"
          ],
          [
           "microorganisms"
          ],
          [
           "bacterial"
          ],
          [
           "macroorganisms"
          ],
          [
           "microfauna"
          ],
          [
           "microorganism"
          ],
          [
           "bacterium"
          ],
          [
           "proteobacteria"
          ]
         ],
         "hovertemplate": "color=microbiota<br>x=%{x}<br>y=%{y}<br>keyword=%{customdata[0]}<extra></extra>",
         "legendgroup": "microbiota",
         "marker": {
          "color": "#ab63fa",
          "symbol": "circle"
         },
         "mode": "markers",
         "name": "microbiota",
         "showlegend": true,
         "type": "scattergl",
         "x": {
          "bdata": "4IBjQd8vY0GwuWJBXDNkQcdMY0HURmRBWJtiQUX1YkG2tmJBGkhjQWYvZEE=",
          "dtype": "f4"
         },
         "xaxis": "x",
         "y": {
          "bdata": "G/9EQIoKQ0CEfUNAL2ZIQIQmREDirEdAXjZCQHu5Q0BrtENAQ3FFQIx9SUA=",
          "dtype": "f4"
         },
         "yaxis": "y"
        },
        {
         "customdata": [
          [
           "epithelialization"
          ],
          [
           "epidermal"
          ],
          [
           "epithelium"
          ],
          [
           "epithelial"
          ],
          [
           "epithelia"
          ],
          [
           "epithelization"
          ],
          [
           "myoepithelial"
          ]
         ],
         "hovertemplate": "color=keratinization<br>x=%{x}<br>y=%{y}<br>keyword=%{customdata[0]}<extra></extra>",
         "legendgroup": "keratinization",
         "marker": {
          "color": "#FFA15A",
          "symbol": "circle"
         },
         "mode": "markers",
         "name": "keratinization",
         "showlegend": true,
         "type": "scattergl",
         "x": {
          "bdata": "ErCTQI6hlkBJXZNA7WGSQNXQkkDe+5JAuPyRQA==",
          "dtype": "f4"
         },
         "xaxis": "x",
         "y": {
          "bdata": "ppetQIOAq0CK5KxAzxOsQLeSq0DdjaxAgWmsQA==",
          "dtype": "f4"
         },
         "yaxis": "y"
        },
        {
         "customdata": [
          [
           "denitrification"
          ],
          [
           "bioremediator"
          ],
          [
           "bioremediators"
          ],
          [
           "bioremediation"
          ],
          [
           "biodegradation"
          ]
         ],
         "hovertemplate": "color=bioaugmentation<br>x=%{x}<br>y=%{y}<br>keyword=%{customdata[0]}<extra></extra>",
         "legendgroup": "bioaugmentation",
         "marker": {
          "color": "#19d3f3",
          "symbol": "circle"
         },
         "mode": "markers",
         "name": "bioaugmentation",
         "showlegend": true,
         "type": "scattergl",
         "x": {
          "bdata": "IwxYQWPEVkHON1dB5bFWQVD+VkE=",
          "dtype": "f4"
         },
         "xaxis": "x",
         "y": {
          "bdata": "sndEQKFTS0DjBEpAXk1NQHNySUA=",
          "dtype": "f4"
         },
         "yaxis": "y"
        },
        {
         "customdata": [
          [
           "tasting"
          ],
          [
           "tastes"
          ],
          [
           "taste"
          ]
         ],
         "hovertemplate": "color=gustation<br>x=%{x}<br>y=%{y}<br>keyword=%{customdata[0]}<extra></extra>",
         "legendgroup": "gustation",
         "marker": {
          "color": "#FF6692",
          "symbol": "circle"
         },
         "mode": "markers",
         "name": "gustation",
         "showlegend": true,
         "type": "scattergl",
         "x": {
          "bdata": "MWAJQWumCUEClglB",
          "dtype": "f4"
         },
         "xaxis": "x",
         "y": {
          "bdata": "vT86QWLfOkHooDpB",
          "dtype": "f4"
         },
         "yaxis": "y"
        },
        {
         "customdata": [
          [
           "fossilization"
          ],
          [
           "fossilize"
          ],
          [
           "fossil"
          ],
          [
           "fossilized"
          ]
         ],
         "hovertemplate": "color=permineralization<br>x=%{x}<br>y=%{y}<br>keyword=%{customdata[0]}<extra></extra>",
         "legendgroup": "permineralization",
         "marker": {
          "color": "#B6E880",
          "symbol": "circle"
         },
         "mode": "markers",
         "name": "permineralization",
         "showlegend": true,
         "type": "scattergl",
         "x": {
          "bdata": "I7LIQBqxx0AwUclA8ePHQA==",
          "dtype": "f4"
         },
         "xaxis": "x",
         "y": {
          "bdata": "ljLcvwNu4r/VqN+/eLPhvw==",
          "dtype": "f4"
         },
         "yaxis": "y"
        },
        {
         "customdata": [
          [
           "membranes"
          ],
          [
           "membrane"
          ],
          [
           "biomembranes"
          ],
          [
           "juxtamembrane"
          ]
         ],
         "hovertemplate": "color=lipidomics<br>x=%{x}<br>y=%{y}<br>keyword=%{customdata[0]}<extra></extra>",
         "legendgroup": "lipidomics",
         "marker": {
          "color": "#FF97FF",
          "symbol": "circle"
         },
         "mode": "markers",
         "name": "lipidomics",
         "showlegend": true,
         "type": "scattergl",
         "x": {
          "bdata": "MOZUQOzSV0CXi1dAz7NSQA==",
          "dtype": "f4"
         },
         "xaxis": "x",
         "y": {
          "bdata": "LynTQDGb0kBYMNNA8GbRQA==",
          "dtype": "f4"
         },
         "yaxis": "y"
        },
        {
         "customdata": [
          [
           "telogen"
          ],
          [
           "telomerase"
          ],
          [
           "telomere"
          ],
          [
           "telomeres"
          ]
         ],
         "hovertemplate": "color=telomeropathy<br>x=%{x}<br>y=%{y}<br>keyword=%{customdata[0]}<extra></extra>",
         "legendgroup": "telomeropathy",
         "marker": {
          "color": "#FECB52",
          "symbol": "circle"
         },
         "mode": "markers",
         "name": "telomeropathy",
         "showlegend": true,
         "type": "scattergl",
         "x": {
          "bdata": "VGAIQJzjB0CR4ghAAFoFQA==",
          "dtype": "f4"
         },
         "xaxis": "x",
         "y": {
          "bdata": "eCcMQU+vDEFg4QtBY/AMQQ==",
          "dtype": "f4"
         },
         "yaxis": "y"
        },
        {
         "customdata": [
          [
           "hemoglobin"
          ],
          [
           "erythropoiesis"
          ],
          [
           "hemoglobins"
          ],
          [
           "haemocyanin"
          ],
          [
           "hemocyanins"
          ],
          [
           "hematocrits"
          ],
          [
           "hematocrit"
          ],
          [
           "globin"
          ],
          [
           "deoxyhemoglobin"
          ],
          [
           "erythrocytes"
          ],
          [
           "hemocyanin"
          ],
          [
           "oxyhemoglobin"
          ],
          [
           "erythrocyte"
          ],
          [
           "carbaminohemoglobin"
          ],
          [
           "hemolymph"
          ],
          [
           "heme"
          ],
          [
           "hemoglobinopathies"
          ]
         ],
         "hovertemplate": "color=hematopoiesis<br>x=%{x}<br>y=%{y}<br>keyword=%{customdata[0]}<extra></extra>",
         "legendgroup": "hematopoiesis",
         "marker": {
          "color": "#636efa",
          "symbol": "circle"
         },
         "mode": "markers",
         "name": "hematopoiesis",
         "showlegend": true,
         "type": "scattergl",
         "x": {
          "bdata": "icIlv89zFb+oJyu/RDUtv9FdMr8WYjC/dscdv2kXM78AHjq/850kv9x1Nb8mhSi/68cev3OJN7/abzi/Ueosv8MHKb8=",
          "dtype": "f4"
         },
         "xaxis": "x",
         "y": {
          "bdata": "o+JrQHABfUC9s29A0w5vQJy8cEBVsnNA2C95QCUva0DhGGdA60l4QJ+icUAGNmlAP4V5QOJjakDVz3JAEbBtQN6ebkA=",
          "dtype": "f4"
         },
         "yaxis": "y"
        },
        {
         "customdata": [
          [
           "ratios"
          ],
          [
           "proportions"
          ],
          [
           "proportional"
          ],
          [
           "ratio"
          ],
          [
           "proportion"
          ]
         ],
         "hovertemplate": "color=stoichiometry<br>x=%{x}<br>y=%{y}<br>keyword=%{customdata[0]}<extra></extra>",
         "legendgroup": "stoichiometry",
         "marker": {
          "color": "#EF553B",
          "symbol": "circle"
         },
         "mode": "markers",
         "name": "stoichiometry",
         "showlegend": true,
         "type": "scattergl",
         "x": {
          "bdata": "EesiQfe/IkE+/SJBMz8iQUF/IkE=",
          "dtype": "f4"
         },
         "xaxis": "x",
         "y": {
          "bdata": "LBaIQMV6iECcxIhAr/eIQIlBiUA=",
          "dtype": "f4"
         },
         "yaxis": "y"
        },
        {
         "customdata": [
          [
           "phagocytotic"
          ],
          [
           "phagocyte"
          ],
          [
           "phagosome"
          ],
          [
           "phagocytes"
          ],
          [
           "phagocytic"
          ],
          [
           "phagocytosis"
          ],
          [
           "phagocytosed"
          ],
          [
           "phagosomal"
          ],
          [
           "phagosomes"
          ]
         ],
         "hovertemplate": "color=autophagy<br>x=%{x}<br>y=%{y}<br>keyword=%{customdata[0]}<extra></extra>",
         "legendgroup": "autophagy",
         "marker": {
          "color": "#00cc96",
          "symbol": "circle"
         },
         "mode": "markers",
         "name": "autophagy",
         "showlegend": true,
         "type": "scattergl",
         "x": {
          "bdata": "w2EvQVFtL0ECoi9B77cvQTuqLkEwdi9BC8MuQW+jL0GEhi9B",
          "dtype": "f4"
         },
         "xaxis": "x",
         "y": {
          "bdata": "v6IwQf2oMEFkyDBBXc4wQRX2L0HlojBB9tgvQTm8MEHSQDBB",
          "dtype": "f4"
         },
         "yaxis": "y"
        },
        {
         "customdata": [
          [
           "endothelium"
          ],
          [
           "vascular"
          ],
          [
           "microvasculature"
          ],
          [
           "endothelial"
          ],
          [
           "vasculature"
          ]
         ],
         "hovertemplate": "color=angiogenesis<br>x=%{x}<br>y=%{y}<br>keyword=%{customdata[0]}<extra></extra>",
         "legendgroup": "angiogenesis",
         "marker": {
          "color": "#ab63fa",
          "symbol": "circle"
         },
         "mode": "markers",
         "name": "angiogenesis",
         "showlegend": true,
         "type": "scattergl",
         "x": {
          "bdata": "3tA7PsaTnj787YE+37A/PpHcnz4=",
          "dtype": "f4"
         },
         "xaxis": "x",
         "y": {
          "bdata": "Lk+fQPMXp0BPDKNA7cydQOuzpUA=",
          "dtype": "f4"
         },
         "yaxis": "y"
        },
        {
         "customdata": [
          [
           "dendrites"
          ],
          [
           "synapse"
          ],
          [
           "neural"
          ],
          [
           "neuromasts"
          ],
          [
           "neuronal"
          ],
          [
           "synapses"
          ],
          [
           "neurons"
          ],
          [
           "neuron"
          ],
          [
           "axons"
          ]
         ],
         "hovertemplate": "color=neuroplasticity<br>x=%{x}<br>y=%{y}<br>keyword=%{customdata[0]}<extra></extra>",
         "legendgroup": "neuroplasticity",
         "marker": {
          "color": "#FFA15A",
          "symbol": "circle"
         },
         "mode": "markers",
         "name": "neuroplasticity",
         "showlegend": true,
         "type": "scattergl",
         "x": {
          "bdata": "7dqAQEEsgUALgIFAeI6BQMS/gEDvVoFAT6WBQNhOgUDbU31A",
          "dtype": "f4"
         },
         "xaxis": "x",
         "y": {
          "bdata": "DqcQQZyWEEGLdhBB3h4QQa2zD0HwmBBBhDgQQbQ9EEFhnRFB",
          "dtype": "f4"
         },
         "yaxis": "y"
        },
        {
         "customdata": [
          [
           "hydra"
          ],
          [
           "hydrae"
          ],
          [
           "elytra"
          ],
          [
           "hydras"
          ]
         ],
         "hovertemplate": "color=hydrozoans<br>x=%{x}<br>y=%{y}<br>keyword=%{customdata[0]}<extra></extra>",
         "legendgroup": "hydrozoans",
         "marker": {
          "color": "#19d3f3",
          "symbol": "circle"
         },
         "mode": "markers",
         "name": "hydrozoans",
         "showlegend": true,
         "type": "scattergl",
         "x": {
          "bdata": "EN0UQfNjFEHtnhZBiMEUQQ==",
          "dtype": "f4"
         },
         "xaxis": "x",
         "y": {
          "bdata": "8lYJwJgBCsCEsBLAjrAHwA==",
          "dtype": "f4"
         },
         "yaxis": "y"
        },
        {
         "customdata": [
          [
           "kinematic"
          ],
          [
           "dynamics"
          ],
          [
           "kinetic"
          ],
          [
           "kinematics"
          ]
         ],
         "hovertemplate": "color=biokinetics<br>x=%{x}<br>y=%{y}<br>keyword=%{customdata[0]}<extra></extra>",
         "legendgroup": "biokinetics",
         "marker": {
          "color": "#FF6692",
          "symbol": "circle"
         },
         "mode": "markers",
         "name": "biokinetics",
         "showlegend": true,
         "type": "scattergl",
         "x": {
          "bdata": "sej8QASj/UCzh/xAOp79QA==",
          "dtype": "f4"
         },
         "xaxis": "x",
         "y": {
          "bdata": "2mrGQALLxEAwLsdAmQPHQA==",
          "dtype": "f4"
         },
         "yaxis": "y"
        },
        {
         "customdata": [
          [
           "sarcomere"
          ],
          [
           "myosin"
          ],
          [
           "actin"
          ],
          [
           "sarcolemma"
          ],
          [
           "sarcoplasmic"
          ],
          [
           "sarcomeres"
          ],
          [
           "actomyosin"
          ],
          [
           "cytoskeletal"
          ]
         ],
         "hovertemplate": "color=myofibrillogenesis<br>x=%{x}<br>y=%{y}<br>keyword=%{customdata[0]}<extra></extra>",
         "legendgroup": "myofibrillogenesis",
         "marker": {
          "color": "#B6E880",
          "symbol": "circle"
         },
         "mode": "markers",
         "name": "myofibrillogenesis",
         "showlegend": true,
         "type": "scattergl",
         "x": {
          "bdata": "R6BFQHnOQUDQTkpA5SRJQOLyRkB+4EJA1bRDQA4bRkA=",
          "dtype": "f4"
         },
         "xaxis": "x",
         "y": {
          "bdata": "6i3OQC5ZzkCcs81ASOLOQAopzkC2Ss5ArZvNQBkPzUA=",
          "dtype": "f4"
         },
         "yaxis": "y"
        },
        {
         "customdata": [
          [
           "viscoelasticity"
          ],
          [
           "hydrodynamic"
          ],
          [
           "viscoelastic"
          ],
          [
           "friction"
          ],
          [
           "rheological"
          ],
          [
           "morphoelastic"
          ],
          [
           "hydrodynamics"
          ],
          [
           "viscosity"
          ],
          [
           "viscous"
          ],
          [
           "fluids"
          ]
         ],
         "hovertemplate": "color=thixotropy<br>x=%{x}<br>y=%{y}<br>keyword=%{customdata[0]}<extra></extra>",
         "legendgroup": "thixotropy",
         "marker": {
          "color": "#FF97FF",
          "symbol": "circle"
         },
         "mode": "markers",
         "name": "thixotropy",
         "showlegend": true,
         "type": "scattergl",
         "x": {
          "bdata": "7lD4QJS5+EDXQvlAxrb1QEk++UBWDPxAt9b4QEai9UAfa/RA0uj3QA==",
          "dtype": "f4"
         },
         "xaxis": "x",
         "y": {
          "bdata": "69C1QNO2ukCrfbVAJQC7QAaxtkA1GLNAHjm6QNbQtkDZV7lA4n65QA==",
          "dtype": "f4"
         },
         "yaxis": "y"
        },
        {
         "customdata": [
          [
           "brachiopods"
          ],
          [
           "trilobites"
          ],
          [
           "brachiopod"
          ],
          [
           "brachiopoda"
          ]
         ],
         "hovertemplate": "color=paleoecology<br>x=%{x}<br>y=%{y}<br>keyword=%{customdata[0]}<extra></extra>",
         "legendgroup": "paleoecology",
         "marker": {
          "color": "#FECB52",
          "symbol": "circle"
         },
         "mode": "markers",
         "name": "paleoecology",
         "showlegend": true,
         "type": "scattergl",
         "x": {
          "bdata": "9IPrQIzB5kBo2+1AIXnrQA==",
          "dtype": "f4"
         },
         "xaxis": "x",
         "y": {
          "bdata": "FRkUwLTcGcBrdBTAZecVwA==",
          "dtype": "f4"
         },
         "yaxis": "y"
        },
        {
         "customdata": [
          [
           "quadrupedal"
          ],
          [
           "quadrupeds"
          ],
          [
           "quadruped"
          ]
         ],
         "hovertemplate": "color=quadrupedality<br>x=%{x}<br>y=%{y}<br>keyword=%{customdata[0]}<extra></extra>",
         "legendgroup": "quadrupedality",
         "marker": {
          "color": "#636efa",
          "symbol": "circle"
         },
         "mode": "markers",
         "name": "quadrupedality",
         "showlegend": true,
         "type": "scattergl",
         "x": {
          "bdata": "3LkTQaXQE0F3JRNB",
          "dtype": "f4"
         },
         "xaxis": "x",
         "y": {
          "bdata": "58KYwMwXmMBbd5rA",
          "dtype": "f4"
         },
         "yaxis": "y"
        },
        {
         "customdata": [
          [
           "magnetotaxis"
          ],
          [
           "magnetotacticum"
          ],
          [
           "magnetotactic"
          ]
         ],
         "hovertemplate": "color=magnetoreception<br>x=%{x}<br>y=%{y}<br>keyword=%{customdata[0]}<extra></extra>",
         "legendgroup": "magnetoreception",
         "marker": {
          "color": "#EF553B",
          "symbol": "circle"
         },
         "mode": "markers",
         "name": "magnetoreception",
         "showlegend": true,
         "type": "scattergl",
         "x": {
          "bdata": "H5QbQSqFG0FthBtB",
          "dtype": "f4"
         },
         "xaxis": "x",
         "y": {
          "bdata": "basLQY6IC0GphAtB",
          "dtype": "f4"
         },
         "yaxis": "y"
        },
        {
         "customdata": [
          [
           "equines"
          ],
          [
           "equus"
          ],
          [
           "equine"
          ],
          [
           "horse"
          ],
          [
           "horses"
          ]
         ],
         "hovertemplate": "color=ungulate<br>x=%{x}<br>y=%{y}<br>keyword=%{customdata[0]}<extra></extra>",
         "legendgroup": "ungulate",
         "marker": {
          "color": "#00cc96",
          "symbol": "circle"
         },
         "mode": "markers",
         "name": "ungulate",
         "showlegend": true,
         "type": "scattergl",
         "x": {
          "bdata": "13kSQe55EkFchBJBiG4TQYO+EkE=",
          "dtype": "f4"
         },
         "xaxis": "x",
         "y": {
          "bdata": "odmowHyPp8CcaajAzUeowPkhqcA=",
          "dtype": "f4"
         },
         "yaxis": "y"
        },
        {
         "customdata": [
          [
           "nasopharynx"
          ],
          [
           "nose"
          ],
          [
           "nasal"
          ],
          [
           "ethmoid"
          ],
          [
           "noses"
          ],
          [
           "vomeronasal"
          ]
         ],
         "hovertemplate": "color=chemosensation<br>x=%{x}<br>y=%{y}<br>keyword=%{customdata[0]}<extra></extra>",
         "legendgroup": "chemosensation",
         "marker": {
          "color": "#ab63fa",
          "symbol": "circle"
         },
         "mode": "markers",
         "name": "chemosensation",
         "showlegend": true,
         "type": "scattergl",
         "x": {
          "bdata": "k1+FQBdJhkAxU4ZAI3aHQEo3h0BDQodA",
          "dtype": "f4"
         },
         "xaxis": "x",
         "y": {
          "bdata": "eWhbQNhuWUBl1FlAN+ZcQK6mWEByrFtA",
          "dtype": "f4"
         },
         "yaxis": "y"
        },
        {
         "customdata": [
          [
           "radiolarian"
          ],
          [
           "radiolarites"
          ],
          [
           "radiolaria"
          ],
          [
           "radiolarite"
          ]
         ],
         "hovertemplate": "color=siliceous<br>x=%{x}<br>y=%{y}<br>keyword=%{customdata[0]}<extra></extra>",
         "legendgroup": "siliceous",
         "marker": {
          "color": "#FFA15A",
          "symbol": "circle"
         },
         "mode": "markers",
         "name": "siliceous",
         "showlegend": true,
         "type": "scattergl",
         "x": {
          "bdata": "4+HXQKAO10DJPddAlNfTQA==",
          "dtype": "f4"
         },
         "xaxis": "x",
         "y": {
          "bdata": "dG1bvq90OL6bGUy+51AUvg==",
          "dtype": "f4"
         },
         "yaxis": "y"
        },
        {
         "customdata": [
          [
           "scaling"
          ],
          [
           "scales"
          ],
          [
           "scale"
          ]
         ],
         "hovertemplate": "color=allometry<br>x=%{x}<br>y=%{y}<br>keyword=%{customdata[0]}<extra></extra>",
         "legendgroup": "allometry",
         "marker": {
          "color": "#19d3f3",
          "symbol": "circle"
         },
         "mode": "markers",
         "name": "allometry",
         "showlegend": true,
         "type": "scattergl",
         "x": {
          "bdata": "Le4jQWrnI0EqoiNB",
          "dtype": "f4"
         },
         "xaxis": "x",
         "y": {
          "bdata": "Aa2FQLPVhUCktIVA",
          "dtype": "f4"
         },
         "yaxis": "y"
        },
        {
         "customdata": [
          [
           "songbirds"
          ],
          [
           "hummingbirds"
          ],
          [
           "birdsong"
          ],
          [
           "birdsongs"
          ]
         ],
         "hovertemplate": "color=vocalization<br>x=%{x}<br>y=%{y}<br>keyword=%{customdata[0]}<extra></extra>",
         "legendgroup": "vocalization",
         "marker": {
          "color": "#FF6692",
          "symbol": "circle"
         },
         "mode": "markers",
         "name": "vocalization",
         "showlegend": true,
         "type": "scattergl",
         "x": {
          "bdata": "uRE6QR1GOUF+FjpBcr45QQ==",
          "dtype": "f4"
         },
         "xaxis": "x",
         "y": {
          "bdata": "PaUvwNqMKsC0PjLAMckvwA==",
          "dtype": "f4"
         },
         "yaxis": "y"
        },
        {
         "customdata": [
          [
           "magnetosomal"
          ],
          [
           "magnetosomes"
          ]
         ],
         "hovertemplate": "color=magnetotaxis<br>x=%{x}<br>y=%{y}<br>keyword=%{customdata[0]}<extra></extra>",
         "legendgroup": "magnetotaxis",
         "marker": {
          "color": "#B6E880",
          "symbol": "circle"
         },
         "mode": "markers",
         "name": "magnetotaxis",
         "showlegend": true,
         "type": "scattergl",
         "x": {
          "bdata": "4WgbQYdQG0E=",
          "dtype": "f4"
         },
         "xaxis": "x",
         "y": {
          "bdata": "oXQLQXAiC0E=",
          "dtype": "f4"
         },
         "yaxis": "y"
        },
        {
         "customdata": [
          [
           "biopolymer"
          ],
          [
           "macromolecules"
          ],
          [
           "biopolymers"
          ],
          [
           "molecules"
          ]
         ],
         "hovertemplate": "color=polymerization<br>x=%{x}<br>y=%{y}<br>keyword=%{customdata[0]}<extra></extra>",
         "legendgroup": "polymerization",
         "marker": {
          "color": "#FF97FF",
          "symbol": "circle"
         },
         "mode": "markers",
         "name": "polymerization",
         "showlegend": true,
         "type": "scattergl",
         "x": {
          "bdata": "VpC5QFI5u0BQJrtAF9/FQA==",
          "dtype": "f4"
         },
         "xaxis": "x",
         "y": {
          "bdata": "6IXCQLNowkDpO8JAwEnCQA==",
          "dtype": "f4"
         },
         "yaxis": "y"
        },
        {
         "customdata": [
          [
           "beehives"
          ],
          [
           "hornets"
          ],
          [
           "honeybees"
          ],
          [
           "bees"
          ],
          [
           "beehive"
          ],
          [
           "honeybee"
          ]
         ],
         "hovertemplate": "color=apiculture<br>x=%{x}<br>y=%{y}<br>keyword=%{customdata[0]}<extra></extra>",
         "legendgroup": "apiculture",
         "marker": {
          "color": "#FECB52",
          "symbol": "circle"
         },
         "mode": "markers",
         "name": "apiculture",
         "showlegend": true,
         "type": "scattergl",
         "x": {
          "bdata": "QhgvQfSyLkGJQC9BxV4vQTrNL0Hgzi5B",
          "dtype": "f4"
         },
         "xaxis": "x",
         "y": {
          "bdata": "DG3UvyOS2L9+kc+/CezQvwy43b/yMM+/",
          "dtype": "f4"
         },
         "yaxis": "y"
        },
        {
         "customdata": [
          [
           "synechocystissp"
          ],
          [
           "synechocystis"
          ],
          [
           "synechocystic"
          ],
          [
           "synechococcales"
          ]
         ],
         "hovertemplate": "color=phototrophy<br>x=%{x}<br>y=%{y}<br>keyword=%{customdata[0]}<extra></extra>",
         "legendgroup": "phototrophy",
         "marker": {
          "color": "#636efa",
          "symbol": "circle"
         },
         "mode": "markers",
         "name": "phototrophy",
         "showlegend": true,
         "type": "scattergl",
         "x": {
          "bdata": "2UhrQe9pa0H6tWtBvflqQQ==",
          "dtype": "f4"
         },
         "xaxis": "x",
         "y": {
          "bdata": "uSSHQIM1h0CXL4hAasSGQA==",
          "dtype": "f4"
         },
         "yaxis": "y"
        },
        {
         "customdata": [
          [
           "gut"
          ],
          [
           "intestine"
          ],
          [
           "sphincter"
          ],
          [
           "intestines"
          ],
          [
           "enteric"
          ],
          [
           "midgut"
          ],
          [
           "digestibility"
          ],
          [
           "digestive"
          ],
          [
           "digestion"
          ]
         ],
         "hovertemplate": "color=enterocyte<br>x=%{x}<br>y=%{y}<br>keyword=%{customdata[0]}<extra></extra>",
         "legendgroup": "enterocyte",
         "marker": {
          "color": "#EF553B",
          "symbol": "circle"
         },
         "mode": "markers",
         "name": "enterocyte",
         "showlegend": true,
         "type": "scattergl",
         "x": {
          "bdata": "zDq4QLNmuEDVs7ZA07S3QKrxuECieLhAF8i4QAPxt0Af7bdA",
          "dtype": "f4"
         },
         "xaxis": "x",
         "y": {
          "bdata": "M/JxQDZ6ckAtRnVAEEN0QFuNcUBb4HJA0x1tQBJqb0DF725A",
          "dtype": "f4"
         },
         "yaxis": "y"
        },
        {
         "customdata": [
          [
           "sedimentation"
          ],
          [
           "sediment"
          ],
          [
           "sediments"
          ]
         ],
         "hovertemplate": "color=flocculation<br>x=%{x}<br>y=%{y}<br>keyword=%{customdata[0]}<extra></extra>",
         "legendgroup": "flocculation",
         "marker": {
          "color": "#00cc96",
          "symbol": "circle"
         },
         "mode": "markers",
         "name": "flocculation",
         "showlegend": true,
         "type": "scattergl",
         "x": {
          "bdata": "Y+fGQJQwxkBlbshA",
          "dtype": "f4"
         },
         "xaxis": "x",
         "y": {
          "bdata": "P5wRv86y9r4Q5Re/",
          "dtype": "f4"
         },
         "yaxis": "y"
        },
        {
         "customdata": [
          [
           "copepod"
          ],
          [
           "copepods"
          ],
          [
           "copepodite"
          ],
          [
           "copenoids"
          ]
         ],
         "hovertemplate": "color=planktonology<br>x=%{x}<br>y=%{y}<br>keyword=%{customdata[0]}<extra></extra>",
         "legendgroup": "planktonology",
         "marker": {
          "color": "#ab63fa",
          "symbol": "circle"
         },
         "mode": "markers",
         "name": "planktonology",
         "showlegend": true,
         "type": "scattergl",
         "x": {
          "bdata": "57QQQRu0EEEqXBBBzi4RQQ==",
          "dtype": "f4"
         },
         "xaxis": "x",
         "y": {
          "bdata": "mFp1P77Ydj+vFXQ/hAeAPw==",
          "dtype": "f4"
         },
         "yaxis": "y"
        },
        {
         "customdata": [
          [
           "chickens"
          ],
          [
           "poultry"
          ],
          [
           "chicken"
          ],
          [
           "chicks"
          ],
          [
           "chick"
          ],
          [
           "chicklings"
          ]
         ],
         "hovertemplate": "color=pulmonary<br>x=%{x}<br>y=%{y}<br>keyword=%{customdata[0]}<extra></extra>",
         "legendgroup": "pulmonary",
         "marker": {
          "color": "#FFA15A",
          "symbol": "circle"
         },
         "mode": "markers",
         "name": "pulmonary",
         "showlegend": true,
         "type": "scattergl",
         "x": {
          "bdata": "oxc+QX5SPUFWFT5B/0I+QQffPUG/7j1B",
          "dtype": "f4"
         },
         "xaxis": "x",
         "y": {
          "bdata": "bXT9v9N1BsCXQ/2/u4n0v66w/r/CQOW/",
          "dtype": "f4"
         },
         "yaxis": "y"
        },
        {
         "customdata": [
          [
           "electrocardiogram"
          ],
          [
           "ecg"
          ],
          [
           "ecgs"
          ]
         ],
         "hovertemplate": "color=electrophysiology<br>x=%{x}<br>y=%{y}<br>keyword=%{customdata[0]}<extra></extra>",
         "legendgroup": "electrophysiology",
         "marker": {
          "color": "#19d3f3",
          "symbol": "circle"
         },
         "mode": "markers",
         "name": "electrophysiology",
         "showlegend": true,
         "type": "scattergl",
         "x": {
          "bdata": "urIGQBrTBkAtQwdA",
          "dtype": "f4"
         },
         "xaxis": "x",
         "y": {
          "bdata": "0//bQLbu3UBcY99A",
          "dtype": "f4"
         },
         "yaxis": "y"
        },
        {
         "customdata": [
          [
           "claws"
          ],
          [
           "claw"
          ],
          [
           "clawless"
          ],
          [
           "clawed"
          ],
          [
           "clutching"
          ],
          [
           "clawing"
          ]
         ],
         "hovertemplate": "color=onychology<br>x=%{x}<br>y=%{y}<br>keyword=%{customdata[0]}<extra></extra>",
         "legendgroup": "onychology",
         "marker": {
          "color": "#FF6692",
          "symbol": "circle"
         },
         "mode": "markers",
         "name": "onychology",
         "showlegend": true,
         "type": "scattergl",
         "x": {
          "bdata": "QPvbQDJZ20BXn9tA/bXZQNVv20BDJtpA",
          "dtype": "f4"
         },
         "xaxis": "x",
         "y": {
          "bdata": "RfEEQIbFBkC35AZAMrkHQNoRB0BROAdA",
          "dtype": "f4"
         },
         "yaxis": "y"
        },
        {
         "customdata": [
          [
           "carotenoproteins"
          ],
          [
           "carotenoids"
          ],
          [
           "carotenoprotein"
          ],
          [
           "carotenoid"
          ]
         ],
         "hovertemplate": "color=astaxanthin<br>x=%{x}<br>y=%{y}<br>keyword=%{customdata[0]}<extra></extra>",
         "legendgroup": "astaxanthin",
         "marker": {
          "color": "#B6E880",
          "symbol": "circle"
         },
         "mode": "markers",
         "name": "astaxanthin",
         "showlegend": true,
         "type": "scattergl",
         "x": {
          "bdata": "+zFpQULRaUEgUGlBVB1pQQ==",
          "dtype": "f4"
         },
         "xaxis": "x",
         "y": {
          "bdata": "aV+gQKFpoEDtoKBAa4ygQA==",
          "dtype": "f4"
         },
         "yaxis": "y"
        },
        {
         "customdata": [
          [
           "photosymbiosis"
          ],
          [
           "photosymbiont"
          ],
          [
           "photosymbionts"
          ]
         ],
         "hovertemplate": "color=photobiology<br>x=%{x}<br>y=%{y}<br>keyword=%{customdata[0]}<extra></extra>",
         "legendgroup": "photobiology",
         "marker": {
          "color": "#FF97FF",
          "symbol": "circle"
         },
         "mode": "markers",
         "name": "photobiology",
         "showlegend": true,
         "type": "scattergl",
         "x": {
          "bdata": "mYZnQcUVaEFYlWdB",
          "dtype": "f4"
         },
         "xaxis": "x",
         "y": {
          "bdata": "/uMLQL16DkAVnQxA",
          "dtype": "f4"
         },
         "yaxis": "y"
        },
        {
         "customdata": [
          [
           "species"
          ],
          [
           "intraspecies"
          ],
          [
           "interspecific"
          ],
          [
           "intraspecific"
          ],
          [
           "interspecies"
          ]
         ],
         "hovertemplate": "color=speciation<br>x=%{x}<br>y=%{y}<br>keyword=%{customdata[0]}<extra></extra>",
         "legendgroup": "speciation",
         "marker": {
          "color": "#FECB52",
          "symbol": "circle"
         },
         "mode": "markers",
         "name": "speciation",
         "showlegend": true,
         "type": "scattergl",
         "x": {
          "bdata": "ouZNQQIzXkHpbV5B0TxeQZZyXkE=",
          "dtype": "f4"
         },
         "xaxis": "x",
         "y": {
          "bdata": "bx8iQHyq3z+2A98/plbdP/R82T8=",
          "dtype": "f4"
         },
         "yaxis": "y"
        },
        {
         "customdata": [
          [
           "microscopic"
          ],
          [
           "microscale"
          ]
         ],
         "hovertemplate": "color=microscopy<br>x=%{x}<br>y=%{y}<br>keyword=%{customdata[0]}<extra></extra>",
         "legendgroup": "microscopy",
         "marker": {
          "color": "#636efa",
          "symbol": "circle"
         },
         "mode": "markers",
         "name": "microscopy",
         "showlegend": true,
         "type": "scattergl",
         "x": {
          "bdata": "yngiQSDMIUE=",
          "dtype": "f4"
         },
         "xaxis": "x",
         "y": {
          "bdata": "K1aUPySHnz8=",
          "dtype": "f4"
         },
         "yaxis": "y"
        },
        {
         "customdata": [
          [
           "deformation"
          ],
          [
           "deformable"
          ],
          [
           "bending"
          ]
         ],
         "hovertemplate": "color=flexural<br>x=%{x}<br>y=%{y}<br>keyword=%{customdata[0]}<extra></extra>",
         "legendgroup": "flexural",
         "marker": {
          "color": "#EF553B",
          "symbol": "circle"
         },
         "mode": "markers",
         "name": "flexural",
         "showlegend": true,
         "type": "scattergl",
         "x": {
          "bdata": "2cgPQTNCEEG3wQ5B",
          "dtype": "f4"
         },
         "xaxis": "x",
         "y": {
          "bdata": "INlkQHTtZkC9P2BA",
          "dtype": "f4"
         },
         "yaxis": "y"
        },
        {
         "customdata": [
          [
           "uterine"
          ],
          [
           "uteri"
          ],
          [
           "uterus"
          ],
          [
           "uteruses"
          ],
          [
           "myometrium"
          ]
         ],
         "hovertemplate": "color=hysterology<br>x=%{x}<br>y=%{y}<br>keyword=%{customdata[0]}<extra></extra>",
         "legendgroup": "hysterology",
         "marker": {
          "color": "#00cc96",
          "symbol": "circle"
         },
         "mode": "markers",
         "name": "hysterology",
         "showlegend": true,
         "type": "scattergl",
         "x": {
          "bdata": "HzdDQcTGQkERKkJBzq9DQSqgQ0E=",
          "dtype": "f4"
         },
         "xaxis": "x",
         "y": {
          "bdata": "7umIPgdIeD5j5qg+T4d2PrwalD4=",
          "dtype": "f4"
         },
         "yaxis": "y"
        },
        {
         "customdata": [
          [
           "skinks"
          ],
          [
           "skunks"
          ]
         ],
         "hovertemplate": "color=mammalogy<br>x=%{x}<br>y=%{y}<br>keyword=%{customdata[0]}<extra></extra>",
         "legendgroup": "mammalogy",
         "marker": {
          "color": "#ab63fa",
          "symbol": "circle"
         },
         "mode": "markers",
         "name": "mammalogy",
         "showlegend": true,
         "type": "scattergl",
         "x": {
          "bdata": "w/0XQW2/FUE=",
          "dtype": "f4"
         },
         "xaxis": "x",
         "y": {
          "bdata": "uBs3wOAOhcA=",
          "dtype": "f4"
         },
         "yaxis": "y"
        },
        {
         "customdata": [
          [
           "sensation"
          ],
          [
           "sensor"
          ],
          [
           "sensing"
          ],
          [
           "sensors"
          ],
          [
           "sensed"
          ],
          [
           "sensory"
          ],
          [
           "senses"
          ]
         ],
         "hovertemplate": "color=proprioception<br>x=%{x}<br>y=%{y}<br>keyword=%{customdata[0]}<extra></extra>",
         "legendgroup": "proprioception",
         "marker": {
          "color": "#FFA15A",
          "symbol": "circle"
         },
         "mode": "markers",
         "name": "proprioception",
         "showlegend": true,
         "type": "scattergl",
         "x": {
          "bdata": "xwAKQUAECEFoewlBbKgHQTHoCEHlNwpBYeMJQQ==",
          "dtype": "f4"
         },
         "xaxis": "x",
         "y": {
          "bdata": "mPUtQTBjKkHiwypB9EcpQazbKkF2/C1BYo0tQQ==",
          "dtype": "f4"
         },
         "yaxis": "y"
        },
        {
         "customdata": [
          [
           "phytoecdysteroids"
          ],
          [
           "phytoecdysteroid"
          ],
          [
           "phytohormones"
          ]
         ],
         "hovertemplate": "color=ecdysone<br>x=%{x}<br>y=%{y}<br>keyword=%{customdata[0]}<extra></extra>",
         "legendgroup": "ecdysone",
         "marker": {
          "color": "#19d3f3",
          "symbol": "circle"
         },
         "mode": "markers",
         "name": "ecdysone",
         "showlegend": true,
         "type": "scattergl",
         "x": {
          "bdata": "pS2qQJvnqkA6DatA",
          "dtype": "f4"
         },
         "xaxis": "x",
         "y": {
          "bdata": "yNQJQfg5CUGNoQlB",
          "dtype": "f4"
         },
         "yaxis": "y"
        },
        {
         "customdata": [
          [
           "chromatophore"
          ],
          [
           "melanins"
          ],
          [
           "melanophores"
          ],
          [
           "melanocytes"
          ],
          [
           "melanophore"
          ],
          [
           "pheomelanin"
          ],
          [
           "chromatophores"
          ]
         ],
         "hovertemplate": "color=pigmentation<br>x=%{x}<br>y=%{y}<br>keyword=%{customdata[0]}<extra></extra>",
         "legendgroup": "pigmentation",
         "marker": {
          "color": "#FF6692",
          "symbol": "circle"
         },
         "mode": "markers",
         "name": "pigmentation",
         "showlegend": true,
         "type": "scattergl",
         "x": {
          "bdata": "z0NaQWTiWUETnFlB1ppZQfh7WUELQVpBg9VaQQ==",
          "dtype": "f4"
         },
         "xaxis": "x",
         "y": {
          "bdata": "sVrYQHsQ10DzadpANQ/aQPRO3ECijddAe9fYQA==",
          "dtype": "f4"
         },
         "yaxis": "y"
        },
        {
         "customdata": [
          [
           "endocardium"
          ],
          [
           "myocardium"
          ],
          [
           "endocardial"
          ],
          [
           "cardiomyocytes"
          ],
          [
           "myocyte"
          ],
          [
           "myocytes"
          ],
          [
           "cardiac"
          ],
          [
           "cardiovascular"
          ],
          [
           "myocardial"
          ],
          [
           "cardiomyocyte"
          ],
          [
           "cardiology"
          ]
         ],
         "hovertemplate": "color=cardiophysiology<br>x=%{x}<br>y=%{y}<br>keyword=%{customdata[0]}<extra></extra>",
         "legendgroup": "cardiophysiology",
         "marker": {
          "color": "#B6E880",
          "symbol": "circle"
         },
         "mode": "markers",
         "name": "cardiophysiology",
         "showlegend": true,
         "type": "scattergl",
         "x": {
          "bdata": "W+oHQGSUFkCXeAZA6JorQIxyMkB9BDZAbBMHQPXIBUD2tAtAqDMmQEKYBUA=",
          "dtype": "f4"
         },
         "xaxis": "x",
         "y": {
          "bdata": "G5/SQGNy0kBz7tVAwibQQKirz0CkZM5ArkTWQCCL1kCebNRAdLfQQFNd10A=",
          "dtype": "f4"
         },
         "yaxis": "y"
        },
        {
         "customdata": [
          [
           "leptin"
          ],
          [
           "adipocyte"
          ],
          [
           "adipokines"
          ],
          [
           "adipokine"
          ],
          [
           "lipogenesis"
          ],
          [
           "adipocytes"
          ],
          [
           "lipolysis"
          ],
          [
           "adipogenesis"
          ],
          [
           "adipose"
          ]
         ],
         "hovertemplate": "color=lipidostasis<br>x=%{x}<br>y=%{y}<br>keyword=%{customdata[0]}<extra></extra>",
         "legendgroup": "lipidostasis",
         "marker": {
          "color": "#FF97FF",
          "symbol": "circle"
         },
         "mode": "markers",
         "name": "lipidostasis",
         "showlegend": true,
         "type": "scattergl",
         "x": {
          "bdata": "OsSwQLXUs0BZiLJA7h6yQN+gtEB9l7NAAu2zQDmws0CH0LNA",
          "dtype": "f4"
         },
         "xaxis": "x",
         "y": {
          "bdata": "THPsQE/b4kDskeZAZxzoQN6+3kBdZONAieriQMOQ40BVeuJA",
          "dtype": "f4"
         },
         "yaxis": "y"
        },
        {
         "customdata": [
          [
           "archeopteryx"
          ],
          [
           "sarcopterygian"
          ],
          [
           "archaeopteryx"
          ],
          [
           "pterosaurs"
          ],
          [
           "sauropod"
          ],
          [
           "theropods"
          ]
         ],
         "hovertemplate": "color=cladistics<br>x=%{x}<br>y=%{y}<br>keyword=%{customdata[0]}<extra></extra>",
         "legendgroup": "cladistics",
         "marker": {
          "color": "#FECB52",
          "symbol": "circle"
         },
         "mode": "markers",
         "name": "cladistics",
         "showlegend": true,
         "type": "scattergl",
         "x": {
          "bdata": "LCDmQAuF5kD99+VAuf3kQJgH5kBF8+VA",
          "dtype": "f4"
         },
         "xaxis": "x",
         "y": {
          "bdata": "TcArwKizKMD+wirAvkwswGDWKcAJKyvA",
          "dtype": "f4"
         },
         "yaxis": "y"
        },
        {
         "customdata": [
          [
           "cyanobacteriochrome"
          ],
          [
           "cyanobacterium"
          ],
          [
           "protocyanobacteria"
          ],
          [
           "cyanobacterial"
          ],
          [
           "cyanobacteria"
          ],
          [
           "cyanophycin"
          ]
         ],
         "hovertemplate": "color=photoreceptor<br>x=%{x}<br>y=%{y}<br>keyword=%{customdata[0]}<extra></extra>",
         "legendgroup": "photoreceptor",
         "marker": {
          "color": "#636efa",
          "symbol": "circle"
         },
         "mode": "markers",
         "name": "photoreceptor",
         "showlegend": true,
         "type": "scattergl",
         "x": {
          "bdata": "l/NsQSBabUHwUGxB4lBtQcbVbEHF/m1B",
          "dtype": "f4"
         },
         "xaxis": "x",
         "y": {
          "bdata": "w3+PQECjiUDNgolApiuKQMIHiUD/56NA",
          "dtype": "f4"
         },
         "yaxis": "y"
        },
        {
         "customdata": [
          [
           "regeneration"
          ],
          [
           "regrowth"
          ],
          [
           "regrowing"
          ],
          [
           "regenerative"
          ],
          [
           "regenerating"
          ],
          [
           "regenerates"
          ],
          [
           "remyelinating"
          ]
         ],
         "hovertemplate": "color=epimorphosis<br>x=%{x}<br>y=%{y}<br>keyword=%{customdata[0]}<extra></extra>",
         "legendgroup": "epimorphosis",
         "marker": {
          "color": "#EF553B",
          "symbol": "circle"
         },
         "mode": "markers",
         "name": "epimorphosis",
         "showlegend": true,
         "type": "scattergl",
         "x": {
          "bdata": "1VdMQKljS0D1hk1ABF5OQL5QTECz2k1A59haQA==",
          "dtype": "f4"
         },
         "xaxis": "x",
         "y": {
          "bdata": "b9gTQZz7E0FTpRNBv6wTQcpmE0H6shNBTjoTQQ==",
          "dtype": "f4"
         },
         "yaxis": "y"
        },
        {
         "customdata": [
          [
           "microalgal"
          ],
          [
           "algal"
          ],
          [
           "alga"
          ],
          [
           "algae"
          ],
          [
           "microalgae"
          ]
         ],
         "hovertemplate": "color=biofuels<br>x=%{x}<br>y=%{y}<br>keyword=%{customdata[0]}<extra></extra>",
         "legendgroup": "biofuels",
         "marker": {
          "color": "#00cc96",
          "symbol": "circle"
         },
         "mode": "markers",
         "name": "biofuels",
         "showlegend": true,
         "type": "scattergl",
         "x": {
          "bdata": "X91zQZ2Zc0HTjHNBgTdyQUhHc0E=",
          "dtype": "f4"
         },
         "xaxis": "x",
         "y": {
          "bdata": "28uGQKpHhUBbB4VApuuDQDURhkA=",
          "dtype": "f4"
         },
         "yaxis": "y"
        },
        {
         "customdata": [
          [
           "bioinspired"
          ],
          [
           "biomimetics"
          ],
          [
           "biomimetic"
          ],
          [
           "biomimicry"
          ],
          [
           "biomimicking"
          ]
         ],
         "hovertemplate": "color=biorobotics<br>x=%{x}<br>y=%{y}<br>keyword=%{customdata[0]}<extra></extra>",
         "legendgroup": "biorobotics",
         "marker": {
          "color": "#ab63fa",
          "symbol": "circle"
         },
         "mode": "markers",
         "name": "biorobotics",
         "showlegend": true,
         "type": "scattergl",
         "x": {
          "bdata": "87A4QVtUOUE3STlB4Hk4QWORN0E=",
          "dtype": "f4"
         },
         "xaxis": "x",
         "y": {
          "bdata": "8QReQNFTX0DQ4V1APA1eQFn8XUA=",
          "dtype": "f4"
         },
         "yaxis": "y"
        },
        {
         "customdata": [
          [
           "metabolisms"
          ],
          [
           "metabolism"
          ],
          [
           "metabolic"
          ],
          [
           "metabolizing"
          ],
          [
           "metabolites"
          ],
          [
           "metabolomic"
          ]
         ],
         "hovertemplate": "color=metabolomics<br>x=%{x}<br>y=%{y}<br>keyword=%{customdata[0]}<extra></extra>",
         "legendgroup": "metabolomics",
         "marker": {
          "color": "#FFA15A",
          "symbol": "circle"
         },
         "mode": "markers",
         "name": "metabolomics",
         "showlegend": true,
         "type": "scattergl",
         "x": {
          "bdata": "BuhPQakLUEFHpk9BnsBPQXTvUEE4p09B",
          "dtype": "f4"
         },
         "xaxis": "x",
         "y": {
          "bdata": "lAKDQBl+g0B7fIJAYkaDQAl2hUBiHINA",
          "dtype": "f4"
         },
         "yaxis": "y"
        },
        {
         "customdata": [
          [
           "gnawed"
          ],
          [
           "biting"
          ],
          [
           "gnawing"
          ]
         ],
         "hovertemplate": "color=bruxism<br>x=%{x}<br>y=%{y}<br>keyword=%{customdata[0]}<extra></extra>",
         "legendgroup": "bruxism",
         "marker": {
          "color": "#19d3f3",
          "symbol": "circle"
         },
         "mode": "markers",
         "name": "bruxism",
         "showlegend": true,
         "type": "scattergl",
         "x": {
          "bdata": "wP/MQGO6xkCx+81A",
          "dtype": "f4"
         },
         "xaxis": "x",
         "y": {
          "bdata": "uXcKQCUAEEAOsQpA",
          "dtype": "f4"
         },
         "yaxis": "y"
        },
        {
         "customdata": [
          [
           "antennae"
          ],
          [
           "antennal"
          ],
          [
           "antennomere"
          ]
         ],
         "hovertemplate": "color=chemoreception<br>x=%{x}<br>y=%{y}<br>keyword=%{customdata[0]}<extra></extra>",
         "legendgroup": "chemoreception",
         "marker": {
          "color": "#FF6692",
          "symbol": "circle"
         },
         "mode": "markers",
         "name": "chemoreception",
         "showlegend": true,
         "type": "scattergl",
         "x": {
          "bdata": "pzgRQYD4EEFvUhJB",
          "dtype": "f4"
         },
         "xaxis": "x",
         "y": {
          "bdata": "De0KQUYmC0Hw6wlB",
          "dtype": "f4"
         },
         "yaxis": "y"
        },
        {
         "customdata": [
          [
           "biomechanical"
          ],
          [
           "biomech"
          ],
          [
           "biomechanisms"
          ],
          [
           "biomechanics"
          ]
         ],
         "hovertemplate": "color=biotensegrity<br>x=%{x}<br>y=%{y}<br>keyword=%{customdata[0]}<extra></extra>",
         "legendgroup": "biotensegrity",
         "marker": {
          "color": "#B6E880",
          "symbol": "circle"
         },
         "mode": "markers",
         "name": "biotensegrity",
         "showlegend": true,
         "type": "scattergl",
         "x": {
          "bdata": "8hI9Qf+ePEGLOT5BekY9QQ==",
          "dtype": "f4"
         },
         "xaxis": "x",
         "y": {
          "bdata": "HVNgQKPVYEC13V5A+qFgQA==",
          "dtype": "f4"
         },
         "yaxis": "y"
        },
        {
         "customdata": [
          [
           "unicellular"
          ],
          [
           "multicellularity"
          ],
          [
           "unicellularity"
          ],
          [
           "multicellular"
          ]
         ],
         "hovertemplate": "color=cell differentiation<br>x=%{x}<br>y=%{y}<br>keyword=%{customdata[0]}<extra></extra>",
         "legendgroup": "cell differentiation",
         "marker": {
          "color": "#FF97FF",
          "symbol": "circle"
         },
         "mode": "markers",
         "name": "cell differentiation",
         "showlegend": true,
         "type": "scattergl",
         "x": {
          "bdata": "pAckQY6uJEExEyRBwyskQQ==",
          "dtype": "f4"
         },
         "xaxis": "x",
         "y": {
          "bdata": "7Jl+P2XocT9S2XE/LgRwPw==",
          "dtype": "f4"
         },
         "yaxis": "y"
        },
        {
         "customdata": [
          [
           "icosahedrons"
          ],
          [
           "icosahedron"
          ],
          [
           "polyhedra"
          ],
          [
           "dodecahedrons"
          ]
         ],
         "hovertemplate": "color=polyhedral<br>x=%{x}<br>y=%{y}<br>keyword=%{customdata[0]}<extra></extra>",
         "legendgroup": "polyhedral",
         "marker": {
          "color": "#FECB52",
          "symbol": "circle"
         },
         "mode": "markers",
         "name": "polyhedral",
         "showlegend": true,
         "type": "scattergl",
         "x": {
          "bdata": "hqkYQTlqGUFPpBlByvQYQQ==",
          "dtype": "f4"
         },
         "xaxis": "x",
         "y": {
          "bdata": "SJO1QHxLtUANW7BAuxm0QA==",
          "dtype": "f4"
         },
         "yaxis": "y"
        },
        {
         "customdata": [
          [
           "milks"
          ],
          [
           "milking"
          ],
          [
           "dairy"
          ],
          [
           "milk"
          ]
         ],
         "hovertemplate": "color=lactogenesis<br>x=%{x}<br>y=%{y}<br>keyword=%{customdata[0]}<extra></extra>",
         "legendgroup": "lactogenesis",
         "marker": {
          "color": "#636efa",
          "symbol": "circle"
         },
         "mode": "markers",
         "name": "lactogenesis",
         "showlegend": true,
         "type": "scattergl",
         "x": {
          "bdata": "kZw5QZOJOUFsGzpB5AM6QQ==",
          "dtype": "f4"
         },
         "xaxis": "x",
         "y": {
          "bdata": "NS0Bvjdr3r1S1MK9TeHIvQ==",
          "dtype": "f4"
         },
         "yaxis": "y"
        },
        {
         "customdata": [
          [
           "mastoid"
          ],
          [
           "sphenoid"
          ]
         ],
         "hovertemplate": "color=cranioanatomy<br>x=%{x}<br>y=%{y}<br>keyword=%{customdata[0]}<extra></extra>",
         "legendgroup": "cranioanatomy",
         "marker": {
          "color": "#EF553B",
          "symbol": "circle"
         },
         "mode": "markers",
         "name": "cranioanatomy",
         "showlegend": true,
         "type": "scattergl",
         "x": {
          "bdata": "FZf0QMF6h0A=",
          "dtype": "f4"
         },
         "xaxis": "x",
         "y": {
          "bdata": "dgsUQeFiYEA=",
          "dtype": "f4"
         },
         "yaxis": "y"
        },
        {
         "customdata": [
          [
           "paleoenvironmental"
          ],
          [
           "paleoecological"
          ],
          [
           "ecological"
          ],
          [
           "ecology"
          ],
          [
           "ecosystems"
          ],
          [
           "ecosystem"
          ]
         ],
         "hovertemplate": "color=paleoclimate<br>x=%{x}<br>y=%{y}<br>keyword=%{customdata[0]}<extra></extra>",
         "legendgroup": "paleoclimate",
         "marker": {
          "color": "#00cc96",
          "symbol": "circle"
         },
         "mode": "markers",
         "name": "paleoclimate",
         "showlegend": true,
         "type": "scattergl",
         "x": {
          "bdata": "04PRQLxdUkHc4VJBQSRTQVaOU0HWbFNB",
          "dtype": "f4"
         },
         "xaxis": "x",
         "y": {
          "bdata": "hMezv9RFDECY4g1AIO8OQFdSEUBtfRFA",
          "dtype": "f4"
         },
         "yaxis": "y"
        },
        {
         "customdata": [
          [
           "photosynthesis"
          ],
          [
           "photosynthetic"
          ],
          [
           "photosynthesize"
          ]
         ],
         "hovertemplate": "color=photoautotrophy<br>x=%{x}<br>y=%{y}<br>keyword=%{customdata[0]}<extra></extra>",
         "legendgroup": "photoautotrophy",
         "marker": {
          "color": "#ab63fa",
          "symbol": "circle"
         },
         "mode": "markers",
         "name": "photoautotrophy",
         "showlegend": true,
         "type": "scattergl",
         "x": {
          "bdata": "LZp0QRfHdEGNLnVB",
          "dtype": "f4"
         },
         "xaxis": "x",
         "y": {
          "bdata": "HSNbQAssWUDfGVlA",
          "dtype": "f4"
         },
         "yaxis": "y"
        },
        {
         "customdata": [
          [
           "mammals"
          ],
          [
           "animals"
          ],
          [
           "mammalian"
          ],
          [
           "mammal"
          ]
         ],
         "hovertemplate": "color=thermoregulation<br>x=%{x}<br>y=%{y}<br>keyword=%{customdata[0]}<extra></extra>",
         "legendgroup": "thermoregulation",
         "marker": {
          "color": "#FFA15A",
          "symbol": "circle"
         },
         "mode": "markers",
         "name": "thermoregulation",
         "showlegend": true,
         "type": "scattergl",
         "x": {
          "bdata": "zwwYQT0SGkE4ehdBuiwXQQ==",
          "dtype": "f4"
         },
         "xaxis": "x",
         "y": {
          "bdata": "qO2AwN+yZsD0SYTApVuGwA==",
          "dtype": "f4"
         },
         "yaxis": "y"
        },
        {
         "customdata": [
          [
           "hyperopic"
          ],
          [
           "hypermetropia"
          ],
          [
           "nearsightedness"
          ],
          [
           "glaucoma"
          ],
          [
           "hyperopia"
          ],
          [
           "myopia"
          ]
         ],
         "hovertemplate": "color=optometry<br>x=%{x}<br>y=%{y}<br>keyword=%{customdata[0]}<extra></extra>",
         "legendgroup": "optometry",
         "marker": {
          "color": "#19d3f3",
          "symbol": "circle"
         },
         "mode": "markers",
         "name": "optometry",
         "showlegend": true,
         "type": "scattergl",
         "x": {
          "bdata": "U3dNQYn+TUGXLk1BuABOQT3ZTUGL3E1B",
          "dtype": "f4"
         },
         "xaxis": "x",
         "y": {
          "bdata": "tsEBQdvhAUE/iwBB6kQAQamsAUGqVQFB",
          "dtype": "f4"
         },
         "yaxis": "y"
        },
        {
         "customdata": [
          [
           "biofuels"
          ],
          [
           "biomass"
          ],
          [
           "bioenergy"
          ]
         ],
         "hovertemplate": "color=pyrolysis<br>x=%{x}<br>y=%{y}<br>keyword=%{customdata[0]}<extra></extra>",
         "legendgroup": "pyrolysis",
         "marker": {
          "color": "#FF6692",
          "symbol": "circle"
         },
         "mode": "markers",
         "name": "pyrolysis",
         "showlegend": true,
         "type": "scattergl",
         "x": {
          "bdata": "DzxWQdOAVUGr3lRB",
          "dtype": "f4"
         },
         "xaxis": "x",
         "y": {
          "bdata": "5xlbQI2lV0CJ6GZA",
          "dtype": "f4"
         },
         "yaxis": "y"
        },
        {
         "customdata": [
          [
           "femur"
          ],
          [
           "feet"
          ]
         ],
         "hovertemplate": "color=locomotion<br>x=%{x}<br>y=%{y}<br>keyword=%{customdata[0]}<extra></extra>",
         "legendgroup": "locomotion",
         "marker": {
          "color": "#B6E880",
          "symbol": "circle"
         },
         "mode": "markers",
         "name": "locomotion",
         "showlegend": true,
         "type": "scattergl",
         "x": {
          "bdata": "jckHQXUHBkE=",
          "dtype": "f4"
         },
         "xaxis": "x",
         "y": {
          "bdata": "/6wmQC7jFEA=",
          "dtype": "f4"
         },
         "yaxis": "y"
        },
        {
         "customdata": [
          [
           "monogamy"
          ],
          [
           "monogyny"
          ],
          [
           "polygynous"
          ],
          [
           "monogynists"
          ]
         ],
         "hovertemplate": "color=sociobiology<br>x=%{x}<br>y=%{y}<br>keyword=%{customdata[0]}<extra></extra>",
         "legendgroup": "sociobiology",
         "marker": {
          "color": "#FF97FF",
          "symbol": "circle"
         },
         "mode": "markers",
         "name": "sociobiology",
         "showlegend": true,
         "type": "scattergl",
         "x": {
          "bdata": "X3hBQXGXQUGSIEFBKoBBQQ==",
          "dtype": "f4"
         },
         "xaxis": "x",
         "y": {
          "bdata": "Rd1vv2akar8BT3W/8TBvvw==",
          "dtype": "f4"
         },
         "yaxis": "y"
        },
        {
         "customdata": [
          [
           "fluorophores"
          ],
          [
           "luminescence"
          ],
          [
           "bioluminescent"
          ],
          [
           "fluorescence"
          ],
          [
           "bioluminescence"
          ],
          [
           "photophores"
          ],
          [
           "fluorescent"
          ]
         ],
         "hovertemplate": "color=photospectrometry<br>x=%{x}<br>y=%{y}<br>keyword=%{customdata[0]}<extra></extra>",
         "legendgroup": "photospectrometry",
         "marker": {
          "color": "#FECB52",
          "symbol": "circle"
         },
         "mode": "markers",
         "name": "photospectrometry",
         "showlegend": true,
         "type": "scattergl",
         "x": {
          "bdata": "UHtwQUc2cUEpLnFBLZNwQUMecUHl4m9BdRBxQQ==",
          "dtype": "f4"
         },
         "xaxis": "x",
         "y": {
          "bdata": "H4q2QJO2tkDHSrZABRS4QIqUtUDCu7lAC3y3QA==",
          "dtype": "f4"
         },
         "yaxis": "y"
        },
        {
         "customdata": [
          [
           "refractive"
          ],
          [
           "eyes"
          ],
          [
           "optics"
          ],
          [
           "glasses"
          ],
          [
           "sight"
          ],
          [
           "lens"
          ],
          [
           "eye"
          ],
          [
           "lenses"
          ],
          [
           "optic"
          ],
          [
           "eyeglasses"
          ],
          [
           "optical"
          ]
         ],
         "hovertemplate": "color=refraction<br>x=%{x}<br>y=%{y}<br>keyword=%{customdata[0]}<extra></extra>",
         "legendgroup": "refraction",
         "marker": {
          "color": "#636efa",
          "symbol": "circle"
         },
         "mode": "markers",
         "name": "refraction",
         "showlegend": true,
         "type": "scattergl",
         "x": {
          "bdata": "uI1LQQ1GSkEPAEtB0s5KQYSKSUHH9UpBEmhLQZT3SUGpTEtBsVRKQVQiS0E=",
          "dtype": "f4"
         },
         "xaxis": "x",
         "y": {
          "bdata": "ab35QCSy9kCqtfhA5zf5QPZm+EC5pvhAYD/2QOra90B+s/RARf/4QGOG9kA=",
          "dtype": "f4"
         },
         "yaxis": "y"
        },
        {
         "customdata": [
          [
           "keratins"
          ],
          [
           "keratinization"
          ],
          [
           "keratinase"
          ],
          [
           "keratinized"
          ],
          [
           "keratinocytes"
          ],
          [
           "keratinolytic"
          ],
          [
           "keratin"
          ],
          [
           "keratinous"
          ],
          [
           "collagen"
          ],
          [
           "keratinize"
          ],
          [
           "keratinocyte"
          ]
         ],
         "hovertemplate": "color=fibroproliferation<br>x=%{x}<br>y=%{y}<br>keyword=%{customdata[0]}<extra></extra>",
         "legendgroup": "fibroproliferation",
         "marker": {
          "color": "#EF553B",
          "symbol": "circle"
         },
         "mode": "markers",
         "name": "fibroproliferation",
         "showlegend": true,
         "type": "scattergl",
         "x": {
          "bdata": "wUeZQDeAmkCwyZpAXduZQM0EmkByEptAceuaQPX0mkAun51AvT2ZQCEImEA=",
          "dtype": "f4"
         },
         "xaxis": "x",
         "y": {
          "bdata": "eee3QNGvuECYh7hAlt24QLOCuEBIeblA7tq5QP9DuEB1H7xAJEG3QCKQt0A=",
          "dtype": "f4"
         },
         "yaxis": "y"
        },
        {
         "customdata": [
          [
           "corallites"
          ],
          [
           "coral"
          ],
          [
           "corals"
          ],
          [
           "corallite"
          ]
         ],
         "hovertemplate": "color=cnidarian<br>x=%{x}<br>y=%{y}<br>keyword=%{customdata[0]}<extra></extra>",
         "legendgroup": "cnidarian",
         "marker": {
          "color": "#00cc96",
          "symbol": "circle"
         },
         "mode": "markers",
         "name": "cnidarian",
         "showlegend": true,
         "type": "scattergl",
         "x": {
          "bdata": "DWsCQZL0AkHrlwNBtoMCQQ==",
          "dtype": "f4"
         },
         "xaxis": "x",
         "y": {
          "bdata": "IT7/v7c/AsCVTgPA0s/9vw==",
          "dtype": "f4"
         },
         "yaxis": "y"
        },
        {
         "customdata": [
          [
           "endotoxins"
          ],
          [
           "dinotoxins"
          ],
          [
           "neurotoxicity"
          ],
          [
           "neurotoxin"
          ],
          [
           "brevetoxins"
          ],
          [
           "toxin"
          ],
          [
           "cyanotoxin"
          ],
          [
           "neurotoxins"
          ],
          [
           "toxins"
          ],
          [
           "cyanotoxins"
          ],
          [
           "microcystins"
          ],
          [
           "toxicity"
          ],
          [
           "endotoxin"
          ],
          [
           "palytoxin"
          ],
          [
           "exotoxins"
          ]
         ],
         "hovertemplate": "color=toxicodynamics<br>x=%{x}<br>y=%{y}<br>keyword=%{customdata[0]}<extra></extra>",
         "legendgroup": "toxicodynamics",
         "marker": {
          "color": "#ab63fa",
          "symbol": "circle"
         },
         "mode": "markers",
         "name": "toxicodynamics",
         "showlegend": true,
         "type": "scattergl",
         "x": {
          "bdata": "Jy4/QYZ0PkE/bj5B4U0/QRqOPkEGcj5BHKQ+QUrIPUGA9D1BIK4+QT7tPkETRT5BpEU/QZShPkGOlz5B",
          "dtype": "f4"
         },
         "xaxis": "x",
         "y": {
          "bdata": "kpT9wK8S/MAR5/vAdmD9wM1H/MDt4fvA52/8wEua+sCn7/rA1oD8wLYG/cArnfvAu8n9wHdr/MAoVPzA",
          "dtype": "f4"
         },
         "yaxis": "y"
        },
        {
         "customdata": [
          [
           "chemoreception"
          ],
          [
           "chemoreceptionary"
          ],
          [
           "chemoreceptor"
          ],
          [
           "chemoreceptors"
          ]
         ],
         "hovertemplate": "color=chemosensory<br>x=%{x}<br>y=%{y}<br>keyword=%{customdata[0]}<extra></extra>",
         "legendgroup": "chemosensory",
         "marker": {
          "color": "#FFA15A",
          "symbol": "circle"
         },
         "mode": "markers",
         "name": "chemosensory",
         "showlegend": true,
         "type": "scattergl",
         "x": {
          "bdata": "uzsRQZPxEEGEIhFBW/cQQQ==",
          "dtype": "f4"
         },
         "xaxis": "x",
         "y": {
          "bdata": "eCUzQVAjM0GQKDNBch0zQQ==",
          "dtype": "f4"
         },
         "yaxis": "y"
        },
        {
         "customdata": [
          [
           "hearing"
          ],
          [
           "auditory"
          ],
          [
           "acoustic"
          ],
          [
           "audibility"
          ]
         ],
         "hovertemplate": "color=audiometry<br>x=%{x}<br>y=%{y}<br>keyword=%{customdata[0]}<extra></extra>",
         "legendgroup": "audiometry",
         "marker": {
          "color": "#19d3f3",
          "symbol": "circle"
         },
         "mode": "markers",
         "name": "audiometry",
         "showlegend": true,
         "type": "scattergl",
         "x": {
          "bdata": "b3IAQRE9AUFQ5AJBzcQAQQ==",
          "dtype": "f4"
         },
         "xaxis": "x",
         "y": {
          "bdata": "17oVQTwvFEGYGxJBJL0UQQ==",
          "dtype": "f4"
         },
         "yaxis": "y"
        },
        {
         "customdata": [
          [
           "daphniidae"
          ],
          [
           "daphni"
          ],
          [
           "daphnias"
          ],
          [
           "daphniid"
          ]
         ],
         "hovertemplate": "color=cladoceran<br>x=%{x}<br>y=%{y}<br>keyword=%{customdata[0]}<extra></extra>",
         "legendgroup": "cladoceran",
         "marker": {
          "color": "#FF6692",
          "symbol": "circle"
         },
         "mode": "markers",
         "name": "cladoceran",
         "showlegend": true,
         "type": "scattergl",
         "x": {
          "bdata": "WdwTQUciE0GpJBNBGnwTQQ==",
          "dtype": "f4"
         },
         "xaxis": "x",
         "y": {
          "bdata": "HlwEwIYZB8BSowPAgsUFwA==",
          "dtype": "f4"
         },
         "yaxis": "y"
        },
        {
         "customdata": [
          [
           "vibrations"
          ],
          [
           "vibrational"
          ],
          [
           "vibrate"
          ],
          [
           "vibration"
          ],
          [
           "vibratory"
          ],
          [
           "vibrates"
          ],
          [
           "vibrating"
          ]
         ],
         "hovertemplate": "color=oscillations<br>x=%{x}<br>y=%{y}<br>keyword=%{customdata[0]}<extra></extra>",
         "legendgroup": "oscillations",
         "marker": {
          "color": "#B6E880",
          "symbol": "circle"
         },
         "mode": "markers",
         "name": "oscillations",
         "showlegend": true,
         "type": "scattergl",
         "x": {
          "bdata": "AAUEQVysA0GiuANBEsMDQZZkA0E9FQRBB3cDQQ==",
          "dtype": "f4"
         },
         "xaxis": "x",
         "y": {
          "bdata": "lJMCQQnyAUGoHAJBAw0CQfyoAUEmggJB2poBQQ==",
          "dtype": "f4"
         },
         "yaxis": "y"
        },
        {
         "customdata": [
          [
           "moulted"
          ],
          [
           "premoult"
          ],
          [
           "moulting"
          ],
          [
           "molting"
          ],
          [
           "moults"
          ],
          [
           "molts"
          ],
          [
           "moult"
          ]
         ],
         "hovertemplate": "color=ecdysis<br>x=%{x}<br>y=%{y}<br>keyword=%{customdata[0]}<extra></extra>",
         "legendgroup": "ecdysis",
         "marker": {
          "color": "#FF97FF",
          "symbol": "circle"
         },
         "mode": "markers",
         "name": "ecdysis",
         "showlegend": true,
         "type": "scattergl",
         "x": {
          "bdata": "+6AdQZkEHkFtVB5BTYAeQcL8HUHcJh5Bzq0dQQ==",
          "dtype": "f4"
         },
         "xaxis": "x",
         "y": {
          "bdata": "UjgLQGYgCkBdzQ5AKFkPQIsQCkCbrgtAG34KQA==",
          "dtype": "f4"
         },
         "yaxis": "y"
        },
        {
         "customdata": [
          [
           "frigatebirds"
          ],
          [
           "geese"
          ],
          [
           "seagull"
          ],
          [
           "seabird"
          ],
          [
           "frigatebird"
          ],
          [
           "gulls"
          ],
          [
           "seagulls"
          ],
          [
           "seabirds"
          ],
          [
           "peregrine"
          ]
         ],
         "hovertemplate": "color=gliding<br>x=%{x}<br>y=%{y}<br>keyword=%{customdata[0]}<extra></extra>",
         "legendgroup": "gliding",
         "marker": {
          "color": "#FECB52",
          "symbol": "circle"
         },
         "mode": "markers",
         "name": "gliding",
         "showlegend": true,
         "type": "scattergl",
         "x": {
          "bdata": "Y7k6QQTLOUF/BztBE9I6QdFlO0E3SDpBS+U6QWM6O0FktzlB",
          "dtype": "f4"
         },
         "xaxis": "x",
         "y": {
          "bdata": "/9EbwON1HsCRcxzAAnoZwIkqGcBPhhrAqyQcwHC+GMAqKyDA",
          "dtype": "f4"
         },
         "yaxis": "y"
        },
        {
         "customdata": [
          [
           "modeling"
          ],
          [
           "modeler"
          ],
          [
           "modeled"
          ],
          [
           "models"
          ],
          [
           "modelled"
          ],
          [
           "model"
          ],
          [
           "modelling"
          ]
         ],
         "hovertemplate": "color=simulation<br>x=%{x}<br>y=%{y}<br>keyword=%{customdata[0]}<extra></extra>",
         "legendgroup": "simulation",
         "marker": {
          "color": "#636efa",
          "symbol": "circle"
         },
         "mode": "markers",
         "name": "simulation",
         "showlegend": true,
         "type": "scattergl",
         "x": {
          "bdata": "bQMRQVXoEEFZ1hBBZ0wRQWHjEEHUMBFB8YwQQQ==",
          "dtype": "f4"
         },
         "xaxis": "x",
         "y": {
          "bdata": "GzaSQCT9kUBDPZFANDGSQEdekUDf75FAg1qSQA==",
          "dtype": "f4"
         },
         "yaxis": "y"
        },
        {
         "customdata": [
          [
           "dinospores"
          ],
          [
           "conidiophores"
          ],
          [
           "zygospores"
          ],
          [
           "spores"
          ],
          [
           "ascospores"
          ],
          [
           "zoospores"
          ],
          [
           "ascospore"
          ]
         ],
         "hovertemplate": "color=sporogenesis<br>x=%{x}<br>y=%{y}<br>keyword=%{customdata[0]}<extra></extra>",
         "legendgroup": "sporogenesis",
         "marker": {
          "color": "#EF553B",
          "symbol": "circle"
         },
         "mode": "markers",
         "name": "sporogenesis",
         "showlegend": true,
         "type": "scattergl",
         "x": {
          "bdata": "n+9RQFn2UkBTW1JAMBZPQIb5VUDzilFAINdSQA==",
          "dtype": "f4"
         },
         "xaxis": "x",
         "y": {
          "bdata": "fLQFwAO5BcBupAXAFD8FwGRtBMBmcQbAk2EHwA==",
          "dtype": "f4"
         },
         "yaxis": "y"
        },
        {
         "customdata": [
          [
           "mathematics"
          ],
          [
           "mathematicians"
          ],
          [
           "mathematical"
          ],
          [
           "mathematically"
          ]
         ],
         "hovertemplate": "color=topology<br>x=%{x}<br>y=%{y}<br>keyword=%{customdata[0]}<extra></extra>",
         "legendgroup": "topology",
         "marker": {
          "color": "#00cc96",
          "symbol": "circle"
         },
         "mode": "markers",
         "name": "topology",
         "showlegend": true,
         "type": "scattergl",
         "x": {
          "bdata": "clIZQfVeGUFKWhlBHIwZQQ==",
          "dtype": "f4"
         },
         "xaxis": "x",
         "y": {
          "bdata": "A2qeQMM+nkAoWZ1A9qudQA==",
          "dtype": "f4"
         },
         "yaxis": "y"
        },
        {
         "customdata": [
          [
           "pineal"
          ],
          [
           "hypothalamus"
          ],
          [
           "suprachiasmatic"
          ]
         ],
         "hovertemplate": "color=chronobiology<br>x=%{x}<br>y=%{y}<br>keyword=%{customdata[0]}<extra></extra>",
         "legendgroup": "chronobiology",
         "marker": {
          "color": "#ab63fa",
          "symbol": "circle"
         },
         "mode": "markers",
         "name": "chronobiology",
         "showlegend": true,
         "type": "scattergl",
         "x": {
          "bdata": "MTuUQMP0lEA16JJA",
          "dtype": "f4"
         },
         "xaxis": "x",
         "y": {
          "bdata": "/C0IQWRrB0HEdQdB",
          "dtype": "f4"
         },
         "yaxis": "y"
        },
        {
         "customdata": [
          [
           "salmons"
          ],
          [
           "mackerel"
          ],
          [
           "salmon"
          ]
         ],
         "hovertemplate": "color=ichthyology<br>x=%{x}<br>y=%{y}<br>keyword=%{customdata[0]}<extra></extra>",
         "legendgroup": "ichthyology",
         "marker": {
          "color": "#FFA15A",
          "symbol": "circle"
         },
         "mode": "markers",
         "name": "ichthyology",
         "showlegend": true,
         "type": "scattergl",
         "x": {
          "bdata": "kWEKQZgQCkE/3QpB",
          "dtype": "f4"
         },
         "xaxis": "x",
         "y": {
          "bdata": "hQNDwGxtPsA+Uz/A",
          "dtype": "f4"
         },
         "yaxis": "y"
        },
        {
         "customdata": [
          [
           "myelinated"
          ],
          [
           "myelination"
          ],
          [
           "myelin"
          ]
         ],
         "hovertemplate": "color=oligodendrocyte<br>x=%{x}<br>y=%{y}<br>keyword=%{customdata[0]}<extra></extra>",
         "legendgroup": "oligodendrocyte",
         "marker": {
          "color": "#19d3f3",
          "symbol": "circle"
         },
         "mode": "markers",
         "name": "oligodendrocyte",
         "showlegend": true,
         "type": "scattergl",
         "x": {
          "bdata": "V214QLZad0DCy3dA",
          "dtype": "f4"
         },
         "xaxis": "x",
         "y": {
          "bdata": "tyESQZ4sEkFvahJB",
          "dtype": "f4"
         },
         "yaxis": "y"
        },
        {
         "customdata": [
          [
           "maxilloturbinates"
          ],
          [
           "nasoturbinals"
          ],
          [
           "turbinates"
          ],
          [
           "maxilloturbinals"
          ],
          [
           "maxilloturbinate"
          ],
          [
           "turbinals"
          ],
          [
           "nasoturbinates"
          ]
         ],
         "hovertemplate": "color=conchology<br>x=%{x}<br>y=%{y}<br>keyword=%{customdata[0]}<extra></extra>",
         "legendgroup": "conchology",
         "marker": {
          "color": "#FF6692",
          "symbol": "circle"
         },
         "mode": "markers",
         "name": "conchology",
         "showlegend": true,
         "type": "scattergl",
         "x": {
          "bdata": "cWCQQFNtj0BYlJFAey2RQKSHjUDO8ZFA7H6MQA==",
          "dtype": "f4"
         },
         "xaxis": "x",
         "y": {
          "bdata": "mABPQGDOTkBMKk1A6OJNQBgNU0C4qUxAqDRUQA==",
          "dtype": "f4"
         },
         "yaxis": "y"
        },
        {
         "customdata": [
          [
           "sleeps"
          ],
          [
           "wakefulness"
          ],
          [
           "sleep"
          ],
          [
           "asleep"
          ],
          [
           "drowsiness"
          ],
          [
           "napping"
          ],
          [
           "sleeping"
          ]
         ],
         "hovertemplate": "color=somnology<br>x=%{x}<br>y=%{y}<br>keyword=%{customdata[0]}<extra></extra>",
         "legendgroup": "somnology",
         "marker": {
          "color": "#B6E880",
          "symbol": "circle"
         },
         "mode": "markers",
         "name": "somnology",
         "showlegend": true,
         "type": "scattergl",
         "x": {
          "bdata": "+f4DQFT5AkBa5gJALKEDQN+gAkDH/wNAF3cDQA==",
          "dtype": "f4"
         },
         "xaxis": "x",
         "y": {
          "bdata": "BqopQJ+6KEBXwihAEG4pQMNwKEAH4SlA9EIpQA==",
          "dtype": "f4"
         },
         "yaxis": "y"
        },
        {
         "customdata": [
          [
           "migratory"
          ],
          [
           "migrants"
          ],
          [
           "migrating"
          ],
          [
           "migration"
          ]
         ],
         "hovertemplate": "color=phenology<br>x=%{x}<br>y=%{y}<br>keyword=%{customdata[0]}<extra></extra>",
         "legendgroup": "phenology",
         "marker": {
          "color": "#FF97FF",
          "symbol": "circle"
         },
         "mode": "markers",
         "name": "phenology",
         "showlegend": true,
         "type": "scattergl",
         "x": {
          "bdata": "cd02QQFXNkERajZBFBY2QQ==",
          "dtype": "f4"
         },
         "xaxis": "x",
         "y": {
          "bdata": "eJ5PwOa9VMAPDVLAvlFUwA==",
          "dtype": "f4"
         },
         "yaxis": "y"
        },
        {
         "customdata": [
          [
           "pollinator"
          ],
          [
           "pollinators"
          ],
          [
           "pollination"
          ]
         ],
         "hovertemplate": "color=entomophily<br>x=%{x}<br>y=%{y}<br>keyword=%{customdata[0]}<extra></extra>",
         "legendgroup": "entomophily",
         "marker": {
          "color": "#FECB52",
          "symbol": "circle"
         },
         "mode": "markers",
         "name": "entomophily",
         "showlegend": true,
         "type": "scattergl",
         "x": {
          "bdata": "vHgxQc6QMkH++TVB",
          "dtype": "f4"
         },
         "xaxis": "x",
         "y": {
          "bdata": "SP29vx4LtL/Htae/",
          "dtype": "f4"
         },
         "yaxis": "y"
        },
        {
         "customdata": [
          [
           "pregnancy"
          ],
          [
           "womb"
          ],
          [
           "gestation"
          ]
         ],
         "hovertemplate": "color=placentation<br>x=%{x}<br>y=%{y}<br>keyword=%{customdata[0]}<extra></extra>",
         "legendgroup": "placentation",
         "marker": {
          "color": "#636efa",
          "symbol": "circle"
         },
         "mode": "markers",
         "name": "placentation",
         "showlegend": true,
         "type": "scattergl",
         "x": {
          "bdata": "7AxAQeaVQEF1qj9B",
          "dtype": "f4"
         },
         "xaxis": "x",
         "y": {
          "bdata": "svmFPrqRiD57y3g+",
          "dtype": "f4"
         },
         "yaxis": "y"
        },
        {
         "customdata": [
          [
           "morphogenetic"
          ],
          [
           "morphologies"
          ],
          [
           "morphogen"
          ],
          [
           "morphogens"
          ],
          [
           "morphogenesis"
          ]
         ],
         "hovertemplate": "color=morphometry<br>x=%{x}<br>y=%{y}<br>keyword=%{customdata[0]}<extra></extra>",
         "legendgroup": "morphometry",
         "marker": {
          "color": "#EF553B",
          "symbol": "circle"
         },
         "mode": "markers",
         "name": "morphometry",
         "showlegend": true,
         "type": "scattergl",
         "x": {
          "bdata": "TrEfQQiyHkE4tB9BL+oeQS/UH0E=",
          "dtype": "f4"
         },
         "xaxis": "x",
         "y": {
          "bdata": "zr9eQMG/aEB0yFxAP+pgQMi9XEA=",
          "dtype": "f4"
         },
         "yaxis": "y"
        },
        {
         "customdata": [
          [
           "mollusks"
          ],
          [
           "mussel"
          ],
          [
           "molluscs"
          ],
          [
           "mollusk"
          ],
          [
           "molluscan"
          ]
         ],
         "hovertemplate": "color=malacology<br>x=%{x}<br>y=%{y}<br>keyword=%{customdata[0]}<extra></extra>",
         "legendgroup": "malacology",
         "marker": {
          "color": "#00cc96",
          "symbol": "circle"
         },
         "mode": "markers",
         "name": "malacology",
         "showlegend": true,
         "type": "scattergl",
         "x": {
          "bdata": "KMYMQb0ADEFPawxBh6oLQUrRC0E=",
          "dtype": "f4"
         },
         "xaxis": "x",
         "y": {
          "bdata": "h0kqwIarJcCrhyXAlp0nwKYrJcA=",
          "dtype": "f4"
         },
         "yaxis": "y"
        },
        {
         "customdata": [
          [
           "resonating"
          ],
          [
           "resonance"
          ],
          [
           "resonant"
          ],
          [
           "resonators"
          ],
          [
           "resonates"
          ],
          [
           "resonator"
          ],
          [
           "resonances"
          ],
          [
           "oscillation"
          ],
          [
           "resonate"
          ]
         ],
         "hovertemplate": "color=harmonics<br>x=%{x}<br>y=%{y}<br>keyword=%{customdata[0]}<extra></extra>",
         "legendgroup": "harmonics",
         "marker": {
          "color": "#ab63fa",
          "symbol": "circle"
         },
         "mode": "markers",
         "name": "harmonics",
         "showlegend": true,
         "type": "scattergl",
         "x": {
          "bdata": "TTMHQX4uB0H7ggdBUJ4IQa0dB0Eq5AdBzbgHQU0HBkF5ZgdB",
          "dtype": "f4"
         },
         "xaxis": "x",
         "y": {
          "bdata": "nZ0JQUw3CUHQTwlBYMUIQdDcCUE0fQhBbdMIQQ5sBUEccQlB",
          "dtype": "f4"
         },
         "yaxis": "y"
        },
        {
         "customdata": [
          [
           "breeding"
          ],
          [
           "mating"
          ]
         ],
         "hovertemplate": "color=gametogenesis<br>x=%{x}<br>y=%{y}<br>keyword=%{customdata[0]}<extra></extra>",
         "legendgroup": "gametogenesis",
         "marker": {
          "color": "#FFA15A",
          "symbol": "circle"
         },
         "mode": "markers",
         "name": "gametogenesis",
         "showlegend": true,
         "type": "scattergl",
         "x": {
          "bdata": "olA/QQINQEE=",
          "dtype": "f4"
         },
         "xaxis": "x",
         "y": {
          "bdata": "85qMv2lyg78=",
          "dtype": "f4"
         },
         "yaxis": "y"
        },
        {
         "customdata": [
          [
           "arteries"
          ],
          [
           "aorta"
          ],
          [
           "arterial"
          ],
          [
           "arteriovenous"
          ],
          [
           "artery"
          ]
         ],
         "hovertemplate": "color=vasculature<br>x=%{x}<br>y=%{y}<br>keyword=%{customdata[0]}<extra></extra>",
         "legendgroup": "vasculature",
         "marker": {
          "color": "#19d3f3",
          "symbol": "circle"
         },
         "mode": "markers",
         "name": "vasculature",
         "showlegend": true,
         "type": "scattergl",
         "x": {
          "bdata": "iqztPrO37T4//ds+h/HyPh0B1z4=",
          "dtype": "f4"
         },
         "xaxis": "x",
         "y": {
          "bdata": "P4iqQPVTq0CbQqpAMuOqQAL4qUA=",
          "dtype": "f4"
         },
         "yaxis": "y"
        },
        {
         "customdata": [
          [
           "tentacled"
          ],
          [
           "tentacles"
          ],
          [
           "tentacle"
          ]
         ],
         "hovertemplate": "color=cephalopod<br>x=%{x}<br>y=%{y}<br>keyword=%{customdata[0]}<extra></extra>",
         "legendgroup": "cephalopod",
         "marker": {
          "color": "#FF6692",
          "symbol": "circle"
         },
         "mode": "markers",
         "name": "cephalopod",
         "showlegend": true,
         "type": "scattergl",
         "x": {
          "bdata": "wD0CQQysA0E1PwNB",
          "dtype": "f4"
         },
         "xaxis": "x",
         "y": {
          "bdata": "2Ti+P5dFxj/1Y8g/",
          "dtype": "f4"
         },
         "yaxis": "y"
        },
        {
         "customdata": [
          [
           "adaptions"
          ],
          [
           "adaptation"
          ],
          [
           "adaptations"
          ],
          [
           "alterations"
          ]
         ],
         "hovertemplate": "color=phenotypic plasticity<br>x=%{x}<br>y=%{y}<br>keyword=%{customdata[0]}<extra></extra>",
         "legendgroup": "phenotypic plasticity",
         "marker": {
          "color": "#B6E880",
          "symbol": "circle"
         },
         "mode": "markers",
         "name": "phenotypic plasticity",
         "showlegend": true,
         "type": "scattergl",
         "x": {
          "bdata": "5h0eQY4GH0Emhx5BAnQdQQ==",
          "dtype": "f4"
         },
         "xaxis": "x",
         "y": {
          "bdata": "hawyQBBSLkBiFjFA1C40QA==",
          "dtype": "f4"
         },
         "yaxis": "y"
        },
        {
         "customdata": [
          [
           "necrophagy"
          ],
          [
           "necrophilous"
          ],
          [
           "detritus"
          ],
          [
           "necrophagous"
          ]
         ],
         "hovertemplate": "color=saprophagy<br>x=%{x}<br>y=%{y}<br>keyword=%{customdata[0]}<extra></extra>",
         "legendgroup": "saprophagy",
         "marker": {
          "color": "#FF97FF",
          "symbol": "circle"
         },
         "mode": "markers",
         "name": "saprophagy",
         "showlegend": true,
         "type": "scattergl",
         "x": {
          "bdata": "B4lTQUBXU0Gg61NBTsZTQQ==",
          "dtype": "f4"
         },
         "xaxis": "x",
         "y": {
          "bdata": "gLhBQOmJP0CZhT9AiqVCQA==",
          "dtype": "f4"
         },
         "yaxis": "y"
        },
        {
         "customdata": [
          [
           "xanthophylls"
          ],
          [
           "chloroplast"
          ],
          [
           "xanthophyll"
          ],
          [
           "chlorophylls"
          ],
          [
           "thylakoid"
          ],
          [
           "xanthophore"
          ],
          [
           "chlorophyll"
          ]
         ],
         "hovertemplate": "color=carotenoid<br>x=%{x}<br>y=%{y}<br>keyword=%{customdata[0]}<extra></extra>",
         "legendgroup": "carotenoid",
         "marker": {
          "color": "#FECB52",
          "symbol": "circle"
         },
         "mode": "markers",
         "name": "carotenoid",
         "showlegend": true,
         "type": "scattergl",
         "x": {
          "bdata": "n95sQf4GcUHuOm1BoQJwQdNKcEFFYW1BGXZvQQ==",
          "dtype": "f4"
         },
         "xaxis": "x",
         "y": {
          "bdata": "zn2kQMxqmEC2g6JA9KmbQEA9mUDIvqdApfqaQA==",
          "dtype": "f4"
         },
         "yaxis": "y"
        },
        {
         "customdata": [
          [
           "pigment"
          ],
          [
           "coloration"
          ],
          [
           "colouration"
          ],
          [
           "pigmentations"
          ],
          [
           "coloured"
          ],
          [
           "colourations"
          ]
         ],
         "hovertemplate": "color=biochromatics<br>x=%{x}<br>y=%{y}<br>keyword=%{customdata[0]}<extra></extra>",
         "legendgroup": "biochromatics",
         "marker": {
          "color": "#636efa",
          "symbol": "circle"
         },
         "mode": "markers",
         "name": "biochromatics",
         "showlegend": true,
         "type": "scattergl",
         "x": {
          "bdata": "Nt5ZQbHuWUHZ91lBk/pYQYX7WUFmvllB",
          "dtype": "f4"
         },
         "xaxis": "x",
         "y": {
          "bdata": "7bfRQHyu0EDvqc9A59PRQBMh0EA6Rs9A",
          "dtype": "f4"
         },
         "yaxis": "y"
        },
        {
         "customdata": [
          [
           "glycocalyx"
          ],
          [
           "glycogen"
          ]
         ],
         "hovertemplate": "color=glycomics<br>x=%{x}<br>y=%{y}<br>keyword=%{customdata[0]}<extra></extra>",
         "legendgroup": "glycomics",
         "marker": {
          "color": "#EF553B",
          "symbol": "circle"
         },
         "mode": "markers",
         "name": "glycomics",
         "showlegend": true,
         "type": "scattergl",
         "x": {
          "bdata": "Qda2QMdLtkA=",
          "dtype": "f4"
         },
         "xaxis": "x",
         "y": {
          "bdata": "R0LIQDHMzkA=",
          "dtype": "f4"
         },
         "yaxis": "y"
        },
        {
         "customdata": [
          [
           "echolocators"
          ],
          [
           "echolocate"
          ],
          [
           "chirps"
          ],
          [
           "echolocating"
          ]
         ],
         "hovertemplate": "color=biosonar<br>x=%{x}<br>y=%{y}<br>keyword=%{customdata[0]}<extra></extra>",
         "legendgroup": "biosonar",
         "marker": {
          "color": "#00cc96",
          "symbol": "circle"
         },
         "mode": "markers",
         "name": "biosonar",
         "showlegend": true,
         "type": "scattergl",
         "x": {
          "bdata": "A8YBQS7/AUExkAFBbGMBQQ==",
          "dtype": "f4"
         },
         "xaxis": "x",
         "y": {
          "bdata": "vtENQcNVDUErPg1BCosNQQ==",
          "dtype": "f4"
         },
         "yaxis": "y"
        },
        {
         "customdata": [
          [
           "flocks"
          ],
          [
           "flocking"
          ],
          [
           "swarm"
          ]
         ],
         "hovertemplate": "color=flocking dynamics<br>x=%{x}<br>y=%{y}<br>keyword=%{customdata[0]}<extra></extra>",
         "legendgroup": "flocking dynamics",
         "marker": {
          "color": "#ab63fa",
          "symbol": "circle"
         },
         "mode": "markers",
         "name": "flocking dynamics",
         "showlegend": true,
         "type": "scattergl",
         "x": {
          "bdata": "6HkwQfzRMEFvBDBB",
          "dtype": "f4"
         },
         "xaxis": "x",
         "y": {
          "bdata": "aWjov+ES67+Oj+C/",
          "dtype": "f4"
         },
         "yaxis": "y"
        },
        {
         "customdata": [
          [
           "ciliates"
          ],
          [
           "trichocysts"
          ]
         ],
         "hovertemplate": "color=extrusome<br>x=%{x}<br>y=%{y}<br>keyword=%{customdata[0]}<extra></extra>",
         "legendgroup": "extrusome",
         "marker": {
          "color": "#FFA15A",
          "symbol": "circle"
         },
         "mode": "markers",
         "name": "extrusome",
         "showlegend": true,
         "type": "scattergl",
         "x": {
          "bdata": "kT0LQW/jD0E=",
          "dtype": "f4"
         },
         "xaxis": "x",
         "y": {
          "bdata": "U1pkv+9EZL8=",
          "dtype": "f4"
         },
         "yaxis": "y"
        },
        {
         "customdata": [
          [
           "vasoconstriction"
          ],
          [
           "vasodilate"
          ],
          [
           "vasodilating"
          ],
          [
           "vasodilator"
          ],
          [
           "vasodilation"
          ],
          [
           "vasoconstrict"
          ]
         ],
         "hovertemplate": "color=vasoreactivity<br>x=%{x}<br>y=%{y}<br>keyword=%{customdata[0]}<extra></extra>",
         "legendgroup": "vasoreactivity",
         "marker": {
          "color": "#19d3f3",
          "symbol": "circle"
         },
         "mode": "markers",
         "name": "vasoreactivity",
         "showlegend": true,
         "type": "scattergl",
         "x": {
          "bdata": "hE4WPkdWpD0yZN8932CoPUyXAz7yKDc+",
          "dtype": "f4"
         },
         "xaxis": "x",
         "y": {
          "bdata": "jIqpQEHoqUDTtalAtIeqQPDLqEDEAahA",
          "dtype": "f4"
         },
         "yaxis": "y"
        },
        {
         "customdata": [
          [
           "burrowing"
          ],
          [
           "burrow"
          ],
          [
           "burrows"
          ]
         ],
         "hovertemplate": "color=fossorial<br>x=%{x}<br>y=%{y}<br>keyword=%{customdata[0]}<extra></extra>",
         "legendgroup": "fossorial",
         "marker": {
          "color": "#FF6692",
          "symbol": "circle"
         },
         "mode": "markers",
         "name": "fossorial",
         "showlegend": true,
         "type": "scattergl",
         "x": {
          "bdata": "+18dQWGoHUHLnxtB",
          "dtype": "f4"
         },
         "xaxis": "x",
         "y": {
          "bdata": "oaJawMVpXMBKmFrA",
          "dtype": "f4"
         },
         "yaxis": "y"
        },
        {
         "customdata": [
          [
           "contralateral"
          ],
          [
           "laterality"
          ],
          [
           "lateralized"
          ],
          [
           "lateralization"
          ]
         ],
         "hovertemplate": "color=lateropulsion<br>x=%{x}<br>y=%{y}<br>keyword=%{customdata[0]}<extra></extra>",
         "legendgroup": "lateropulsion",
         "marker": {
          "color": "#B6E880",
          "symbol": "circle"
         },
         "mode": "markers",
         "name": "lateropulsion",
         "showlegend": true,
         "type": "scattergl",
         "x": {
          "bdata": "RqD6QCNf+0CEcvpA4qz6QA==",
          "dtype": "f4"
         },
         "xaxis": "x",
         "y": {
          "bdata": "JpUjQNnUIkAyuyRA8HQjQA==",
          "dtype": "f4"
         },
         "yaxis": "y"
        },
        {
         "customdata": [
          [
           "biologically"
          ],
          [
           "biotic"
          ],
          [
           "biological"
          ],
          [
           "biology"
          ]
         ],
         "hovertemplate": "color=symbiosis<br>x=%{x}<br>y=%{y}<br>keyword=%{customdata[0]}<extra></extra>",
         "legendgroup": "symbiosis",
         "marker": {
          "color": "#FF97FF",
          "symbol": "circle"
         },
         "mode": "markers",
         "name": "symbiosis",
         "showlegend": true,
         "type": "scattergl",
         "x": {
          "bdata": "CttHQWk3TUGQV0hB3Y1HQQ==",
          "dtype": "f4"
         },
         "xaxis": "x",
         "y": {
          "bdata": "4EhAQNlBNkCgTD9ARe89QA==",
          "dtype": "f4"
         },
         "yaxis": "y"
        },
        {
         "customdata": [
          [
           "fibrils"
          ],
          [
           "protofibrils"
          ],
          [
           "protofibril"
          ]
         ],
         "hovertemplate": "color=amyloid<br>x=%{x}<br>y=%{y}<br>keyword=%{customdata[0]}<extra></extra>",
         "legendgroup": "amyloid",
         "marker": {
          "color": "#FECB52",
          "symbol": "circle"
         },
         "mode": "markers",
         "name": "amyloid",
         "showlegend": true,
         "type": "scattergl",
         "x": {
          "bdata": "cAVhQK1tWkC9AFtA",
          "dtype": "f4"
         },
         "xaxis": "x",
         "y": {
          "bdata": "5TvIQBBsyUAbDslA",
          "dtype": "f4"
         },
         "yaxis": "y"
        },
        {
         "customdata": [
          [
           "nematocytes"
          ],
          [
           "nematodes"
          ],
          [
           "nematode"
          ],
          [
           "nematocysts"
          ],
          [
           "nematocyte"
          ],
          [
           "nematocyst"
          ]
         ],
         "hovertemplate": "color=cnidocyte<br>x=%{x}<br>y=%{y}<br>keyword=%{customdata[0]}<extra></extra>",
         "legendgroup": "cnidocyte",
         "marker": {
          "color": "#636efa",
          "symbol": "circle"
         },
         "mode": "markers",
         "name": "cnidocyte",
         "showlegend": true,
         "type": "scattergl",
         "x": {
          "bdata": "og4UQTaIFUEJGxZB3LUTQYuDE0FcMxRB",
          "dtype": "f4"
         },
         "xaxis": "x",
         "y": {
          "bdata": "YO+HvznlmL87Mpy/c9KFv+4FhL8tg4q/",
          "dtype": "f4"
         },
         "yaxis": "y"
        },
        {
         "customdata": [
          [
           "bronchoalveolar"
          ],
          [
           "alveolar"
          ],
          [
           "alveolus"
          ],
          [
           "alveoli"
          ]
         ],
         "hovertemplate": "color=surfactant<br>x=%{x}<br>y=%{y}<br>keyword=%{customdata[0]}<extra></extra>",
         "legendgroup": "surfactant",
         "marker": {
          "color": "#EF553B",
          "symbol": "circle"
         },
         "mode": "markers",
         "name": "surfactant",
         "showlegend": true,
         "type": "scattergl",
         "x": {
          "bdata": "Fmo/QIJnUkBPclFArNhIQA==",
          "dtype": "f4"
         },
         "xaxis": "x",
         "y": {
          "bdata": "GYtRQJ+8VEA4KFNA4QtTQA==",
          "dtype": "f4"
         },
         "yaxis": "y"
        },
        {
         "customdata": [
          [
           "wingspans"
          ],
          [
           "wingspan"
          ],
          [
           "wings"
          ]
         ],
         "hovertemplate": "color=aerodynamics<br>x=%{x}<br>y=%{y}<br>keyword=%{customdata[0]}<extra></extra>",
         "legendgroup": "aerodynamics",
         "marker": {
          "color": "#00cc96",
          "symbol": "circle"
         },
         "mode": "markers",
         "name": "aerodynamics",
         "showlegend": true,
         "type": "scattergl",
         "x": {
          "bdata": "MFs0Qe+lNEGM0TRB",
          "dtype": "f4"
         },
         "xaxis": "x",
         "y": {
          "bdata": "j3URwMKtDcDWNRHA",
          "dtype": "f4"
         },
         "yaxis": "y"
        },
        {
         "customdata": [
          [
           "cacteae"
          ],
          [
           "succulents"
          ],
          [
           "cactus"
          ],
          [
           "cactaceae"
          ],
          [
           "cacti"
          ]
         ],
         "hovertemplate": "color=xerophyte<br>x=%{x}<br>y=%{y}<br>keyword=%{customdata[0]}<extra></extra>",
         "legendgroup": "xerophyte",
         "marker": {
          "color": "#ab63fa",
          "symbol": "circle"
         },
         "mode": "markers",
         "name": "xerophyte",
         "showlegend": true,
         "type": "scattergl",
         "x": {
          "bdata": "4QSRQN4QkUDTF5FAbV+QQK5QkUA=",
          "dtype": "f4"
         },
         "xaxis": "x",
         "y": {
          "bdata": "I+AFwIvYBcDa9AXA6NUFwBf1BcA=",
          "dtype": "f4"
         },
         "yaxis": "y"
        },
        {
         "customdata": [
          [
           "nutrient"
          ],
          [
           "nutritional"
          ],
          [
           "nutrients"
          ],
          [
           "vitamin"
          ]
         ],
         "hovertemplate": "color=micronutrients<br>x=%{x}<br>y=%{y}<br>keyword=%{customdata[0]}<extra></extra>",
         "legendgroup": "micronutrients",
         "marker": {
          "color": "#FFA15A",
          "symbol": "circle"
         },
         "mode": "markers",
         "name": "micronutrients",
         "showlegend": true,
         "type": "scattergl",
         "x": {
          "bdata": "cjlgQeZpX0Gy119BsHJgQQ==",
          "dtype": "f4"
         },
         "xaxis": "x",
         "y": {
          "bdata": "M0OaQEOLmUBb6ZlANWOaQA==",
          "dtype": "f4"
         },
         "yaxis": "y"
        },
        {
         "customdata": [
          [
           "snail"
          ],
          [
           "snakes"
          ]
         ],
         "hovertemplate": "color=venomics<br>x=%{x}<br>y=%{y}<br>keyword=%{customdata[0]}<extra></extra>",
         "legendgroup": "venomics",
         "marker": {
          "color": "#19d3f3",
          "symbol": "circle"
         },
         "mode": "markers",
         "name": "venomics",
         "showlegend": true,
         "type": "scattergl",
         "x": {
          "bdata": "V5sWQd6vGUE=",
          "dtype": "f4"
         },
         "xaxis": "x",
         "y": {
          "bdata": "wOgywOaQNMA=",
          "dtype": "f4"
         },
         "yaxis": "y"
        },
        {
         "customdata": [
          [
           "lifelong"
          ],
          [
           "longevity"
          ],
          [
           "lifetimes"
          ],
          [
           "survival"
          ],
          [
           "lifetime"
          ],
          [
           "lifespan"
          ],
          [
           "immortality"
          ],
          [
           "mortality"
          ],
          [
           "lifespans"
          ]
         ],
         "hovertemplate": "color=gerontology<br>x=%{x}<br>y=%{y}<br>keyword=%{customdata[0]}<extra></extra>",
         "legendgroup": "gerontology",
         "marker": {
          "color": "#FF6692",
          "symbol": "circle"
         },
         "mode": "markers",
         "name": "gerontology",
         "showlegend": true,
         "type": "scattergl",
         "x": {
          "bdata": "9HjnP02R6T+XWuY/ibPeP9D/5T/gwOY/tHrnPyIs5D+mxek/",
          "dtype": "f4"
         },
         "xaxis": "x",
         "y": {
          "bdata": "II4SQdlCEkHepxJBuqsTQbbAEkG+lBJB6Z0SQWX7EkHkERJB",
          "dtype": "f4"
         },
         "yaxis": "y"
        },
        {
         "customdata": [
          [
           "prey"
          ],
          [
           "preythrough"
          ],
          [
           "preyed"
          ]
         ],
         "hovertemplate": "color=predation<br>x=%{x}<br>y=%{y}<br>keyword=%{customdata[0]}<extra></extra>",
         "legendgroup": "predation",
         "marker": {
          "color": "#B6E880",
          "symbol": "circle"
         },
         "mode": "markers",
         "name": "predation",
         "showlegend": true,
         "type": "scattergl",
         "x": {
          "bdata": "F6gwQf6fMEGGmTFB",
          "dtype": "f4"
         },
         "xaxis": "x",
         "y": {
          "bdata": "mpaNwOVgjsABF43A",
          "dtype": "f4"
         },
         "yaxis": "y"
        },
        {
         "customdata": [
          [
           "knifefish"
          ],
          [
           "jellyfish"
          ],
          [
           "fishes"
          ],
          [
           "snakefish"
          ],
          [
           "fish"
          ]
         ],
         "hovertemplate": "color=hydrodynamics<br>x=%{x}<br>y=%{y}<br>keyword=%{customdata[0]}<extra></extra>",
         "legendgroup": "hydrodynamics",
         "marker": {
          "color": "#FF97FF",
          "symbol": "circle"
         },
         "mode": "markers",
         "name": "hydrodynamics",
         "showlegend": true,
         "type": "scattergl",
         "x": {
          "bdata": "tJYMQcJmDEEkLg1BTWkMQTHZC0E=",
          "dtype": "f4"
         },
         "xaxis": "x",
         "y": {
          "bdata": "dMg3wFRLLcDMJzTAPeA3wGL1NsA=",
          "dtype": "f4"
         },
         "yaxis": "y"
        },
        {
         "customdata": [
          [
           "tardigrada"
          ],
          [
           "tardigradum"
          ],
          [
           "tardigrades"
          ],
          [
           "tardigrade"
          ]
         ],
         "hovertemplate": "color=cryptobiosis<br>x=%{x}<br>y=%{y}<br>keyword=%{customdata[0]}<extra></extra>",
         "legendgroup": "cryptobiosis",
         "marker": {
          "color": "#FECB52",
          "symbol": "circle"
         },
         "mode": "markers",
         "name": "cryptobiosis",
         "showlegend": true,
         "type": "scattergl",
         "x": {
          "bdata": "yfAZQSfhGUEAfRlB6QwaQQ==",
          "dtype": "f4"
         },
         "xaxis": "x",
         "y": {
          "bdata": "MV65v1cdub/FsLa/wrm4vw==",
          "dtype": "f4"
         },
         "yaxis": "y"
        },
        {
         "customdata": [
          [
           "mucin"
          ],
          [
           "mucus"
          ],
          [
           "mucilage"
          ],
          [
           "mucins"
          ],
          [
           "mucocytes"
          ]
         ],
         "hovertemplate": "color=glycoprotein<br>x=%{x}<br>y=%{y}<br>keyword=%{customdata[0]}<extra></extra>",
         "legendgroup": "glycoprotein",
         "marker": {
          "color": "#636efa",
          "symbol": "circle"
         },
         "mode": "markers",
         "name": "glycoprotein",
         "showlegend": true,
         "type": "scattergl",
         "x": {
          "bdata": "nwezQEVms0DLdrJAZMOyQPX6skA=",
          "dtype": "f4"
         },
         "xaxis": "x",
         "y": {
          "bdata": "nW+aQOJznUCN9KJAlQSgQLMpnkA=",
          "dtype": "f4"
         },
         "yaxis": "y"
        },
        {
         "customdata": [
          [
           "isotopic"
          ],
          [
           "isotope"
          ],
          [
           "isotopically"
          ],
          [
           "isotopes"
          ]
         ],
         "hovertemplate": "color=isotopology<br>x=%{x}<br>y=%{y}<br>keyword=%{customdata[0]}<extra></extra>",
         "legendgroup": "isotopology",
         "marker": {
          "color": "#EF553B",
          "symbol": "circle"
         },
         "mode": "markers",
         "name": "isotopology",
         "showlegend": true,
         "type": "scattergl",
         "x": {
          "bdata": "SNfXQMMU2ECaYNdAdZzXQA==",
          "dtype": "f4"
         },
         "xaxis": "x",
         "y": {
          "bdata": "F27NPo31zT4gR80+1+DUPg==",
          "dtype": "f4"
         },
         "yaxis": "y"
        },
        {
         "customdata": [
          [
           "optimal"
          ],
          [
           "optimization"
          ]
         ],
         "hovertemplate": "color=pareto efficiency<br>x=%{x}<br>y=%{y}<br>keyword=%{customdata[0]}<extra></extra>",
         "legendgroup": "pareto efficiency",
         "marker": {
          "color": "#00cc96",
          "symbol": "circle"
         },
         "mode": "markers",
         "name": "pareto efficiency",
         "showlegend": true,
         "type": "scattergl",
         "x": {
          "bdata": "6DohQXwMHEE=",
          "dtype": "f4"
         },
         "xaxis": "x",
         "y": {
          "bdata": "yceNQOSskEA=",
          "dtype": "f4"
         },
         "yaxis": "y"
        },
        {
         "customdata": [
          [
           "luciferin"
          ],
          [
           "luciferase"
          ],
          [
           "oxyluciferin"
          ],
          [
           "luciferases"
          ]
         ],
         "hovertemplate": "color=bioluminescence<br>x=%{x}<br>y=%{y}<br>keyword=%{customdata[0]}<extra></extra>",
         "legendgroup": "bioluminescence",
         "marker": {
          "color": "#ab63fa",
          "symbol": "circle"
         },
         "mode": "markers",
         "name": "bioluminescence",
         "showlegend": true,
         "type": "scattergl",
         "x": {
          "bdata": "LuRwQQPRcEErIHBBKXhwQQ==",
          "dtype": "f4"
         },
         "xaxis": "x",
         "y": {
          "bdata": "gRu0QOIdtECS/rBAh0GyQA==",
          "dtype": "f4"
         },
         "yaxis": "y"
        },
        {
         "customdata": [
          [
           "vertebrae"
          ],
          [
           "spinal"
          ],
          [
           "vertebral"
          ],
          [
           "vertebra"
          ],
          [
           "spine"
          ],
          [
           "intervertebral"
          ],
          [
           "lumbar"
          ],
          [
           "spineless"
          ]
         ],
         "hovertemplate": "color=osteology<br>x=%{x}<br>y=%{y}<br>keyword=%{customdata[0]}<extra></extra>",
         "legendgroup": "osteology",
         "marker": {
          "color": "#FFA15A",
          "symbol": "circle"
         },
         "mode": "markers",
         "name": "osteology",
         "showlegend": true,
         "type": "scattergl",
         "x": {
          "bdata": "My0HQXbVB0FxywdBiHUHQVP+B0Ff6wdB0gQIQZR+B0E=",
          "dtype": "f4"
         },
         "xaxis": "x",
         "y": {
          "bdata": "Fr8vQLz+NECLvTNASAswQPu8NUDaejJA8ug0QPuROkA=",
          "dtype": "f4"
         },
         "yaxis": "y"
        },
        {
         "customdata": [
          [
           "planktonic"
          ],
          [
           "plankton"
          ],
          [
           "mesoplankton"
          ],
          [
           "zooplankters"
          ],
          [
           "microzooplankton"
          ],
          [
           "zooplankton"
          ],
          [
           "phytoplanktonic"
          ],
          [
           "planktic"
          ],
          [
           "nanozooplankton"
          ],
          [
           "planktons"
          ],
          [
           "zooplanktons"
          ],
          [
           "phytoplankton"
          ],
          [
           "nanoplankton"
          ]
         ],
         "hovertemplate": "color=holoplankton<br>x=%{x}<br>y=%{y}<br>keyword=%{customdata[0]}<extra></extra>",
         "legendgroup": "holoplankton",
         "marker": {
          "color": "#19d3f3",
          "symbol": "circle"
         },
         "mode": "markers",
         "name": "holoplankton",
         "showlegend": true,
         "type": "scattergl",
         "x": {
          "bdata": "Moh5QYaLeUHLsntBf417QUoIfkHdx3xBC2R3Qbz/eEG5YHxBHq15QZhDfEFpSHhB1j18QQ==",
          "dtype": "f4"
         },
         "xaxis": "x",
         "y": {
          "bdata": "XIyIQE7zhkA1x4VAX2OFQOffgEBvkINAQnCIQOBaiEBBwYRAJiCGQEYUhUAh8YZAq8WEQA==",
          "dtype": "f4"
         },
         "yaxis": "y"
        },
        {
         "customdata": [
          [
           "paleontology"
          ],
          [
           "paleontologists"
          ],
          [
           "fossils"
          ],
          [
           "paleontological"
          ]
         ],
         "hovertemplate": "color=paleohistology<br>x=%{x}<br>y=%{y}<br>keyword=%{customdata[0]}<extra></extra>",
         "legendgroup": "paleohistology",
         "marker": {
          "color": "#FF6692",
          "symbol": "circle"
         },
         "mode": "markers",
         "name": "paleohistology",
         "showlegend": true,
         "type": "scattergl",
         "x": {
          "bdata": "1FrMQLFszUDGxslA/zTMQA==",
          "dtype": "f4"
         },
         "xaxis": "x",
         "y": {
          "bdata": "UhbYvyPN2b/4vOK/QRjavw==",
          "dtype": "f4"
         },
         "yaxis": "y"
        },
        {
         "customdata": [
          [
           "mastication"
          ],
          [
           "chewing"
          ],
          [
           "masticatory"
          ]
         ],
         "hovertemplate": "color=occlusion<br>x=%{x}<br>y=%{y}<br>keyword=%{customdata[0]}<extra></extra>",
         "legendgroup": "occlusion",
         "marker": {
          "color": "#B6E880",
          "symbol": "circle"
         },
         "mode": "markers",
         "name": "occlusion",
         "showlegend": true,
         "type": "scattergl",
         "x": {
          "bdata": "kyC6QBktvUDlybxA",
          "dtype": "f4"
         },
         "xaxis": "x",
         "y": {
          "bdata": "lcodQGuJGUDAYSBA",
          "dtype": "f4"
         },
         "yaxis": "y"
        },
        {
         "customdata": [
          [
           "dinoflagellata"
          ],
          [
           "dinoflagellates"
          ],
          [
           "biflagellate"
          ],
          [
           "biflagellated"
          ],
          [
           "dinoflagellate"
          ]
         ],
         "hovertemplate": "color=biolocomotion<br>x=%{x}<br>y=%{y}<br>keyword=%{customdata[0]}<extra></extra>",
         "legendgroup": "biolocomotion",
         "marker": {
          "color": "#FF97FF",
          "symbol": "circle"
         },
         "mode": "markers",
         "name": "biolocomotion",
         "showlegend": true,
         "type": "scattergl",
         "x": {
          "bdata": "y0QJQe6+CUGbywlBjRIJQbMGCUE=",
          "dtype": "f4"
         },
         "xaxis": "x",
         "y": {
          "bdata": "Kygiv/XBLr8c5w2/gr0Gv1uEHr8=",
          "dtype": "f4"
         },
         "yaxis": "y"
        },
        {
         "customdata": [
          [
           "ectoparasitoids"
          ],
          [
           "parasitism"
          ],
          [
           "parasitized"
          ],
          [
           "parasites"
          ],
          [
           "parasitoid"
          ],
          [
           "parasite"
          ],
          [
           "parasitoids"
          ],
          [
           "parasitic"
          ]
         ],
         "hovertemplate": "color=hyperparasitism<br>x=%{x}<br>y=%{y}<br>keyword=%{customdata[0]}<extra></extra>",
         "legendgroup": "hyperparasitism",
         "marker": {
          "color": "#FECB52",
          "symbol": "circle"
         },
         "mode": "markers",
         "name": "hyperparasitism",
         "showlegend": true,
         "type": "scattergl",
         "x": {
          "bdata": "NRR1QUXNdEGz0HRBVxZ1Qd4bdUHIXHRBxMF0QZHRdEE=",
          "dtype": "f4"
         },
         "xaxis": "x",
         "y": {
          "bdata": "VJq9v/fXub/Us7q/47W8vy0kvb8vWbe/P166v5OGur8=",
          "dtype": "f4"
         },
         "yaxis": "y"
        },
        {
         "customdata": [
          [
           "photoautotrophic"
          ],
          [
           "phototrophs"
          ],
          [
           "photoautotrophs"
          ],
          [
           "photoautotroph"
          ]
         ],
         "hovertemplate": "color=photobiochemistry<br>x=%{x}<br>y=%{y}<br>keyword=%{customdata[0]}<extra></extra>",
         "legendgroup": "photobiochemistry",
         "marker": {
          "color": "#636efa",
          "symbol": "circle"
         },
         "mode": "markers",
         "name": "photobiochemistry",
         "showlegend": true,
         "type": "scattergl",
         "x": {
          "bdata": "VEB1QToEdkE0iXVBda11QQ==",
          "dtype": "f4"
         },
         "xaxis": "x",
         "y": {
          "bdata": "6VhWQEKAXkC3mlZAH2tXQA==",
          "dtype": "f4"
         },
         "yaxis": "y"
        },
        {
         "customdata": [
          [
           "cervixes"
          ],
          [
           "cervical"
          ],
          [
           "cervix"
          ]
         ],
         "hovertemplate": "color=cerclage<br>x=%{x}<br>y=%{y}<br>keyword=%{customdata[0]}<extra></extra>",
         "legendgroup": "cerclage",
         "marker": {
          "color": "#EF553B",
          "symbol": "circle"
         },
         "mode": "markers",
         "name": "cerclage",
         "showlegend": true,
         "type": "scattergl",
         "x": {
          "bdata": "HiREQV68Q0FewkNB",
          "dtype": "f4"
         },
         "xaxis": "x",
         "y": {
          "bdata": "g1uSPlhijz41TpA+",
          "dtype": "f4"
         },
         "yaxis": "y"
        },
        {
         "customdata": [
          [
           "lizards"
          ],
          [
           "amphibians"
          ],
          [
           "reptiles"
          ]
         ],
         "hovertemplate": "color=ectothermy<br>x=%{x}<br>y=%{y}<br>keyword=%{customdata[0]}<extra></extra>",
         "legendgroup": "ectothermy",
         "marker": {
          "color": "#00cc96",
          "symbol": "circle"
         },
         "mode": "markers",
         "name": "ectothermy",
         "showlegend": true,
         "type": "scattergl",
         "x": {
          "bdata": "rfwYQRF4GEFpgRlB",
          "dtype": "f4"
         },
         "xaxis": "x",
         "y": {
          "bdata": "XL8ywNoHNsCa5zTA",
          "dtype": "f4"
         },
         "yaxis": "y"
        },
        {
         "customdata": [
          [
           "xenopus"
          ],
          [
           "volvox"
          ]
         ],
         "hovertemplate": "color=cytodifferentiation<br>x=%{x}<br>y=%{y}<br>keyword=%{customdata[0]}<extra></extra>",
         "legendgroup": "cytodifferentiation",
         "marker": {
          "color": "#ab63fa",
          "symbol": "circle"
         },
         "mode": "markers",
         "name": "cytodifferentiation",
         "showlegend": true,
         "type": "scattergl",
         "x": {
          "bdata": "TqYNQTvJC0E=",
          "dtype": "f4"
         },
         "xaxis": "x",
         "y": {
          "bdata": "vwDWv1fOz78=",
          "dtype": "f4"
         },
         "yaxis": "y"
        },
        {
         "customdata": [
          [
           "insulating"
          ],
          [
           "insulation"
          ],
          [
           "cushion"
          ],
          [
           "insulate"
          ],
          [
           "insulated"
          ]
         ],
         "hovertemplate": "color=thermal conductivity<br>x=%{x}<br>y=%{y}<br>keyword=%{customdata[0]}<extra></extra>",
         "legendgroup": "thermal conductivity",
         "marker": {
          "color": "#FFA15A",
          "symbol": "circle"
         },
         "mode": "markers",
         "name": "thermal conductivity",
         "showlegend": true,
         "type": "scattergl",
         "x": {
          "bdata": "zj7wQPDo8UCJXvBAryDxQGZq8UA=",
          "dtype": "f4"
         },
         "xaxis": "x",
         "y": {
          "bdata": "ikiiQNE3okD9LqFAHjqhQNL7oEA=",
          "dtype": "f4"
         },
         "yaxis": "y"
        },
        {
         "customdata": [
          [
           "decomposers"
          ],
          [
           "decomposer"
          ],
          [
           "bioturbators"
          ]
         ],
         "hovertemplate": "color=saprotrophy<br>x=%{x}<br>y=%{y}<br>keyword=%{customdata[0]}<extra></extra>",
         "legendgroup": "saprotrophy",
         "marker": {
          "color": "#19d3f3",
          "symbol": "circle"
         },
         "mode": "markers",
         "name": "saprotrophy",
         "showlegend": true,
         "type": "scattergl",
         "x": {
          "bdata": "SaVXQSzAVEFzXFhB",
          "dtype": "f4"
         },
         "xaxis": "x",
         "y": {
          "bdata": "y5pAQBW3P0ArIT1A",
          "dtype": "f4"
         },
         "yaxis": "y"
        },
        {
         "customdata": [
          [
           "channelrhodopsin"
          ],
          [
           "rhodopsins"
          ],
          [
           "bathorhodopsin"
          ],
          [
           "opsin"
          ],
          [
           "rhodopsin"
          ]
         ],
         "hovertemplate": "color=phototransduction<br>x=%{x}<br>y=%{y}<br>keyword=%{customdata[0]}<extra></extra>",
         "legendgroup": "phototransduction",
         "marker": {
          "color": "#FF6692",
          "symbol": "circle"
         },
         "mode": "markers",
         "name": "phototransduction",
         "showlegend": true,
         "type": "scattergl",
         "x": {
          "bdata": "589VQS7FVUFmU1ZB2V5VQTeRVUE=",
          "dtype": "f4"
         },
         "xaxis": "x",
         "y": {
          "bdata": "TjzwQPO470AZG/BAWkDvQMDY70A=",
          "dtype": "f4"
         },
         "yaxis": "y"
        },
        {
         "customdata": [
          [
           "ossicle"
          ],
          [
           "ossicles"
          ],
          [
           "ossicular"
          ]
         ],
         "hovertemplate": "color=ossiculogenesis<br>x=%{x}<br>y=%{y}<br>keyword=%{customdata[0]}<extra></extra>",
         "legendgroup": "ossiculogenesis",
         "marker": {
          "color": "#B6E880",
          "symbol": "circle"
         },
         "mode": "markers",
         "name": "ossiculogenesis",
         "showlegend": true,
         "type": "scattergl",
         "x": {
          "bdata": "EOn2QPwg+EBLKPlA",
          "dtype": "f4"
         },
         "xaxis": "x",
         "y": {
          "bdata": "XjoWQVaxFUGm8BVB",
          "dtype": "f4"
         },
         "yaxis": "y"
        },
        {
         "customdata": [
          [
           "mechanical"
          ],
          [
           "mechanically"
          ],
          [
           "mechanism"
          ],
          [
           "mechanisms"
          ]
         ],
         "hovertemplate": "color=kinematics<br>x=%{x}<br>y=%{y}<br>keyword=%{customdata[0]}<extra></extra>",
         "legendgroup": "kinematics",
         "marker": {
          "color": "#FF97FF",
          "symbol": "circle"
         },
         "mode": "markers",
         "name": "kinematics",
         "showlegend": true,
         "type": "scattergl",
         "x": {
          "bdata": "j6T9QPaR/EDf7v9A/BT/QA==",
          "dtype": "f4"
         },
         "xaxis": "x",
         "y": {
          "bdata": "HLzHQFOAyECIT8pAdrXJQA==",
          "dtype": "f4"
         },
         "yaxis": "y"
        },
        {
         "customdata": [
          [
           "biofouling"
          ],
          [
           "biofilm"
          ]
         ],
         "hovertemplate": "color=bioadhesion<br>x=%{x}<br>y=%{y}<br>keyword=%{customdata[0]}<extra></extra>",
         "legendgroup": "bioadhesion",
         "marker": {
          "color": "#FECB52",
          "symbol": "circle"
         },
         "mode": "markers",
         "name": "bioadhesion",
         "showlegend": true,
         "type": "scattergl",
         "x": {
          "bdata": "tottQbJLZUE=",
          "dtype": "f4"
         },
         "xaxis": "x",
         "y": {
          "bdata": "mXFxQG+ETEA=",
          "dtype": "f4"
         },
         "yaxis": "y"
        },
        {
         "customdata": [
          [
           "oxygen"
          ],
          [
           "oxygens"
          ],
          [
           "oxygenated"
          ],
          [
           "oxygenation"
          ],
          [
           "oxygenating"
          ]
         ],
         "hovertemplate": "color=hypoxia<br>x=%{x}<br>y=%{y}<br>keyword=%{customdata[0]}<extra></extra>",
         "legendgroup": "hypoxia",
         "marker": {
          "color": "#636efa",
          "symbol": "circle"
         },
         "mode": "markers",
         "name": "hypoxia",
         "showlegend": true,
         "type": "scattergl",
         "x": {
          "bdata": "FNKAvkANo74eDIK+JBSOvgjueb4=",
          "dtype": "f4"
         },
         "xaxis": "x",
         "y": {
          "bdata": "hIBYQKCyWkAEPlhAQC9ZQDS6V0A=",
          "dtype": "f4"
         },
         "yaxis": "y"
        },
        {
         "customdata": [
          [
           "paleoceanographic"
          ],
          [
           "paleoclimatology"
          ]
         ],
         "hovertemplate": "color=anoxic<br>x=%{x}<br>y=%{y}<br>keyword=%{customdata[0]}<extra></extra>",
         "legendgroup": "anoxic",
         "marker": {
          "color": "#EF553B",
          "symbol": "circle"
         },
         "mode": "markers",
         "name": "anoxic",
         "showlegend": true,
         "type": "scattergl",
         "x": {
          "bdata": "VJzTQJm40EA=",
          "dtype": "f4"
         },
         "xaxis": "x",
         "y": {
          "bdata": "tCudv75Qt78=",
          "dtype": "f4"
         },
         "yaxis": "y"
        },
        {
         "customdata": [
          [
           "diatoms"
          ],
          [
           "diatomite"
          ],
          [
           "diatom"
          ]
         ],
         "hovertemplate": "color=frustule<br>x=%{x}<br>y=%{y}<br>keyword=%{customdata[0]}<extra></extra>",
         "legendgroup": "frustule",
         "marker": {
          "color": "#00cc96",
          "symbol": "circle"
         },
         "mode": "markers",
         "name": "frustule",
         "showlegend": true,
         "type": "scattergl",
         "x": {
          "bdata": "GH/fQOL9yUAhx95A",
          "dtype": "f4"
         },
         "xaxis": "x",
         "y": {
          "bdata": "0ovGvmT7YL5RjIu+",
          "dtype": "f4"
         },
         "yaxis": "y"
        },
        {
         "customdata": [
          [
           "tympanic"
          ],
          [
           "auricular"
          ],
          [
           "eardrum"
          ],
          [
           "cochlear"
          ]
         ],
         "hovertemplate": "color=otology<br>x=%{x}<br>y=%{y}<br>keyword=%{customdata[0]}<extra></extra>",
         "legendgroup": "otology",
         "marker": {
          "color": "#ab63fa",
          "symbol": "circle"
         },
         "mode": "markers",
         "name": "otology",
         "showlegend": true,
         "type": "scattergl",
         "x": {
          "bdata": "5Cr4QPxa/ECK8/hAE1n7QA==",
          "dtype": "f4"
         },
         "xaxis": "x",
         "y": {
          "bdata": "jfAVQWCcFEG4gRVBTBAVQQ==",
          "dtype": "f4"
         },
         "yaxis": "y"
        },
        {
         "customdata": [
          [
           "binocular"
          ],
          [
           "binaural"
          ]
         ],
         "hovertemplate": "color=stereopsis<br>x=%{x}<br>y=%{y}<br>keyword=%{customdata[0]}<extra></extra>",
         "legendgroup": "stereopsis",
         "marker": {
          "color": "#FFA15A",
          "symbol": "circle"
         },
         "mode": "markers",
         "name": "stereopsis",
         "showlegend": true,
         "type": "scattergl",
         "x": {
          "bdata": "/8pJQQISAUE=",
          "dtype": "f4"
         },
         "xaxis": "x",
         "y": {
          "bdata": "y8L0QEP3E0E=",
          "dtype": "f4"
         },
         "yaxis": "y"
        },
        {
         "customdata": [
          [
           "beaver"
          ],
          [
           "beavers"
          ],
          [
           "bears"
          ]
         ],
         "hovertemplate": "color=lodging<br>x=%{x}<br>y=%{y}<br>keyword=%{customdata[0]}<extra></extra>",
         "legendgroup": "lodging",
         "marker": {
          "color": "#19d3f3",
          "symbol": "circle"
         },
         "mode": "markers",
         "name": "lodging",
         "showlegend": true,
         "type": "scattergl",
         "x": {
          "bdata": "2zUcQaPrGkGcSxtB",
          "dtype": "f4"
         },
         "xaxis": "x",
         "y": {
          "bdata": "vnFdwAXYYsBYeWbA",
          "dtype": "f4"
         },
         "yaxis": "y"
        },
        {
         "customdata": [
          [
           "ventricular"
          ],
          [
           "atrioventricular"
          ],
          [
           "sinoatrial"
          ],
          [
           "atrial"
          ],
          [
           "ventricles"
          ],
          [
           "atria"
          ],
          [
           "ventricle"
          ]
         ],
         "hovertemplate": "color=cardiodynamics<br>x=%{x}<br>y=%{y}<br>keyword=%{customdata[0]}<extra></extra>",
         "legendgroup": "cardiodynamics",
         "marker": {
          "color": "#FF6692",
          "symbol": "circle"
         },
         "mode": "markers",
         "name": "cardiodynamics",
         "showlegend": true,
         "type": "scattergl",
         "x": {
          "bdata": "5IX4P+OB9z99ovk/B3f5Px8C+z/s7PI/D1LlPw==",
          "dtype": "f4"
         },
         "xaxis": "x",
         "y": {
          "bdata": "pxLTQPvY00B2ddRAYBHUQEOW00CKndJAWULOQA==",
          "dtype": "f4"
         },
         "yaxis": "y"
        },
        {
         "customdata": [
          [
           "bone"
          ],
          [
           "bones"
          ],
          [
           "bony"
          ]
         ],
         "hovertemplate": "color=osteogenesis<br>x=%{x}<br>y=%{y}<br>keyword=%{customdata[0]}<extra></extra>",
         "legendgroup": "osteogenesis",
         "marker": {
          "color": "#B6E880",
          "symbol": "circle"
         },
         "mode": "markers",
         "name": "osteogenesis",
         "showlegend": true,
         "type": "scattergl",
         "x": {
          "bdata": "OH4HQWWZB0G8oQhB",
          "dtype": "f4"
         },
         "xaxis": "x",
         "y": {
          "bdata": "QpgoQKmVKkDH2jZA",
          "dtype": "f4"
         },
         "yaxis": "y"
        },
        {
         "customdata": [
          [
           "chiropteran"
          ],
          [
           "chiropterans"
          ],
          [
           "chiroptera"
          ]
         ],
         "hovertemplate": "color=chiropterology<br>x=%{x}<br>y=%{y}<br>keyword=%{customdata[0]}<extra></extra>",
         "legendgroup": "chiropterology",
         "marker": {
          "color": "#FF97FF",
          "symbol": "circle"
         },
         "mode": "markers",
         "name": "chiropterology",
         "showlegend": true,
         "type": "scattergl",
         "x": {
          "bdata": "ndIzQSTeMUGVdSdB",
          "dtype": "f4"
         },
         "xaxis": "x",
         "y": {
          "bdata": "TvEZwFlNF8D07gXA",
          "dtype": "f4"
         },
         "yaxis": "y"
        },
        {
         "customdata": [
          [
           "astrocytes"
          ],
          [
           "oligodendrocyte"
          ],
          [
           "oligodendrocytes"
          ]
         ],
         "hovertemplate": "color=gliogenesis<br>x=%{x}<br>y=%{y}<br>keyword=%{customdata[0]}<extra></extra>",
         "legendgroup": "gliogenesis",
         "marker": {
          "color": "#FECB52",
          "symbol": "circle"
         },
         "mode": "markers",
         "name": "gliogenesis",
         "showlegend": true,
         "type": "scattergl",
         "x": {
          "bdata": "xsJ6QIpXe0B9TnpA",
          "dtype": "f4"
         },
         "xaxis": "x",
         "y": {
          "bdata": "o/kRQQLSEUHN/BFB",
          "dtype": "f4"
         },
         "yaxis": "y"
        },
        {
         "customdata": [
          [
           "vein"
          ],
          [
           "venous"
          ],
          [
           "veins"
          ]
         ],
         "hovertemplate": "color=phlebology<br>x=%{x}<br>y=%{y}<br>keyword=%{customdata[0]}<extra></extra>",
         "legendgroup": "phlebology",
         "marker": {
          "color": "#636efa",
          "symbol": "circle"
         },
         "mode": "markers",
         "name": "phlebology",
         "showlegend": true,
         "type": "scattergl",
         "x": {
          "bdata": "UaPCPgLR5T5pTNI+",
          "dtype": "f4"
         },
         "xaxis": "x",
         "y": {
          "bdata": "HuymQHzNqEBu/6dA",
          "dtype": "f4"
         },
         "yaxis": "y"
        },
        {
         "customdata": [
          [
           "mechanosensory"
          ],
          [
           "mechanoreceptor"
          ],
          [
           "electrosensory"
          ],
          [
           "mechanoreception"
          ],
          [
           "mechanotransduction"
          ],
          [
           "mechanoreceptors"
          ]
         ],
         "hovertemplate": "color=mechanobiology<br>x=%{x}<br>y=%{y}<br>keyword=%{customdata[0]}<extra></extra>",
         "legendgroup": "mechanobiology",
         "marker": {
          "color": "#EF553B",
          "symbol": "circle"
         },
         "mode": "markers",
         "name": "mechanobiology",
         "showlegend": true,
         "type": "scattergl",
         "x": {
          "bdata": "tpAEQYvmA0FCtQVBzcYDQQp7AkFZngNB",
          "dtype": "f4"
         },
         "xaxis": "x",
         "y": {
          "bdata": "4lwpQWP1KEFtUipBWxQpQQ7HJ0Ff6ChB",
          "dtype": "f4"
         },
         "yaxis": "y"
        },
        {
         "customdata": [
          [
           "amputated"
          ],
          [
           "amputation"
          ],
          [
           "autotomy"
          ]
         ],
         "hovertemplate": "color=autotomy<br>x=%{x}<br>y=%{y}<br>keyword=%{customdata[0]}<extra></extra>",
         "legendgroup": "autotomy",
         "marker": {
          "color": "#00cc96",
          "symbol": "circle"
         },
         "mode": "markers",
         "name": "autotomy",
         "showlegend": true,
         "type": "scattergl",
         "x": {
          "bdata": "1QoHQXO5BkG1OQdB",
          "dtype": "f4"
         },
         "xaxis": "x",
         "y": {
          "bdata": "8xAPQE+fEkD30AxA",
          "dtype": "f4"
         },
         "yaxis": "y"
        },
        {
         "customdata": [
          [
           "tessellations"
          ],
          [
           "tilings"
          ],
          [
           "tessellated"
          ],
          [
           "tessellation"
          ]
         ],
         "hovertemplate": "color=aperiodicity<br>x=%{x}<br>y=%{y}<br>keyword=%{customdata[0]}<extra></extra>",
         "legendgroup": "aperiodicity",
         "marker": {
          "color": "#ab63fa",
          "symbol": "circle"
         },
         "mode": "markers",
         "name": "aperiodicity",
         "showlegend": true,
         "type": "scattergl",
         "x": {
          "bdata": "AU4ZQV6HGUHuZBlB7yMZQQ==",
          "dtype": "f4"
         },
         "xaxis": "x",
         "y": {
          "bdata": "E5WlQLnqpUCgZqVA3UemQA==",
          "dtype": "f4"
         },
         "yaxis": "y"
        },
        {
         "customdata": [
          [
           "placentation"
          ],
          [
           "placenta"
          ],
          [
           "placental"
          ]
         ],
         "hovertemplate": "color=chorion<br>x=%{x}<br>y=%{y}<br>keyword=%{customdata[0]}<extra></extra>",
         "legendgroup": "chorion",
         "marker": {
          "color": "#FFA15A",
          "symbol": "circle"
         },
         "mode": "markers",
         "name": "chorion",
         "showlegend": true,
         "type": "scattergl",
         "x": {
          "bdata": "jO1AQRx4P0G5I0BB",
          "dtype": "f4"
         },
         "xaxis": "x",
         "y": {
          "bdata": "FVqJPncIez7KEX8+",
          "dtype": "f4"
         },
         "yaxis": "y"
        },
        {
         "customdata": [
          [
           "catsharks"
          ],
          [
           "sharks"
          ],
          [
           "shark"
          ]
         ],
         "hovertemplate": "color=elasmobranch<br>x=%{x}<br>y=%{y}<br>keyword=%{customdata[0]}<extra></extra>",
         "legendgroup": "elasmobranch",
         "marker": {
          "color": "#19d3f3",
          "symbol": "circle"
         },
         "mode": "markers",
         "name": "elasmobranch",
         "showlegend": true,
         "type": "scattergl",
         "x": {
          "bdata": "myALQd2WDEHnlgpB",
          "dtype": "f4"
         },
         "xaxis": "x",
         "y": {
          "bdata": "suE/wMR+NsCDVEHA",
          "dtype": "f4"
         },
         "yaxis": "y"
        },
        {
         "customdata": [
          [
           "hydrozoa"
          ],
          [
           "rhizaria"
          ],
          [
           "prokaryotes"
          ],
          [
           "protists"
          ]
         ],
         "hovertemplate": "color=mixotrophy<br>x=%{x}<br>y=%{y}<br>keyword=%{customdata[0]}<extra></extra>",
         "legendgroup": "mixotrophy",
         "marker": {
          "color": "#FF6692",
          "symbol": "circle"
         },
         "mode": "markers",
         "name": "mixotrophy",
         "showlegend": true,
         "type": "scattergl",
         "x": {
          "bdata": "2FEIQcaIBkFKT2FBrIcIQQ==",
          "dtype": "f4"
         },
         "xaxis": "x",
         "y": {
          "bdata": "Gx4xv82VTr+4vzxAK+Asvw==",
          "dtype": "f4"
         },
         "yaxis": "y"
        },
        {
         "customdata": [
          [
           "capillary"
          ],
          [
           "capillaries"
          ]
         ],
         "hovertemplate": "color=microvasculature<br>x=%{x}<br>y=%{y}<br>keyword=%{customdata[0]}<extra></extra>",
         "legendgroup": "microvasculature",
         "marker": {
          "color": "#B6E880",
          "symbol": "circle"
         },
         "mode": "markers",
         "name": "microvasculature",
         "showlegend": true,
         "type": "scattergl",
         "x": {
          "bdata": "xOejPhtTwD4=",
          "dtype": "f4"
         },
         "xaxis": "x",
         "y": {
          "bdata": "OCGlQDSApkA=",
          "dtype": "f4"
         },
         "yaxis": "y"
        },
        {
         "customdata": [
          [
           "superhydrophilicity"
          ],
          [
           "hydrophobicity"
          ],
          [
           "superhydrophilic"
          ]
         ],
         "hovertemplate": "color=wetting<br>x=%{x}<br>y=%{y}<br>keyword=%{customdata[0]}<extra></extra>",
         "legendgroup": "wetting",
         "marker": {
          "color": "#FF97FF",
          "symbol": "circle"
         },
         "mode": "markers",
         "name": "wetting",
         "showlegend": true,
         "type": "scattergl",
         "x": {
          "bdata": "lX/cQM+03kBtTdxA",
          "dtype": "f4"
         },
         "xaxis": "x",
         "y": {
          "bdata": "0g+3QLequUA3f7ZA",
          "dtype": "f4"
         },
         "yaxis": "y"
        },
        {
         "customdata": [
          [
           "cooperate"
          ],
          [
           "cooperation"
          ],
          [
           "coexistence"
          ],
          [
           "cooperator"
          ],
          [
           "cooperative"
          ]
         ],
         "hovertemplate": "color=reciprocity<br>x=%{x}<br>y=%{y}<br>keyword=%{customdata[0]}<extra></extra>",
         "legendgroup": "reciprocity",
         "marker": {
          "color": "#FECB52",
          "symbol": "circle"
         },
         "mode": "markers",
         "name": "reciprocity",
         "showlegend": true,
         "type": "scattergl",
         "x": {
          "bdata": "gQ9cQdAHXEFaIVxB5bVbQZYzXEE=",
          "dtype": "f4"
         },
         "xaxis": "x",
         "y": {
          "bdata": "rEm6PwMmuj+OP74/o4i2P+CuuT8=",
          "dtype": "f4"
         },
         "yaxis": "y"
        },
        {
         "customdata": [
          [
           "signalling"
          ],
          [
           "signaling"
          ],
          [
           "signalization"
          ],
          [
           "semiochemicals"
          ]
         ],
         "hovertemplate": "color=biocommunication<br>x=%{x}<br>y=%{y}<br>keyword=%{customdata[0]}<extra></extra>",
         "legendgroup": "biocommunication",
         "marker": {
          "color": "#636efa",
          "symbol": "circle"
         },
         "mode": "markers",
         "name": "biocommunication",
         "showlegend": true,
         "type": "scattergl",
         "x": {
          "bdata": "HW0MQfmIDUHT9AtBY4gPQQ==",
          "dtype": "f4"
         },
         "xaxis": "x",
         "y": {
          "bdata": "QbUmQYEhJ0ET2yZBY/osQQ==",
          "dtype": "f4"
         },
         "yaxis": "y"
        },
        {
         "customdata": [
          [
           "daphnia"
          ],
          [
           "ctenodaphnia"
          ]
         ],
         "hovertemplate": "color=cladogenesis<br>x=%{x}<br>y=%{y}<br>keyword=%{customdata[0]}<extra></extra>",
         "legendgroup": "cladogenesis",
         "marker": {
          "color": "#EF553B",
          "symbol": "circle"
         },
         "mode": "markers",
         "name": "cladogenesis",
         "showlegend": true,
         "type": "scattergl",
         "x": {
          "bdata": "EygVQSZuFEE=",
          "dtype": "f4"
         },
         "xaxis": "x",
         "y": {
          "bdata": "kaLov8fF9r8=",
          "dtype": "f4"
         },
         "yaxis": "y"
        },
        {
         "customdata": [
          [
           "cnidarians"
          ],
          [
           "cnidocils"
          ],
          [
           "cnidaria"
          ],
          [
           "cnidarian"
          ]
         ],
         "hovertemplate": "color=nematocyst<br>x=%{x}<br>y=%{y}<br>keyword=%{customdata[0]}<extra></extra>",
         "legendgroup": "nematocyst",
         "marker": {
          "color": "#00cc96",
          "symbol": "circle"
         },
         "mode": "markers",
         "name": "nematocyst",
         "showlegend": true,
         "type": "scattergl",
         "x": {
          "bdata": "fdUEQYOLBkGz4wRBFwgEQQ==",
          "dtype": "f4"
         },
         "xaxis": "x",
         "y": {
          "bdata": "qtYEwI107r/bvwTAb8MDwA==",
          "dtype": "f4"
         },
         "yaxis": "y"
        },
        {
         "customdata": [
          [
           "cetaceans"
          ],
          [
           "porpoise"
          ],
          [
           "cetacean"
          ],
          [
           "cetacea"
          ]
         ],
         "hovertemplate": "color=echolocation<br>x=%{x}<br>y=%{y}<br>keyword=%{customdata[0]}<extra></extra>",
         "legendgroup": "echolocation",
         "marker": {
          "color": "#ab63fa",
          "symbol": "circle"
         },
         "mode": "markers",
         "name": "echolocation",
         "showlegend": true,
         "type": "scattergl",
         "x": {
          "bdata": "xeEMQZweDUGqbQ1Blu0MQQ==",
          "dtype": "f4"
         },
         "xaxis": "x",
         "y": {
          "bdata": "b/dIwBNRRsCXZk7AhVlBwA==",
          "dtype": "f4"
         },
         "yaxis": "y"
        },
        {
         "customdata": [
          [
           "octopus"
          ],
          [
           "cuttlefish"
          ],
          [
           "octopuses"
          ]
         ],
         "hovertemplate": "color=camouflage<br>x=%{x}<br>y=%{y}<br>keyword=%{customdata[0]}<extra></extra>",
         "legendgroup": "camouflage",
         "marker": {
          "color": "#FFA15A",
          "symbol": "circle"
         },
         "mode": "markers",
         "name": "camouflage",
         "showlegend": true,
         "type": "scattergl",
         "x": {
          "bdata": "yroOQfblDUHD1wxB",
          "dtype": "f4"
         },
         "xaxis": "x",
         "y": {
          "bdata": "qA4cwEW9JcCRyx3A",
          "dtype": "f4"
         },
         "yaxis": "y"
        },
        {
         "customdata": [
          [
           "peacock"
          ],
          [
           "plumage"
          ]
         ],
         "hovertemplate": "color=iridescence<br>x=%{x}<br>y=%{y}<br>keyword=%{customdata[0]}<extra></extra>",
         "legendgroup": "iridescence",
         "marker": {
          "color": "#19d3f3",
          "symbol": "circle"
         },
         "mode": "markers",
         "name": "iridescence",
         "showlegend": true,
         "type": "scattergl",
         "x": {
          "bdata": "nNU1QcJ5NUE=",
          "dtype": "f4"
         },
         "xaxis": "x",
         "y": {
          "bdata": "rH4pwGw3K8A=",
          "dtype": "f4"
         },
         "yaxis": "y"
        },
        {
         "customdata": [
          [
           "chemosensillia"
          ],
          [
           "chemosensitive"
          ],
          [
           "chemosensation"
          ],
          [
           "chemosensors"
          ],
          [
           "chemosensory"
          ]
         ],
         "hovertemplate": "color=chemoregulatory<br>x=%{x}<br>y=%{y}<br>keyword=%{customdata[0]}<extra></extra>",
         "legendgroup": "chemoregulatory",
         "marker": {
          "color": "#FF6692",
          "symbol": "circle"
         },
         "mode": "markers",
         "name": "chemoregulatory",
         "showlegend": true,
         "type": "scattergl",
         "x": {
          "bdata": "whUQQaETEUHTAhFBcwMRQUWgD0E=",
          "dtype": "f4"
         },
         "xaxis": "x",
         "y": {
          "bdata": "g0MyQceMMkFqFjNBraYyQZVUNEE=",
          "dtype": "f4"
         },
         "yaxis": "y"
        },
        {
         "customdata": [
          [
           "midbrains"
          ],
          [
           "brainstem"
          ],
          [
           "midbrain"
          ]
         ],
         "hovertemplate": "color=mesencephalon<br>x=%{x}<br>y=%{y}<br>keyword=%{customdata[0]}<extra></extra>",
         "legendgroup": "mesencephalon",
         "marker": {
          "color": "#B6E880",
          "symbol": "circle"
         },
         "mode": "markers",
         "name": "mesencephalon",
         "showlegend": true,
         "type": "scattergl",
         "x": {
          "bdata": "XTqRQMo6kEDebpFA",
          "dtype": "f4"
         },
         "xaxis": "x",
         "y": {
          "bdata": "FxcHQfe4BkHt7gZB",
          "dtype": "f4"
         },
         "yaxis": "y"
        },
        {
         "customdata": [
          [
           "autotrophs"
          ],
          [
           "autotrophic"
          ],
          [
           "chemoautotrophs"
          ],
          [
           "autotroph"
          ]
         ],
         "hovertemplate": "color=nitrogenase<br>x=%{x}<br>y=%{y}<br>keyword=%{customdata[0]}<extra></extra>",
         "legendgroup": "nitrogenase",
         "marker": {
          "color": "#FF97FF",
          "symbol": "circle"
         },
         "mode": "markers",
         "name": "nitrogenase",
         "showlegend": true,
         "type": "scattergl",
         "x": {
          "bdata": "YBZ1QaSldEGQo3RBxQ51QQ==",
          "dtype": "f4"
         },
         "xaxis": "x",
         "y": {
          "bdata": "bkxUQB/LUkBxIFNAHvRUQA==",
          "dtype": "f4"
         },
         "yaxis": "y"
        },
        {
         "customdata": [
          [
           "soundwaves"
          ],
          [
           "sonars"
          ],
          [
           "waves"
          ],
          [
           "wave"
          ]
         ],
         "hovertemplate": "color=acoustics<br>x=%{x}<br>y=%{y}<br>keyword=%{customdata[0]}<extra></extra>",
         "legendgroup": "acoustics",
         "marker": {
          "color": "#FECB52",
          "symbol": "circle"
         },
         "mode": "markers",
         "name": "acoustics",
         "showlegend": true,
         "type": "scattergl",
         "x": {
          "bdata": "oQcGQUn/BkEypAZBX6kGQQ==",
          "dtype": "f4"
         },
         "xaxis": "x",
         "y": {
          "bdata": "tYsOQRQSD0EUbw1BQY8NQQ==",
          "dtype": "f4"
         },
         "yaxis": "y"
        },
        {
         "customdata": [
          [
           "spines"
          ],
          [
           "spined"
          ]
         ],
         "hovertemplate": "color=scleromechanics<br>x=%{x}<br>y=%{y}<br>keyword=%{customdata[0]}<extra></extra>",
         "legendgroup": "scleromechanics",
         "marker": {
          "color": "#636efa",
          "symbol": "circle"
         },
         "mode": "markers",
         "name": "scleromechanics",
         "showlegend": true,
         "type": "scattergl",
         "x": {
          "bdata": "0q4GQSQrB0E=",
          "dtype": "f4"
         },
         "xaxis": "x",
         "y": {
          "bdata": "4hZAQLVNSUA=",
          "dtype": "f4"
         },
         "yaxis": "y"
        },
        {
         "customdata": [
          [
           "diacylglycerol"
          ],
          [
           "triacylglycerols"
          ],
          [
           "triacylglycerides"
          ]
         ],
         "hovertemplate": "color=glycerolipid<br>x=%{x}<br>y=%{y}<br>keyword=%{customdata[0]}<extra></extra>",
         "legendgroup": "glycerolipid",
         "marker": {
          "color": "#EF553B",
          "symbol": "circle"
         },
         "mode": "markers",
         "name": "glycerolipid",
         "showlegend": true,
         "type": "scattergl",
         "x": {
          "bdata": "RY21QLggtkANsbZA",
          "dtype": "f4"
         },
         "xaxis": "x",
         "y": {
          "bdata": "vb3PQHALzkAp/c1A",
          "dtype": "f4"
         },
         "yaxis": "y"
        },
        {
         "customdata": [
          [
           "photoproteins"
          ],
          [
           "photoprotection"
          ],
          [
           "photoprotective"
          ]
         ],
         "hovertemplate": "color=flavoprotein<br>x=%{x}<br>y=%{y}<br>keyword=%{customdata[0]}<extra></extra>",
         "legendgroup": "flavoprotein",
         "marker": {
          "color": "#00cc96",
          "symbol": "circle"
         },
         "mode": "markers",
         "name": "flavoprotein",
         "showlegend": true,
         "type": "scattergl",
         "x": {
          "bdata": "MxhXQZTuV0FLkFdB",
          "dtype": "f4"
         },
         "xaxis": "x",
         "y": {
          "bdata": "oLjqQIbs50ByMehA",
          "dtype": "f4"
         },
         "yaxis": "y"
        },
        {
         "customdata": [
          [
           "microvibrissae"
          ],
          [
           "whiskers"
          ],
          [
           "whisker"
          ],
          [
           "vibrissae"
          ],
          [
           "whisking"
          ],
          [
           "vibrissal"
          ],
          [
           "macrovibrissae"
          ]
         ],
         "hovertemplate": "color=tactile sensory<br>x=%{x}<br>y=%{y}<br>keyword=%{customdata[0]}<extra></extra>",
         "legendgroup": "tactile sensory",
         "marker": {
          "color": "#ab63fa",
          "symbol": "circle"
         },
         "mode": "markers",
         "name": "tactile sensory",
         "showlegend": true,
         "type": "scattergl",
         "x": {
          "bdata": "Em8FQebNAkEN4QBBTtEEQWl7AUFCJQVBKQIFQQ==",
          "dtype": "f4"
         },
         "xaxis": "x",
         "y": {
          "bdata": "C/66P/wIzT++Vdk/iA7BP8kY0D+DfsI/7ze7Pw==",
          "dtype": "f4"
         },
         "yaxis": "y"
        },
        {
         "customdata": [
          [
           "proboscis"
          ],
          [
           "legs"
          ],
          [
           "limb"
          ],
          [
           "limbs"
          ],
          [
           "forelimb"
          ],
          [
           "forelimbs"
          ]
         ],
         "hovertemplate": "color=appendage<br>x=%{x}<br>y=%{y}<br>keyword=%{customdata[0]}<extra></extra>",
         "legendgroup": "appendage",
         "marker": {
          "color": "#FFA15A",
          "symbol": "circle"
         },
         "mode": "markers",
         "name": "appendage",
         "showlegend": true,
         "type": "scattergl",
         "x": {
          "bdata": "pAQEQeA2BEFKDAVBIxIFQafXA0Hw3QNB",
          "dtype": "f4"
         },
         "xaxis": "x",
         "y": {
          "bdata": "nlXcP+ZyEkCy1xNAk9cRQApnAUCGKvU/",
          "dtype": "f4"
         },
         "yaxis": "y"
        },
        {
         "customdata": [
          [
           "chemotactically"
          ],
          [
           "chemotactile"
          ],
          [
           "phototaxis"
          ],
          [
           "chemotaxis"
          ],
          [
           "chemotactic"
          ]
         ],
         "hovertemplate": "color=quorum sensing<br>x=%{x}<br>y=%{y}<br>keyword=%{customdata[0]}<extra></extra>",
         "legendgroup": "quorum sensing",
         "marker": {
          "color": "#19d3f3",
          "symbol": "circle"
         },
         "mode": "markers",
         "name": "quorum sensing",
         "showlegend": true,
         "type": "scattergl",
         "x": {
          "bdata": "wJkSQSbmEkFfphRBOs4UQZkEFEE=",
          "dtype": "f4"
         },
         "xaxis": "x",
         "y": {
          "bdata": "OyYzQaHsMkEZzDJB//0yQTHLMkE=",
          "dtype": "f4"
         },
         "yaxis": "y"
        },
        {
         "customdata": [
          [
           "opsins"
          ],
          [
           "photopsins"
          ]
         ],
         "hovertemplate": "color=opsinology<br>x=%{x}<br>y=%{y}<br>keyword=%{customdata[0]}<extra></extra>",
         "legendgroup": "opsinology",
         "marker": {
          "color": "#FF6692",
          "symbol": "circle"
         },
         "mode": "markers",
         "name": "opsinology",
         "showlegend": true,
         "type": "scattergl",
         "x": {
          "bdata": "EvdVQTB2VUE=",
          "dtype": "f4"
         },
         "xaxis": "x",
         "y": {
          "bdata": "PDfvQP7a70A=",
          "dtype": "f4"
         },
         "yaxis": "y"
        },
        {
         "customdata": [
          [
           "communicates"
          ],
          [
           "communication"
          ],
          [
           "electrocommunication"
          ],
          [
           "communicating"
          ],
          [
           "networks"
          ],
          [
           "connectivity"
          ]
         ],
         "hovertemplate": "color=telemetry<br>x=%{x}<br>y=%{y}<br>keyword=%{customdata[0]}<extra></extra>",
         "legendgroup": "telemetry",
         "marker": {
          "color": "#B6E880",
          "symbol": "circle"
         },
         "mode": "markers",
         "name": "telemetry",
         "showlegend": true,
         "type": "scattergl",
         "x": {
          "bdata": "P6MLQZyVC0Fh/ghB6VsMQXKSC0EEsQtB",
          "dtype": "f4"
         },
         "xaxis": "x",
         "y": {
          "bdata": "9E4kQcY5JEHKvyZBw3EjQbQRI0F6UiNB",
          "dtype": "f4"
         },
         "yaxis": "y"
        },
        {
         "customdata": [
          [
           "hormone"
          ],
          [
           "hormonal"
          ],
          [
           "endocrine"
          ],
          [
           "hormones"
          ]
         ],
         "hovertemplate": "color=hormesis<br>x=%{x}<br>y=%{y}<br>keyword=%{customdata[0]}<extra></extra>",
         "legendgroup": "hormesis",
         "marker": {
          "color": "#FF97FF",
          "symbol": "circle"
         },
         "mode": "markers",
         "name": "hormesis",
         "showlegend": true,
         "type": "scattergl",
         "x": {
          "bdata": "ORulQJOGpUBI1aNAPhOkQA==",
          "dtype": "f4"
         },
         "xaxis": "x",
         "y": {
          "bdata": "yxEGQdjHBUF6dQVBBssFQQ==",
          "dtype": "f4"
         },
         "yaxis": "y"
        },
        {
         "customdata": [
          [
           "mosquitos"
          ],
          [
           "mosquitoes"
          ],
          [
           "mosquito"
          ]
         ],
         "hovertemplate": "color=parasitology<br>x=%{x}<br>y=%{y}<br>keyword=%{customdata[0]}<extra></extra>",
         "legendgroup": "parasitology",
         "marker": {
          "color": "#FECB52",
          "symbol": "circle"
         },
         "mode": "markers",
         "name": "parasitology",
         "showlegend": true,
         "type": "scattergl",
         "x": {
          "bdata": "y5EjQSxsI0HBkiNB",
          "dtype": "f4"
         },
         "xaxis": "x",
         "y": {
          "bdata": "X3j5vwpO+L/LO/a/",
          "dtype": "f4"
         },
         "yaxis": "y"
        },
        {
         "customdata": [
          [
           "pentamers"
          ],
          [
           "hexamers"
          ],
          [
           "pentamer"
          ]
         ],
         "hovertemplate": "color=oligomerization<br>x=%{x}<br>y=%{y}<br>keyword=%{customdata[0]}<extra></extra>",
         "legendgroup": "oligomerization",
         "marker": {
          "color": "#636efa",
          "symbol": "circle"
         },
         "mode": "markers",
         "name": "oligomerization",
         "showlegend": true,
         "type": "scattergl",
         "x": {
          "bdata": "QyEVQdbvFEEsohVB",
          "dtype": "f4"
         },
         "xaxis": "x",
         "y": {
          "bdata": "Hdi2QKlat0CNs7ZA",
          "dtype": "f4"
         },
         "yaxis": "y"
        },
        {
         "customdata": [
          [
           "microbiome"
          ],
          [
           "microbiota"
          ],
          [
           "microbiomes"
          ]
         ],
         "hovertemplate": "color=gut-brain axis<br>x=%{x}<br>y=%{y}<br>keyword=%{customdata[0]}<extra></extra>",
         "legendgroup": "gut-brain axis",
         "marker": {
          "color": "#EF553B",
          "symbol": "circle"
         },
         "mode": "markers",
         "name": "gut-brain axis",
         "showlegend": true,
         "type": "scattergl",
         "x": {
          "bdata": "n9tkQfrAZEG51mRB",
          "dtype": "f4"
         },
         "xaxis": "x",
         "y": {
          "bdata": "sPhCQGYkREAFn0FA",
          "dtype": "f4"
         },
         "yaxis": "y"
        },
        {
         "customdata": [
          [
           "neurotransmitters"
          ],
          [
           "oxytocin"
          ],
          [
           "orexinergic"
          ],
          [
           "oxytocins"
          ],
          [
           "serotonin"
          ]
         ],
         "hovertemplate": "color=neurotransmission<br>x=%{x}<br>y=%{y}<br>keyword=%{customdata[0]}<extra></extra>",
         "legendgroup": "neurotransmission",
         "marker": {
          "color": "#00cc96",
          "symbol": "circle"
         },
         "mode": "markers",
         "name": "neurotransmission",
         "showlegend": true,
         "type": "scattergl",
         "x": {
          "bdata": "UmyPQGOmmEDJkJdAXw6YQOKtl0A=",
          "dtype": "f4"
         },
         "xaxis": "x",
         "y": {
          "bdata": "IW4MQTM3CUHpkQlBt4kJQaUfCkE=",
          "dtype": "f4"
         },
         "yaxis": "y"
        },
        {
         "customdata": [
          [
           "predators"
          ],
          [
           "predator"
          ],
          [
           "predation"
          ],
          [
           "predatorial"
          ],
          [
           "predatory"
          ]
         ],
         "hovertemplate": "color=carnivory<br>x=%{x}<br>y=%{y}<br>keyword=%{customdata[0]}<extra></extra>",
         "legendgroup": "carnivory",
         "marker": {
          "color": "#ab63fa",
          "symbol": "circle"
         },
         "mode": "markers",
         "name": "carnivory",
         "showlegend": true,
         "type": "scattergl",
         "x": {
          "bdata": "jzkwQcx2MEG3PzBBY30wQXDSMEE=",
          "dtype": "f4"
         },
         "xaxis": "x",
         "y": {
          "bdata": "DY+PwFFRkMBeSI/AAyeQwOFHkMA=",
          "dtype": "f4"
         },
         "yaxis": "y"
        },
        {
         "customdata": [
          [
           "fungus"
          ],
          [
           "fungi"
          ],
          [
           "fungal"
          ]
         ],
         "hovertemplate": "color=saprotroph<br>x=%{x}<br>y=%{y}<br>keyword=%{customdata[0]}<extra></extra>",
         "legendgroup": "saprotroph",
         "marker": {
          "color": "#FFA15A",
          "symbol": "circle"
         },
         "mode": "markers",
         "name": "saprotroph",
         "showlegend": true,
         "type": "scattergl",
         "x": {
          "bdata": "jq9oQKjqZ0AWFGlA",
          "dtype": "f4"
         },
         "xaxis": "x",
         "y": {
          "bdata": "uJwBwE5CAsAXMAHA",
          "dtype": "f4"
         },
         "yaxis": "y"
        },
        {
         "customdata": [
          [
           "osteoclastogenesis"
          ],
          [
           "osteoclasts"
          ],
          [
           "osteoclast"
          ]
         ],
         "hovertemplate": "color=osteoimmunology<br>x=%{x}<br>y=%{y}<br>keyword=%{customdata[0]}<extra></extra>",
         "legendgroup": "osteoimmunology",
         "marker": {
          "color": "#19d3f3",
          "symbol": "circle"
         },
         "mode": "markers",
         "name": "osteoimmunology",
         "showlegend": true,
         "type": "scattergl",
         "x": {
          "bdata": "/E+3QBgUuEC3SrhA",
          "dtype": "f4"
         },
         "xaxis": "x",
         "y": {
          "bdata": "YzGVPvnuez7Mg3c+",
          "dtype": "f4"
         },
         "yaxis": "y"
        },
        {
         "customdata": [
          [
           "physiopedia"
          ],
          [
           "physiology"
          ],
          [
           "physiological"
          ]
         ],
         "hovertemplate": "color=bioelectricity<br>x=%{x}<br>y=%{y}<br>keyword=%{customdata[0]}<extra></extra>",
         "legendgroup": "bioelectricity",
         "marker": {
          "color": "#FF6692",
          "symbol": "circle"
         },
         "mode": "markers",
         "name": "bioelectricity",
         "showlegend": true,
         "type": "scattergl",
         "x": {
          "bdata": "LIFDQQIcRUEwrkVB",
          "dtype": "f4"
         },
         "xaxis": "x",
         "y": {
          "bdata": "wuJXQMwHV0DhClVA",
          "dtype": "f4"
         },
         "yaxis": "y"
        },
        {
         "customdata": [
          [
           "topology"
          ],
          [
           "topologically"
          ],
          [
           "topological"
          ]
         ],
         "hovertemplate": "color=homotopy<br>x=%{x}<br>y=%{y}<br>keyword=%{customdata[0]}<extra></extra>",
         "legendgroup": "homotopy",
         "marker": {
          "color": "#B6E880",
          "symbol": "circle"
         },
         "mode": "markers",
         "name": "homotopy",
         "showlegend": true,
         "type": "scattergl",
         "x": {
          "bdata": "FKoZQR3GGUFI1RlB",
          "dtype": "f4"
         },
         "xaxis": "x",
         "y": {
          "bdata": "0qWfQI5CoEDiDqFA",
          "dtype": "f4"
         },
         "yaxis": "y"
        },
        {
         "customdata": [
          [
           "electroencephalography"
          ],
          [
           "electroencephalogram"
          ],
          [
           "eeg"
          ]
         ],
         "hovertemplate": "color=neuroimaging<br>x=%{x}<br>y=%{y}<br>keyword=%{customdata[0]}<extra></extra>",
         "legendgroup": "neuroimaging",
         "marker": {
          "color": "#FF97FF",
          "symbol": "circle"
         },
         "mode": "markers",
         "name": "neuroimaging",
         "showlegend": true,
         "type": "scattergl",
         "x": {
          "bdata": "SFgPQFwJDECukQtA",
          "dtype": "f4"
         },
         "xaxis": "x",
         "y": {
          "bdata": "FV7lQCCm40BLseNA",
          "dtype": "f4"
         },
         "yaxis": "y"
        },
        {
         "customdata": [
          [
           "morphometrics"
          ],
          [
           "morphometry"
          ],
          [
           "morphometric"
          ]
         ],
         "hovertemplate": "color=geometric morphometry<br>x=%{x}<br>y=%{y}<br>keyword=%{customdata[0]}<extra></extra>",
         "legendgroup": "geometric morphometry",
         "marker": {
          "color": "#FECB52",
          "symbol": "circle"
         },
         "mode": "markers",
         "name": "geometric morphometry",
         "showlegend": true,
         "type": "scattergl",
         "x": {
          "bdata": "KksfQXFIH0GoOx9B",
          "dtype": "f4"
         },
         "xaxis": "x",
         "y": {
          "bdata": "La52QISqc0CatnlA",
          "dtype": "f4"
         },
         "yaxis": "y"
        },
        {
         "customdata": [
          [
           "hump"
          ],
          [
           "buckling"
          ]
         ],
         "hovertemplate": "color=buckling instability<br>x=%{x}<br>y=%{y}<br>keyword=%{customdata[0]}<extra></extra>",
         "legendgroup": "buckling instability",
         "marker": {
          "color": "#636efa",
          "symbol": "circle"
         },
         "mode": "markers",
         "name": "buckling instability",
         "showlegend": true,
         "type": "scattergl",
         "x": {
          "bdata": "q+0MQR5gDEE=",
          "dtype": "f4"
         },
         "xaxis": "x",
         "y": {
          "bdata": "0LRPQJLWU0A=",
          "dtype": "f4"
         },
         "yaxis": "y"
        },
        {
         "customdata": [
          [
           "marsupials"
          ],
          [
           "monotreme"
          ]
         ],
         "hovertemplate": "color=metatherian<br>x=%{x}<br>y=%{y}<br>keyword=%{customdata[0]}<extra></extra>",
         "legendgroup": "metatherian",
         "marker": {
          "color": "#EF553B",
          "symbol": "circle"
         },
         "mode": "markers",
         "name": "metatherian",
         "showlegend": true,
         "type": "scattergl",
         "x": {
          "bdata": "HlsXQbcHF0E=",
          "dtype": "f4"
         },
         "xaxis": "x",
         "y": {
          "bdata": "GmuFwIcLiMA=",
          "dtype": "f4"
         },
         "yaxis": "y"
        },
        {
         "customdata": [
          [
           "dehydroecdysone"
          ],
          [
           "deoxyecdysone"
          ],
          [
           "hydroxyecdysone"
          ],
          [
           "ecdysone"
          ]
         ],
         "hovertemplate": "color=ecdysteroid<br>x=%{x}<br>y=%{y}<br>keyword=%{customdata[0]}<extra></extra>",
         "legendgroup": "ecdysteroid",
         "marker": {
          "color": "#00cc96",
          "symbol": "circle"
         },
         "mode": "markers",
         "name": "ecdysteroid",
         "showlegend": true,
         "type": "scattergl",
         "x": {
          "bdata": "CmmoQLqIp0DtIqhAZyWoQA==",
          "dtype": "f4"
         },
         "xaxis": "x",
         "y": {
          "bdata": "RpwJQXEdCUGpeAlBnQ0JQQ==",
          "dtype": "f4"
         },
         "yaxis": "y"
        },
        {
         "customdata": [
          [
           "electroreceptors"
          ],
          [
           "electroreception"
          ],
          [
           "electroreceptive"
          ]
         ],
         "hovertemplate": "color=electrolocation<br>x=%{x}<br>y=%{y}<br>keyword=%{customdata[0]}<extra></extra>",
         "legendgroup": "electrolocation",
         "marker": {
          "color": "#ab63fa",
          "symbol": "circle"
         },
         "mode": "markers",
         "name": "electrolocation",
         "showlegend": true,
         "type": "scattergl",
         "x": {
          "bdata": "gCIEQXiwBEEW+QRB",
          "dtype": "f4"
         },
         "xaxis": "x",
         "y": {
          "bdata": "Ol8pQZSOKUFgGypB",
          "dtype": "f4"
         },
         "yaxis": "y"
        },
        {
         "customdata": [
          [
           "tintinnidium"
          ],
          [
           "tintinnids"
          ],
          [
           "tintinnopsis"
          ],
          [
           "tintinnid"
          ]
         ],
         "hovertemplate": "color=loricate<br>x=%{x}<br>y=%{y}<br>keyword=%{customdata[0]}<extra></extra>",
         "legendgroup": "loricate",
         "marker": {
          "color": "#FFA15A",
          "symbol": "circle"
         },
         "mode": "markers",
         "name": "loricate",
         "showlegend": true,
         "type": "scattergl",
         "x": {
          "bdata": "8u7eQBfu30DC8+FABV7gQA==",
          "dtype": "f4"
         },
         "xaxis": "x",
         "y": {
          "bdata": "zUJZP/dJZz9sdH0/OEVpPw==",
          "dtype": "f4"
         },
         "yaxis": "y"
        },
        {
         "customdata": [
          [
           "biomineralized"
          ],
          [
           "biomineralizing"
          ],
          [
           "biomineralization"
          ],
          [
           "biominerals"
          ],
          [
           "biomineral"
          ]
         ],
         "hovertemplate": "color=biomimetics<br>x=%{x}<br>y=%{y}<br>keyword=%{customdata[0]}<extra></extra>",
         "legendgroup": "biomimetics",
         "marker": {
          "color": "#19d3f3",
          "symbol": "circle"
         },
         "mode": "markers",
         "name": "biomimetics",
         "showlegend": true,
         "type": "scattergl",
         "x": {
          "bdata": "Xce6QMF1u0CVArtAnHS7QOjCu0A=",
          "dtype": "f4"
         },
         "xaxis": "x",
         "y": {
          "bdata": "HXkmvc13Zb1fwwa9hq1fvZjTYb0=",
          "dtype": "f4"
         },
         "yaxis": "y"
        },
        {
         "customdata": [
          [
           "diagenetically"
          ],
          [
           "diagenesis"
          ],
          [
           "diagenetic"
          ]
         ],
         "hovertemplate": "color=lithification<br>x=%{x}<br>y=%{y}<br>keyword=%{customdata[0]}<extra></extra>",
         "legendgroup": "lithification",
         "marker": {
          "color": "#FF6692",
          "symbol": "circle"
         },
         "mode": "markers",
         "name": "lithification",
         "showlegend": true,
         "type": "scattergl",
         "x": {
          "bdata": "TQ/HQGvHx0CsccdA",
          "dtype": "f4"
         },
         "xaxis": "x",
         "y": {
          "bdata": "hvkqv/3gLL+jpDS/",
          "dtype": "f4"
         },
         "yaxis": "y"
        },
        {
         "customdata": [
          [
           "hyperallometry"
          ],
          [
           "allometrically"
          ],
          [
           "hyperallometric"
          ],
          [
           "allometric"
          ],
          [
           "allometry"
          ]
         ],
         "hovertemplate": "color=scaling<br>x=%{x}<br>y=%{y}<br>keyword=%{customdata[0]}<extra></extra>",
         "legendgroup": "scaling",
         "marker": {
          "color": "#B6E880",
          "symbol": "circle"
         },
         "mode": "markers",
         "name": "scaling",
         "showlegend": true,
         "type": "scattergl",
         "x": {
          "bdata": "pscjQZLdI0EG5SNBnAckQRh+I0E=",
          "dtype": "f4"
         },
         "xaxis": "x",
         "y": {
          "bdata": "S2qFQPZEhUAno4VAsXyEQCpJhUA=",
          "dtype": "f4"
         },
         "yaxis": "y"
        },
        {
         "customdata": [
          [
           "hyphae"
          ],
          [
           "pseudohyphae"
          ],
          [
           "hypha"
          ]
         ],
         "hovertemplate": "color=mycelium<br>x=%{x}<br>y=%{y}<br>keyword=%{customdata[0]}<extra></extra>",
         "legendgroup": "mycelium",
         "marker": {
          "color": "#FF97FF",
          "symbol": "circle"
         },
         "mode": "markers",
         "name": "mycelium",
         "showlegend": true,
         "type": "scattergl",
         "x": {
          "bdata": "Uf1oQHyvaUAFNWlA",
          "dtype": "f4"
         },
         "xaxis": "x",
         "y": {
          "bdata": "B84AwGtYAcBzyQDA",
          "dtype": "f4"
         },
         "yaxis": "y"
        },
        {
         "customdata": [
          [
           "hooves"
          ],
          [
           "hoofed"
          ],
          [
           "hoof"
          ]
         ],
         "hovertemplate": "color=cloven<br>x=%{x}<br>y=%{y}<br>keyword=%{customdata[0]}<extra></extra>",
         "legendgroup": "cloven",
         "marker": {
          "color": "#FECB52",
          "symbol": "circle"
         },
         "mode": "markers",
         "name": "cloven",
         "showlegend": true,
         "type": "scattergl",
         "x": {
          "bdata": "eTUTQcXTFEFOrxNB",
          "dtype": "f4"
         },
         "xaxis": "x",
         "y": {
          "bdata": "2qSowPRIpMC3+6fA",
          "dtype": "f4"
         },
         "yaxis": "y"
        },
        {
         "customdata": [
          [
           "vipers"
          ],
          [
           "venom"
          ],
          [
           "envenomation"
          ],
          [
           "venoms"
          ]
         ],
         "hovertemplate": "color=toxicofery<br>x=%{x}<br>y=%{y}<br>keyword=%{customdata[0]}<extra></extra>",
         "legendgroup": "toxicofery",
         "marker": {
          "color": "#636efa",
          "symbol": "circle"
         },
         "mode": "markers",
         "name": "toxicofery",
         "showlegend": true,
         "type": "scattergl",
         "x": {
          "bdata": "ep8fQchHIUFB1SFBzAUhQQ==",
          "dtype": "f4"
         },
         "xaxis": "x",
         "y": {
          "bdata": "Ir82wJ+CPcBkVkDAvYc8wA==",
          "dtype": "f4"
         },
         "yaxis": "y"
        },
        {
         "customdata": [
          [
           "flagellum"
          ],
          [
           "flagellar"
          ],
          [
           "flagellates"
          ],
          [
           "flagella"
          ],
          [
           "intraflagellar"
          ]
         ],
         "hovertemplate": "color=cilia<br>x=%{x}<br>y=%{y}<br>keyword=%{customdata[0]}<extra></extra>",
         "legendgroup": "cilia",
         "marker": {
          "color": "#EF553B",
          "symbol": "circle"
         },
         "mode": "markers",
         "name": "cilia",
         "showlegend": true,
         "type": "scattergl",
         "x": {
          "bdata": "AawIQSBFCUGI7whBUw4JQdTgCEE=",
          "dtype": "f4"
         },
         "xaxis": "x",
         "y": {
          "bdata": "tMXkvg/t9749RAS/mQPxvjmK874=",
          "dtype": "f4"
         },
         "yaxis": "y"
        },
        {
         "customdata": [
          [
           "pesticides"
          ],
          [
           "insecticidal"
          ]
         ],
         "hovertemplate": "color=biopesticides<br>x=%{x}<br>y=%{y}<br>keyword=%{customdata[0]}<extra></extra>",
         "legendgroup": "biopesticides",
         "marker": {
          "color": "#00cc96",
          "symbol": "circle"
         },
         "mode": "markers",
         "name": "biopesticides",
         "showlegend": true,
         "type": "scattergl",
         "x": {
          "bdata": "2js+Qbj/IUE=",
          "dtype": "f4"
         },
         "xaxis": "x",
         "y": {
          "bdata": "NBz7wLni7L8=",
          "dtype": "f4"
         },
         "yaxis": "y"
        },
        {
         "customdata": [
          [
           "shapes"
          ],
          [
           "shape"
          ],
          [
           "shaped"
          ],
          [
           "patterns"
          ]
         ],
         "hovertemplate": "color=tessellation<br>x=%{x}<br>y=%{y}<br>keyword=%{customdata[0]}<extra></extra>",
         "legendgroup": "tessellation",
         "marker": {
          "color": "#ab63fa",
          "symbol": "circle"
         },
         "mode": "markers",
         "name": "tessellation",
         "showlegend": true,
         "type": "scattergl",
         "x": {
          "bdata": "ypAXQQxcGEGFJRNB9RgYQQ==",
          "dtype": "f4"
         },
         "xaxis": "x",
         "y": {
          "bdata": "3syPQMZ3i0CqxHpA5PSOQA==",
          "dtype": "f4"
         },
         "yaxis": "y"
        },
        {
         "customdata": [
          [
           "phospholipid"
          ],
          [
           "lipid"
          ]
         ],
         "hovertemplate": "color=lipid bilayer<br>x=%{x}<br>y=%{y}<br>keyword=%{customdata[0]}<extra></extra>",
         "legendgroup": "lipid bilayer",
         "marker": {
          "color": "#FFA15A",
          "symbol": "circle"
         },
         "mode": "markers",
         "name": "lipid bilayer",
         "showlegend": true,
         "type": "scattergl",
         "x": {
          "bdata": "gxy1QHqXtUA=",
          "dtype": "f4"
         },
         "xaxis": "x",
         "y": {
          "bdata": "mJjOQB4h0UA=",
          "dtype": "f4"
         },
         "yaxis": "y"
        },
        {
         "customdata": [
          [
           "syrphid"
          ],
          [
           "spiders"
          ],
          [
           "scorpion"
          ],
          [
           "scorpions"
          ]
         ],
         "hovertemplate": "color=arachnology<br>x=%{x}<br>y=%{y}<br>keyword=%{customdata[0]}<extra></extra>",
         "legendgroup": "arachnology",
         "marker": {
          "color": "#19d3f3",
          "symbol": "circle"
         },
         "mode": "markers",
         "name": "arachnology",
         "showlegend": true,
         "type": "scattergl",
         "x": {
          "bdata": "DzQZQbXxIUG3QxxBow0eQQ==",
          "dtype": "f4"
         },
         "xaxis": "x",
         "y": {
          "bdata": "jykfwMGZA8AFgCPAPCIXwA==",
          "dtype": "f4"
         },
         "yaxis": "y"
        },
        {
         "customdata": [
          [
           "reproductive"
          ],
          [
           "fecundity"
          ],
          [
           "reproduction"
          ]
         ],
         "hovertemplate": "color=fertilization<br>x=%{x}<br>y=%{y}<br>keyword=%{customdata[0]}<extra></extra>",
         "legendgroup": "fertilization",
         "marker": {
          "color": "#FF6692",
          "symbol": "circle"
         },
         "mode": "markers",
         "name": "fertilization",
         "showlegend": true,
         "type": "scattergl",
         "x": {
          "bdata": "2ms/QZC8P0HwUz9B",
          "dtype": "f4"
         },
         "xaxis": "x",
         "y": {
          "bdata": "kH6GvzLCh799MYK/",
          "dtype": "f4"
         },
         "yaxis": "y"
        },
        {
         "customdata": [
          [
           "fractals"
          ],
          [
           "fractal"
          ],
          [
           "fractality"
          ]
         ],
         "hovertemplate": "color=mathematical morphology<br>x=%{x}<br>y=%{y}<br>keyword=%{customdata[0]}<extra></extra>",
         "legendgroup": "mathematical morphology",
         "marker": {
          "color": "#B6E880",
          "symbol": "circle"
         },
         "mode": "markers",
         "name": "mathematical morphology",
         "showlegend": true,
         "type": "scattergl",
         "x": {
          "bdata": "/ywZQRdJGUGkAhlB",
          "dtype": "f4"
         },
         "xaxis": "x",
         "y": {
          "bdata": "hIymQBtepEAn3KZA",
          "dtype": "f4"
         },
         "yaxis": "y"
        },
        {
         "customdata": [
          [
           "endosymbionts"
          ],
          [
           "endosymbiosis"
          ],
          [
           "endosymbiotic"
          ],
          [
           "endosymbiont"
          ]
         ],
         "hovertemplate": "color=horizontal gene transfer<br>x=%{x}<br>y=%{y}<br>keyword=%{customdata[0]}<extra></extra>",
         "legendgroup": "horizontal gene transfer",
         "marker": {
          "color": "#FF97FF",
          "symbol": "circle"
         },
         "mode": "markers",
         "name": "horizontal gene transfer",
         "showlegend": true,
         "type": "scattergl",
         "x": {
          "bdata": "IWdnQYOAZkF41WZB2kZnQQ==",
          "dtype": "f4"
         },
         "xaxis": "x",
         "y": {
          "bdata": "Ql8NQF0wBkCMEghAKf4JQA==",
          "dtype": "f4"
         },
         "yaxis": "y"
        },
        {
         "customdata": [
          [
           "photoreception"
          ],
          [
           "photoreceptor"
          ],
          [
           "photoreceptors"
          ]
         ],
         "hovertemplate": "color=photoreception<br>x=%{x}<br>y=%{y}<br>keyword=%{customdata[0]}<extra></extra>",
         "legendgroup": "photoreception",
         "marker": {
          "color": "#FECB52",
          "symbol": "circle"
         },
         "mode": "markers",
         "name": "photoreception",
         "showlegend": true,
         "type": "scattergl",
         "x": {
          "bdata": "PBtWQcFaVEGuKFZB",
          "dtype": "f4"
         },
         "xaxis": "x",
         "y": {
          "bdata": "avXsQEJ+7kCPH+1A",
          "dtype": "f4"
         },
         "yaxis": "y"
        },
        {
         "customdata": [
          [
           "mimicked"
          ],
          [
           "mimicking"
          ],
          [
           "mimicry"
          ],
          [
           "mimics"
          ]
         ],
         "hovertemplate": "color=analogy<br>x=%{x}<br>y=%{y}<br>keyword=%{customdata[0]}<extra></extra>",
         "legendgroup": "analogy",
         "marker": {
          "color": "#636efa",
          "symbol": "circle"
         },
         "mode": "markers",
         "name": "analogy",
         "showlegend": true,
         "type": "scattergl",
         "x": {
          "bdata": "1hkxQeZvMUGpLDFB698wQQ==",
          "dtype": "f4"
         },
         "xaxis": "x",
         "y": {
          "bdata": "cP9bQDyZW0DrzVtAXzpbQA==",
          "dtype": "f4"
         },
         "yaxis": "y"
        },
        {
         "customdata": [
          [
           "metamorphose"
          ],
          [
           "metasomas"
          ],
          [
           "metamorphosis"
          ]
         ],
         "hovertemplate": "color=metamorphism<br>x=%{x}<br>y=%{y}<br>keyword=%{customdata[0]}<extra></extra>",
         "legendgroup": "metamorphism",
         "marker": {
          "color": "#EF553B",
          "symbol": "circle"
         },
         "mode": "markers",
         "name": "metamorphism",
         "showlegend": true,
         "type": "scattergl",
         "x": {
          "bdata": "zE8gQRwDIUGpWiBB",
          "dtype": "f4"
         },
         "xaxis": "x",
         "y": {
          "bdata": "cc0kQIZ0KECjChxA",
          "dtype": "f4"
         },
         "yaxis": "y"
        },
        {
         "customdata": [
          [
           "corneum"
          ],
          [
           "retina"
          ],
          [
           "cornea"
          ],
          [
           "retinal"
          ]
         ],
         "hovertemplate": "color=ocular physiology<br>x=%{x}<br>y=%{y}<br>keyword=%{customdata[0]}<extra></extra>",
         "legendgroup": "ocular physiology",
         "marker": {
          "color": "#00cc96",
          "symbol": "circle"
         },
         "mode": "markers",
         "name": "ocular physiology",
         "showlegend": true,
         "type": "scattergl",
         "x": {
          "bdata": "qauXQLuzTkERrU5BhmdQQQ==",
          "dtype": "f4"
         },
         "xaxis": "x",
         "y": {
          "bdata": "mWStQCAz9EA4UvRAGbHyQA==",
          "dtype": "f4"
         },
         "yaxis": "y"
        },
        {
         "customdata": [
          [
           "mandibles"
          ],
          [
           "mandible"
          ],
          [
           "mandibulae"
          ]
         ],
         "hovertemplate": "color=gnathology<br>x=%{x}<br>y=%{y}<br>keyword=%{customdata[0]}<extra></extra>",
         "legendgroup": "gnathology",
         "marker": {
          "color": "#ab63fa",
          "symbol": "circle"
         },
         "mode": "markers",
         "name": "gnathology",
         "showlegend": true,
         "type": "scattergl",
         "x": {
          "bdata": "vWqvQM4tsEBXWa1A",
          "dtype": "f4"
         },
         "xaxis": "x",
         "y": {
          "bdata": "iJwZQM2WGEBvzRtA",
          "dtype": "f4"
         },
         "yaxis": "y"
        },
        {
         "customdata": [
          [
           "invertebrates"
          ],
          [
           "insecta"
          ],
          [
           "vertebrates"
          ],
          [
           "insect"
          ],
          [
           "insects"
          ]
         ],
         "hovertemplate": "color=hexapod<br>x=%{x}<br>y=%{y}<br>keyword=%{customdata[0]}<extra></extra>",
         "legendgroup": "hexapod",
         "marker": {
          "color": "#FFA15A",
          "symbol": "circle"
         },
         "mode": "markers",
         "name": "hexapod",
         "showlegend": true,
         "type": "scattergl",
         "x": {
          "bdata": "uCIfQSvXIkEvOBlBlMwjQVhpIkE=",
          "dtype": "f4"
         },
         "xaxis": "x",
         "y": {
          "bdata": "6N8AwEuJ9L+LiDjApxD4vziW+78=",
          "dtype": "f4"
         },
         "yaxis": "y"
        },
        {
         "customdata": [
          [
           "sterocilia"
          ],
          [
           "stereociliary"
          ],
          [
           "stereocilia"
          ]
         ],
         "hovertemplate": "color=hair cell<br>x=%{x}<br>y=%{y}<br>keyword=%{customdata[0]}<extra></extra>",
         "legendgroup": "hair cell",
         "marker": {
          "color": "#19d3f3",
          "symbol": "circle"
         },
         "mode": "markers",
         "name": "hair cell",
         "showlegend": true,
         "type": "scattergl",
         "x": {
          "bdata": "i2n0QOyc9kDdWPdA",
          "dtype": "f4"
         },
         "xaxis": "x",
         "y": {
          "bdata": "ob0XQXgVF0FfOhhB",
          "dtype": "f4"
         },
         "yaxis": "y"
        },
        {
         "customdata": [
          [
           "crabs"
          ],
          [
           "shrimps"
          ]
         ],
         "hovertemplate": "color=decapod<br>x=%{x}<br>y=%{y}<br>keyword=%{customdata[0]}<extra></extra>",
         "legendgroup": "decapod",
         "marker": {
          "color": "#FF6692",
          "symbol": "circle"
         },
         "mode": "markers",
         "name": "decapod",
         "showlegend": true,
         "type": "scattergl",
         "x": {
          "bdata": "ZA8OQZcfDUE=",
          "dtype": "f4"
         },
         "xaxis": "x",
         "y": {
          "bdata": "jWUfwE8AKcA=",
          "dtype": "f4"
         },
         "yaxis": "y"
        },
        {
         "customdata": [
          [
           "artiodactyl"
          ],
          [
           "artiodactyls"
          ],
          [
           "artiodactyla"
          ]
         ],
         "hovertemplate": "color=paraxonic<br>x=%{x}<br>y=%{y}<br>keyword=%{customdata[0]}<extra></extra>",
         "legendgroup": "paraxonic",
         "marker": {
          "color": "#B6E880",
          "symbol": "circle"
         },
         "mode": "markers",
         "name": "paraxonic",
         "showlegend": true,
         "type": "scattergl",
         "x": {
          "bdata": "69QTQe50FEE+NBRB",
          "dtype": "f4"
         },
         "xaxis": "x",
         "y": {
          "bdata": "Q/KXwIGTlcC/gpXA",
          "dtype": "f4"
         },
         "yaxis": "y"
        },
        {
         "customdata": [
          [
           "herbivorous"
          ],
          [
           "herbivore"
          ],
          [
           "herbivores"
          ]
         ],
         "hovertemplate": "color=folivory<br>x=%{x}<br>y=%{y}<br>keyword=%{customdata[0]}<extra></extra>",
         "legendgroup": "folivory",
         "marker": {
          "color": "#FF97FF",
          "symbol": "circle"
         },
         "mode": "markers",
         "name": "folivory",
         "showlegend": true,
         "type": "scattergl",
         "x": {
          "bdata": "540uQeswLkE55C1B",
          "dtype": "f4"
         },
         "xaxis": "x",
         "y": {
          "bdata": "gXSRwLkqkcCu4ZHA",
          "dtype": "f4"
         },
         "yaxis": "y"
        },
        {
         "customdata": [
          [
           "plumages"
          ],
          [
           "chameleons"
          ]
         ],
         "hovertemplate": "color=metachromatism<br>x=%{x}<br>y=%{y}<br>keyword=%{customdata[0]}<extra></extra>",
         "legendgroup": "metachromatism",
         "marker": {
          "color": "#FECB52",
          "symbol": "circle"
         },
         "mode": "markers",
         "name": "metachromatism",
         "showlegend": true,
         "type": "scattergl",
         "x": {
          "bdata": "lRA0QeGlMEE=",
          "dtype": "f4"
         },
         "xaxis": "x",
         "y": {
          "bdata": "iXUuwKfQLsA=",
          "dtype": "f4"
         },
         "yaxis": "y"
        },
        {
         "customdata": [
          [
           "periosteal"
          ],
          [
           "periodontal"
          ]
         ],
         "hovertemplate": "color=osteoregeneration<br>x=%{x}<br>y=%{y}<br>keyword=%{customdata[0]}<extra></extra>",
         "legendgroup": "osteoregeneration",
         "marker": {
          "color": "#636efa",
          "symbol": "circle"
         },
         "mode": "markers",
         "name": "osteoregeneration",
         "showlegend": true,
         "type": "scattergl",
         "x": {
          "bdata": "51+vQEGlrkA=",
          "dtype": "f4"
         },
         "xaxis": "x",
         "y": {
          "bdata": "IT3yP3L0+D8=",
          "dtype": "f4"
         },
         "yaxis": "y"
        },
        {
         "customdata": [
          [
           "crystallins"
          ],
          [
           "crystals"
          ],
          [
           "crystallin"
          ]
         ],
         "hovertemplate": "color=protein crystallography<br>x=%{x}<br>y=%{y}<br>keyword=%{customdata[0]}<extra></extra>",
         "legendgroup": "protein crystallography",
         "marker": {
          "color": "#EF553B",
          "symbol": "circle"
         },
         "mode": "markers",
         "name": "protein crystallography",
         "showlegend": true,
         "type": "scattergl",
         "x": {
          "bdata": "eSjAQEkDwEAJa8FA",
          "dtype": "f4"
         },
         "xaxis": "x",
         "y": {
          "bdata": "yoAtvijFH76+xVO+",
          "dtype": "f4"
         },
         "yaxis": "y"
        },
        {
         "customdata": [
          [
           "pigeons"
          ],
          [
           "parrots"
          ]
         ],
         "hovertemplate": "color=psittacology<br>x=%{x}<br>y=%{y}<br>keyword=%{customdata[0]}<extra></extra>",
         "legendgroup": "psittacology",
         "marker": {
          "color": "#00cc96",
          "symbol": "circle"
         },
         "mode": "markers",
         "name": "psittacology",
         "showlegend": true,
         "type": "scattergl",
         "x": {
          "bdata": "i1M5QbchOEE=",
          "dtype": "f4"
         },
         "xaxis": "x",
         "y": {
          "bdata": "nXwiwBxAJcA=",
          "dtype": "f4"
         },
         "yaxis": "y"
        },
        {
         "customdata": [
          [
           "calcitic"
          ],
          [
           "hydroxyapatite"
          ]
         ],
         "hovertemplate": "color=bioceramics<br>x=%{x}<br>y=%{y}<br>keyword=%{customdata[0]}<extra></extra>",
         "legendgroup": "bioceramics",
         "marker": {
          "color": "#ab63fa",
          "symbol": "circle"
         },
         "mode": "markers",
         "name": "bioceramics",
         "showlegend": true,
         "type": "scattergl",
         "x": {
          "bdata": "RXvBQOLSu0A=",
          "dtype": "f4"
         },
         "xaxis": "x",
         "y": {
          "bdata": "b0o4vprRXLs=",
          "dtype": "f4"
         },
         "yaxis": "y"
        },
        {
         "customdata": [
          [
           "epidermis"
          ],
          [
           "dermis"
          ]
         ],
         "hovertemplate": "color=stratum<br>x=%{x}<br>y=%{y}<br>keyword=%{customdata[0]}<extra></extra>",
         "legendgroup": "stratum",
         "marker": {
          "color": "#FFA15A",
          "symbol": "circle"
         },
         "mode": "markers",
         "name": "stratum",
         "showlegend": true,
         "type": "scattergl",
         "x": {
          "bdata": "OTGWQI7ImEA=",
          "dtype": "f4"
         },
         "xaxis": "x",
         "y": {
          "bdata": "pi+sQAGRrUA=",
          "dtype": "f4"
         },
         "yaxis": "y"
        },
        {
         "customdata": [
          [
           "breathing"
          ],
          [
           "breath"
          ],
          [
           "breaths"
          ],
          [
           "breathe"
          ],
          [
           "breathes"
          ]
         ],
         "hovertemplate": "color=spirometry<br>x=%{x}<br>y=%{y}<br>keyword=%{customdata[0]}<extra></extra>",
         "legendgroup": "spirometry",
         "marker": {
          "color": "#19d3f3",
          "symbol": "circle"
         },
         "mode": "markers",
         "name": "spirometry",
         "showlegend": true,
         "type": "scattergl",
         "x": {
          "bdata": "svMtQLePMEBHyi5AHSQtQCB9LEA=",
          "dtype": "f4"
         },
         "xaxis": "x",
         "y": {
          "bdata": "elJNQIphT0D3yk1Av0xNQPryTEA=",
          "dtype": "f4"
         },
         "yaxis": "y"
        },
        {
         "customdata": [
          [
           "magnetofossils"
          ],
          [
           "microfossils"
          ]
         ],
         "hovertemplate": "color=magnetotroph<br>x=%{x}<br>y=%{y}<br>keyword=%{customdata[0]}<extra></extra>",
         "legendgroup": "magnetotroph",
         "marker": {
          "color": "#FF6692",
          "symbol": "circle"
         },
         "mode": "markers",
         "name": "magnetotroph",
         "showlegend": true,
         "type": "scattergl",
         "x": {
          "bdata": "JeDLQPfWy0A=",
          "dtype": "f4"
         },
         "xaxis": "x",
         "y": {
          "bdata": "8HTmv5Hh6L8=",
          "dtype": "f4"
         },
         "yaxis": "y"
        },
        {
         "customdata": [
          [
           "dermal"
          ],
          [
           "cuticular"
          ]
         ],
         "hovertemplate": "color=integument<br>x=%{x}<br>y=%{y}<br>keyword=%{customdata[0]}<extra></extra>",
         "legendgroup": "integument",
         "marker": {
          "color": "#B6E880",
          "symbol": "circle"
         },
         "mode": "markers",
         "name": "integument",
         "showlegend": true,
         "type": "scattergl",
         "x": {
          "bdata": "SmCXQJGkmUA=",
          "dtype": "f4"
         },
         "xaxis": "x",
         "y": {
          "bdata": "4ICrQBNmqkA=",
          "dtype": "f4"
         },
         "yaxis": "y"
        },
        {
         "customdata": [
          [
           "porpoises"
          ],
          [
           "platypuses"
          ]
         ],
         "hovertemplate": "color=monotrematology<br>x=%{x}<br>y=%{y}<br>keyword=%{customdata[0]}<extra></extra>",
         "legendgroup": "monotrematology",
         "marker": {
          "color": "#FF97FF",
          "symbol": "circle"
         },
         "mode": "markers",
         "name": "monotrematology",
         "showlegend": true,
         "type": "scattergl",
         "x": {
          "bdata": "jGoOQdN/EUE=",
          "dtype": "f4"
         },
         "xaxis": "x",
         "y": {
          "bdata": "Ens+wGhhJsA=",
          "dtype": "f4"
         },
         "yaxis": "y"
        },
        {
         "customdata": [
          [
           "lipopolysaccharide"
          ],
          [
           "peptidoglycan"
          ],
          [
           "lipopolysaccharides"
          ]
         ],
         "hovertemplate": "color=endotoxin<br>x=%{x}<br>y=%{y}<br>keyword=%{customdata[0]}<extra></extra>",
         "legendgroup": "endotoxin",
         "marker": {
          "color": "#FECB52",
          "symbol": "circle"
         },
         "mode": "markers",
         "name": "endotoxin",
         "showlegend": true,
         "type": "scattergl",
         "x": {
          "bdata": "NeK1QDFrtUC8/7VA",
          "dtype": "f4"
         },
         "xaxis": "x",
         "y": {
          "bdata": "/cHLQAIpxkBTN8tA",
          "dtype": "f4"
         },
         "yaxis": "y"
        },
        {
         "customdata": [
          [
           "geometries"
          ],
          [
           "geometric"
          ],
          [
           "geometrically"
          ]
         ],
         "hovertemplate": "color=topography<br>x=%{x}<br>y=%{y}<br>keyword=%{customdata[0]}<extra></extra>",
         "legendgroup": "topography",
         "marker": {
          "color": "#636efa",
          "symbol": "circle"
         },
         "mode": "markers",
         "name": "topography",
         "showlegend": true,
         "type": "scattergl",
         "x": {
          "bdata": "hJcZQRasGEHRXRlB",
          "dtype": "f4"
         },
         "xaxis": "x",
         "y": {
          "bdata": "KzOgQPrQnEBlB59A",
          "dtype": "f4"
         },
         "yaxis": "y"
        },
        {
         "customdata": [
          [
           "biomaterials"
          ],
          [
           "bioengineering"
          ]
         ],
         "hovertemplate": "color=biofabrication<br>x=%{x}<br>y=%{y}<br>keyword=%{customdata[0]}<extra></extra>",
         "legendgroup": "biofabrication",
         "marker": {
          "color": "#EF553B",
          "symbol": "circle"
         },
         "mode": "markers",
         "name": "biofabrication",
         "showlegend": true,
         "type": "scattergl",
         "x": {
          "bdata": "8aQ5QcsZO0E=",
          "dtype": "f4"
         },
         "xaxis": "x",
         "y": {
          "bdata": "s2dfQMZxYUA=",
          "dtype": "f4"
         },
         "yaxis": "y"
        },
        {
         "customdata": [
          [
           "expiratory"
          ],
          [
           "respiratory"
          ],
          [
           "exhalation"
          ]
         ],
         "hovertemplate": "color=ventilation<br>x=%{x}<br>y=%{y}<br>keyword=%{customdata[0]}<extra></extra>",
         "legendgroup": "ventilation",
         "marker": {
          "color": "#00cc96",
          "symbol": "circle"
         },
         "mode": "markers",
         "name": "ventilation",
         "showlegend": true,
         "type": "scattergl",
         "x": {
          "bdata": "YhgzQCFcNEDngzJA",
          "dtype": "f4"
         },
         "xaxis": "x",
         "y": {
          "bdata": "SIVQQG8UT0B1blBA",
          "dtype": "f4"
         },
         "yaxis": "y"
        },
        {
         "customdata": [
          [
           "eutardigrade"
          ],
          [
           "eutardigrades"
          ],
          [
           "eutardigrada"
          ]
         ],
         "hovertemplate": "color=cryptobiont<br>x=%{x}<br>y=%{y}<br>keyword=%{customdata[0]}<extra></extra>",
         "legendgroup": "cryptobiont",
         "marker": {
          "color": "#ab63fa",
          "symbol": "circle"
         },
         "mode": "markers",
         "name": "cryptobiont",
         "showlegend": true,
         "type": "scattergl",
         "x": {
          "bdata": "p4UbQZ2rGkEYwBpB",
          "dtype": "f4"
         },
         "xaxis": "x",
         "y": {
          "bdata": "zcvCv6GQv7/Dor+/",
          "dtype": "f4"
         },
         "yaxis": "y"
        }
       ],
       "layout": {
        "height": 1000,
        "legend": {
         "title": {
          "text": "color"
         },
         "tracegroupgap": 0
        },
        "template": {
         "data": {
          "bar": [
           {
            "error_x": {
             "color": "#2a3f5f"
            },
            "error_y": {
             "color": "#2a3f5f"
            },
            "marker": {
             "line": {
              "color": "#E5ECF6",
              "width": 0.5
             },
             "pattern": {
              "fillmode": "overlay",
              "size": 10,
              "solidity": 0.2
             }
            },
            "type": "bar"
           }
          ],
          "barpolar": [
           {
            "marker": {
             "line": {
              "color": "#E5ECF6",
              "width": 0.5
             },
             "pattern": {
              "fillmode": "overlay",
              "size": 10,
              "solidity": 0.2
             }
            },
            "type": "barpolar"
           }
          ],
          "carpet": [
           {
            "aaxis": {
             "endlinecolor": "#2a3f5f",
             "gridcolor": "white",
             "linecolor": "white",
             "minorgridcolor": "white",
             "startlinecolor": "#2a3f5f"
            },
            "baxis": {
             "endlinecolor": "#2a3f5f",
             "gridcolor": "white",
             "linecolor": "white",
             "minorgridcolor": "white",
             "startlinecolor": "#2a3f5f"
            },
            "type": "carpet"
           }
          ],
          "choropleth": [
           {
            "colorbar": {
             "outlinewidth": 0,
             "ticks": ""
            },
            "type": "choropleth"
           }
          ],
          "contour": [
           {
            "colorbar": {
             "outlinewidth": 0,
             "ticks": ""
            },
            "colorscale": [
             [
              0,
              "#0d0887"
             ],
             [
              0.1111111111111111,
              "#46039f"
             ],
             [
              0.2222222222222222,
              "#7201a8"
             ],
             [
              0.3333333333333333,
              "#9c179e"
             ],
             [
              0.4444444444444444,
              "#bd3786"
             ],
             [
              0.5555555555555556,
              "#d8576b"
             ],
             [
              0.6666666666666666,
              "#ed7953"
             ],
             [
              0.7777777777777778,
              "#fb9f3a"
             ],
             [
              0.8888888888888888,
              "#fdca26"
             ],
             [
              1,
              "#f0f921"
             ]
            ],
            "type": "contour"
           }
          ],
          "contourcarpet": [
           {
            "colorbar": {
             "outlinewidth": 0,
             "ticks": ""
            },
            "type": "contourcarpet"
           }
          ],
          "heatmap": [
           {
            "colorbar": {
             "outlinewidth": 0,
             "ticks": ""
            },
            "colorscale": [
             [
              0,
              "#0d0887"
             ],
             [
              0.1111111111111111,
              "#46039f"
             ],
             [
              0.2222222222222222,
              "#7201a8"
             ],
             [
              0.3333333333333333,
              "#9c179e"
             ],
             [
              0.4444444444444444,
              "#bd3786"
             ],
             [
              0.5555555555555556,
              "#d8576b"
             ],
             [
              0.6666666666666666,
              "#ed7953"
             ],
             [
              0.7777777777777778,
              "#fb9f3a"
             ],
             [
              0.8888888888888888,
              "#fdca26"
             ],
             [
              1,
              "#f0f921"
             ]
            ],
            "type": "heatmap"
           }
          ],
          "histogram": [
           {
            "marker": {
             "pattern": {
              "fillmode": "overlay",
              "size": 10,
              "solidity": 0.2
             }
            },
            "type": "histogram"
           }
          ],
          "histogram2d": [
           {
            "colorbar": {
             "outlinewidth": 0,
             "ticks": ""
            },
            "colorscale": [
             [
              0,
              "#0d0887"
             ],
             [
              0.1111111111111111,
              "#46039f"
             ],
             [
              0.2222222222222222,
              "#7201a8"
             ],
             [
              0.3333333333333333,
              "#9c179e"
             ],
             [
              0.4444444444444444,
              "#bd3786"
             ],
             [
              0.5555555555555556,
              "#d8576b"
             ],
             [
              0.6666666666666666,
              "#ed7953"
             ],
             [
              0.7777777777777778,
              "#fb9f3a"
             ],
             [
              0.8888888888888888,
              "#fdca26"
             ],
             [
              1,
              "#f0f921"
             ]
            ],
            "type": "histogram2d"
           }
          ],
          "histogram2dcontour": [
           {
            "colorbar": {
             "outlinewidth": 0,
             "ticks": ""
            },
            "colorscale": [
             [
              0,
              "#0d0887"
             ],
             [
              0.1111111111111111,
              "#46039f"
             ],
             [
              0.2222222222222222,
              "#7201a8"
             ],
             [
              0.3333333333333333,
              "#9c179e"
             ],
             [
              0.4444444444444444,
              "#bd3786"
             ],
             [
              0.5555555555555556,
              "#d8576b"
             ],
             [
              0.6666666666666666,
              "#ed7953"
             ],
             [
              0.7777777777777778,
              "#fb9f3a"
             ],
             [
              0.8888888888888888,
              "#fdca26"
             ],
             [
              1,
              "#f0f921"
             ]
            ],
            "type": "histogram2dcontour"
           }
          ],
          "mesh3d": [
           {
            "colorbar": {
             "outlinewidth": 0,
             "ticks": ""
            },
            "type": "mesh3d"
           }
          ],
          "parcoords": [
           {
            "line": {
             "colorbar": {
              "outlinewidth": 0,
              "ticks": ""
             }
            },
            "type": "parcoords"
           }
          ],
          "pie": [
           {
            "automargin": true,
            "type": "pie"
           }
          ],
          "scatter": [
           {
            "fillpattern": {
             "fillmode": "overlay",
             "size": 10,
             "solidity": 0.2
            },
            "type": "scatter"
           }
          ],
          "scatter3d": [
           {
            "line": {
             "colorbar": {
              "outlinewidth": 0,
              "ticks": ""
             }
            },
            "marker": {
             "colorbar": {
              "outlinewidth": 0,
              "ticks": ""
             }
            },
            "type": "scatter3d"
           }
          ],
          "scattercarpet": [
           {
            "marker": {
             "colorbar": {
              "outlinewidth": 0,
              "ticks": ""
             }
            },
            "type": "scattercarpet"
           }
          ],
          "scattergeo": [
           {
            "marker": {
             "colorbar": {
              "outlinewidth": 0,
              "ticks": ""
             }
            },
            "type": "scattergeo"
           }
          ],
          "scattergl": [
           {
            "marker": {
             "colorbar": {
              "outlinewidth": 0,
              "ticks": ""
             }
            },
            "type": "scattergl"
           }
          ],
          "scattermap": [
           {
            "marker": {
             "colorbar": {
              "outlinewidth": 0,
              "ticks": ""
             }
            },
            "type": "scattermap"
           }
          ],
          "scattermapbox": [
           {
            "marker": {
             "colorbar": {
              "outlinewidth": 0,
              "ticks": ""
             }
            },
            "type": "scattermapbox"
           }
          ],
          "scatterpolar": [
           {
            "marker": {
             "colorbar": {
              "outlinewidth": 0,
              "ticks": ""
             }
            },
            "type": "scatterpolar"
           }
          ],
          "scatterpolargl": [
           {
            "marker": {
             "colorbar": {
              "outlinewidth": 0,
              "ticks": ""
             }
            },
            "type": "scatterpolargl"
           }
          ],
          "scatterternary": [
           {
            "marker": {
             "colorbar": {
              "outlinewidth": 0,
              "ticks": ""
             }
            },
            "type": "scatterternary"
           }
          ],
          "surface": [
           {
            "colorbar": {
             "outlinewidth": 0,
             "ticks": ""
            },
            "colorscale": [
             [
              0,
              "#0d0887"
             ],
             [
              0.1111111111111111,
              "#46039f"
             ],
             [
              0.2222222222222222,
              "#7201a8"
             ],
             [
              0.3333333333333333,
              "#9c179e"
             ],
             [
              0.4444444444444444,
              "#bd3786"
             ],
             [
              0.5555555555555556,
              "#d8576b"
             ],
             [
              0.6666666666666666,
              "#ed7953"
             ],
             [
              0.7777777777777778,
              "#fb9f3a"
             ],
             [
              0.8888888888888888,
              "#fdca26"
             ],
             [
              1,
              "#f0f921"
             ]
            ],
            "type": "surface"
           }
          ],
          "table": [
           {
            "cells": {
             "fill": {
              "color": "#EBF0F8"
             },
             "line": {
              "color": "white"
             }
            },
            "header": {
             "fill": {
              "color": "#C8D4E3"
             },
             "line": {
              "color": "white"
             }
            },
            "type": "table"
           }
          ]
         },
         "layout": {
          "annotationdefaults": {
           "arrowcolor": "#2a3f5f",
           "arrowhead": 0,
           "arrowwidth": 1
          },
          "autotypenumbers": "strict",
          "coloraxis": {
           "colorbar": {
            "outlinewidth": 0,
            "ticks": ""
           }
          },
          "colorscale": {
           "diverging": [
            [
             0,
             "#8e0152"
            ],
            [
             0.1,
             "#c51b7d"
            ],
            [
             0.2,
             "#de77ae"
            ],
            [
             0.3,
             "#f1b6da"
            ],
            [
             0.4,
             "#fde0ef"
            ],
            [
             0.5,
             "#f7f7f7"
            ],
            [
             0.6,
             "#e6f5d0"
            ],
            [
             0.7,
             "#b8e186"
            ],
            [
             0.8,
             "#7fbc41"
            ],
            [
             0.9,
             "#4d9221"
            ],
            [
             1,
             "#276419"
            ]
           ],
           "sequential": [
            [
             0,
             "#0d0887"
            ],
            [
             0.1111111111111111,
             "#46039f"
            ],
            [
             0.2222222222222222,
             "#7201a8"
            ],
            [
             0.3333333333333333,
             "#9c179e"
            ],
            [
             0.4444444444444444,
             "#bd3786"
            ],
            [
             0.5555555555555556,
             "#d8576b"
            ],
            [
             0.6666666666666666,
             "#ed7953"
            ],
            [
             0.7777777777777778,
             "#fb9f3a"
            ],
            [
             0.8888888888888888,
             "#fdca26"
            ],
            [
             1,
             "#f0f921"
            ]
           ],
           "sequentialminus": [
            [
             0,
             "#0d0887"
            ],
            [
             0.1111111111111111,
             "#46039f"
            ],
            [
             0.2222222222222222,
             "#7201a8"
            ],
            [
             0.3333333333333333,
             "#9c179e"
            ],
            [
             0.4444444444444444,
             "#bd3786"
            ],
            [
             0.5555555555555556,
             "#d8576b"
            ],
            [
             0.6666666666666666,
             "#ed7953"
            ],
            [
             0.7777777777777778,
             "#fb9f3a"
            ],
            [
             0.8888888888888888,
             "#fdca26"
            ],
            [
             1,
             "#f0f921"
            ]
           ]
          },
          "colorway": [
           "#636efa",
           "#EF553B",
           "#00cc96",
           "#ab63fa",
           "#FFA15A",
           "#19d3f3",
           "#FF6692",
           "#B6E880",
           "#FF97FF",
           "#FECB52"
          ],
          "font": {
           "color": "#2a3f5f"
          },
          "geo": {
           "bgcolor": "white",
           "lakecolor": "white",
           "landcolor": "#E5ECF6",
           "showlakes": true,
           "showland": true,
           "subunitcolor": "white"
          },
          "hoverlabel": {
           "align": "left"
          },
          "hovermode": "closest",
          "mapbox": {
           "style": "light"
          },
          "paper_bgcolor": "white",
          "plot_bgcolor": "#E5ECF6",
          "polar": {
           "angularaxis": {
            "gridcolor": "white",
            "linecolor": "white",
            "ticks": ""
           },
           "bgcolor": "#E5ECF6",
           "radialaxis": {
            "gridcolor": "white",
            "linecolor": "white",
            "ticks": ""
           }
          },
          "scene": {
           "xaxis": {
            "backgroundcolor": "#E5ECF6",
            "gridcolor": "white",
            "gridwidth": 2,
            "linecolor": "white",
            "showbackground": true,
            "ticks": "",
            "zerolinecolor": "white"
           },
           "yaxis": {
            "backgroundcolor": "#E5ECF6",
            "gridcolor": "white",
            "gridwidth": 2,
            "linecolor": "white",
            "showbackground": true,
            "ticks": "",
            "zerolinecolor": "white"
           },
           "zaxis": {
            "backgroundcolor": "#E5ECF6",
            "gridcolor": "white",
            "gridwidth": 2,
            "linecolor": "white",
            "showbackground": true,
            "ticks": "",
            "zerolinecolor": "white"
           }
          },
          "shapedefaults": {
           "line": {
            "color": "#2a3f5f"
           }
          },
          "ternary": {
           "aaxis": {
            "gridcolor": "white",
            "linecolor": "white",
            "ticks": ""
           },
           "baxis": {
            "gridcolor": "white",
            "linecolor": "white",
            "ticks": ""
           },
           "bgcolor": "#E5ECF6",
           "caxis": {
            "gridcolor": "white",
            "linecolor": "white",
            "ticks": ""
           }
          },
          "title": {
           "x": 0.05
          },
          "xaxis": {
           "automargin": true,
           "gridcolor": "white",
           "linecolor": "white",
           "ticks": "",
           "title": {
            "standoff": 15
           },
           "zerolinecolor": "white",
           "zerolinewidth": 2
          },
          "yaxis": {
           "automargin": true,
           "gridcolor": "white",
           "linecolor": "white",
           "ticks": "",
           "title": {
            "standoff": 15
           },
           "zerolinecolor": "white",
           "zerolinewidth": 2
          }
         }
        },
        "title": {
         "text": "Semantically clustered keywords"
        },
        "xaxis": {
         "anchor": "y",
         "domain": [
          0,
          1
         ],
         "title": {
          "text": "x"
         }
        },
        "yaxis": {
         "anchor": "x",
         "domain": [
          0,
          1
         ],
         "title": {
          "text": "y"
         }
        }
       }
      }
     },
     "metadata": {},
     "output_type": "display_data"
    }
   ],
   "source": [
    "print('Generating display')\n",
    "figure = display_clusters(cluster_map, cluster_names)\n",
    "figure.update_layout(height=1000)\n",
    "figure.show()"
   ]
  },
  {
   "cell_type": "code",
   "execution_count": 41,
   "id": "5978ab83",
   "metadata": {},
   "outputs": [],
   "source": [
    "import networkx as nx\n",
    "\n",
    "def create_graph(cluster_map, cluster_names, titles, extracted_keywords):\n",
    "    # Map each keyword to its cluster\n",
    "    keyword_to_cluster = {\n",
    "        keyword: cluster_id\n",
    "        for cluster_id, keywords in cluster_map.items()\n",
    "        for keyword in keywords\n",
    "    }\n",
    "\n",
    "    G = nx.Graph()\n",
    "\n",
    "    # Add cluster nodes\n",
    "    for cluster_id, cluster_name in cluster_names.items():\n",
    "        G.add_node(f'cluster_{cluster_id}',  label=cluster_name + ' (topic)', type='cluster')\n",
    "    \n",
    "    # Add article nodes\n",
    "    for i, pair in enumerate(zip(titles, extracted_keywords)):\n",
    "        title, keywords = pair[0], pair[1]\n",
    "        G.add_node(f'article_{i}', label=title + ' (article)', type='article')\n",
    "\n",
    "        added_clusters = set()\n",
    "        \n",
    "        for kw in keywords:\n",
    "            if kw in keyword_to_cluster:\n",
    "                cluster_id = keyword_to_cluster[kw]\n",
    "                # Add edge between cluster and article\n",
    "                if cluster_id and cluster_id not in added_clusters:\n",
    "                    G.add_edge(f'article_{i}', f'cluster_{cluster_id}')\n",
    "\n",
    "    return G"
   ]
  },
  {
   "cell_type": "code",
   "execution_count": 42,
   "id": "d0de50d1",
   "metadata": {},
   "outputs": [],
   "source": [
    "G = create_graph(cluster_map, cluster_names, titles, extracted_keywords)"
   ]
  },
  {
   "cell_type": "code",
   "execution_count": 43,
   "id": "a7d216c2",
   "metadata": {},
   "outputs": [],
   "source": [
    "import json\n",
    "\n",
    "# Exporting the Hyperbook graph\n",
    "nodes = [{\"id\": n, \"label\": G.nodes[n]['label'], \"type\": G.nodes[n]['type']} for n in G.nodes()]\n",
    "edges = [{\"from\": u, \"to\": v} for u, v in G.edges()]\n",
    "\n",
    "with open('../outputs/hyperbook_graph.json', 'w') as f:\n",
    "    json.dump({'nodes': nodes, 'edges': edges}, f)"
   ]
  },
  {
   "cell_type": "code",
   "execution_count": 44,
   "id": "d675494c",
   "metadata": {},
   "outputs": [],
   "source": [
    "from jinja2 import Environment, FileSystemLoader\n",
    "import json\n",
    "\n",
    "env = Environment(loader=FileSystemLoader('../outputs'))\n",
    "template = env.get_template('/template_graph.html')\n",
    "\n",
    "with open('../outputs/hyperbook_graph.json') as f:\n",
    "    graph_data = json.load(f)\n",
    "\n",
    "html_output = template.render(data=graph_data)\n",
    "\n",
    "with open('../index.html', 'w') as f:\n",
    "    f.write(html_output)"
   ]
  },
  {
   "cell_type": "code",
   "execution_count": 36,
   "id": "da4172dd",
   "metadata": {},
   "outputs": [
    {
     "name": "stdout",
     "output_type": "stream",
     "text": [
      "osteogenesis\n",
      "ferromagnetic\n",
      "frustule\n",
      "lipidomics\n",
      "biolocomotion\n",
      "pyrolysis\n",
      "paraxonic\n",
      "stratum\n",
      "photoreception\n",
      "topography\n",
      "thermal conductivity\n",
      "echolocation\n",
      "osteoregeneration\n",
      "tactile sensory\n",
      "quorum sensing\n",
      "oscillations\n",
      "vasoreactivity\n",
      "nanomechanics\n",
      "cephalopod\n",
      "cardiodynamics\n",
      "autophagy\n",
      "geometric morphometry\n",
      "metabolomics\n",
      "phycology\n",
      "glycoprotein\n",
      "otology\n",
      "odontoblasts\n",
      "micropaleontology\n",
      "amyloid\n",
      "xerophyte\n",
      "gliogenesis\n",
      "pulmonary\n",
      "phagocytosis\n",
      "psittacology\n",
      "locomotion\n",
      "phototrophy\n",
      "magnetoreception\n",
      "biorobotics\n",
      "entomophily\n",
      "hydrodynamics\n",
      "metamorphism\n",
      "galactopoiesis\n",
      "ecdysteroid\n",
      "angiogenesis\n",
      "vocalization\n",
      "speciation\n",
      "paleoclimate\n",
      "camouflage\n",
      "photospectrometry\n",
      "mycology\n",
      "tessellation\n",
      "biopolymer\n",
      "pigmentation\n",
      "ethology\n",
      "crypsis\n",
      "biomimetics\n",
      "monotrematology\n",
      "microscopy\n",
      "fertilization\n",
      "scleromechanics\n",
      "neuroimaging\n",
      "iridescence\n",
      "wetting\n",
      "olfactometry\n",
      "biosonar\n",
      "extrusome\n",
      "ivory\n",
      "invertebrate\n",
      "chemoregulatory\n",
      "tardigradology\n",
      "optometry\n",
      "toxicodynamics\n",
      "biofabrication\n",
      "gustation\n",
      "keratinization\n",
      "mixotrophy\n",
      "proprioception\n",
      "cladistics\n",
      "ungulate\n",
      "autotomy\n",
      "ruminants\n",
      "semiochemicals\n",
      "magnetotaxis\n",
      "cladoceran\n",
      "flocking dynamics\n",
      "allometry\n",
      "carnivory\n",
      "chronobiology\n",
      "deglutition\n",
      "gametogenesis\n",
      "glycerolipid\n",
      "gut-brain axis\n",
      "anoxic\n",
      "hormesis\n",
      "buckling instability\n",
      "biochromatics\n",
      "lithification\n",
      "hysterology\n",
      "morphometry\n",
      "carotenoid\n",
      "megafauna\n",
      "morphogenesis\n",
      "epimorphosis\n",
      "chiropterology\n",
      "somnology\n",
      "pareto efficiency\n",
      "hexapod\n",
      "cellular senescence\n",
      "kinematics\n",
      "neurotransmission\n",
      "glycomics\n",
      "dentition\n",
      "simulation\n",
      "bioadhesion\n",
      "placentation\n",
      "reciprocity\n",
      "geochemistry\n",
      "biophotonics\n",
      "audiomechanics\n",
      "biofuels\n",
      "malacology\n",
      "lodging\n",
      "fossorial\n",
      "audiometry\n",
      "mechanobiology\n",
      "nitrogenase\n",
      "cnidarian\n",
      "oligomerization\n",
      "horizontal gene transfer\n",
      "photoautotrophy\n",
      "telomeropathy\n",
      "trophic\n",
      "ossiculogenesis\n",
      "lipid bilayer\n",
      "sclerotization\n",
      "cranioanatomy\n",
      "saprophagy\n",
      "biopesticides\n",
      "mammalogy\n",
      "endotoxin\n",
      "loricate\n",
      "electrophysiology\n",
      "telemetry\n",
      "fibroproliferation\n",
      "ectothermy\n",
      "avian phylogeny\n",
      "sociobiology\n",
      "flexural\n",
      "phototransduction\n",
      "elasmobranch\n",
      "analogy\n",
      "endocrinology\n",
      "polymerization\n",
      "polyhedral\n",
      "folivory\n",
      "protein crystallography\n",
      "occlusion\n",
      "parasitology\n",
      "gliding\n",
      "electrolocation\n",
      "biomechanics\n",
      "topology\n",
      "exoskeleton\n",
      "symbiosis\n",
      "quadrupedality\n",
      "onychology\n",
      "cell differentiation\n",
      "photobiochemistry\n",
      "stereopsis\n",
      "mathematical morphology\n",
      "photobiology\n",
      "aperiodicity\n",
      "astaxanthin\n",
      "holoplankton\n",
      "chemosensory\n",
      "biocommunication\n",
      "cilia\n",
      "cladogenesis\n",
      "bioceramics\n",
      "endoskeleton\n",
      "sporogenesis\n",
      "thermoregulation\n",
      "chemoreception\n",
      "enterocyte\n",
      "refraction\n",
      "acoustics\n",
      "cryptobiont\n",
      "hypoxia\n",
      "vasculature\n",
      "adaptation\n",
      "homotopy\n",
      "phenology\n",
      "biomineralization\n",
      "ornithology\n",
      "embryogenesis\n",
      "neuroplasticity\n",
      "lipidostasis\n",
      "arachnology\n",
      "chirality\n",
      "flavoprotein\n",
      "photoreceptor\n",
      "decapod\n",
      "phenotypic plasticity\n",
      "paleoecology\n",
      "hyperparasitism\n",
      "ecdysis\n",
      "microbiota\n",
      "opsinology\n",
      "toxicofery\n",
      "scaling\n",
      "chemosensation\n",
      "planktonology\n",
      "apiculture\n",
      "cnidocyte\n",
      "bruxism\n",
      "aerodynamics\n",
      "hair cell\n",
      "ventilation\n",
      "harmonics\n",
      "osteology\n",
      "tribology\n",
      "microvasculature\n",
      "stoichiometry\n",
      "osteoimmunology\n",
      "bioluminescence\n",
      "mycelium\n",
      "chorion\n",
      "bioelectricity\n",
      "hematopoiesis\n",
      "cloven\n",
      "myofibrillogenesis\n",
      "siliceous\n",
      "cerclage\n",
      "integument\n",
      "cardiophysiology\n",
      "appendage\n",
      "isotopology\n",
      "ocular physiology\n",
      "flocculation\n",
      "ichthyology\n",
      "micronutrients\n",
      "coadaptation\n",
      "magnetotroph\n",
      "saprotrophy\n",
      "amoeboid\n",
      "gerontology\n",
      "bioaugmentation\n",
      "herpetology\n",
      "saprotroph\n",
      "thixotropy\n",
      "predation\n",
      "paleohistology\n",
      "lactogenesis\n",
      "venomics\n",
      "metatherian\n",
      "biokinetics\n",
      "permineralization\n",
      "hydrozoans\n",
      "spirometry\n",
      "hemostasis\n",
      "cryptobiosis\n",
      "mesencephalon\n",
      "ecdysone\n",
      "conchology\n",
      "lateropulsion\n",
      "phlebology\n",
      "nematocyst\n",
      "gnathology\n",
      "cetology\n",
      "surfactant\n",
      "metachromatism\n",
      "biotensegrity\n",
      "cytodifferentiation\n",
      "oligodendrocyte\n"
     ]
    }
   ],
   "source": [
    "for topic in (set([x['label'] for x in graph_data['nodes'] if x['type'] == 'cluster'])):\n",
    "    print(topic)"
   ]
  },
  {
   "cell_type": "code",
   "execution_count": 45,
   "id": "bc1eda81",
   "metadata": {},
   "outputs": [
    {
     "name": "stdout",
     "output_type": "stream",
     "text": [
      "Mapping clusters\n"
     ]
    },
    {
     "data": {
      "application/vnd.jupyter.widget-view+json": {
       "model_id": "94beac94054c4d94bbc573fa20f8f152",
       "version_major": 2,
       "version_minor": 0
      },
      "text/plain": [
       "Batches:   0%|          | 0/9 [00:00<?, ?it/s]"
      ]
     },
     "metadata": {},
     "output_type": "display_data"
    },
    {
     "name": "stdout",
     "output_type": "stream",
     "text": [
      "Identified 25 clusters\n",
      "Naming clusters\n",
      "Generating display\n"
     ]
    },
    {
     "data": {
      "application/vnd.plotly.v1+json": {
       "config": {
        "plotlyServerURL": "https://plot.ly"
       },
       "data": [
        {
         "customdata": [
          [
           "biomechanics"
          ],
          [
           "mechanobiology"
          ]
         ],
         "hovertemplate": "color=cluster_11<br>x=%{x}<br>y=%{y}<br>keyword=%{customdata[0]}<extra></extra>",
         "legendgroup": "cluster_11",
         "marker": {
          "color": "#636efa",
          "symbol": "circle"
         },
         "mode": "markers",
         "name": "cluster_11",
         "orientation": "v",
         "showlegend": true,
         "type": "scatter",
         "x": {
          "bdata": "APe1Pyvhzj8=",
          "dtype": "f4"
         },
         "xaxis": "x",
         "y": {
          "bdata": "GqDLQO590EA=",
          "dtype": "f4"
         },
         "yaxis": "y"
        },
        {
         "customdata": [
          [
           "biomineralization"
          ],
          [
           "permineralization"
          ]
         ],
         "hovertemplate": "color=cluster_16<br>x=%{x}<br>y=%{y}<br>keyword=%{customdata[0]}<extra></extra>",
         "legendgroup": "cluster_16",
         "marker": {
          "color": "#EF553B",
          "symbol": "circle"
         },
         "mode": "markers",
         "name": "cluster_16",
         "orientation": "v",
         "showlegend": true,
         "type": "scatter",
         "x": {
          "bdata": "eldLQK0bRUA=",
          "dtype": "f4"
         },
         "xaxis": "x",
         "y": {
          "bdata": "rtHNQNvRyUA=",
          "dtype": "f4"
         },
         "yaxis": "y"
        },
        {
         "customdata": [
          [
           "micropaleontology"
          ],
          [
           "paleoecology"
          ],
          [
           "paleohistology"
          ]
         ],
         "hovertemplate": "color=cluster_15<br>x=%{x}<br>y=%{y}<br>keyword=%{customdata[0]}<extra></extra>",
         "legendgroup": "cluster_15",
         "marker": {
          "color": "#00cc96",
          "symbol": "circle"
         },
         "mode": "markers",
         "name": "cluster_15",
         "orientation": "v",
         "showlegend": true,
         "type": "scatter",
         "x": {
          "bdata": "xxpMQOioQ0DtIkRA",
          "dtype": "f4"
         },
         "xaxis": "x",
         "y": {
          "bdata": "1O6yQF6bqEBp6a9A",
          "dtype": "f4"
         },
         "yaxis": "y"
        },
        {
         "customdata": [
          [
           "invertebrate"
          ],
          [
           "hydrozoans"
          ],
          [
           "cnidarian"
          ],
          [
           "entomophily"
          ],
          [
           "cephalopod"
          ],
          [
           "cnidocyte"
          ],
          [
           "holoplankton"
          ],
          [
           "elasmobranch"
          ],
          [
           "nematocyst"
          ],
          [
           "arachnology"
          ]
         ],
         "hovertemplate": "color=cluster_24<br>x=%{x}<br>y=%{y}<br>keyword=%{customdata[0]}<extra></extra>",
         "legendgroup": "cluster_24",
         "marker": {
          "color": "#ab63fa",
          "symbol": "circle"
         },
         "mode": "markers",
         "name": "cluster_24",
         "orientation": "v",
         "showlegend": true,
         "type": "scatter",
         "x": {
          "bdata": "0msmQM3+HUC1sDdAeVoaQOFmN0DDCCFAYgcAQFtHMEAZCihAO9M0QA==",
          "dtype": "f4"
         },
         "xaxis": "x",
         "y": {
          "bdata": "5WiPQDZvdUBBRH1AP0KYQAQuikAiVGhAgP9zQAlzgkBl0mlArGeaQA==",
          "dtype": "f4"
         },
         "yaxis": "y"
        },
        {
         "customdata": [
          [
           "olfactometry"
          ],
          [
           "chemosensation"
          ],
          [
           "chemoreception"
          ],
          [
           "chemosensory"
          ],
          [
           "tactile sensory"
          ]
         ],
         "hovertemplate": "color=cluster_21<br>x=%{x}<br>y=%{y}<br>keyword=%{customdata[0]}<extra></extra>",
         "legendgroup": "cluster_21",
         "marker": {
          "color": "#FFA15A",
          "symbol": "circle"
         },
         "mode": "markers",
         "name": "cluster_21",
         "orientation": "v",
         "showlegend": true,
         "type": "scatter",
         "x": {
          "bdata": "26aoP6AJ3j/6g8s/zxm9P6cMxT8=",
          "dtype": "f4"
         },
         "xaxis": "x",
         "y": {
          "bdata": "IN6eP4oPmD9rM4Y/Iw95P/trhz8=",
          "dtype": "f4"
         },
         "yaxis": "y"
        },
        {
         "customdata": [
          [
           "endoskeleton"
          ],
          [
           "osteology"
          ]
         ],
         "hovertemplate": "color=cluster_14<br>x=%{x}<br>y=%{y}<br>keyword=%{customdata[0]}<extra></extra>",
         "legendgroup": "cluster_14",
         "marker": {
          "color": "#19d3f3",
          "symbol": "circle"
         },
         "mode": "markers",
         "name": "cluster_14",
         "orientation": "v",
         "showlegend": true,
         "type": "scatter",
         "x": {
          "bdata": "6L4qQISvMUA=",
          "dtype": "f4"
         },
         "xaxis": "x",
         "y": {
          "bdata": "qTbGQI0DzkA=",
          "dtype": "f4"
         },
         "yaxis": "y"
        },
        {
         "customdata": [
          [
           "audiomechanics"
          ],
          [
           "audiometry"
          ],
          [
           "oscillations"
          ],
          [
           "harmonics"
          ],
          [
           "aperiodicity"
          ],
          [
           "acoustics"
          ]
         ],
         "hovertemplate": "color=cluster_0<br>x=%{x}<br>y=%{y}<br>keyword=%{customdata[0]}<extra></extra>",
         "legendgroup": "cluster_0",
         "marker": {
          "color": "#FF6692",
          "symbol": "circle"
         },
         "mode": "markers",
         "name": "cluster_0",
         "orientation": "v",
         "showlegend": true,
         "type": "scatter",
         "x": {
          "bdata": "niL3vj/UDL8Nsom9U+scvt6dMj0xWhe/",
          "dtype": "f4"
         },
         "xaxis": "x",
         "y": {
          "bdata": "SyjHQHajykDuIMdAR8nRQEq+zUCST8hA",
          "dtype": "f4"
         },
         "yaxis": "y"
        },
        {
         "customdata": [
          [
           "phycology"
          ],
          [
           "photobiology"
          ],
          [
           "photoreceptor"
          ],
          [
           "phototransduction"
          ],
          [
           "opsinology"
          ],
          [
           "photoreception"
          ]
         ],
         "hovertemplate": "color=cluster_17<br>x=%{x}<br>y=%{y}<br>keyword=%{customdata[0]}<extra></extra>",
         "legendgroup": "cluster_17",
         "marker": {
          "color": "#B6E880",
          "symbol": "circle"
         },
         "mode": "markers",
         "name": "cluster_17",
         "orientation": "v",
         "showlegend": true,
         "type": "scatter",
         "x": {
          "bdata": "6c6tP6nyeD91OqU/Vja4P2vQlj/GPag/",
          "dtype": "f4"
         },
         "xaxis": "x",
         "y": {
          "bdata": "PdJPQHicBUArVgFAf1DvP9n65T91Ze8/",
          "dtype": "f4"
         },
         "yaxis": "y"
        },
        {
         "customdata": [
          [
           "morphogenesis"
          ],
          [
           "embryogenesis"
          ],
          [
           "angiogenesis"
          ],
          [
           "cell differentiation"
          ],
          [
           "sporogenesis"
          ],
          [
           "gametogenesis"
          ],
          [
           "cytodifferentiation"
          ],
          [
           "ossiculogenesis"
          ],
          [
           "osteogenesis"
          ],
          [
           "gliogenesis"
          ],
          [
           "cladogenesis"
          ],
          [
           "fertilization"
          ]
         ],
         "hovertemplate": "color=cluster_19<br>x=%{x}<br>y=%{y}<br>keyword=%{customdata[0]}<extra></extra>",
         "legendgroup": "cluster_19",
         "marker": {
          "color": "#FF97FF",
          "symbol": "circle"
         },
         "mode": "markers",
         "name": "cluster_19",
         "orientation": "v",
         "showlegend": true,
         "type": "scatter",
         "x": {
          "bdata": "PRNFQIHiXEBbSjFAG35GQPR8X0B2hV9A9Ac8QHJUQEAJQj9AgIVEQDXpV0Ach3ZA",
          "dtype": "f4"
         },
         "xaxis": "x",
         "y": {
          "bdata": "VkT3QNcRAEEuz/1AR/AFQXcaBEGovQVB3NgEQUeH50AxuPRARfgAQWiM+kCRdwVB",
          "dtype": "f4"
         },
         "yaxis": "y"
        },
        {
         "customdata": [
          [
           "biopolymer"
          ],
          [
           "polymerization"
          ]
         ],
         "hovertemplate": "color=cluster_8<br>x=%{x}<br>y=%{y}<br>keyword=%{customdata[0]}<extra></extra>",
         "legendgroup": "cluster_8",
         "marker": {
          "color": "#FECB52",
          "symbol": "circle"
         },
         "mode": "markers",
         "name": "cluster_8",
         "orientation": "v",
         "showlegend": true,
         "type": "scatter",
         "x": {
          "bdata": "tiswQO+1T0A=",
          "dtype": "f4"
         },
         "xaxis": "x",
         "y": {
          "bdata": "uDoZQD223UA=",
          "dtype": "f4"
         },
         "yaxis": "y"
        },
        {
         "customdata": [
          [
           "lipidomics"
          ],
          [
           "metabolomics"
          ],
          [
           "glycomics"
          ]
         ],
         "hovertemplate": "color=cluster_12<br>x=%{x}<br>y=%{y}<br>keyword=%{customdata[0]}<extra></extra>",
         "legendgroup": "cluster_12",
         "marker": {
          "color": "#636efa",
          "symbol": "circle"
         },
         "mode": "markers",
         "name": "cluster_12",
         "orientation": "v",
         "showlegend": true,
         "type": "scatter",
         "x": {
          "bdata": "WF4zQHosK0Dovj5A",
          "dtype": "f4"
         },
         "xaxis": "x",
         "y": {
          "bdata": "LPPsPyRG2j/pevE/",
          "dtype": "f4"
         },
         "yaxis": "y"
        },
        {
         "customdata": [
          [
           "neuroplasticity"
          ],
          [
           "gut-brain axis"
          ]
         ],
         "hovertemplate": "color=cluster_5<br>x=%{x}<br>y=%{y}<br>keyword=%{customdata[0]}<extra></extra>",
         "legendgroup": "cluster_5",
         "marker": {
          "color": "#EF553B",
          "symbol": "circle"
         },
         "mode": "markers",
         "name": "cluster_5",
         "orientation": "v",
         "showlegend": true,
         "type": "scatter",
         "x": {
          "bdata": "/mYQQM84CUA=",
          "dtype": "f4"
         },
         "xaxis": "x",
         "y": {
          "bdata": "+KreQBTC3kA=",
          "dtype": "f4"
         },
         "yaxis": "y"
        },
        {
         "customdata": [
          [
           "quadrupedality"
          ],
          [
           "locomotion"
          ],
          [
           "biolocomotion"
          ],
          [
           "hexapod"
          ]
         ],
         "hovertemplate": "color=cluster_10<br>x=%{x}<br>y=%{y}<br>keyword=%{customdata[0]}<extra></extra>",
         "legendgroup": "cluster_10",
         "marker": {
          "color": "#00cc96",
          "symbol": "circle"
         },
         "mode": "markers",
         "name": "cluster_10",
         "orientation": "v",
         "showlegend": true,
         "type": "scatter",
         "x": {
          "bdata": "GIBvPxm2Pj+Qz5s/XHhcPw==",
          "dtype": "f4"
         },
         "xaxis": "x",
         "y": {
          "bdata": "WNW1QC+ovEAAdcFAIui6QA==",
          "dtype": "f4"
         },
         "yaxis": "y"
        },
        {
         "customdata": [
          [
           "magnetotaxis"
          ],
          [
           "phototrophy"
          ],
          [
           "magnetotroph"
          ]
         ],
         "hovertemplate": "color=cluster_23<br>x=%{x}<br>y=%{y}<br>keyword=%{customdata[0]}<extra></extra>",
         "legendgroup": "cluster_23",
         "marker": {
          "color": "#ab63fa",
          "symbol": "circle"
         },
         "mode": "markers",
         "name": "cluster_23",
         "orientation": "v",
         "showlegend": true,
         "type": "scatter",
         "x": {
          "bdata": "tQwgP6s11T/X2cQ/",
          "dtype": "f4"
         },
         "xaxis": "x",
         "y": {
          "bdata": "02apQNxMZEC2lHRA",
          "dtype": "f4"
         },
         "yaxis": "y"
        },
        {
         "customdata": [
          [
           "electrophysiology"
          ],
          [
           "cardiophysiology"
          ]
         ],
         "hovertemplate": "color=cluster_4<br>x=%{x}<br>y=%{y}<br>keyword=%{customdata[0]}<extra></extra>",
         "legendgroup": "cluster_4",
         "marker": {
          "color": "#FFA15A",
          "symbol": "circle"
         },
         "mode": "markers",
         "name": "cluster_4",
         "orientation": "v",
         "showlegend": true,
         "type": "scatter",
         "x": {
          "bdata": "DzXVP/XN2D8=",
          "dtype": "f4"
         },
         "xaxis": "x",
         "y": {
          "bdata": "ULHfQLnc6UA=",
          "dtype": "f4"
         },
         "yaxis": "y"
        },
        {
         "customdata": [
          [
           "astaxanthin"
          ],
          [
           "carotenoid"
          ],
          [
           "micronutrients"
          ],
          [
           "flavoprotein"
          ]
         ],
         "hovertemplate": "color=cluster_2<br>x=%{x}<br>y=%{y}<br>keyword=%{customdata[0]}<extra></extra>",
         "legendgroup": "cluster_2",
         "marker": {
          "color": "#19d3f3",
          "symbol": "circle"
         },
         "mode": "markers",
         "name": "cluster_2",
         "orientation": "v",
         "showlegend": true,
         "type": "scatter",
         "x": {
          "bdata": "HPr3P15k/D9czxFAcq8SQA==",
          "dtype": "f4"
         },
         "xaxis": "x",
         "y": {
          "bdata": "GGAOQDMzCkCHqApAbiEAQA==",
          "dtype": "f4"
         },
         "yaxis": "y"
        },
        {
         "customdata": [
          [
           "lactogenesis"
          ],
          [
           "placentation"
          ]
         ],
         "hovertemplate": "color=cluster_20<br>x=%{x}<br>y=%{y}<br>keyword=%{customdata[0]}<extra></extra>",
         "legendgroup": "cluster_20",
         "marker": {
          "color": "#FF6692",
          "symbol": "circle"
         },
         "mode": "markers",
         "name": "cluster_20",
         "orientation": "v",
         "showlegend": true,
         "type": "scatter",
         "x": {
          "bdata": "65R+QDEoe0A=",
          "dtype": "f4"
         },
         "xaxis": "x",
         "y": {
          "bdata": "l84DQejFBEE=",
          "dtype": "f4"
         },
         "yaxis": "y"
        },
        {
         "customdata": [
          [
           "cranioanatomy"
          ],
          [
           "mesencephalon"
          ]
         ],
         "hovertemplate": "color=cluster_6<br>x=%{x}<br>y=%{y}<br>keyword=%{customdata[0]}<extra></extra>",
         "legendgroup": "cluster_6",
         "marker": {
          "color": "#B6E880",
          "symbol": "circle"
         },
         "mode": "markers",
         "name": "cluster_6",
         "orientation": "v",
         "showlegend": true,
         "type": "scatter",
         "x": {
          "bdata": "hAgRQFkWCUA=",
          "dtype": "f4"
         },
         "xaxis": "x",
         "y": {
          "bdata": "Nq7aQIh440A=",
          "dtype": "f4"
         },
         "yaxis": "y"
        },
        {
         "customdata": [
          [
           "gliding"
          ],
          [
           "aerodynamics"
          ]
         ],
         "hovertemplate": "color=cluster_7<br>x=%{x}<br>y=%{y}<br>keyword=%{customdata[0]}<extra></extra>",
         "legendgroup": "cluster_7",
         "marker": {
          "color": "#FF97FF",
          "symbol": "circle"
         },
         "mode": "markers",
         "name": "cluster_7",
         "orientation": "v",
         "showlegend": true,
         "type": "scatter",
         "x": {
          "bdata": "FmKIPsn8ZT0=",
          "dtype": "f4"
         },
         "xaxis": "x",
         "y": {
          "bdata": "nSi0QPuNs0A=",
          "dtype": "f4"
         },
         "yaxis": "y"
        },
        {
         "customdata": [
          [
           "topology"
          ],
          [
           "paraxonic"
          ],
          [
           "stratum"
          ],
          [
           "topography"
          ]
         ],
         "hovertemplate": "color=cluster_1<br>x=%{x}<br>y=%{y}<br>keyword=%{customdata[0]}<extra></extra>",
         "legendgroup": "cluster_1",
         "marker": {
          "color": "#FECB52",
          "symbol": "circle"
         },
         "mode": "markers",
         "name": "cluster_1",
         "orientation": "v",
         "showlegend": true,
         "type": "scatter",
         "x": {
          "bdata": "eNV+PlbwrT5IQAQ/eIXSPg==",
          "dtype": "f4"
         },
         "xaxis": "x",
         "y": {
          "bdata": "bJrhQLDSzkCgI9xAm/fcQA==",
          "dtype": "f4"
         },
         "yaxis": "y"
        },
        {
         "customdata": [
          [
           "vasculature"
          ],
          [
           "phlebology"
          ],
          [
           "microvasculature"
          ]
         ],
         "hovertemplate": "color=cluster_3<br>x=%{x}<br>y=%{y}<br>keyword=%{customdata[0]}<extra></extra>",
         "legendgroup": "cluster_3",
         "marker": {
          "color": "#636efa",
          "symbol": "circle"
         },
         "mode": "markers",
         "name": "cluster_3",
         "orientation": "v",
         "showlegend": true,
         "type": "scatter",
         "x": {
          "bdata": "ZU/9P1ob7j+kqAVA",
          "dtype": "f4"
         },
         "xaxis": "x",
         "y": {
          "bdata": "imX0QK8Z90Bmk/xA",
          "dtype": "f4"
         },
         "yaxis": "y"
        },
        {
         "customdata": [
          [
           "saprophagy"
          ],
          [
           "predation"
          ],
          [
           "saprotrophy"
          ],
          [
           "carnivory"
          ],
          [
           "saprotroph"
          ]
         ],
         "hovertemplate": "color=cluster_22<br>x=%{x}<br>y=%{y}<br>keyword=%{customdata[0]}<extra></extra>",
         "legendgroup": "cluster_22",
         "marker": {
          "color": "#EF553B",
          "symbol": "circle"
         },
         "mode": "markers",
         "name": "cluster_22",
         "orientation": "v",
         "showlegend": true,
         "type": "scatter",
         "x": {
          "bdata": "wTrOP3LkAUCXZrk/JsPgP9MJ2z8=",
          "dtype": "f4"
         },
         "xaxis": "x",
         "y": {
          "bdata": "FK6JQC2TlUCwb5JAJqOTQFudhEA=",
          "dtype": "f4"
         },
         "yaxis": "y"
        },
        {
         "customdata": [
          [
           "glycoprotein"
          ],
          [
           "glycerolipid"
          ]
         ],
         "hovertemplate": "color=cluster_13<br>x=%{x}<br>y=%{y}<br>keyword=%{customdata[0]}<extra></extra>",
         "legendgroup": "cluster_13",
         "marker": {
          "color": "#00cc96",
          "symbol": "circle"
         },
         "mode": "markers",
         "name": "cluster_13",
         "orientation": "v",
         "showlegend": true,
         "type": "scatter",
         "x": {
          "bdata": "Muw1QNL7N0A=",
          "dtype": "f4"
         },
         "xaxis": "x",
         "y": {
          "bdata": "gI8JQBf2EEA=",
          "dtype": "f4"
         },
         "yaxis": "y"
        },
        {
         "customdata": [
          [
           "anoxic"
          ],
          [
           "autotomy"
          ]
         ],
         "hovertemplate": "color=cluster_9<br>x=%{x}<br>y=%{y}<br>keyword=%{customdata[0]}<extra></extra>",
         "legendgroup": "cluster_9",
         "marker": {
          "color": "#ab63fa",
          "symbol": "circle"
         },
         "mode": "markers",
         "name": "cluster_9",
         "orientation": "v",
         "showlegend": true,
         "type": "scatter",
         "x": {
          "bdata": "S0KiPxe7qT8=",
          "dtype": "f4"
         },
         "xaxis": "x",
         "y": {
          "bdata": "iZCdQHOyoUA=",
          "dtype": "f4"
         },
         "yaxis": "y"
        },
        {
         "customdata": [
          [
           "iridescence"
          ],
          [
           "metamorphism"
          ],
          [
           "metachromatism"
          ]
         ],
         "hovertemplate": "color=cluster_18<br>x=%{x}<br>y=%{y}<br>keyword=%{customdata[0]}<extra></extra>",
         "legendgroup": "cluster_18",
         "marker": {
          "color": "#FFA15A",
          "symbol": "circle"
         },
         "mode": "markers",
         "name": "cluster_18",
         "orientation": "v",
         "showlegend": true,
         "type": "scatter",
         "x": {
          "bdata": "8dnCP+ay8D+PAbg/",
          "dtype": "f4"
         },
         "xaxis": "x",
         "y": {
          "bdata": "FKwPQKDHqkDh1SpA",
          "dtype": "f4"
         },
         "yaxis": "y"
        }
       ],
       "layout": {
        "height": 1000,
        "legend": {
         "title": {
          "text": "color"
         },
         "tracegroupgap": 0
        },
        "template": {
         "data": {
          "bar": [
           {
            "error_x": {
             "color": "#2a3f5f"
            },
            "error_y": {
             "color": "#2a3f5f"
            },
            "marker": {
             "line": {
              "color": "#E5ECF6",
              "width": 0.5
             },
             "pattern": {
              "fillmode": "overlay",
              "size": 10,
              "solidity": 0.2
             }
            },
            "type": "bar"
           }
          ],
          "barpolar": [
           {
            "marker": {
             "line": {
              "color": "#E5ECF6",
              "width": 0.5
             },
             "pattern": {
              "fillmode": "overlay",
              "size": 10,
              "solidity": 0.2
             }
            },
            "type": "barpolar"
           }
          ],
          "carpet": [
           {
            "aaxis": {
             "endlinecolor": "#2a3f5f",
             "gridcolor": "white",
             "linecolor": "white",
             "minorgridcolor": "white",
             "startlinecolor": "#2a3f5f"
            },
            "baxis": {
             "endlinecolor": "#2a3f5f",
             "gridcolor": "white",
             "linecolor": "white",
             "minorgridcolor": "white",
             "startlinecolor": "#2a3f5f"
            },
            "type": "carpet"
           }
          ],
          "choropleth": [
           {
            "colorbar": {
             "outlinewidth": 0,
             "ticks": ""
            },
            "type": "choropleth"
           }
          ],
          "contour": [
           {
            "colorbar": {
             "outlinewidth": 0,
             "ticks": ""
            },
            "colorscale": [
             [
              0,
              "#0d0887"
             ],
             [
              0.1111111111111111,
              "#46039f"
             ],
             [
              0.2222222222222222,
              "#7201a8"
             ],
             [
              0.3333333333333333,
              "#9c179e"
             ],
             [
              0.4444444444444444,
              "#bd3786"
             ],
             [
              0.5555555555555556,
              "#d8576b"
             ],
             [
              0.6666666666666666,
              "#ed7953"
             ],
             [
              0.7777777777777778,
              "#fb9f3a"
             ],
             [
              0.8888888888888888,
              "#fdca26"
             ],
             [
              1,
              "#f0f921"
             ]
            ],
            "type": "contour"
           }
          ],
          "contourcarpet": [
           {
            "colorbar": {
             "outlinewidth": 0,
             "ticks": ""
            },
            "type": "contourcarpet"
           }
          ],
          "heatmap": [
           {
            "colorbar": {
             "outlinewidth": 0,
             "ticks": ""
            },
            "colorscale": [
             [
              0,
              "#0d0887"
             ],
             [
              0.1111111111111111,
              "#46039f"
             ],
             [
              0.2222222222222222,
              "#7201a8"
             ],
             [
              0.3333333333333333,
              "#9c179e"
             ],
             [
              0.4444444444444444,
              "#bd3786"
             ],
             [
              0.5555555555555556,
              "#d8576b"
             ],
             [
              0.6666666666666666,
              "#ed7953"
             ],
             [
              0.7777777777777778,
              "#fb9f3a"
             ],
             [
              0.8888888888888888,
              "#fdca26"
             ],
             [
              1,
              "#f0f921"
             ]
            ],
            "type": "heatmap"
           }
          ],
          "histogram": [
           {
            "marker": {
             "pattern": {
              "fillmode": "overlay",
              "size": 10,
              "solidity": 0.2
             }
            },
            "type": "histogram"
           }
          ],
          "histogram2d": [
           {
            "colorbar": {
             "outlinewidth": 0,
             "ticks": ""
            },
            "colorscale": [
             [
              0,
              "#0d0887"
             ],
             [
              0.1111111111111111,
              "#46039f"
             ],
             [
              0.2222222222222222,
              "#7201a8"
             ],
             [
              0.3333333333333333,
              "#9c179e"
             ],
             [
              0.4444444444444444,
              "#bd3786"
             ],
             [
              0.5555555555555556,
              "#d8576b"
             ],
             [
              0.6666666666666666,
              "#ed7953"
             ],
             [
              0.7777777777777778,
              "#fb9f3a"
             ],
             [
              0.8888888888888888,
              "#fdca26"
             ],
             [
              1,
              "#f0f921"
             ]
            ],
            "type": "histogram2d"
           }
          ],
          "histogram2dcontour": [
           {
            "colorbar": {
             "outlinewidth": 0,
             "ticks": ""
            },
            "colorscale": [
             [
              0,
              "#0d0887"
             ],
             [
              0.1111111111111111,
              "#46039f"
             ],
             [
              0.2222222222222222,
              "#7201a8"
             ],
             [
              0.3333333333333333,
              "#9c179e"
             ],
             [
              0.4444444444444444,
              "#bd3786"
             ],
             [
              0.5555555555555556,
              "#d8576b"
             ],
             [
              0.6666666666666666,
              "#ed7953"
             ],
             [
              0.7777777777777778,
              "#fb9f3a"
             ],
             [
              0.8888888888888888,
              "#fdca26"
             ],
             [
              1,
              "#f0f921"
             ]
            ],
            "type": "histogram2dcontour"
           }
          ],
          "mesh3d": [
           {
            "colorbar": {
             "outlinewidth": 0,
             "ticks": ""
            },
            "type": "mesh3d"
           }
          ],
          "parcoords": [
           {
            "line": {
             "colorbar": {
              "outlinewidth": 0,
              "ticks": ""
             }
            },
            "type": "parcoords"
           }
          ],
          "pie": [
           {
            "automargin": true,
            "type": "pie"
           }
          ],
          "scatter": [
           {
            "fillpattern": {
             "fillmode": "overlay",
             "size": 10,
             "solidity": 0.2
            },
            "type": "scatter"
           }
          ],
          "scatter3d": [
           {
            "line": {
             "colorbar": {
              "outlinewidth": 0,
              "ticks": ""
             }
            },
            "marker": {
             "colorbar": {
              "outlinewidth": 0,
              "ticks": ""
             }
            },
            "type": "scatter3d"
           }
          ],
          "scattercarpet": [
           {
            "marker": {
             "colorbar": {
              "outlinewidth": 0,
              "ticks": ""
             }
            },
            "type": "scattercarpet"
           }
          ],
          "scattergeo": [
           {
            "marker": {
             "colorbar": {
              "outlinewidth": 0,
              "ticks": ""
             }
            },
            "type": "scattergeo"
           }
          ],
          "scattergl": [
           {
            "marker": {
             "colorbar": {
              "outlinewidth": 0,
              "ticks": ""
             }
            },
            "type": "scattergl"
           }
          ],
          "scattermap": [
           {
            "marker": {
             "colorbar": {
              "outlinewidth": 0,
              "ticks": ""
             }
            },
            "type": "scattermap"
           }
          ],
          "scattermapbox": [
           {
            "marker": {
             "colorbar": {
              "outlinewidth": 0,
              "ticks": ""
             }
            },
            "type": "scattermapbox"
           }
          ],
          "scatterpolar": [
           {
            "marker": {
             "colorbar": {
              "outlinewidth": 0,
              "ticks": ""
             }
            },
            "type": "scatterpolar"
           }
          ],
          "scatterpolargl": [
           {
            "marker": {
             "colorbar": {
              "outlinewidth": 0,
              "ticks": ""
             }
            },
            "type": "scatterpolargl"
           }
          ],
          "scatterternary": [
           {
            "marker": {
             "colorbar": {
              "outlinewidth": 0,
              "ticks": ""
             }
            },
            "type": "scatterternary"
           }
          ],
          "surface": [
           {
            "colorbar": {
             "outlinewidth": 0,
             "ticks": ""
            },
            "colorscale": [
             [
              0,
              "#0d0887"
             ],
             [
              0.1111111111111111,
              "#46039f"
             ],
             [
              0.2222222222222222,
              "#7201a8"
             ],
             [
              0.3333333333333333,
              "#9c179e"
             ],
             [
              0.4444444444444444,
              "#bd3786"
             ],
             [
              0.5555555555555556,
              "#d8576b"
             ],
             [
              0.6666666666666666,
              "#ed7953"
             ],
             [
              0.7777777777777778,
              "#fb9f3a"
             ],
             [
              0.8888888888888888,
              "#fdca26"
             ],
             [
              1,
              "#f0f921"
             ]
            ],
            "type": "surface"
           }
          ],
          "table": [
           {
            "cells": {
             "fill": {
              "color": "#EBF0F8"
             },
             "line": {
              "color": "white"
             }
            },
            "header": {
             "fill": {
              "color": "#C8D4E3"
             },
             "line": {
              "color": "white"
             }
            },
            "type": "table"
           }
          ]
         },
         "layout": {
          "annotationdefaults": {
           "arrowcolor": "#2a3f5f",
           "arrowhead": 0,
           "arrowwidth": 1
          },
          "autotypenumbers": "strict",
          "coloraxis": {
           "colorbar": {
            "outlinewidth": 0,
            "ticks": ""
           }
          },
          "colorscale": {
           "diverging": [
            [
             0,
             "#8e0152"
            ],
            [
             0.1,
             "#c51b7d"
            ],
            [
             0.2,
             "#de77ae"
            ],
            [
             0.3,
             "#f1b6da"
            ],
            [
             0.4,
             "#fde0ef"
            ],
            [
             0.5,
             "#f7f7f7"
            ],
            [
             0.6,
             "#e6f5d0"
            ],
            [
             0.7,
             "#b8e186"
            ],
            [
             0.8,
             "#7fbc41"
            ],
            [
             0.9,
             "#4d9221"
            ],
            [
             1,
             "#276419"
            ]
           ],
           "sequential": [
            [
             0,
             "#0d0887"
            ],
            [
             0.1111111111111111,
             "#46039f"
            ],
            [
             0.2222222222222222,
             "#7201a8"
            ],
            [
             0.3333333333333333,
             "#9c179e"
            ],
            [
             0.4444444444444444,
             "#bd3786"
            ],
            [
             0.5555555555555556,
             "#d8576b"
            ],
            [
             0.6666666666666666,
             "#ed7953"
            ],
            [
             0.7777777777777778,
             "#fb9f3a"
            ],
            [
             0.8888888888888888,
             "#fdca26"
            ],
            [
             1,
             "#f0f921"
            ]
           ],
           "sequentialminus": [
            [
             0,
             "#0d0887"
            ],
            [
             0.1111111111111111,
             "#46039f"
            ],
            [
             0.2222222222222222,
             "#7201a8"
            ],
            [
             0.3333333333333333,
             "#9c179e"
            ],
            [
             0.4444444444444444,
             "#bd3786"
            ],
            [
             0.5555555555555556,
             "#d8576b"
            ],
            [
             0.6666666666666666,
             "#ed7953"
            ],
            [
             0.7777777777777778,
             "#fb9f3a"
            ],
            [
             0.8888888888888888,
             "#fdca26"
            ],
            [
             1,
             "#f0f921"
            ]
           ]
          },
          "colorway": [
           "#636efa",
           "#EF553B",
           "#00cc96",
           "#ab63fa",
           "#FFA15A",
           "#19d3f3",
           "#FF6692",
           "#B6E880",
           "#FF97FF",
           "#FECB52"
          ],
          "font": {
           "color": "#2a3f5f"
          },
          "geo": {
           "bgcolor": "white",
           "lakecolor": "white",
           "landcolor": "#E5ECF6",
           "showlakes": true,
           "showland": true,
           "subunitcolor": "white"
          },
          "hoverlabel": {
           "align": "left"
          },
          "hovermode": "closest",
          "mapbox": {
           "style": "light"
          },
          "paper_bgcolor": "white",
          "plot_bgcolor": "#E5ECF6",
          "polar": {
           "angularaxis": {
            "gridcolor": "white",
            "linecolor": "white",
            "ticks": ""
           },
           "bgcolor": "#E5ECF6",
           "radialaxis": {
            "gridcolor": "white",
            "linecolor": "white",
            "ticks": ""
           }
          },
          "scene": {
           "xaxis": {
            "backgroundcolor": "#E5ECF6",
            "gridcolor": "white",
            "gridwidth": 2,
            "linecolor": "white",
            "showbackground": true,
            "ticks": "",
            "zerolinecolor": "white"
           },
           "yaxis": {
            "backgroundcolor": "#E5ECF6",
            "gridcolor": "white",
            "gridwidth": 2,
            "linecolor": "white",
            "showbackground": true,
            "ticks": "",
            "zerolinecolor": "white"
           },
           "zaxis": {
            "backgroundcolor": "#E5ECF6",
            "gridcolor": "white",
            "gridwidth": 2,
            "linecolor": "white",
            "showbackground": true,
            "ticks": "",
            "zerolinecolor": "white"
           }
          },
          "shapedefaults": {
           "line": {
            "color": "#2a3f5f"
           }
          },
          "ternary": {
           "aaxis": {
            "gridcolor": "white",
            "linecolor": "white",
            "ticks": ""
           },
           "baxis": {
            "gridcolor": "white",
            "linecolor": "white",
            "ticks": ""
           },
           "bgcolor": "#E5ECF6",
           "caxis": {
            "gridcolor": "white",
            "linecolor": "white",
            "ticks": ""
           }
          },
          "title": {
           "x": 0.05
          },
          "xaxis": {
           "automargin": true,
           "gridcolor": "white",
           "linecolor": "white",
           "ticks": "",
           "title": {
            "standoff": 15
           },
           "zerolinecolor": "white",
           "zerolinewidth": 2
          },
          "yaxis": {
           "automargin": true,
           "gridcolor": "white",
           "linecolor": "white",
           "ticks": "",
           "title": {
            "standoff": 15
           },
           "zerolinecolor": "white",
           "zerolinewidth": 2
          }
         }
        },
        "title": {
         "text": "Semantically clustered keywords"
        },
        "xaxis": {
         "anchor": "y",
         "domain": [
          0,
          1
         ],
         "title": {
          "text": "x"
         }
        },
        "yaxis": {
         "anchor": "x",
         "domain": [
          0,
          1
         ],
         "title": {
          "text": "y"
         }
        }
       }
      }
     },
     "metadata": {},
     "output_type": "display_data"
    }
   ],
   "source": [
    "\n",
    "def analyze_cluster_names(keywords):\n",
    "    \"\"\"\n",
    "    Clusters the cluster names together!\n",
    "    \"\"\"\n",
    "    \n",
    "    print('Mapping clusters')\n",
    "    cluster_map = cluster_keywords(keywords)\n",
    "\n",
    "    print('Naming clusters')\n",
    "    cluster_names = {i: f'cluster_{i}' for i in cluster_map.keys()}\n",
    "\n",
    "    print('Generating display')\n",
    "    figure = display_clusters(cluster_map, cluster_names)\n",
    "\n",
    "    return figure\n",
    "\n",
    "figure = analyze_cluster_names(list(cluster_names.values()))\n",
    "figure.update_layout(height=1000)\n",
    "figure.show()"
   ]
  }
 ],
 "metadata": {
  "kernelspec": {
   "display_name": "venv",
   "language": "python",
   "name": "python3"
  },
  "language_info": {
   "codemirror_mode": {
    "name": "ipython",
    "version": 3
   },
   "file_extension": ".py",
   "mimetype": "text/x-python",
   "name": "python",
   "nbconvert_exporter": "python",
   "pygments_lexer": "ipython3",
   "version": "3.12.0"
  }
 },
 "nbformat": 4,
 "nbformat_minor": 5
}
