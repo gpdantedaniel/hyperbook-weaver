{
 "cells": [
  {
   "cell_type": "markdown",
   "id": "920eec17",
   "metadata": {},
   "source": [
    "## Evaluating STS capabilities"
   ]
  },
  {
   "cell_type": "code",
   "execution_count": 1,
   "id": "2005cea4",
   "metadata": {},
   "outputs": [],
   "source": [
    "import mteb\n",
    "\n",
    "task = mteb.get_tasks(tasks=[\"BiorxivClusteringS2S.v2\", 'ArXivHierarchicalClusteringS2S'])\n",
    "evaluator = mteb.MTEB(task)"
   ]
  },
  {
   "cell_type": "code",
   "execution_count": 2,
   "id": "92cacf3e",
   "metadata": {},
   "outputs": [
    {
     "name": "stderr",
     "output_type": "stream",
     "text": [
      "Model prompts are not in the expected format. Ignoring them.\n"
     ]
    },
    {
     "data": {
      "text/html": [
       "<pre style=\"white-space:pre;overflow-x:auto;line-height:normal;font-family:Menlo,'DejaVu Sans Mono',consolas,'Courier New',monospace\"><span style=\"color: #262626; text-decoration-color: #262626\">───────────────────────────────────────────────── </span><span style=\"font-weight: bold\">Selected tasks </span><span style=\"color: #262626; text-decoration-color: #262626\"> ─────────────────────────────────────────────────</span>\n",
       "</pre>\n"
      ],
      "text/plain": [
       "\u001b[38;5;235m───────────────────────────────────────────────── \u001b[0m\u001b[1mSelected tasks \u001b[0m\u001b[38;5;235m ─────────────────────────────────────────────────\u001b[0m\n"
      ]
     },
     "metadata": {},
     "output_type": "display_data"
    },
    {
     "data": {
      "text/html": [
       "<pre style=\"white-space:pre;overflow-x:auto;line-height:normal;font-family:Menlo,'DejaVu Sans Mono',consolas,'Courier New',monospace\"><span style=\"font-weight: bold\">Clustering</span>\n",
       "</pre>\n"
      ],
      "text/plain": [
       "\u001b[1mClustering\u001b[0m\n"
      ]
     },
     "metadata": {},
     "output_type": "display_data"
    },
    {
     "data": {
      "text/html": [
       "<pre style=\"white-space:pre;overflow-x:auto;line-height:normal;font-family:Menlo,'DejaVu Sans Mono',consolas,'Courier New',monospace\">    - BiorxivClusteringS2S.v2, <span style=\"color: #626262; text-decoration-color: #626262; font-style: italic\">s2s</span>\n",
       "</pre>\n"
      ],
      "text/plain": [
       "    - BiorxivClusteringS2S.v2, \u001b[3;38;5;241ms2s\u001b[0m\n"
      ]
     },
     "metadata": {},
     "output_type": "display_data"
    },
    {
     "data": {
      "text/html": [
       "<pre style=\"white-space:pre;overflow-x:auto;line-height:normal;font-family:Menlo,'DejaVu Sans Mono',consolas,'Courier New',monospace\">    - ArXivHierarchicalClusteringS2S, <span style=\"color: #626262; text-decoration-color: #626262; font-style: italic\">p2p</span>\n",
       "</pre>\n"
      ],
      "text/plain": [
       "    - ArXivHierarchicalClusteringS2S, \u001b[3;38;5;241mp2p\u001b[0m\n"
      ]
     },
     "metadata": {},
     "output_type": "display_data"
    },
    {
     "data": {
      "text/html": [
       "<pre style=\"white-space:pre;overflow-x:auto;line-height:normal;font-family:Menlo,'DejaVu Sans Mono',consolas,'Courier New',monospace\">\n",
       "\n",
       "</pre>\n"
      ],
      "text/plain": [
       "\n",
       "\n"
      ]
     },
     "metadata": {},
     "output_type": "display_data"
    }
   ],
   "source": [
    "from sentence_transformers import SentenceTransformer\n",
    "\n",
    "model_base = SentenceTransformer('Qwen/Qwen3-Embedding-0.6B')\n",
    "results_base = evaluator.run(model_base, output_folder='results')"
   ]
  },
  {
   "cell_type": "code",
   "execution_count": 3,
   "id": "7646b692",
   "metadata": {},
   "outputs": [],
   "source": [
    "# Free up some memory\n",
    "del model_base, results_base"
   ]
  },
  {
   "cell_type": "code",
   "execution_count": null,
   "id": "222af865",
   "metadata": {},
   "outputs": [],
   "source": [
    "from sentence_transformers import SentenceTransformer\n",
    "\n",
    "model_finetuned = SentenceTransformer('../../models/v0-20250626-170913/checkpoint-2000-merged')\n",
    "results_finetuned = evaluator.run(model_finetuned, output_folder='results')"
   ]
  },
  {
   "cell_type": "code",
   "execution_count": 12,
   "id": "ba9b60d1",
   "metadata": {},
   "outputs": [],
   "source": [
    "# Free up more memory\n",
    "del model_finetuned, results_finetuned"
   ]
  }
 ],
 "metadata": {
  "kernelspec": {
   "display_name": "venv",
   "language": "python",
   "name": "python3"
  },
  "language_info": {
   "codemirror_mode": {
    "name": "ipython",
    "version": 3
   },
   "file_extension": ".py",
   "mimetype": "text/x-python",
   "name": "python",
   "nbconvert_exporter": "python",
   "pygments_lexer": "ipython3",
   "version": "3.12.0"
  }
 },
 "nbformat": 4,
 "nbformat_minor": 5
}
