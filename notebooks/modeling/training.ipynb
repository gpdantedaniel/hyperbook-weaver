{
 "cells": [
  {
   "cell_type": "markdown",
   "id": "55903b4e",
   "metadata": {},
   "source": [
    "## Domain Adaptation\n",
    "\n",
    "Adapting Qwen3-Embedding-0.6B to the Hyperbook's vocabulary"
   ]
  },
  {
   "cell_type": "code",
   "execution_count": 1,
   "id": "cc7c45bb",
   "metadata": {},
   "outputs": [
    {
     "name": "stderr",
     "output_type": "stream",
     "text": [
      "[INFO:swift] Successfully registered `d:\\Projects\\hyperbook-weaver\\venv\\Lib\\site-packages\\swift\\llm\\dataset\\data\\dataset_info.json`.\n",
      "[INFO:swift] rank: -1, local_rank: -1, world_size: 1, local_world_size: 1\n",
      "[INFO:swift] Downloading the model from ModelScope Hub, model_id: Qwen/Qwen3-Embedding-0.6B\n"
     ]
    },
    {
     "name": "stdout",
     "output_type": "stream",
     "text": [
      "Downloading Model from https://www.modelscope.cn to directory: C:\\Users\\dante\\.cache\\modelscope\\hub\\models\\Qwen\\Qwen3-Embedding-0.6B\n"
     ]
    },
    {
     "name": "stderr",
     "output_type": "stream",
     "text": [
      "[INFO:modelscope] Target directory already exists, skipping creation.\n",
      "[INFO:swift] Loading the model using model_dir: C:\\Users\\dante\\.cache\\modelscope\\hub\\models\\Qwen\\Qwen3-Embedding-0___6B\n",
      "[INFO:swift] Setting torch_dtype: torch.bfloat16\n",
      "[INFO:swift] Setting args.lazy_tokenize: False\n",
      "[INFO:swift] Setting args.dataloader_num_workers: 0\n",
      "[INFO:swift] output_dir: d:\\Projects\\hyperbook-weaver\\models\\v0-20250626-170913\n"
     ]
    }
   ],
   "source": [
    "import os\n",
    "\n",
    "from swift.llm import sft_main, TrainArguments\n",
    "\n",
    "os.environ['USE_LIBUV'] = '0'\n",
    "os.environ['NPROC_PER_NODE'] = '8'\n",
    "\n",
    "args = TrainArguments(\n",
    "    model='Qwen/Qwen3-Embedding-0.6B',\n",
    "    model_type='qwen3_emb',\n",
    "    task_type='embedding',\n",
    "    train_type='lora',\n",
    "    dataset='../../data/processed/hyperbook_infonce.jsonl',\n",
    "    split_dataset_ratio=0.05,\n",
    "    output_dir='../../models',\n",
    "    eval_strategy='steps',\n",
    "    eval_steps=100,\n",
    "    num_train_epochs=5,\n",
    "    save_steps=1000,\n",
    "    per_device_train_batch_size=6,\n",
    "    per_device_eval_batch_size=6,\n",
    "    gradient_accumulation_steps=4,\n",
    "    learning_rate=6e-6,\n",
    "    loss_type='infonce',\n",
    "    label_names='labels',\n",
    "    dataloader_drop_last=True\n",
    ")"
   ]
  },
  {
   "cell_type": "code",
   "execution_count": 2,
   "id": "77780249",
   "metadata": {},
   "outputs": [
    {
     "name": "stderr",
     "output_type": "stream",
     "text": [
      "[INFO:swift] Global seed set to 42\n",
      "[INFO:swift] args: TrainArguments(\n",
      "_n_gpu=-1,\n",
      "acc_steps=1,\n",
      "acc_strategy=token,\n",
      "accelerator_config={'dispatch_batches': False},\n",
      "adafactor=False,\n",
      "adalora_beta1=0.85,\n",
      "adalora_beta2=0.85,\n",
      "adalora_deltaT=1,\n",
      "adalora_init_r=12,\n",
      "adalora_orth_reg_weight=0.5,\n",
      "adalora_target_r=8,\n",
      "adalora_tfinal=0,\n",
      "adalora_tinit=0,\n",
      "adam_beta1=0.9,\n",
      "adam_beta2=0.95,\n",
      "adam_epsilon=1e-08,\n",
      "adapter_act=gelu,\n",
      "adapter_length=128,\n",
      "adapters=[],\n",
      "add_version=True,\n",
      "agent_template=None,\n",
      "aligner_lr=None,\n",
      "attn_impl=None,\n",
      "auto_find_batch_size=False,\n",
      "average_tokens_across_devices=False,\n",
      "batch_eval_metrics=False,\n",
      "bf16=True,\n",
      "bf16_full_eval=False,\n",
      "bnb_4bit_compute_dtype=torch.bfloat16,\n",
      "bnb_4bit_quant_storage=None,\n",
      "bnb_4bit_quant_type=nf4,\n",
      "bnb_4bit_use_double_quant=True,\n",
      "boft_block_num=0,\n",
      "boft_block_size=4,\n",
      "boft_dropout=0.0,\n",
      "boft_n_butterfly_factor=1,\n",
      "channels=None,\n",
      "check_model=True,\n",
      "ckpt_dir=None,\n",
      "columns={},\n",
      "create_checkpoint_symlink=False,\n",
      "custom_dataset_info=[],\n",
      "custom_register_path=[],\n",
      "data_seed=42,\n",
      "dataloader_drop_last=True,\n",
      "dataloader_num_workers=None,\n",
      "dataloader_persistent_workers=False,\n",
      "dataloader_pin_memory=True,\n",
      "dataloader_prefetch_factor=None,\n",
      "dataset=../../data/processed/hyperbook_infonce.jsonl,\n",
      "dataset_num_proc=1,\n",
      "dataset_shuffle=True,\n",
      "ddp_backend=None,\n",
      "ddp_broadcast_buffers=None,\n",
      "ddp_bucket_cap_mb=None,\n",
      "ddp_find_unused_parameters=None,\n",
      "ddp_timeout=18000000,\n",
      "debug=,\n",
      "deepspeed=None,\n",
      "device_map=None,\n",
      "disable_tqdm=None,\n",
      "do_eval=False,\n",
      "do_predict=False,\n",
      "do_train=False,\n",
      "download_mode=reuse_dataset_if_exists,\n",
      "eval_accumulation_steps=None,\n",
      "eval_datasets=[],\n",
      "eval_datasets_args=None,\n",
      "eval_delay=0,\n",
      "eval_do_concat_batches=True,\n",
      "eval_generation_config=None,\n",
      "eval_limit=None,\n",
      "eval_on_start=False,\n",
      "eval_steps=100,\n",
      "eval_strategy=steps,\n",
      "eval_use_evalscope=False,\n",
      "eval_use_gather_object=False,\n",
      "external_plugins=[],\n",
      "fourier_n_frequency=2000,\n",
      "fourier_scaling=300.0,\n",
      "fp16=False,\n",
      "fp16_backend=auto,\n",
      "fp16_full_eval=False,\n",
      "fp16_opt_level=O1,\n",
      "freeze_aligner=True,\n",
      "freeze_llm=False,\n",
      "freeze_parameters=[],\n",
      "freeze_parameters_ratio=0.0,\n",
      "freeze_parameters_regex=None,\n",
      "freeze_vit=True,\n",
      "fsdp=,\n",
      "fsdp_config=None,\n",
      "fsdp_min_num_params=0,\n",
      "fsdp_num=1,\n",
      "fsdp_transformer_layer_cls_to_wrap=None,\n",
      "full_determinism=False,\n",
      "galore_cos_threshold=0.4,\n",
      "galore_gamma_proj=2,\n",
      "galore_optim_per_parameter=False,\n",
      "galore_proj_bits=4,\n",
      "galore_proj_group_size=256,\n",
      "galore_proj_quant=False,\n",
      "galore_proj_type=std,\n",
      "galore_quantization=False,\n",
      "galore_queue_size=5,\n",
      "galore_rank=128,\n",
      "galore_scale=1.0,\n",
      "galore_target_modules=None,\n",
      "galore_update_proj_gap=50,\n",
      "galore_with_embedding=False,\n",
      "generation_config=None,\n",
      "generation_max_length=None,\n",
      "generation_num_beams=None,\n",
      "gradient_accumulation_steps=4,\n",
      "gradient_checkpointing=True,\n",
      "gradient_checkpointing_kwargs=None,\n",
      "greater_is_better=False,\n",
      "group_by_length=False,\n",
      "half_precision_backend=auto,\n",
      "hqq_axis=None,\n",
      "hub_always_push=False,\n",
      "hub_model_id=None,\n",
      "hub_private_repo=None,\n",
      "hub_strategy=every_save,\n",
      "hub_token=<HUB_TOKEN>,\n",
      "ignore_args_error=False,\n",
      "ignore_data_skip=False,\n",
      "include_for_metrics=[],\n",
      "include_inputs_for_metrics=False,\n",
      "include_num_input_tokens_seen=False,\n",
      "include_tokens_per_second=False,\n",
      "init_strategy=None,\n",
      "init_weights=True,\n",
      "interleave_prob=None,\n",
      "jit_mode_eval=False,\n",
      "label_names=labels,\n",
      "label_smoothing_factor=0.0,\n",
      "lazy_tokenize=False,\n",
      "learning_rate=6e-06,\n",
      "length_column_name=length,\n",
      "lisa_activated_layers=0,\n",
      "lisa_step_interval=20,\n",
      "llamapro_num_groups=None,\n",
      "llamapro_num_new_blocks=4,\n",
      "load_args=False,\n",
      "load_best_model_at_end=False,\n",
      "load_data_args=False,\n",
      "load_from_cache_file=True,\n",
      "local_rank=-1,\n",
      "local_repo_path=None,\n",
      "log_level=passive,\n",
      "log_level_replica=warning,\n",
      "log_on_each_node=True,\n",
      "logging_dir=d:\\Projects\\hyperbook-weaver\\models\\v0-20250626-170913\\runs,\n",
      "logging_first_step=True,\n",
      "logging_nan_inf_filter=True,\n",
      "logging_steps=5,\n",
      "logging_strategy=steps,\n",
      "logprobs=False,\n",
      "lora_alpha=32,\n",
      "lora_bias=none,\n",
      "lora_dropout=0.05,\n",
      "lora_dtype=None,\n",
      "lora_ga_batch_size=2,\n",
      "lora_ga_direction=ArB2r,\n",
      "lora_ga_iters=2,\n",
      "lora_ga_max_length=1024,\n",
      "lora_ga_scale=stable,\n",
      "lora_ga_stable_gamma=16,\n",
      "lora_modules=[],\n",
      "lora_rank=8,\n",
      "lorap_lr_ratio=None,\n",
      "loss_scale=default,\n",
      "loss_type=infonce,\n",
      "lr_scheduler_kwargs=None,\n",
      "lr_scheduler_type=cosine,\n",
      "max_epochs=None,\n",
      "max_grad_norm=1.0,\n",
      "max_length=None,\n",
      "max_memory={},\n",
      "max_new_tokens=64,\n",
      "max_pixels=None,\n",
      "max_steps=-1,\n",
      "metric=None,\n",
      "metric_for_best_model=loss,\n",
      "metric_warmup_step=0,\n",
      "model=Qwen/Qwen3-Embedding-0.6B,\n",
      "model_author=None,\n",
      "model_kwargs={},\n",
      "model_name=None,\n",
      "model_revision=None,\n",
      "model_type=qwen3_emb,\n",
      "modules_to_save=[],\n",
      "mp_parameters=,\n",
      "neftune_noise_alpha=None,\n",
      "no_cuda=False,\n",
      "norm_bbox=None,\n",
      "num_beams=1,\n",
      "num_labels=None,\n",
      "num_train_epochs=5,\n",
      "optim=adamw_torch,\n",
      "optim_args=None,\n",
      "optim_target_modules=None,\n",
      "optimizer=None,\n",
      "output_dir=d:\\Projects\\hyperbook-weaver\\models\\v0-20250626-170913,\n",
      "overwrite_output_dir=False,\n",
      "packing=False,\n",
      "packing_cache=None,\n",
      "padding_free=False,\n",
      "padding_side=right,\n",
      "past_index=-1,\n",
      "per_device_eval_batch_size=6,\n",
      "per_device_train_batch_size=6,\n",
      "predict_with_generate=False,\n",
      "prediction_loss_only=False,\n",
      "problem_type=None,\n",
      "push_to_hub=False,\n",
      "push_to_hub_model_id=None,\n",
      "push_to_hub_organization=None,\n",
      "push_to_hub_token=<PUSH_TO_HUB_TOKEN>,\n",
      "quant_bits=None,\n",
      "quant_method=None,\n",
      "ray_scope=last,\n",
      "reft_args=None,\n",
      "reft_intervention_type=LoreftIntervention,\n",
      "reft_layer_key=None,\n",
      "reft_layers=None,\n",
      "reft_rank=4,\n",
      "remove_unused_columns=True,\n",
      "repetition_penalty=None,\n",
      "report_to=['tensorboard'],\n",
      "response_prefix=None,\n",
      "restore_callback_states_from_checkpoint=False,\n",
      "resume_from_checkpoint=None,\n",
      "resume_only_model=False,\n",
      "rope_scaling=None,\n",
      "run_name=d:\\Projects\\hyperbook-weaver\\models\\v0-20250626-170913,\n",
      "save_on_each_node=False,\n",
      "save_only_model=False,\n",
      "save_safetensors=True,\n",
      "save_steps=1000,\n",
      "save_strategy=steps,\n",
      "save_total_limit=None,\n",
      "seed=42,\n",
      "sequence_parallel_size=1,\n",
      "shuffle_buffer_size=1000,\n",
      "skip_memory_metrics=True,\n",
      "sortish_sampler=False,\n",
      "split_dataset_ratio=0.05,\n",
      "stop_words=[],\n",
      "stopping_strategy=first_exhausted,\n",
      "stream=False,\n",
      "streaming=False,\n",
      "strict=False,\n",
      "swanlab_exp_name=None,\n",
      "swanlab_mode=cloud,\n",
      "swanlab_project=None,\n",
      "swanlab_token=<SWANLAB_TOKEN>,\n",
      "swanlab_workspace=None,\n",
      "system=None,\n",
      "target_modules=['all-linear'],\n",
      "target_regex=None,\n",
      "task_type=embedding,\n",
      "temperature=0.0,\n",
      "template=qwen3_emb,\n",
      "template_backend=swift,\n",
      "tf32=None,\n",
      "top_k=None,\n",
      "top_logprobs=None,\n",
      "top_p=None,\n",
      "torch_compile=False,\n",
      "torch_compile_backend=None,\n",
      "torch_compile_mode=None,\n",
      "torch_dtype=torch.bfloat16,\n",
      "torch_empty_cache_steps=None,\n",
      "torchdynamo=None,\n",
      "tpu_metrics_debug=False,\n",
      "tpu_num_cores=None,\n",
      "train_dataloader_shuffle=True,\n",
      "train_type=lora,\n",
      "trainable_parameters=[],\n",
      "trainable_parameters_regex=None,\n",
      "truncation_strategy=delete,\n",
      "tuner_backend=peft,\n",
      "use_chat_template=True,\n",
      "use_cpu=False,\n",
      "use_dora=False,\n",
      "use_galore=False,\n",
      "use_hf=False,\n",
      "use_ipex=False,\n",
      "use_legacy_prediction_loop=False,\n",
      "use_liger_kernel=False,\n",
      "use_logits_to_keep=None,\n",
      "use_mps_device=False,\n",
      "use_rslora=False,\n",
      "use_swift_lora=False,\n",
      "val_dataset=[],\n",
      "val_dataset_shuffle=False,\n",
      "vera_d_initial=0.1,\n",
      "vera_dropout=0.0,\n",
      "vera_projection_prng_key=0,\n",
      "vera_rank=256,\n",
      "vit_gradient_checkpointing=None,\n",
      "vit_lr=None,\n",
      "warmup_ratio=0.0,\n",
      "warmup_steps=0,\n",
      "weight_decay=0.1,\n",
      "zero_hpz_partition_size=None,\n",
      ")\n",
      "[INFO:swift] Downloading the model from ModelScope Hub, model_id: Qwen/Qwen3-Embedding-0.6B\n"
     ]
    },
    {
     "name": "stdout",
     "output_type": "stream",
     "text": [
      "Downloading Model from https://www.modelscope.cn to directory: C:\\Users\\dante\\.cache\\modelscope\\hub\\models\\Qwen\\Qwen3-Embedding-0.6B\n"
     ]
    },
    {
     "name": "stderr",
     "output_type": "stream",
     "text": [
      "[INFO:modelscope] Target directory already exists, skipping creation.\n",
      "[INFO:swift] Loading the model using model_dir: C:\\Users\\dante\\.cache\\modelscope\\hub\\models\\Qwen\\Qwen3-Embedding-0___6B\n",
      "[INFO:swift] model_kwargs: {'device_map': 'cuda:0'}\n",
      "[INFO:swift] model.hf_device_map: {'': device(type='cuda', index=0)}\n",
      "[INFO:swift] model_info: ModelInfo(model_type='qwen3_emb', model_dir='C:\\\\Users\\\\dante\\\\.cache\\\\modelscope\\\\hub\\\\models\\\\Qwen\\\\Qwen3-Embedding-0___6B', torch_dtype=torch.bfloat16, max_model_len=32768, quant_method=None, quant_bits=None, rope_scaling=None, config=Qwen3Config {\n",
      "  \"architectures\": [\n",
      "    \"Qwen3ForCausalLM\"\n",
      "  ],\n",
      "  \"attention_bias\": false,\n",
      "  \"attention_dropout\": 0.0,\n",
      "  \"bos_token_id\": 151643,\n",
      "  \"eos_token_id\": 151643,\n",
      "  \"head_dim\": 128,\n",
      "  \"hidden_act\": \"silu\",\n",
      "  \"hidden_size\": 1024,\n",
      "  \"initializer_range\": 0.02,\n",
      "  \"intermediate_size\": 3072,\n",
      "  \"max_position_embeddings\": 32768,\n",
      "  \"max_window_layers\": 28,\n",
      "  \"model_type\": \"qwen3\",\n",
      "  \"num_attention_heads\": 16,\n",
      "  \"num_hidden_layers\": 28,\n",
      "  \"num_key_value_heads\": 8,\n",
      "  \"pad_token_id\": 151643,\n",
      "  \"rms_norm_eps\": 1e-06,\n",
      "  \"rope_scaling\": null,\n",
      "  \"rope_theta\": 1000000,\n",
      "  \"sliding_window\": null,\n",
      "  \"tie_word_embeddings\": true,\n",
      "  \"torch_dtype\": \"bfloat16\",\n",
      "  \"transformers_version\": \"4.52.4\",\n",
      "  \"use_cache\": true,\n",
      "  \"use_sliding_window\": false,\n",
      "  \"vocab_size\": 151669\n",
      "}\n",
      ", task_type='embedding', num_labels=None)\n",
      "[INFO:swift] model.generation_config: GenerationConfig {\n",
      "  \"bos_token_id\": 151643,\n",
      "  \"eos_token_id\": 151643,\n",
      "  \"max_new_tokens\": 2048\n",
      "}\n",
      "\n",
      "[INFO:swift] default_system: None\n",
      "[INFO:swift] max_length: 32768\n",
      "[INFO:swift] response_prefix: ''\n",
      "[INFO:swift] agent_template: react_en\n",
      "[INFO:swift] norm_bbox: norm1000\n",
      "[INFO:swift] Start time of running main: 2025-06-26 17:09:25.923308\n",
      "[INFO:swift] swift.__version__: 3.5.2\n"
     ]
    },
    {
     "data": {
      "application/vnd.jupyter.widget-view+json": {
       "model_id": "b77a9600e3ac472781d03332d51d1c3f",
       "version_major": 2,
       "version_minor": 0
      },
      "text/plain": [
       "Generating train split: 0 examples [00:00, ? examples/s]"
      ]
     },
     "metadata": {},
     "output_type": "display_data"
    },
    {
     "data": {
      "application/vnd.jupyter.widget-view+json": {
       "model_id": "f6431995740b46938129774d4f68c05e",
       "version_major": 2,
       "version_minor": 0
      },
      "text/plain": [
       "Map:   0%|          | 0/51146 [00:00<?, ? examples/s]"
      ]
     },
     "metadata": {},
     "output_type": "display_data"
    },
    {
     "name": "stderr",
     "output_type": "stream",
     "text": [
      "[INFO:swift] train_dataset: Dataset({\n",
      "    features: ['rejected_response', 'messages'],\n",
      "    num_rows: 48589\n",
      "})\n",
      "[INFO:swift] val_dataset: Dataset({\n",
      "    features: ['rejected_response', 'messages'],\n",
      "    num_rows: 2557\n",
      "})\n",
      "[INFO:swift] The split dataset from the training set will be saved at: d:\\Projects\\hyperbook-weaver\\models\\v0-20250626-170913\\val_dataset.jsonl.\n"
     ]
    },
    {
     "data": {
      "application/vnd.jupyter.widget-view+json": {
       "model_id": "eb9a6aaf69054eb18aff2dac439dba08",
       "version_major": 2,
       "version_minor": 0
      },
      "text/plain": [
       "Map:   0%|          | 0/48589 [00:00<?, ? examples/s]"
      ]
     },
     "metadata": {},
     "output_type": "display_data"
    },
    {
     "data": {
      "application/vnd.jupyter.widget-view+json": {
       "model_id": "7630bfcf32fb4b58ba2bb6e8455588ea",
       "version_major": 2,
       "version_minor": 0
      },
      "text/plain": [
       "Map:   0%|          | 0/2557 [00:00<?, ? examples/s]"
      ]
     },
     "metadata": {},
     "output_type": "display_data"
    },
    {
     "name": "stderr",
     "output_type": "stream",
     "text": [
      "[INFO:swift] [LABELS_IDS] [1.0, 0.0, 0.0, 0.0]\n"
     ]
    },
    {
     "data": {
      "application/vnd.jupyter.widget-view+json": {
       "model_id": "2d97f3b1df3846ca943a0a574b5c30b9",
       "version_major": 2,
       "version_minor": 0
      },
      "text/plain": [
       "Map:   0%|          | 0/48589 [00:00<?, ? examples/s]"
      ]
     },
     "metadata": {},
     "output_type": "display_data"
    },
    {
     "name": "stderr",
     "output_type": "stream",
     "text": [
      "[INFO:swift] Dataset Token Length: 43.348392±19.018807, min=5.000000, max=263.000000, size=48589\n"
     ]
    },
    {
     "data": {
      "application/vnd.jupyter.widget-view+json": {
       "model_id": "8ffce7248ace4b54a70356e73e8bfe47",
       "version_major": 2,
       "version_minor": 0
      },
      "text/plain": [
       "Map:   0%|          | 0/2557 [00:00<?, ? examples/s]"
      ]
     },
     "metadata": {},
     "output_type": "display_data"
    },
    {
     "name": "stderr",
     "output_type": "stream",
     "text": [
      "[INFO:swift] Dataset Token Length: 42.566289±17.927700, min=11.000000, max=198.000000, size=2557\n",
      "[INFO:swift] The TrainArguments will be saved in: d:\\Projects\\hyperbook-weaver\\models\\v0-20250626-170913\\args.json\n",
      "[INFO:swift] lora_config: LoraConfig(task_type=None, peft_type=<PeftType.LORA: 'LORA'>, auto_mapping=None, base_model_name_or_path='C:\\\\Users\\\\dante\\\\.cache\\\\modelscope\\\\hub\\\\models\\\\Qwen\\\\Qwen3-Embedding-0___6B', revision=None, inference_mode=False, r=8, target_modules={'o_proj', 'up_proj', 'gate_proj', 'v_proj', 'down_proj', 'q_proj', 'k_proj'}, exclude_modules=None, lora_alpha=32, lora_dropout=0.05, fan_in_fan_out=False, bias='none', use_rslora=False, modules_to_save=[], init_lora_weights=True, layers_to_transform=None, layers_pattern=None, rank_pattern={}, alpha_pattern={}, megatron_config=None, megatron_core='megatron.core', trainable_token_indices=None, loftq_config={}, eva_config=None, corda_config=None, use_dora=False, layer_replication=None, runtime_config=LoraRuntimeConfig(ephemeral_gpu_offload=False), lora_bias=False, lora_dtype=None, lorap_lr_ratio=None, lorap_emb_lr=1e-06)\n",
      "[INFO:swift] model: PeftModel(\n",
      "  (base_model): LoraModel(\n",
      "    (model): Qwen3ForCausalLM(\n",
      "      (model): Qwen3Model(\n",
      "        (embed_tokens): Embedding(151669, 1024)\n",
      "        (layers): ModuleList(\n",
      "          (0-27): 28 x Qwen3DecoderLayer(\n",
      "            (self_attn): Qwen3Attention(\n",
      "              (q_proj): lora.Linear(\n",
      "                (base_layer): Linear(in_features=1024, out_features=2048, bias=False)\n",
      "                (lora_dropout): ModuleDict(\n",
      "                  (default): Dropout(p=0.05, inplace=False)\n",
      "                )\n",
      "                (lora_A): ModuleDict(\n",
      "                  (default): Linear(in_features=1024, out_features=8, bias=False)\n",
      "                )\n",
      "                (lora_B): ModuleDict(\n",
      "                  (default): Linear(in_features=8, out_features=2048, bias=False)\n",
      "                )\n",
      "                (lora_embedding_A): ParameterDict()\n",
      "                (lora_embedding_B): ParameterDict()\n",
      "                (lora_magnitude_vector): ModuleDict()\n",
      "              )\n",
      "              (k_proj): lora.Linear(\n",
      "                (base_layer): Linear(in_features=1024, out_features=1024, bias=False)\n",
      "                (lora_dropout): ModuleDict(\n",
      "                  (default): Dropout(p=0.05, inplace=False)\n",
      "                )\n",
      "                (lora_A): ModuleDict(\n",
      "                  (default): Linear(in_features=1024, out_features=8, bias=False)\n",
      "                )\n",
      "                (lora_B): ModuleDict(\n",
      "                  (default): Linear(in_features=8, out_features=1024, bias=False)\n",
      "                )\n",
      "                (lora_embedding_A): ParameterDict()\n",
      "                (lora_embedding_B): ParameterDict()\n",
      "                (lora_magnitude_vector): ModuleDict()\n",
      "              )\n",
      "              (v_proj): lora.Linear(\n",
      "                (base_layer): Linear(in_features=1024, out_features=1024, bias=False)\n",
      "                (lora_dropout): ModuleDict(\n",
      "                  (default): Dropout(p=0.05, inplace=False)\n",
      "                )\n",
      "                (lora_A): ModuleDict(\n",
      "                  (default): Linear(in_features=1024, out_features=8, bias=False)\n",
      "                )\n",
      "                (lora_B): ModuleDict(\n",
      "                  (default): Linear(in_features=8, out_features=1024, bias=False)\n",
      "                )\n",
      "                (lora_embedding_A): ParameterDict()\n",
      "                (lora_embedding_B): ParameterDict()\n",
      "                (lora_magnitude_vector): ModuleDict()\n",
      "              )\n",
      "              (o_proj): lora.Linear(\n",
      "                (base_layer): Linear(in_features=2048, out_features=1024, bias=False)\n",
      "                (lora_dropout): ModuleDict(\n",
      "                  (default): Dropout(p=0.05, inplace=False)\n",
      "                )\n",
      "                (lora_A): ModuleDict(\n",
      "                  (default): Linear(in_features=2048, out_features=8, bias=False)\n",
      "                )\n",
      "                (lora_B): ModuleDict(\n",
      "                  (default): Linear(in_features=8, out_features=1024, bias=False)\n",
      "                )\n",
      "                (lora_embedding_A): ParameterDict()\n",
      "                (lora_embedding_B): ParameterDict()\n",
      "                (lora_magnitude_vector): ModuleDict()\n",
      "              )\n",
      "              (q_norm): Qwen3RMSNorm((128,), eps=1e-06)\n",
      "              (k_norm): Qwen3RMSNorm((128,), eps=1e-06)\n",
      "            )\n",
      "            (mlp): Qwen3MLP(\n",
      "              (gate_proj): lora.Linear(\n",
      "                (base_layer): Linear(in_features=1024, out_features=3072, bias=False)\n",
      "                (lora_dropout): ModuleDict(\n",
      "                  (default): Dropout(p=0.05, inplace=False)\n",
      "                )\n",
      "                (lora_A): ModuleDict(\n",
      "                  (default): Linear(in_features=1024, out_features=8, bias=False)\n",
      "                )\n",
      "                (lora_B): ModuleDict(\n",
      "                  (default): Linear(in_features=8, out_features=3072, bias=False)\n",
      "                )\n",
      "                (lora_embedding_A): ParameterDict()\n",
      "                (lora_embedding_B): ParameterDict()\n",
      "                (lora_magnitude_vector): ModuleDict()\n",
      "              )\n",
      "              (up_proj): lora.Linear(\n",
      "                (base_layer): Linear(in_features=1024, out_features=3072, bias=False)\n",
      "                (lora_dropout): ModuleDict(\n",
      "                  (default): Dropout(p=0.05, inplace=False)\n",
      "                )\n",
      "                (lora_A): ModuleDict(\n",
      "                  (default): Linear(in_features=1024, out_features=8, bias=False)\n",
      "                )\n",
      "                (lora_B): ModuleDict(\n",
      "                  (default): Linear(in_features=8, out_features=3072, bias=False)\n",
      "                )\n",
      "                (lora_embedding_A): ParameterDict()\n",
      "                (lora_embedding_B): ParameterDict()\n",
      "                (lora_magnitude_vector): ModuleDict()\n",
      "              )\n",
      "              (down_proj): lora.Linear(\n",
      "                (base_layer): Linear(in_features=3072, out_features=1024, bias=False)\n",
      "                (lora_dropout): ModuleDict(\n",
      "                  (default): Dropout(p=0.05, inplace=False)\n",
      "                )\n",
      "                (lora_A): ModuleDict(\n",
      "                  (default): Linear(in_features=3072, out_features=8, bias=False)\n",
      "                )\n",
      "                (lora_B): ModuleDict(\n",
      "                  (default): Linear(in_features=8, out_features=1024, bias=False)\n",
      "                )\n",
      "                (lora_embedding_A): ParameterDict()\n",
      "                (lora_embedding_B): ParameterDict()\n",
      "                (lora_magnitude_vector): ModuleDict()\n",
      "              )\n",
      "              (act_fn): SiLU()\n",
      "            )\n",
      "            (input_layernorm): Qwen3RMSNorm((1024,), eps=1e-06)\n",
      "            (post_attention_layernorm): Qwen3RMSNorm((1024,), eps=1e-06)\n",
      "          )\n",
      "        )\n",
      "        (norm): Qwen3RMSNorm((1024,), eps=1e-06)\n",
      "        (rotary_emb): Qwen3RotaryEmbedding()\n",
      "      )\n",
      "      (lm_head): Linear(in_features=1024, out_features=151669, bias=False)\n",
      "    )\n",
      "  )\n",
      ")\n",
      "[INFO:swift] model_parameter_info: PeftModel: 600.8228M Params (5.0463M Trainable [0.8399%]), 0.0001M Buffers.\n",
      "d:\\Projects\\hyperbook-weaver\\venv\\Lib\\site-packages\\swift\\trainers\\mixin.py:89: FutureWarning: `tokenizer` is deprecated and will be removed in version 5.0.0 for `EmbeddingTrainer.__init__`. Use `processing_class` instead.\n",
      "  super().__init__(\n",
      "[INFO:swift] The logging file will be saved in: d:\\Projects\\hyperbook-weaver\\models\\v0-20250626-170913\\logging.jsonl\n",
      "Train:   0%|          | 1/10125 [00:02<8:09:20,  2.90s/it]"
     ]
    },
    {
     "name": "stdout",
     "output_type": "stream",
     "text": [
      "{'loss': 9.43752384, 'grad_norm': 50.38296127, 'learning_rate': 6e-06, 'memory(GiB)': 1.78, 'train_speed(iter/s)': 0.311832, 'epoch': 0.0, 'global_step/max_steps': '1/10125', 'percentage': '0.01%', 'elapsed_time': '2s', 'remaining_time': '8h 10m 10s'}\n"
     ]
    },
    {
     "name": "stderr",
     "output_type": "stream",
     "text": [
      "Train:   0%|          | 5/10125 [00:09<5:10:23,  1.84s/it]"
     ]
    },
    {
     "name": "stdout",
     "output_type": "stream",
     "text": [
      "{'loss': 8.39692783, 'grad_norm': 67.70113373, 'learning_rate': 6e-06, 'memory(GiB)': 1.98, 'train_speed(iter/s)': 0.492556, 'epoch': 0.0, 'global_step/max_steps': '5/10125', 'percentage': '0.05%', 'elapsed_time': '9s', 'remaining_time': '5h 32m 11s'}\n"
     ]
    },
    {
     "name": "stderr",
     "output_type": "stream",
     "text": [
      "Train:   0%|          | 10/10125 [00:18<5:10:36,  1.84s/it]"
     ]
    },
    {
     "name": "stdout",
     "output_type": "stream",
     "text": [
      "{'loss': 8.13777542, 'grad_norm': 50.61355591, 'learning_rate': 6e-06, 'memory(GiB)': 2.13, 'train_speed(iter/s)': 0.518458, 'epoch': 0.0, 'global_step/max_steps': '10/10125', 'percentage': '0.10%', 'elapsed_time': '18s', 'remaining_time': '5h 20m 1s'}\n"
     ]
    },
    {
     "name": "stderr",
     "output_type": "stream",
     "text": [
      "Train:   0%|          | 15/10125 [00:27<4:56:50,  1.76s/it]"
     ]
    },
    {
     "name": "stdout",
     "output_type": "stream",
     "text": [
      "{'loss': 8.63073959, 'grad_norm': 75.9441452, 'learning_rate': 6e-06, 'memory(GiB)': 2.13, 'train_speed(iter/s)': 0.532463, 'epoch': 0.01, 'global_step/max_steps': '15/10125', 'percentage': '0.15%', 'elapsed_time': '27s', 'remaining_time': '5h 13m 6s'}\n"
     ]
    },
    {
     "name": "stderr",
     "output_type": "stream",
     "text": [
      "Train:   0%|          | 20/10125 [00:37<5:09:09,  1.84s/it]"
     ]
    },
    {
     "name": "stdout",
     "output_type": "stream",
     "text": [
      "{'loss': 9.21811371, 'grad_norm': 54.13960648, 'learning_rate': 6e-06, 'memory(GiB)': 2.13, 'train_speed(iter/s)': 0.534061, 'epoch': 0.01, 'global_step/max_steps': '20/10125', 'percentage': '0.20%', 'elapsed_time': '37s', 'remaining_time': '5h 12m 47s'}\n"
     ]
    },
    {
     "name": "stderr",
     "output_type": "stream",
     "text": [
      "Train:   0%|          | 25/10125 [00:45<4:58:35,  1.77s/it]"
     ]
    },
    {
     "name": "stdout",
     "output_type": "stream",
     "text": [
      "{'loss': 8.60380859, 'grad_norm': 59.82629776, 'learning_rate': 6e-06, 'memory(GiB)': 2.13, 'train_speed(iter/s)': 0.541239, 'epoch': 0.01, 'global_step/max_steps': '25/10125', 'percentage': '0.25%', 'elapsed_time': '45s', 'remaining_time': '5h 8m 57s'}\n"
     ]
    },
    {
     "name": "stderr",
     "output_type": "stream",
     "text": [
      "Train:   0%|          | 30/10125 [00:55<5:05:02,  1.81s/it]"
     ]
    },
    {
     "name": "stdout",
     "output_type": "stream",
     "text": [
      "{'loss': 8.81484146, 'grad_norm': 57.5503273, 'learning_rate': 6e-06, 'memory(GiB)': 2.13, 'train_speed(iter/s)': 0.541168, 'epoch': 0.01, 'global_step/max_steps': '30/10125', 'percentage': '0.30%', 'elapsed_time': '55s', 'remaining_time': '5h 9m 11s'}\n"
     ]
    },
    {
     "name": "stderr",
     "output_type": "stream",
     "text": [
      "Train:   0%|          | 35/10125 [01:04<5:08:52,  1.84s/it]"
     ]
    },
    {
     "name": "stdout",
     "output_type": "stream",
     "text": [
      "{'loss': 7.77047729, 'grad_norm': 58.08982086, 'learning_rate': 6e-06, 'memory(GiB)': 2.16, 'train_speed(iter/s)': 0.542053, 'epoch': 0.02, 'global_step/max_steps': '35/10125', 'percentage': '0.35%', 'elapsed_time': '1m 4s', 'remaining_time': '5h 8m 47s'}\n"
     ]
    },
    {
     "name": "stderr",
     "output_type": "stream",
     "text": [
      "Train:   0%|          | 40/10125 [01:13<4:58:19,  1.77s/it]"
     ]
    },
    {
     "name": "stdout",
     "output_type": "stream",
     "text": [
      "{'loss': 9.11641388, 'grad_norm': 55.53640366, 'learning_rate': 6e-06, 'memory(GiB)': 2.16, 'train_speed(iter/s)': 0.54459, 'epoch': 0.02, 'global_step/max_steps': '40/10125', 'percentage': '0.40%', 'elapsed_time': '1m 13s', 'remaining_time': '5h 7m 22s'}\n"
     ]
    },
    {
     "name": "stderr",
     "output_type": "stream",
     "text": [
      "Train:   0%|          | 45/10125 [01:22<5:05:13,  1.82s/it]"
     ]
    },
    {
     "name": "stdout",
     "output_type": "stream",
     "text": [
      "{'loss': 8.94836044, 'grad_norm': 52.93250275, 'learning_rate': 6e-06, 'memory(GiB)': 2.16, 'train_speed(iter/s)': 0.545104, 'epoch': 0.02, 'global_step/max_steps': '45/10125', 'percentage': '0.44%', 'elapsed_time': '1m 22s', 'remaining_time': '5h 7m 3s'}\n"
     ]
    },
    {
     "name": "stderr",
     "output_type": "stream",
     "text": [
      "Train:   0%|          | 50/10125 [01:31<4:58:50,  1.78s/it]"
     ]
    },
    {
     "name": "stdout",
     "output_type": "stream",
     "text": [
      "{'loss': 8.14272766, 'grad_norm': 53.19553375, 'learning_rate': 6e-06, 'memory(GiB)': 2.16, 'train_speed(iter/s)': 0.546713, 'epoch': 0.02, 'global_step/max_steps': '50/10125', 'percentage': '0.49%', 'elapsed_time': '1m 31s', 'remaining_time': '5h 6m 6s'}\n"
     ]
    },
    {
     "name": "stderr",
     "output_type": "stream",
     "text": [
      "Train:   1%|          | 55/10125 [01:40<5:00:05,  1.79s/it]"
     ]
    },
    {
     "name": "stdout",
     "output_type": "stream",
     "text": [
      "{'loss': 9.15780563, 'grad_norm': 68.03300476, 'learning_rate': 6e-06, 'memory(GiB)': 2.16, 'train_speed(iter/s)': 0.547709, 'epoch': 0.03, 'global_step/max_steps': '55/10125', 'percentage': '0.54%', 'elapsed_time': '1m 40s', 'remaining_time': '5h 5m 29s'}\n"
     ]
    },
    {
     "name": "stderr",
     "output_type": "stream",
     "text": [
      "Train:   1%|          | 60/10125 [01:49<5:03:14,  1.81s/it]"
     ]
    },
    {
     "name": "stdout",
     "output_type": "stream",
     "text": [
      "{'loss': 6.80009003, 'grad_norm': 38.19755554, 'learning_rate': 6e-06, 'memory(GiB)': 2.22, 'train_speed(iter/s)': 0.547928, 'epoch': 0.03, 'global_step/max_steps': '60/10125', 'percentage': '0.59%', 'elapsed_time': '1m 49s', 'remaining_time': '5h 5m 18s'}\n"
     ]
    },
    {
     "name": "stderr",
     "output_type": "stream",
     "text": [
      "Train:   1%|          | 65/10125 [01:57<4:56:21,  1.77s/it]"
     ]
    },
    {
     "name": "stdout",
     "output_type": "stream",
     "text": [
      "{'loss': 8.06735077, 'grad_norm': 58.87443924, 'learning_rate': 6e-06, 'memory(GiB)': 2.22, 'train_speed(iter/s)': 0.549668, 'epoch': 0.03, 'global_step/max_steps': '65/10125', 'percentage': '0.64%', 'elapsed_time': '1m 57s', 'remaining_time': '5h 4m 14s'}\n"
     ]
    },
    {
     "name": "stderr",
     "output_type": "stream",
     "text": [
      "Train:   1%|          | 70/10125 [02:06<4:59:46,  1.79s/it]"
     ]
    },
    {
     "name": "stdout",
     "output_type": "stream",
     "text": [
      "{'loss': 7.66799393, 'grad_norm': 49.80818558, 'learning_rate': 6e-06, 'memory(GiB)': 2.22, 'train_speed(iter/s)': 0.550704, 'epoch': 0.03, 'global_step/max_steps': '70/10125', 'percentage': '0.69%', 'elapsed_time': '2m 6s', 'remaining_time': '5h 3m 34s'}\n"
     ]
    },
    {
     "name": "stderr",
     "output_type": "stream",
     "text": [
      "Train:   1%|          | 75/10125 [02:15<5:00:56,  1.80s/it]"
     ]
    },
    {
     "name": "stdout",
     "output_type": "stream",
     "text": [
      "{'loss': 7.18135605, 'grad_norm': 60.79460907, 'learning_rate': 6e-06, 'memory(GiB)': 2.22, 'train_speed(iter/s)': 0.551294, 'epoch': 0.04, 'global_step/max_steps': '75/10125', 'percentage': '0.74%', 'elapsed_time': '2m 15s', 'remaining_time': '5h 3m 9s'}\n"
     ]
    },
    {
     "name": "stderr",
     "output_type": "stream",
     "text": [
      "Train:   1%|          | 80/10125 [02:24<5:04:05,  1.82s/it]"
     ]
    },
    {
     "name": "stdout",
     "output_type": "stream",
     "text": [
      "{'loss': 7.10309753, 'grad_norm': 51.75949478, 'learning_rate': 6e-06, 'memory(GiB)': 2.22, 'train_speed(iter/s)': 0.550918, 'epoch': 0.04, 'global_step/max_steps': '80/10125', 'percentage': '0.79%', 'elapsed_time': '2m 24s', 'remaining_time': '5h 3m 15s'}\n"
     ]
    },
    {
     "name": "stderr",
     "output_type": "stream",
     "text": [
      "Train:   1%|          | 85/10125 [02:33<4:57:52,  1.78s/it]"
     ]
    },
    {
     "name": "stdout",
     "output_type": "stream",
     "text": [
      "{'loss': 6.6145256, 'grad_norm': 53.17073822, 'learning_rate': 6e-06, 'memory(GiB)': 2.22, 'train_speed(iter/s)': 0.551791, 'epoch': 0.04, 'global_step/max_steps': '85/10125', 'percentage': '0.84%', 'elapsed_time': '2m 33s', 'remaining_time': '5h 2m 39s'}\n"
     ]
    },
    {
     "name": "stderr",
     "output_type": "stream",
     "text": [
      "Train:   1%|          | 90/10125 [02:42<4:57:13,  1.78s/it]"
     ]
    },
    {
     "name": "stdout",
     "output_type": "stream",
     "text": [
      "{'loss': 7.70456772, 'grad_norm': 58.71616745, 'learning_rate': 6e-06, 'memory(GiB)': 2.22, 'train_speed(iter/s)': 0.552439, 'epoch': 0.04, 'global_step/max_steps': '90/10125', 'percentage': '0.89%', 'elapsed_time': '2m 42s', 'remaining_time': '5h 2m 10s'}\n"
     ]
    },
    {
     "name": "stderr",
     "output_type": "stream",
     "text": [
      "Train:   1%|          | 95/10125 [02:51<4:54:15,  1.76s/it]"
     ]
    },
    {
     "name": "stdout",
     "output_type": "stream",
     "text": [
      "{'loss': 7.04367828, 'grad_norm': 38.29596329, 'learning_rate': 6e-06, 'memory(GiB)': 2.22, 'train_speed(iter/s)': 0.552389, 'epoch': 0.05, 'global_step/max_steps': '95/10125', 'percentage': '0.94%', 'elapsed_time': '2m 51s', 'remaining_time': '5h 2m 5s'}\n"
     ]
    },
    {
     "name": "stderr",
     "output_type": "stream",
     "text": [
      "Train:   1%|          | 100/10125 [03:01<5:07:38,  1.84s/it]\n"
     ]
    },
    {
     "name": "stdout",
     "output_type": "stream",
     "text": [
      "{'loss': 5.6626339, 'grad_norm': 36.61354446, 'learning_rate': 6e-06, 'memory(GiB)': 2.22, 'train_speed(iter/s)': 0.551491, 'epoch': 0.05, 'global_step/max_steps': '100/10125', 'percentage': '0.99%', 'elapsed_time': '3m 1s', 'remaining_time': '5h 2m 27s'}\n"
     ]
    },
    {
     "name": "stderr",
     "output_type": "stream",
     "text": [
      "Val: 100%|██████████| 426/426 [00:57<00:00,  7.42it/s]4s/it]\n"
     ]
    },
    {
     "name": "stdout",
     "output_type": "stream",
     "text": [
      "{'eval_loss': 5.92162228, 'eval_margin': -0.08769922, 'eval_mean_neg': 0.62258363, 'eval_mean_pos': 0.78397799, 'eval_runtime': 57.5922, 'eval_samples_per_second': 44.398, 'eval_steps_per_second': 7.414, 'epoch': 0.05, 'global_step/max_steps': '100/10125', 'percentage': '0.99%', 'elapsed_time': '3m 58s', 'remaining_time': '6h 38m 42s'}\n"
     ]
    },
    {
     "name": "stderr",
     "output_type": "stream",
     "text": [
      "Train:   1%|          | 105/10125 [04:07<16:37:50,  5.98s/it]"
     ]
    },
    {
     "name": "stdout",
     "output_type": "stream",
     "text": [
      "{'loss': 6.43623276, 'grad_norm': 51.00896454, 'learning_rate': 6e-06, 'memory(GiB)': 2.22, 'train_speed(iter/s)': 0.42335, 'epoch': 0.05, 'global_step/max_steps': '105/10125', 'percentage': '1.04%', 'elapsed_time': '4m 7s', 'remaining_time': '6h 33m 59s'}\n"
     ]
    },
    {
     "name": "stderr",
     "output_type": "stream",
     "text": [
      "Train:   1%|          | 110/10125 [04:16<6:49:46,  2.45s/it] "
     ]
    },
    {
     "name": "stdout",
     "output_type": "stream",
     "text": [
      "{'loss': 5.60703735, 'grad_norm': 50.12231827, 'learning_rate': 6e-06, 'memory(GiB)': 2.22, 'train_speed(iter/s)': 0.428385, 'epoch': 0.05, 'global_step/max_steps': '110/10125', 'percentage': '1.09%', 'elapsed_time': '4m 16s', 'remaining_time': '6h 29m 10s'}\n"
     ]
    },
    {
     "name": "stderr",
     "output_type": "stream",
     "text": [
      "Train:   1%|          | 115/10125 [04:25<5:34:05,  2.00s/it]"
     ]
    },
    {
     "name": "stdout",
     "output_type": "stream",
     "text": [
      "{'loss': 5.14013176, 'grad_norm': 45.00731659, 'learning_rate': 6e-06, 'memory(GiB)': 2.43, 'train_speed(iter/s)': 0.431929, 'epoch': 0.06, 'global_step/max_steps': '115/10125', 'percentage': '1.14%', 'elapsed_time': '4m 25s', 'remaining_time': '6h 25m 49s'}\n"
     ]
    },
    {
     "name": "stderr",
     "output_type": "stream",
     "text": [
      "Train:   1%|          | 120/10125 [04:35<5:17:39,  1.91s/it]"
     ]
    },
    {
     "name": "stdout",
     "output_type": "stream",
     "text": [
      "{'loss': 5.935186, 'grad_norm': 54.0997963, 'learning_rate': 6e-06, 'memory(GiB)': 2.43, 'train_speed(iter/s)': 0.435136, 'epoch': 0.06, 'global_step/max_steps': '120/10125', 'percentage': '1.19%', 'elapsed_time': '4m 35s', 'remaining_time': '6h 22m 48s'}\n"
     ]
    },
    {
     "name": "stderr",
     "output_type": "stream",
     "text": [
      "Train:   1%|          | 125/10125 [04:44<4:59:52,  1.80s/it]"
     ]
    },
    {
     "name": "stdout",
     "output_type": "stream",
     "text": [
      "{'loss': 5.66470833, 'grad_norm': 50.45307541, 'learning_rate': 6e-06, 'memory(GiB)': 2.43, 'train_speed(iter/s)': 0.43892, 'epoch': 0.06, 'global_step/max_steps': '125/10125', 'percentage': '1.23%', 'elapsed_time': '4m 44s', 'remaining_time': '6h 19m 20s'}\n"
     ]
    },
    {
     "name": "stderr",
     "output_type": "stream",
     "text": [
      "Train:   1%|▏         | 130/10125 [04:53<5:10:02,  1.86s/it]"
     ]
    },
    {
     "name": "stdout",
     "output_type": "stream",
     "text": [
      "{'loss': 5.31946831, 'grad_norm': 38.26665878, 'learning_rate': 6e-06, 'memory(GiB)': 2.43, 'train_speed(iter/s)': 0.442135, 'epoch': 0.06, 'global_step/max_steps': '130/10125', 'percentage': '1.28%', 'elapsed_time': '4m 53s', 'remaining_time': '6h 16m 22s'}\n"
     ]
    },
    {
     "name": "stderr",
     "output_type": "stream",
     "text": [
      "Train:   1%|▏         | 135/10125 [05:02<4:57:10,  1.78s/it]"
     ]
    },
    {
     "name": "stdout",
     "output_type": "stream",
     "text": [
      "{'loss': 4.7147953, 'grad_norm': 41.43638229, 'learning_rate': 6e-06, 'memory(GiB)': 2.43, 'train_speed(iter/s)': 0.445466, 'epoch': 0.07, 'global_step/max_steps': '135/10125', 'percentage': '1.33%', 'elapsed_time': '5m 2s', 'remaining_time': '6h 13m 23s'}\n"
     ]
    },
    {
     "name": "stderr",
     "output_type": "stream",
     "text": [
      "Train:   1%|▏         | 140/10125 [05:11<4:52:52,  1.76s/it]"
     ]
    },
    {
     "name": "stdout",
     "output_type": "stream",
     "text": [
      "{'loss': 4.69913521, 'grad_norm': 45.17933655, 'learning_rate': 6e-06, 'memory(GiB)': 2.43, 'train_speed(iter/s)': 0.448919, 'epoch': 0.07, 'global_step/max_steps': '140/10125', 'percentage': '1.38%', 'elapsed_time': '5m 11s', 'remaining_time': '6h 10m 20s'}\n"
     ]
    },
    {
     "name": "stderr",
     "output_type": "stream",
     "text": [
      "Train:   1%|▏         | 145/10125 [05:20<5:05:59,  1.84s/it]"
     ]
    },
    {
     "name": "stdout",
     "output_type": "stream",
     "text": [
      "{'loss': 4.58124466, 'grad_norm': 44.18227386, 'learning_rate': 6e-06, 'memory(GiB)': 2.43, 'train_speed(iter/s)': 0.451528, 'epoch': 0.07, 'global_step/max_steps': '145/10125', 'percentage': '1.43%', 'elapsed_time': '5m 20s', 'remaining_time': '6h 8m 1s'}\n"
     ]
    },
    {
     "name": "stderr",
     "output_type": "stream",
     "text": [
      "Train:   1%|▏         | 150/10125 [05:30<5:25:03,  1.96s/it]"
     ]
    },
    {
     "name": "stdout",
     "output_type": "stream",
     "text": [
      "{'loss': 3.28833885, 'grad_norm': 26.71848297, 'learning_rate': 6e-06, 'memory(GiB)': 2.43, 'train_speed(iter/s)': 0.453493, 'epoch': 0.07, 'global_step/max_steps': '150/10125', 'percentage': '1.48%', 'elapsed_time': '5m 30s', 'remaining_time': '6h 6m 15s'}\n"
     ]
    },
    {
     "name": "stderr",
     "output_type": "stream",
     "text": [
      "Train:   2%|▏         | 155/10125 [05:39<4:59:28,  1.80s/it]"
     ]
    },
    {
     "name": "stdout",
     "output_type": "stream",
     "text": [
      "{'loss': 3.80467796, 'grad_norm': 34.09202957, 'learning_rate': 6e-06, 'memory(GiB)': 2.43, 'train_speed(iter/s)': 0.456347, 'epoch': 0.08, 'global_step/max_steps': '155/10125', 'percentage': '1.53%', 'elapsed_time': '5m 39s', 'remaining_time': '6h 3m 48s'}\n"
     ]
    },
    {
     "name": "stderr",
     "output_type": "stream",
     "text": [
      "Train:   2%|▏         | 160/10125 [05:48<4:53:41,  1.77s/it]"
     ]
    },
    {
     "name": "stdout",
     "output_type": "stream",
     "text": [
      "{'loss': 3.82194786, 'grad_norm': 46.18354034, 'learning_rate': 6e-06, 'memory(GiB)': 2.43, 'train_speed(iter/s)': 0.459195, 'epoch': 0.08, 'global_step/max_steps': '160/10125', 'percentage': '1.58%', 'elapsed_time': '5m 48s', 'remaining_time': '6h 1m 22s'}\n"
     ]
    },
    {
     "name": "stderr",
     "output_type": "stream",
     "text": [
      "Train:   2%|▏         | 165/10125 [05:57<5:07:33,  1.85s/it]"
     ]
    },
    {
     "name": "stdout",
     "output_type": "stream",
     "text": [
      "{'loss': 3.22850037, 'grad_norm': 32.14605713, 'learning_rate': 6e-06, 'memory(GiB)': 2.43, 'train_speed(iter/s)': 0.461291, 'epoch': 0.08, 'global_step/max_steps': '165/10125', 'percentage': '1.63%', 'elapsed_time': '5m 57s', 'remaining_time': '5h 59m 34s'}\n"
     ]
    },
    {
     "name": "stderr",
     "output_type": "stream",
     "text": [
      "Train:   2%|▏         | 170/10125 [06:06<4:57:25,  1.79s/it]"
     ]
    },
    {
     "name": "stdout",
     "output_type": "stream",
     "text": [
      "{'loss': 3.11886883, 'grad_norm': 23.80039024, 'learning_rate': 6e-06, 'memory(GiB)': 2.43, 'train_speed(iter/s)': 0.463781, 'epoch': 0.08, 'global_step/max_steps': '170/10125', 'percentage': '1.68%', 'elapsed_time': '6m 6s', 'remaining_time': '5h 57m 27s'}\n"
     ]
    },
    {
     "name": "stderr",
     "output_type": "stream",
     "text": [
      "Train:   2%|▏         | 175/10125 [06:15<5:07:56,  1.86s/it]"
     ]
    },
    {
     "name": "stdout",
     "output_type": "stream",
     "text": [
      "{'loss': 2.96257706, 'grad_norm': 31.66478348, 'learning_rate': 6e-06, 'memory(GiB)': 2.43, 'train_speed(iter/s)': 0.465523, 'epoch': 0.09, 'global_step/max_steps': '175/10125', 'percentage': '1.73%', 'elapsed_time': '6m 15s', 'remaining_time': '5h 55m 56s'}\n"
     ]
    },
    {
     "name": "stderr",
     "output_type": "stream",
     "text": [
      "Train:   2%|▏         | 180/10125 [06:24<4:52:04,  1.76s/it]"
     ]
    },
    {
     "name": "stdout",
     "output_type": "stream",
     "text": [
      "{'loss': 2.33802853, 'grad_norm': 20.39279747, 'learning_rate': 6e-06, 'memory(GiB)': 2.43, 'train_speed(iter/s)': 0.467997, 'epoch': 0.09, 'global_step/max_steps': '180/10125', 'percentage': '1.78%', 'elapsed_time': '6m 24s', 'remaining_time': '5h 53m 53s'}\n"
     ]
    },
    {
     "name": "stderr",
     "output_type": "stream",
     "text": [
      "Train:   2%|▏         | 185/10125 [06:33<5:00:59,  1.82s/it]"
     ]
    },
    {
     "name": "stdout",
     "output_type": "stream",
     "text": [
      "{'loss': 2.50653267, 'grad_norm': 17.52322578, 'learning_rate': 6e-06, 'memory(GiB)': 2.43, 'train_speed(iter/s)': 0.470061, 'epoch': 0.09, 'global_step/max_steps': '185/10125', 'percentage': '1.83%', 'elapsed_time': '6m 33s', 'remaining_time': '5h 52m 9s'}\n"
     ]
    },
    {
     "name": "stderr",
     "output_type": "stream",
     "text": [
      "Train:   2%|▏         | 190/10125 [06:42<5:09:45,  1.87s/it]"
     ]
    },
    {
     "name": "stdout",
     "output_type": "stream",
     "text": [
      "{'loss': 2.83943405, 'grad_norm': 22.5884304, 'learning_rate': 5.99e-06, 'memory(GiB)': 2.43, 'train_speed(iter/s)': 0.471436, 'epoch': 0.09, 'global_step/max_steps': '190/10125', 'percentage': '1.88%', 'elapsed_time': '6m 42s', 'remaining_time': '5h 50m 58s'}\n"
     ]
    },
    {
     "name": "stderr",
     "output_type": "stream",
     "text": [
      "Train:   2%|▏         | 195/10125 [06:51<4:54:26,  1.78s/it]"
     ]
    },
    {
     "name": "stdout",
     "output_type": "stream",
     "text": [
      "{'loss': 2.63645706, 'grad_norm': 16.62726212, 'learning_rate': 5.99e-06, 'memory(GiB)': 2.43, 'train_speed(iter/s)': 0.473354, 'epoch': 0.1, 'global_step/max_steps': '195/10125', 'percentage': '1.93%', 'elapsed_time': '6m 51s', 'remaining_time': '5h 49m 22s'}\n"
     ]
    },
    {
     "name": "stderr",
     "output_type": "stream",
     "text": [
      "Train:   2%|▏         | 200/10125 [07:01<5:10:15,  1.88s/it]\n"
     ]
    },
    {
     "name": "stdout",
     "output_type": "stream",
     "text": [
      "{'loss': 2.84707813, 'grad_norm': 20.56118393, 'learning_rate': 5.99e-06, 'memory(GiB)': 2.43, 'train_speed(iter/s)': 0.474654, 'epoch': 0.1, 'global_step/max_steps': '200/10125', 'percentage': '1.98%', 'elapsed_time': '7m 1s', 'remaining_time': '5h 48m 14s'}\n"
     ]
    },
    {
     "name": "stderr",
     "output_type": "stream",
     "text": [
      "Val: 100%|██████████| 426/426 [00:56<00:00,  7.49it/s]8s/it]\n"
     ]
    },
    {
     "name": "stdout",
     "output_type": "stream",
     "text": [
      "{'eval_loss': 2.43853283, 'eval_margin': -0.02993622, 'eval_mean_neg': 0.88107216, 'eval_mean_pos': 0.92806971, 'eval_runtime': 57.009, 'eval_samples_per_second': 44.853, 'eval_steps_per_second': 7.49, 'epoch': 0.1, 'global_step/max_steps': '200/10125', 'percentage': '1.98%', 'elapsed_time': '7m 58s', 'remaining_time': '6h 35m 24s'}\n"
     ]
    },
    {
     "name": "stderr",
     "output_type": "stream",
     "text": [
      "Train:   2%|▏         | 205/10125 [08:06<16:07:11,  5.85s/it]"
     ]
    },
    {
     "name": "stdout",
     "output_type": "stream",
     "text": [
      "{'loss': 2.43340969, 'grad_norm': 14.45347214, 'learning_rate': 5.99e-06, 'memory(GiB)': 2.43, 'train_speed(iter/s)': 0.420897, 'epoch': 0.1, 'global_step/max_steps': '205/10125', 'percentage': '2.02%', 'elapsed_time': '8m 6s', 'remaining_time': '6h 32m 34s'}\n"
     ]
    },
    {
     "name": "stderr",
     "output_type": "stream",
     "text": [
      "Train:   2%|▏         | 210/10125 [08:15<6:35:20,  2.39s/it] "
     ]
    },
    {
     "name": "stdout",
     "output_type": "stream",
     "text": [
      "{'loss': 2.22031708, 'grad_norm': 17.46606064, 'learning_rate': 5.99e-06, 'memory(GiB)': 2.43, 'train_speed(iter/s)': 0.423788, 'epoch': 0.1, 'global_step/max_steps': '210/10125', 'percentage': '2.07%', 'elapsed_time': '8m 15s', 'remaining_time': '6h 29m 41s'}\n"
     ]
    },
    {
     "name": "stderr",
     "output_type": "stream",
     "text": [
      "Train:   2%|▏         | 215/10125 [08:24<5:14:48,  1.91s/it]"
     ]
    },
    {
     "name": "stdout",
     "output_type": "stream",
     "text": [
      "{'loss': 2.37952709, 'grad_norm': 16.41331673, 'learning_rate': 5.99e-06, 'memory(GiB)': 2.43, 'train_speed(iter/s)': 0.426078, 'epoch': 0.11, 'global_step/max_steps': '215/10125', 'percentage': '2.12%', 'elapsed_time': '8m 24s', 'remaining_time': '6h 27m 25s'}\n"
     ]
    },
    {
     "name": "stderr",
     "output_type": "stream",
     "text": [
      "Train:   2%|▏         | 220/10125 [08:33<4:53:36,  1.78s/it]"
     ]
    },
    {
     "name": "stdout",
     "output_type": "stream",
     "text": [
      "{'loss': 2.1388525, 'grad_norm': 18.64995193, 'learning_rate': 5.99e-06, 'memory(GiB)': 2.43, 'train_speed(iter/s)': 0.428463, 'epoch': 0.11, 'global_step/max_steps': '220/10125', 'percentage': '2.17%', 'elapsed_time': '8m 33s', 'remaining_time': '6h 25m 4s'}\n"
     ]
    },
    {
     "name": "stderr",
     "output_type": "stream",
     "text": [
      "Train:   2%|▏         | 225/10125 [08:42<5:01:43,  1.83s/it]"
     ]
    },
    {
     "name": "stdout",
     "output_type": "stream",
     "text": [
      "{'loss': 2.12269287, 'grad_norm': 14.6090641, 'learning_rate': 5.99e-06, 'memory(GiB)': 2.43, 'train_speed(iter/s)': 0.430407, 'epoch': 0.11, 'global_step/max_steps': '225/10125', 'percentage': '2.22%', 'elapsed_time': '8m 42s', 'remaining_time': '6h 23m 8s'}\n"
     ]
    },
    {
     "name": "stderr",
     "output_type": "stream",
     "text": [
      "Train:   2%|▏         | 230/10125 [08:51<5:01:22,  1.83s/it]"
     ]
    },
    {
     "name": "stdout",
     "output_type": "stream",
     "text": [
      "{'loss': 2.40021095, 'grad_norm': 11.46893787, 'learning_rate': 5.99e-06, 'memory(GiB)': 2.43, 'train_speed(iter/s)': 0.432429, 'epoch': 0.11, 'global_step/max_steps': '230/10125', 'percentage': '2.27%', 'elapsed_time': '8m 51s', 'remaining_time': '6h 21m 9s'}\n"
     ]
    },
    {
     "name": "stderr",
     "output_type": "stream",
     "text": [
      "Train:   2%|▏         | 235/10125 [09:00<4:59:34,  1.82s/it]"
     ]
    },
    {
     "name": "stdout",
     "output_type": "stream",
     "text": [
      "{'loss': 2.14530201, 'grad_norm': 11.37142563, 'learning_rate': 5.99e-06, 'memory(GiB)': 2.43, 'train_speed(iter/s)': 0.434234, 'epoch': 0.12, 'global_step/max_steps': '235/10125', 'percentage': '2.32%', 'elapsed_time': '9m 0s', 'remaining_time': '6h 19m 22s'}\n"
     ]
    },
    {
     "name": "stderr",
     "output_type": "stream",
     "text": [
      "Train:   2%|▏         | 240/10125 [09:09<4:49:22,  1.76s/it]"
     ]
    },
    {
     "name": "stdout",
     "output_type": "stream",
     "text": [
      "{'loss': 2.21365452, 'grad_norm': 10.50060558, 'learning_rate': 5.99e-06, 'memory(GiB)': 2.43, 'train_speed(iter/s)': 0.43639, 'epoch': 0.12, 'global_step/max_steps': '240/10125', 'percentage': '2.37%', 'elapsed_time': '9m 9s', 'remaining_time': '6h 17m 19s'}\n"
     ]
    },
    {
     "name": "stderr",
     "output_type": "stream",
     "text": [
      "Train:   2%|▏         | 245/10125 [09:18<4:43:44,  1.72s/it]"
     ]
    },
    {
     "name": "stdout",
     "output_type": "stream",
     "text": [
      "{'loss': 2.10154419, 'grad_norm': 10.05863476, 'learning_rate': 5.99e-06, 'memory(GiB)': 2.43, 'train_speed(iter/s)': 0.438717, 'epoch': 0.12, 'global_step/max_steps': '245/10125', 'percentage': '2.42%', 'elapsed_time': '9m 18s', 'remaining_time': '6h 15m 7s'}\n"
     ]
    },
    {
     "name": "stderr",
     "output_type": "stream",
     "text": [
      "Train:   2%|▏         | 250/10125 [09:27<4:58:49,  1.82s/it]"
     ]
    },
    {
     "name": "stdout",
     "output_type": "stream",
     "text": [
      "{'loss': 2.163591, 'grad_norm': 16.49792671, 'learning_rate': 5.99e-06, 'memory(GiB)': 2.43, 'train_speed(iter/s)': 0.440427, 'epoch': 0.12, 'global_step/max_steps': '250/10125', 'percentage': '2.47%', 'elapsed_time': '9m 27s', 'remaining_time': '6h 13m 29s'}\n"
     ]
    },
    {
     "name": "stderr",
     "output_type": "stream",
     "text": [
      "Train:   3%|▎         | 255/10125 [09:35<4:40:52,  1.71s/it]"
     ]
    },
    {
     "name": "stdout",
     "output_type": "stream",
     "text": [
      "{'loss': 2.22631302, 'grad_norm': 10.41072941, 'learning_rate': 5.99e-06, 'memory(GiB)': 2.43, 'train_speed(iter/s)': 0.442634, 'epoch': 0.13, 'global_step/max_steps': '255/10125', 'percentage': '2.52%', 'elapsed_time': '9m 35s', 'remaining_time': '6h 11m 26s'}\n"
     ]
    },
    {
     "name": "stderr",
     "output_type": "stream",
     "text": [
      "Train:   3%|▎         | 260/10125 [09:44<4:59:41,  1.82s/it]"
     ]
    },
    {
     "name": "stdout",
     "output_type": "stream",
     "text": [
      "{'loss': 2.1536705, 'grad_norm': 9.17901325, 'learning_rate': 5.99e-06, 'memory(GiB)': 2.43, 'train_speed(iter/s)': 0.44422, 'epoch': 0.13, 'global_step/max_steps': '260/10125', 'percentage': '2.57%', 'elapsed_time': '9m 44s', 'remaining_time': '6h 9m 55s'}\n"
     ]
    },
    {
     "name": "stderr",
     "output_type": "stream",
     "text": [
      "Train:   3%|▎         | 265/10125 [09:54<5:09:25,  1.88s/it]"
     ]
    },
    {
     "name": "stdout",
     "output_type": "stream",
     "text": [
      "{'loss': 2.12939701, 'grad_norm': 10.32595921, 'learning_rate': 5.99e-06, 'memory(GiB)': 2.43, 'train_speed(iter/s)': 0.445605, 'epoch': 0.13, 'global_step/max_steps': '265/10125', 'percentage': '2.62%', 'elapsed_time': '9m 54s', 'remaining_time': '6h 8m 35s'}\n"
     ]
    },
    {
     "name": "stderr",
     "output_type": "stream",
     "text": [
      "Train:   3%|▎         | 270/10125 [10:03<4:50:55,  1.77s/it]"
     ]
    },
    {
     "name": "stdout",
     "output_type": "stream",
     "text": [
      "{'loss': 1.9136713, 'grad_norm': 12.889184, 'learning_rate': 5.99e-06, 'memory(GiB)': 2.43, 'train_speed(iter/s)': 0.447351, 'epoch': 0.13, 'global_step/max_steps': '270/10125', 'percentage': '2.67%', 'elapsed_time': '10m 3s', 'remaining_time': '6h 6m 58s'}\n"
     ]
    },
    {
     "name": "stderr",
     "output_type": "stream",
     "text": [
      "Train:   3%|▎         | 275/10125 [10:12<5:07:58,  1.88s/it]"
     ]
    },
    {
     "name": "stdout",
     "output_type": "stream",
     "text": [
      "{'loss': 2.19599609, 'grad_norm': 12.40970516, 'learning_rate': 5.99e-06, 'memory(GiB)': 2.43, 'train_speed(iter/s)': 0.448579, 'epoch': 0.14, 'global_step/max_steps': '275/10125', 'percentage': '2.72%', 'elapsed_time': '10m 12s', 'remaining_time': '6h 5m 47s'}\n"
     ]
    },
    {
     "name": "stderr",
     "output_type": "stream",
     "text": [
      "Train:   3%|▎         | 280/10125 [10:21<5:02:37,  1.84s/it]"
     ]
    },
    {
     "name": "stdout",
     "output_type": "stream",
     "text": [
      "{'loss': 1.99871082, 'grad_norm': 9.17022038, 'learning_rate': 5.99e-06, 'memory(GiB)': 2.43, 'train_speed(iter/s)': 0.450156, 'epoch': 0.14, 'global_step/max_steps': '280/10125', 'percentage': '2.77%', 'elapsed_time': '10m 21s', 'remaining_time': '6h 4m 19s'}\n"
     ]
    },
    {
     "name": "stderr",
     "output_type": "stream",
     "text": [
      "Train:   3%|▎         | 285/10125 [10:30<4:49:12,  1.76s/it]"
     ]
    },
    {
     "name": "stdout",
     "output_type": "stream",
     "text": [
      "{'loss': 1.91407242, 'grad_norm': 9.65555191, 'learning_rate': 5.99e-06, 'memory(GiB)': 2.43, 'train_speed(iter/s)': 0.451839, 'epoch': 0.14, 'global_step/max_steps': '285/10125', 'percentage': '2.81%', 'elapsed_time': '10m 30s', 'remaining_time': '6h 2m 47s'}\n"
     ]
    },
    {
     "name": "stderr",
     "output_type": "stream",
     "text": [
      "Train:   3%|▎         | 290/10125 [10:39<4:49:28,  1.77s/it]"
     ]
    },
    {
     "name": "stdout",
     "output_type": "stream",
     "text": [
      "{'loss': 2.06950417, 'grad_norm': 8.10969257, 'learning_rate': 5.99e-06, 'memory(GiB)': 2.43, 'train_speed(iter/s)': 0.453328, 'epoch': 0.14, 'global_step/max_steps': '290/10125', 'percentage': '2.86%', 'elapsed_time': '10m 39s', 'remaining_time': '6h 1m 24s'}\n"
     ]
    },
    {
     "name": "stderr",
     "output_type": "stream",
     "text": [
      "Train:   3%|▎         | 295/10125 [10:47<4:30:09,  1.65s/it]"
     ]
    },
    {
     "name": "stdout",
     "output_type": "stream",
     "text": [
      "{'loss': 1.6471735, 'grad_norm': 7.97860575, 'learning_rate': 5.99e-06, 'memory(GiB)': 2.43, 'train_speed(iter/s)': 0.455239, 'epoch': 0.15, 'global_step/max_steps': '295/10125', 'percentage': '2.91%', 'elapsed_time': '10m 47s', 'remaining_time': '5h 59m 43s'}\n"
     ]
    },
    {
     "name": "stderr",
     "output_type": "stream",
     "text": [
      "Train:   3%|▎         | 300/10125 [10:56<4:36:12,  1.69s/it]\n"
     ]
    },
    {
     "name": "stdout",
     "output_type": "stream",
     "text": [
      "{'loss': 2.06346493, 'grad_norm': 11.63485622, 'learning_rate': 5.99e-06, 'memory(GiB)': 2.43, 'train_speed(iter/s)': 0.457002, 'epoch': 0.15, 'global_step/max_steps': '300/10125', 'percentage': '2.96%', 'elapsed_time': '10m 56s', 'remaining_time': '5h 58m 8s'}\n"
     ]
    },
    {
     "name": "stderr",
     "output_type": "stream",
     "text": [
      "Val: 100%|██████████| 426/426 [00:47<00:00,  9.05it/s]9s/it]\n"
     ]
    },
    {
     "name": "stdout",
     "output_type": "stream",
     "text": [
      "{'eval_loss': 1.93775332, 'eval_margin': -0.01617402, 'eval_mean_neg': 0.92843777, 'eval_mean_pos': 0.96033984, 'eval_runtime': 47.219, 'eval_samples_per_second': 54.152, 'eval_steps_per_second': 9.043, 'epoch': 0.15, 'global_step/max_steps': '300/10125', 'percentage': '2.96%', 'elapsed_time': '11m 43s', 'remaining_time': '6h 23m 55s'}\n"
     ]
    },
    {
     "name": "stderr",
     "output_type": "stream",
     "text": [
      "Train:   3%|▎         | 305/10125 [11:52<14:06:34,  5.17s/it]"
     ]
    },
    {
     "name": "stdout",
     "output_type": "stream",
     "text": [
      "{'loss': 1.78982964, 'grad_norm': 7.92055893, 'learning_rate': 5.99e-06, 'memory(GiB)': 2.43, 'train_speed(iter/s)': 0.428007, 'epoch': 0.15, 'global_step/max_steps': '305/10125', 'percentage': '3.01%', 'elapsed_time': '11m 52s', 'remaining_time': '6h 22m 13s'}\n"
     ]
    },
    {
     "name": "stderr",
     "output_type": "stream",
     "text": [
      "Train:   3%|▎         | 310/10125 [12:00<6:16:37,  2.30s/it] "
     ]
    },
    {
     "name": "stdout",
     "output_type": "stream",
     "text": [
      "{'loss': 1.79690266, 'grad_norm': 8.81342125, 'learning_rate': 5.99e-06, 'memory(GiB)': 2.43, 'train_speed(iter/s)': 0.429831, 'epoch': 0.15, 'global_step/max_steps': '310/10125', 'percentage': '3.06%', 'elapsed_time': '12m 0s', 'remaining_time': '6h 20m 24s'}\n"
     ]
    },
    {
     "name": "stderr",
     "output_type": "stream",
     "text": [
      "Train:   3%|▎         | 315/10125 [12:10<5:23:23,  1.98s/it]"
     ]
    },
    {
     "name": "stdout",
     "output_type": "stream",
     "text": [
      "{'loss': 1.83946629, 'grad_norm': 7.05228233, 'learning_rate': 5.99e-06, 'memory(GiB)': 2.58, 'train_speed(iter/s)': 0.431258, 'epoch': 0.16, 'global_step/max_steps': '315/10125', 'percentage': '3.11%', 'elapsed_time': '12m 10s', 'remaining_time': '6h 18m 57s'}\n"
     ]
    },
    {
     "name": "stderr",
     "output_type": "stream",
     "text": [
      "Train:   3%|▎         | 320/10125 [12:19<5:04:25,  1.86s/it]"
     ]
    },
    {
     "name": "stdout",
     "output_type": "stream",
     "text": [
      "{'loss': 1.56539392, 'grad_norm': 6.50707817, 'learning_rate': 5.99e-06, 'memory(GiB)': 2.58, 'train_speed(iter/s)': 0.432766, 'epoch': 0.16, 'global_step/max_steps': '320/10125', 'percentage': '3.16%', 'elapsed_time': '12m 19s', 'remaining_time': '6h 17m 27s'}\n"
     ]
    },
    {
     "name": "stderr",
     "output_type": "stream",
     "text": [
      "Train:   3%|▎         | 325/10125 [12:27<4:45:42,  1.75s/it]"
     ]
    },
    {
     "name": "stdout",
     "output_type": "stream",
     "text": [
      "{'loss': 2.20214787, 'grad_norm': 9.31449223, 'learning_rate': 5.98e-06, 'memory(GiB)': 2.58, 'train_speed(iter/s)': 0.434374, 'epoch': 0.16, 'global_step/max_steps': '325/10125', 'percentage': '3.21%', 'elapsed_time': '12m 27s', 'remaining_time': '6h 15m 52s'}\n"
     ]
    },
    {
     "name": "stderr",
     "output_type": "stream",
     "text": [
      "Train:   3%|▎         | 330/10125 [12:37<4:58:52,  1.83s/it]"
     ]
    },
    {
     "name": "stdout",
     "output_type": "stream",
     "text": [
      "{'loss': 2.06665859, 'grad_norm': 10.87368965, 'learning_rate': 5.98e-06, 'memory(GiB)': 2.58, 'train_speed(iter/s)': 0.435733, 'epoch': 0.16, 'global_step/max_steps': '330/10125', 'percentage': '3.26%', 'elapsed_time': '12m 37s', 'remaining_time': '6h 14m 30s'}\n"
     ]
    },
    {
     "name": "stderr",
     "output_type": "stream",
     "text": [
      "Train:   3%|▎         | 335/10125 [12:45<4:45:58,  1.75s/it]"
     ]
    },
    {
     "name": "stdout",
     "output_type": "stream",
     "text": [
      "{'loss': 1.7320797, 'grad_norm': 8.52190399, 'learning_rate': 5.98e-06, 'memory(GiB)': 2.58, 'train_speed(iter/s)': 0.437231, 'epoch': 0.17, 'global_step/max_steps': '335/10125', 'percentage': '3.31%', 'elapsed_time': '12m 45s', 'remaining_time': '6h 13m 2s'}\n"
     ]
    },
    {
     "name": "stderr",
     "output_type": "stream",
     "text": [
      "Train:   3%|▎         | 340/10125 [12:55<5:00:06,  1.84s/it]"
     ]
    },
    {
     "name": "stdout",
     "output_type": "stream",
     "text": [
      "{'loss': 2.04313583, 'grad_norm': 10.92780209, 'learning_rate': 5.98e-06, 'memory(GiB)': 2.58, 'train_speed(iter/s)': 0.438476, 'epoch': 0.17, 'global_step/max_steps': '340/10125', 'percentage': '3.36%', 'elapsed_time': '12m 55s', 'remaining_time': '6h 11m 47s'}\n"
     ]
    },
    {
     "name": "stderr",
     "output_type": "stream",
     "text": [
      "Train:   3%|▎         | 345/10125 [13:03<4:46:13,  1.76s/it]"
     ]
    },
    {
     "name": "stdout",
     "output_type": "stream",
     "text": [
      "{'loss': 1.80938778, 'grad_norm': 9.01128006, 'learning_rate': 5.98e-06, 'memory(GiB)': 2.58, 'train_speed(iter/s)': 0.439886, 'epoch': 0.17, 'global_step/max_steps': '345/10125', 'percentage': '3.41%', 'elapsed_time': '13m 3s', 'remaining_time': '6h 10m 24s'}\n"
     ]
    },
    {
     "name": "stderr",
     "output_type": "stream",
     "text": [
      "Train:   3%|▎         | 350/10125 [13:13<5:08:11,  1.89s/it]"
     ]
    },
    {
     "name": "stdout",
     "output_type": "stream",
     "text": [
      "{'loss': 1.96380062, 'grad_norm': 9.06663418, 'learning_rate': 5.98e-06, 'memory(GiB)': 2.58, 'train_speed(iter/s)': 0.440986, 'epoch': 0.17, 'global_step/max_steps': '350/10125', 'percentage': '3.46%', 'elapsed_time': '13m 13s', 'remaining_time': '6h 9m 17s'}\n"
     ]
    },
    {
     "name": "stderr",
     "output_type": "stream",
     "text": [
      "Train:   4%|▎         | 355/10125 [13:22<4:44:10,  1.75s/it]"
     ]
    },
    {
     "name": "stdout",
     "output_type": "stream",
     "text": [
      "{'loss': 1.7581953, 'grad_norm': 8.64256668, 'learning_rate': 5.98e-06, 'memory(GiB)': 2.58, 'train_speed(iter/s)': 0.442393, 'epoch': 0.18, 'global_step/max_steps': '355/10125', 'percentage': '3.51%', 'elapsed_time': '13m 22s', 'remaining_time': '6h 7m 56s'}\n"
     ]
    },
    {
     "name": "stderr",
     "output_type": "stream",
     "text": [
      "Train:   4%|▎         | 360/10125 [13:31<4:50:01,  1.78s/it]"
     ]
    },
    {
     "name": "stdout",
     "output_type": "stream",
     "text": [
      "{'loss': 1.83238411, 'grad_norm': 8.2370224, 'learning_rate': 5.98e-06, 'memory(GiB)': 2.58, 'train_speed(iter/s)': 0.443498, 'epoch': 0.18, 'global_step/max_steps': '360/10125', 'percentage': '3.56%', 'elapsed_time': '13m 31s', 'remaining_time': '6h 6m 49s'}\n"
     ]
    },
    {
     "name": "stderr",
     "output_type": "stream",
     "text": [
      "Train:   4%|▎         | 365/10125 [13:40<4:55:30,  1.82s/it]"
     ]
    },
    {
     "name": "stdout",
     "output_type": "stream",
     "text": [
      "{'loss': 1.73099594, 'grad_norm': 7.49508286, 'learning_rate': 5.98e-06, 'memory(GiB)': 2.58, 'train_speed(iter/s)': 0.44466, 'epoch': 0.18, 'global_step/max_steps': '365/10125', 'percentage': '3.60%', 'elapsed_time': '13m 40s', 'remaining_time': '6h 5m 41s'}\n"
     ]
    },
    {
     "name": "stderr",
     "output_type": "stream",
     "text": [
      "Train:   4%|▎         | 370/10125 [13:50<5:07:11,  1.89s/it]"
     ]
    },
    {
     "name": "stdout",
     "output_type": "stream",
     "text": [
      "{'loss': 2.02537613, 'grad_norm': 12.20369434, 'learning_rate': 5.98e-06, 'memory(GiB)': 2.74, 'train_speed(iter/s)': 0.445472, 'epoch': 0.18, 'global_step/max_steps': '370/10125', 'percentage': '3.65%', 'elapsed_time': '13m 50s', 'remaining_time': '6h 4m 50s'}\n"
     ]
    },
    {
     "name": "stderr",
     "output_type": "stream",
     "text": [
      "Train:   4%|▎         | 375/10125 [13:59<4:48:12,  1.77s/it]"
     ]
    },
    {
     "name": "stdout",
     "output_type": "stream",
     "text": [
      "{'loss': 1.98659649, 'grad_norm': 9.2085495, 'learning_rate': 5.98e-06, 'memory(GiB)': 2.74, 'train_speed(iter/s)': 0.446781, 'epoch': 0.19, 'global_step/max_steps': '375/10125', 'percentage': '3.70%', 'elapsed_time': '13m 59s', 'remaining_time': '6h 3m 34s'}\n"
     ]
    },
    {
     "name": "stderr",
     "output_type": "stream",
     "text": [
      "Train:   4%|▍         | 380/10125 [14:08<5:00:04,  1.85s/it]"
     ]
    },
    {
     "name": "stdout",
     "output_type": "stream",
     "text": [
      "{'loss': 1.89808617, 'grad_norm': 9.8368187, 'learning_rate': 5.98e-06, 'memory(GiB)': 2.74, 'train_speed(iter/s)': 0.447781, 'epoch': 0.19, 'global_step/max_steps': '380/10125', 'percentage': '3.75%', 'elapsed_time': '14m 8s', 'remaining_time': '6h 2m 35s'}\n"
     ]
    },
    {
     "name": "stderr",
     "output_type": "stream",
     "text": [
      "Train:   4%|▍         | 385/10125 [14:17<5:01:07,  1.85s/it]"
     ]
    },
    {
     "name": "stdout",
     "output_type": "stream",
     "text": [
      "{'loss': 2.0112196, 'grad_norm': 7.90808964, 'learning_rate': 5.98e-06, 'memory(GiB)': 2.74, 'train_speed(iter/s)': 0.448683, 'epoch': 0.19, 'global_step/max_steps': '385/10125', 'percentage': '3.80%', 'elapsed_time': '14m 17s', 'remaining_time': '6h 1m 40s'}\n"
     ]
    },
    {
     "name": "stderr",
     "output_type": "stream",
     "text": [
      "Train:   4%|▍         | 390/10125 [14:26<4:54:43,  1.82s/it]"
     ]
    },
    {
     "name": "stdout",
     "output_type": "stream",
     "text": [
      "{'loss': 2.08761635, 'grad_norm': 7.53297615, 'learning_rate': 5.98e-06, 'memory(GiB)': 2.74, 'train_speed(iter/s)': 0.449758, 'epoch': 0.19, 'global_step/max_steps': '390/10125', 'percentage': '3.85%', 'elapsed_time': '14m 26s', 'remaining_time': '6h 0m 37s'}\n"
     ]
    },
    {
     "name": "stderr",
     "output_type": "stream",
     "text": [
      "Train:   4%|▍         | 395/10125 [14:36<5:07:06,  1.89s/it]"
     ]
    },
    {
     "name": "stdout",
     "output_type": "stream",
     "text": [
      "{'loss': 1.76461983, 'grad_norm': 7.18281555, 'learning_rate': 5.98e-06, 'memory(GiB)': 2.74, 'train_speed(iter/s)': 0.450513, 'epoch': 0.2, 'global_step/max_steps': '395/10125', 'percentage': '3.90%', 'elapsed_time': '14m 36s', 'remaining_time': '5h 59m 50s'}\n"
     ]
    },
    {
     "name": "stderr",
     "output_type": "stream",
     "text": [
      "Train:   4%|▍         | 400/10125 [14:45<4:54:00,  1.81s/it]\n"
     ]
    },
    {
     "name": "stdout",
     "output_type": "stream",
     "text": [
      "{'loss': 1.82649708, 'grad_norm': 7.55042315, 'learning_rate': 5.98e-06, 'memory(GiB)': 2.74, 'train_speed(iter/s)': 0.451563, 'epoch': 0.2, 'global_step/max_steps': '400/10125', 'percentage': '3.95%', 'elapsed_time': '14m 45s', 'remaining_time': '5h 58m 48s'}\n"
     ]
    },
    {
     "name": "stderr",
     "output_type": "stream",
     "text": [
      "Val: 100%|██████████| 426/426 [00:56<00:00,  7.59it/s]1s/it]\n"
     ]
    },
    {
     "name": "stdout",
     "output_type": "stream",
     "text": [
      "{'eval_loss': 1.82746708, 'eval_margin': -0.01349711, 'eval_mean_neg': 0.93758088, 'eval_mean_pos': 0.96711391, 'eval_runtime': 56.2231, 'eval_samples_per_second': 45.48, 'eval_steps_per_second': 7.595, 'epoch': 0.2, 'global_step/max_steps': '400/10125', 'percentage': '3.95%', 'elapsed_time': '15m 41s', 'remaining_time': '6h 21m 35s'}\n"
     ]
    },
    {
     "name": "stderr",
     "output_type": "stream",
     "text": [
      "Train:   4%|▍         | 405/10125 [15:50<15:54:12,  5.89s/it]"
     ]
    },
    {
     "name": "stdout",
     "output_type": "stream",
     "text": [
      "{'loss': 1.85658016, 'grad_norm': 8.06972313, 'learning_rate': 5.98e-06, 'memory(GiB)': 2.74, 'train_speed(iter/s)': 0.425742, 'epoch': 0.2, 'global_step/max_steps': '405/10125', 'percentage': '4.00%', 'elapsed_time': '15m 50s', 'remaining_time': '6h 20m 23s'}\n"
     ]
    },
    {
     "name": "stderr",
     "output_type": "stream",
     "text": [
      "Train:   4%|▍         | 410/10125 [16:00<6:58:09,  2.58s/it] "
     ]
    },
    {
     "name": "stdout",
     "output_type": "stream",
     "text": [
      "{'loss': 1.98652687, 'grad_norm': 7.43838549, 'learning_rate': 5.98e-06, 'memory(GiB)': 2.74, 'train_speed(iter/s)': 0.426823, 'epoch': 0.2, 'global_step/max_steps': '410/10125', 'percentage': '4.05%', 'elapsed_time': '16m 0s', 'remaining_time': '6h 19m 14s'}\n"
     ]
    },
    {
     "name": "stderr",
     "output_type": "stream",
     "text": [
      "Train:   4%|▍         | 415/10125 [16:09<5:15:10,  1.95s/it]"
     ]
    },
    {
     "name": "stdout",
     "output_type": "stream",
     "text": [
      "{'loss': 1.73259106, 'grad_norm': 7.61321354, 'learning_rate': 5.98e-06, 'memory(GiB)': 2.74, 'train_speed(iter/s)': 0.427995, 'epoch': 0.2, 'global_step/max_steps': '415/10125', 'percentage': '4.10%', 'elapsed_time': '16m 9s', 'remaining_time': '6h 18m 0s'}\n"
     ]
    },
    {
     "name": "stderr",
     "output_type": "stream",
     "text": [
      "Train:   4%|▍         | 420/10125 [16:18<5:05:48,  1.89s/it]"
     ]
    },
    {
     "name": "stdout",
     "output_type": "stream",
     "text": [
      "{'loss': 1.7703371, 'grad_norm': 10.08747005, 'learning_rate': 5.97e-06, 'memory(GiB)': 2.74, 'train_speed(iter/s)': 0.429097, 'epoch': 0.21, 'global_step/max_steps': '420/10125', 'percentage': '4.15%', 'elapsed_time': '16m 18s', 'remaining_time': '6h 16m 50s'}\n"
     ]
    },
    {
     "name": "stderr",
     "output_type": "stream",
     "text": [
      "Train:   4%|▍         | 425/10125 [16:28<5:18:24,  1.97s/it]"
     ]
    },
    {
     "name": "stdout",
     "output_type": "stream",
     "text": [
      "{'loss': 1.77373581, 'grad_norm': 6.98348284, 'learning_rate': 5.97e-06, 'memory(GiB)': 2.74, 'train_speed(iter/s)': 0.429827, 'epoch': 0.21, 'global_step/max_steps': '425/10125', 'percentage': '4.20%', 'elapsed_time': '16m 28s', 'remaining_time': '6h 16m 0s'}\n"
     ]
    },
    {
     "name": "stderr",
     "output_type": "stream",
     "text": [
      "Train:   4%|▍         | 430/10125 [16:37<4:55:52,  1.83s/it]"
     ]
    },
    {
     "name": "stdout",
     "output_type": "stream",
     "text": [
      "{'loss': 1.83025684, 'grad_norm': 6.75482702, 'learning_rate': 5.97e-06, 'memory(GiB)': 2.74, 'train_speed(iter/s)': 0.430928, 'epoch': 0.21, 'global_step/max_steps': '430/10125', 'percentage': '4.25%', 'elapsed_time': '16m 37s', 'remaining_time': '6h 14m 51s'}\n"
     ]
    },
    {
     "name": "stderr",
     "output_type": "stream",
     "text": [
      "Train:   4%|▍         | 435/10125 [16:47<5:04:20,  1.88s/it]"
     ]
    },
    {
     "name": "stdout",
     "output_type": "stream",
     "text": [
      "{'loss': 1.61573486, 'grad_norm': 7.13682604, 'learning_rate': 5.97e-06, 'memory(GiB)': 2.74, 'train_speed(iter/s)': 0.431801, 'epoch': 0.21, 'global_step/max_steps': '435/10125', 'percentage': '4.30%', 'elapsed_time': '16m 47s', 'remaining_time': '6h 13m 54s'}\n"
     ]
    },
    {
     "name": "stderr",
     "output_type": "stream",
     "text": [
      "Train:   4%|▍         | 440/10125 [16:56<4:49:35,  1.79s/it]"
     ]
    },
    {
     "name": "stdout",
     "output_type": "stream",
     "text": [
      "{'loss': 1.84459629, 'grad_norm': 6.42731237, 'learning_rate': 5.97e-06, 'memory(GiB)': 2.74, 'train_speed(iter/s)': 0.432934, 'epoch': 0.22, 'global_step/max_steps': '440/10125', 'percentage': '4.35%', 'elapsed_time': '16m 56s', 'remaining_time': '6h 12m 43s'}\n"
     ]
    },
    {
     "name": "stderr",
     "output_type": "stream",
     "text": [
      "Train:   4%|▍         | 445/10125 [17:04<4:46:16,  1.77s/it]"
     ]
    },
    {
     "name": "stdout",
     "output_type": "stream",
     "text": [
      "{'loss': 1.82370586, 'grad_norm': 6.80622482, 'learning_rate': 5.97e-06, 'memory(GiB)': 2.74, 'train_speed(iter/s)': 0.434115, 'epoch': 0.22, 'global_step/max_steps': '445/10125', 'percentage': '4.40%', 'elapsed_time': '17m 4s', 'remaining_time': '6h 11m 31s'}\n"
     ]
    },
    {
     "name": "stderr",
     "output_type": "stream",
     "text": [
      "Train:   4%|▍         | 450/10125 [17:13<4:45:43,  1.77s/it]"
     ]
    },
    {
     "name": "stdout",
     "output_type": "stream",
     "text": [
      "{'loss': 1.67584095, 'grad_norm': 7.47514915, 'learning_rate': 5.97e-06, 'memory(GiB)': 2.74, 'train_speed(iter/s)': 0.435288, 'epoch': 0.22, 'global_step/max_steps': '450/10125', 'percentage': '4.44%', 'elapsed_time': '17m 13s', 'remaining_time': '6h 10m 20s'}\n"
     ]
    },
    {
     "name": "stderr",
     "output_type": "stream",
     "text": [
      "Train:   4%|▍         | 455/10125 [17:22<4:52:50,  1.82s/it]"
     ]
    },
    {
     "name": "stdout",
     "output_type": "stream",
     "text": [
      "{'loss': 1.82988949, 'grad_norm': 8.25137424, 'learning_rate': 5.97e-06, 'memory(GiB)': 2.74, 'train_speed(iter/s)': 0.436305, 'epoch': 0.22, 'global_step/max_steps': '455/10125', 'percentage': '4.49%', 'elapsed_time': '17m 22s', 'remaining_time': '6h 9m 16s'}\n"
     ]
    },
    {
     "name": "stderr",
     "output_type": "stream",
     "text": [
      "Train:   5%|▍         | 460/10125 [17:32<5:08:34,  1.92s/it]"
     ]
    },
    {
     "name": "stdout",
     "output_type": "stream",
     "text": [
      "{'loss': 1.68090115, 'grad_norm': 7.16199684, 'learning_rate': 5.97e-06, 'memory(GiB)': 2.74, 'train_speed(iter/s)': 0.43704, 'epoch': 0.23, 'global_step/max_steps': '460/10125', 'percentage': '4.54%', 'elapsed_time': '17m 32s', 'remaining_time': '6h 8m 28s'}\n"
     ]
    },
    {
     "name": "stderr",
     "output_type": "stream",
     "text": [
      "Train:   5%|▍         | 465/10125 [17:41<5:06:07,  1.90s/it]"
     ]
    },
    {
     "name": "stdout",
     "output_type": "stream",
     "text": [
      "{'loss': 2.02763081, 'grad_norm': 10.63495541, 'learning_rate': 5.97e-06, 'memory(GiB)': 2.74, 'train_speed(iter/s)': 0.437959, 'epoch': 0.23, 'global_step/max_steps': '465/10125', 'percentage': '4.59%', 'elapsed_time': '17m 41s', 'remaining_time': '6h 7m 30s'}\n"
     ]
    },
    {
     "name": "stderr",
     "output_type": "stream",
     "text": [
      "Train:   5%|▍         | 470/10125 [17:50<4:56:01,  1.84s/it]"
     ]
    },
    {
     "name": "stdout",
     "output_type": "stream",
     "text": [
      "{'loss': 1.66534233, 'grad_norm': 7.80473566, 'learning_rate': 5.97e-06, 'memory(GiB)': 2.74, 'train_speed(iter/s)': 0.438927, 'epoch': 0.23, 'global_step/max_steps': '470/10125', 'percentage': '4.64%', 'elapsed_time': '17m 50s', 'remaining_time': '6h 6m 30s'}\n"
     ]
    },
    {
     "name": "stderr",
     "output_type": "stream",
     "text": [
      "Train:   5%|▍         | 475/10125 [17:59<4:42:50,  1.76s/it]"
     ]
    },
    {
     "name": "stdout",
     "output_type": "stream",
     "text": [
      "{'loss': 1.99540825, 'grad_norm': 8.07023811, 'learning_rate': 5.97e-06, 'memory(GiB)': 2.74, 'train_speed(iter/s)': 0.440082, 'epoch': 0.23, 'global_step/max_steps': '475/10125', 'percentage': '4.69%', 'elapsed_time': '17m 59s', 'remaining_time': '6h 5m 21s'}\n"
     ]
    },
    {
     "name": "stderr",
     "output_type": "stream",
     "text": [
      "Train:   5%|▍         | 480/10125 [18:08<4:51:27,  1.81s/it]"
     ]
    },
    {
     "name": "stdout",
     "output_type": "stream",
     "text": [
      "{'loss': 1.68232956, 'grad_norm': 7.69009781, 'learning_rate': 5.97e-06, 'memory(GiB)': 2.74, 'train_speed(iter/s)': 0.440891, 'epoch': 0.24, 'global_step/max_steps': '480/10125', 'percentage': '4.74%', 'elapsed_time': '18m 8s', 'remaining_time': '6h 4m 30s'}\n"
     ]
    },
    {
     "name": "stderr",
     "output_type": "stream",
     "text": [
      "Train:   5%|▍         | 485/10125 [18:17<4:54:56,  1.84s/it]"
     ]
    },
    {
     "name": "stdout",
     "output_type": "stream",
     "text": [
      "{'loss': 1.75700245, 'grad_norm': 6.93492794, 'learning_rate': 5.97e-06, 'memory(GiB)': 2.74, 'train_speed(iter/s)': 0.441716, 'epoch': 0.24, 'global_step/max_steps': '485/10125', 'percentage': '4.79%', 'elapsed_time': '18m 17s', 'remaining_time': '6h 3m 37s'}\n"
     ]
    },
    {
     "name": "stderr",
     "output_type": "stream",
     "text": [
      "Train:   5%|▍         | 490/10125 [18:26<4:51:43,  1.82s/it]"
     ]
    },
    {
     "name": "stdout",
     "output_type": "stream",
     "text": [
      "{'loss': 1.8398262, 'grad_norm': 8.13910675, 'learning_rate': 5.97e-06, 'memory(GiB)': 2.74, 'train_speed(iter/s)': 0.442629, 'epoch': 0.24, 'global_step/max_steps': '490/10125', 'percentage': '4.84%', 'elapsed_time': '18m 26s', 'remaining_time': '6h 2m 41s'}\n"
     ]
    },
    {
     "name": "stderr",
     "output_type": "stream",
     "text": [
      "Train:   5%|▍         | 495/10125 [18:35<4:41:59,  1.76s/it]"
     ]
    },
    {
     "name": "stdout",
     "output_type": "stream",
     "text": [
      "{'loss': 1.96669521, 'grad_norm': 8.45619202, 'learning_rate': 5.96e-06, 'memory(GiB)': 2.74, 'train_speed(iter/s)': 0.443532, 'epoch': 0.24, 'global_step/max_steps': '495/10125', 'percentage': '4.89%', 'elapsed_time': '18m 35s', 'remaining_time': '6h 1m 46s'}\n"
     ]
    },
    {
     "name": "stderr",
     "output_type": "stream",
     "text": [
      "Train:   5%|▍         | 500/10125 [18:45<4:52:11,  1.82s/it]\n"
     ]
    },
    {
     "name": "stdout",
     "output_type": "stream",
     "text": [
      "{'loss': 1.67955933, 'grad_norm': 7.31782579, 'learning_rate': 5.96e-06, 'memory(GiB)': 2.74, 'train_speed(iter/s)': 0.444274, 'epoch': 0.25, 'global_step/max_steps': '500/10125', 'percentage': '4.94%', 'elapsed_time': '18m 45s', 'remaining_time': '6h 0m 58s'}\n"
     ]
    },
    {
     "name": "stderr",
     "output_type": "stream",
     "text": [
      "Val: 100%|██████████| 426/426 [00:50<00:00,  8.42it/s]2s/it]\n"
     ]
    },
    {
     "name": "stdout",
     "output_type": "stream",
     "text": [
      "{'eval_loss': 1.75591397, 'eval_margin': -0.01403138, 'eval_mean_neg': 0.93279505, 'eval_mean_pos': 0.96582162, 'eval_runtime': 50.7027, 'eval_samples_per_second': 50.431, 'eval_steps_per_second': 8.422, 'epoch': 0.25, 'global_step/max_steps': '500/10125', 'percentage': '4.94%', 'elapsed_time': '19m 35s', 'remaining_time': '6h 17m 14s'}\n"
     ]
    },
    {
     "name": "stderr",
     "output_type": "stream",
     "text": [
      "Train:   5%|▍         | 505/10125 [19:45<14:38:41,  5.48s/it]"
     ]
    },
    {
     "name": "stdout",
     "output_type": "stream",
     "text": [
      "{'loss': 1.94194393, 'grad_norm': 7.37233162, 'learning_rate': 5.96e-06, 'memory(GiB)': 2.74, 'train_speed(iter/s)': 0.425997, 'epoch': 0.25, 'global_step/max_steps': '505/10125', 'percentage': '4.99%', 'elapsed_time': '19m 45s', 'remaining_time': '6h 16m 16s'}\n"
     ]
    },
    {
     "name": "stderr",
     "output_type": "stream",
     "text": [
      "Train:   5%|▌         | 510/10125 [19:53<6:21:54,  2.38s/it] "
     ]
    },
    {
     "name": "stdout",
     "output_type": "stream",
     "text": [
      "{'loss': 1.63266258, 'grad_norm': 6.30192518, 'learning_rate': 5.96e-06, 'memory(GiB)': 2.74, 'train_speed(iter/s)': 0.427059, 'epoch': 0.25, 'global_step/max_steps': '510/10125', 'percentage': '5.04%', 'elapsed_time': '19m 53s', 'remaining_time': '6h 15m 8s'}\n"
     ]
    },
    {
     "name": "stderr",
     "output_type": "stream",
     "text": [
      "Train:   5%|▌         | 515/10125 [20:03<5:24:59,  2.03s/it]"
     ]
    },
    {
     "name": "stdout",
     "output_type": "stream",
     "text": [
      "{'loss': 1.6554554, 'grad_norm': 8.99535751, 'learning_rate': 5.96e-06, 'memory(GiB)': 2.74, 'train_speed(iter/s)': 0.427815, 'epoch': 0.25, 'global_step/max_steps': '515/10125', 'percentage': '5.09%', 'elapsed_time': '20m 3s', 'remaining_time': '6h 14m 17s'}\n"
     ]
    },
    {
     "name": "stderr",
     "output_type": "stream",
     "text": [
      "Train:   5%|▌         | 520/10125 [20:12<4:49:43,  1.81s/it]"
     ]
    },
    {
     "name": "stdout",
     "output_type": "stream",
     "text": [
      "{'loss': 1.69107895, 'grad_norm': 7.72126102, 'learning_rate': 5.96e-06, 'memory(GiB)': 2.74, 'train_speed(iter/s)': 0.428808, 'epoch': 0.26, 'global_step/max_steps': '520/10125', 'percentage': '5.14%', 'elapsed_time': '20m 12s', 'remaining_time': '6h 13m 13s'}\n"
     ]
    },
    {
     "name": "stderr",
     "output_type": "stream",
     "text": [
      "Train:   5%|▌         | 525/10125 [20:21<4:49:55,  1.81s/it]"
     ]
    },
    {
     "name": "stdout",
     "output_type": "stream",
     "text": [
      "{'loss': 1.87265816, 'grad_norm': 7.92740107, 'learning_rate': 5.96e-06, 'memory(GiB)': 2.74, 'train_speed(iter/s)': 0.429729, 'epoch': 0.26, 'global_step/max_steps': '525/10125', 'percentage': '5.19%', 'elapsed_time': '20m 21s', 'remaining_time': '6h 12m 14s'}\n"
     ]
    },
    {
     "name": "stderr",
     "output_type": "stream",
     "text": [
      "Train:   5%|▌         | 530/10125 [20:30<4:47:55,  1.80s/it]"
     ]
    },
    {
     "name": "stdout",
     "output_type": "stream",
     "text": [
      "{'loss': 1.74189796, 'grad_norm': 7.65691423, 'learning_rate': 5.96e-06, 'memory(GiB)': 2.74, 'train_speed(iter/s)': 0.430647, 'epoch': 0.26, 'global_step/max_steps': '530/10125', 'percentage': '5.23%', 'elapsed_time': '20m 30s', 'remaining_time': '6h 11m 15s'}\n"
     ]
    },
    {
     "name": "stderr",
     "output_type": "stream",
     "text": [
      "Train:   5%|▌         | 535/10125 [20:39<4:45:50,  1.79s/it]"
     ]
    },
    {
     "name": "stdout",
     "output_type": "stream",
     "text": [
      "{'loss': 1.47515984, 'grad_norm': 9.6269598, 'learning_rate': 5.96e-06, 'memory(GiB)': 2.74, 'train_speed(iter/s)': 0.431606, 'epoch': 0.26, 'global_step/max_steps': '535/10125', 'percentage': '5.28%', 'elapsed_time': '20m 39s', 'remaining_time': '6h 10m 13s'}\n"
     ]
    },
    {
     "name": "stderr",
     "output_type": "stream",
     "text": [
      "Train:   5%|▌         | 540/10125 [20:48<4:56:13,  1.85s/it]"
     ]
    },
    {
     "name": "stdout",
     "output_type": "stream",
     "text": [
      "{'loss': 1.97392254, 'grad_norm': 8.83954048, 'learning_rate': 5.96e-06, 'memory(GiB)': 2.74, 'train_speed(iter/s)': 0.432413, 'epoch': 0.27, 'global_step/max_steps': '540/10125', 'percentage': '5.33%', 'elapsed_time': '20m 48s', 'remaining_time': '6h 9m 20s'}\n"
     ]
    },
    {
     "name": "stderr",
     "output_type": "stream",
     "text": [
      "Train:   5%|▌         | 545/10125 [20:57<5:01:20,  1.89s/it]"
     ]
    },
    {
     "name": "stdout",
     "output_type": "stream",
     "text": [
      "{'loss': 1.83956108, 'grad_norm': 9.60262108, 'learning_rate': 5.96e-06, 'memory(GiB)': 2.74, 'train_speed(iter/s)': 0.433153, 'epoch': 0.27, 'global_step/max_steps': '545/10125', 'percentage': '5.38%', 'elapsed_time': '20m 57s', 'remaining_time': '6h 8m 31s'}\n"
     ]
    },
    {
     "name": "stderr",
     "output_type": "stream",
     "text": [
      "Train:   5%|▌         | 550/10125 [21:07<5:10:52,  1.95s/it]"
     ]
    },
    {
     "name": "stdout",
     "output_type": "stream",
     "text": [
      "{'loss': 1.82172318, 'grad_norm': 9.74718094, 'learning_rate': 5.96e-06, 'memory(GiB)': 2.74, 'train_speed(iter/s)': 0.433745, 'epoch': 0.27, 'global_step/max_steps': '550/10125', 'percentage': '5.43%', 'elapsed_time': '21m 7s', 'remaining_time': '6h 7m 49s'}\n"
     ]
    },
    {
     "name": "stderr",
     "output_type": "stream",
     "text": [
      "Train:   5%|▌         | 555/10125 [21:17<5:01:56,  1.89s/it]"
     ]
    },
    {
     "name": "stdout",
     "output_type": "stream",
     "text": [
      "{'loss': 1.58980312, 'grad_norm': 7.81343269, 'learning_rate': 5.96e-06, 'memory(GiB)': 2.74, 'train_speed(iter/s)': 0.434451, 'epoch': 0.27, 'global_step/max_steps': '555/10125', 'percentage': '5.48%', 'elapsed_time': '21m 17s', 'remaining_time': '6h 7m 2s'}\n"
     ]
    },
    {
     "name": "stderr",
     "output_type": "stream",
     "text": [
      "Train:   6%|▌         | 560/10125 [21:25<4:39:45,  1.75s/it]"
     ]
    },
    {
     "name": "stdout",
     "output_type": "stream",
     "text": [
      "{'loss': 1.93771286, 'grad_norm': 9.03673553, 'learning_rate': 5.95e-06, 'memory(GiB)': 2.74, 'train_speed(iter/s)': 0.435405, 'epoch': 0.28, 'global_step/max_steps': '560/10125', 'percentage': '5.53%', 'elapsed_time': '21m 25s', 'remaining_time': '6h 6m 2s'}\n"
     ]
    },
    {
     "name": "stderr",
     "output_type": "stream",
     "text": [
      "Train:   6%|▌         | 565/10125 [21:35<4:58:15,  1.87s/it]"
     ]
    },
    {
     "name": "stdout",
     "output_type": "stream",
     "text": [
      "{'loss': 1.97491207, 'grad_norm': 11.75916386, 'learning_rate': 5.95e-06, 'memory(GiB)': 2.74, 'train_speed(iter/s)': 0.436126, 'epoch': 0.28, 'global_step/max_steps': '565/10125', 'percentage': '5.58%', 'elapsed_time': '21m 35s', 'remaining_time': '6h 5m 15s'}\n"
     ]
    },
    {
     "name": "stderr",
     "output_type": "stream",
     "text": [
      "Train:   6%|▌         | 570/10125 [21:44<4:44:07,  1.78s/it]"
     ]
    },
    {
     "name": "stdout",
     "output_type": "stream",
     "text": [
      "{'loss': 1.81156006, 'grad_norm': 8.22901344, 'learning_rate': 5.95e-06, 'memory(GiB)': 2.74, 'train_speed(iter/s)': 0.436972, 'epoch': 0.28, 'global_step/max_steps': '570/10125', 'percentage': '5.63%', 'elapsed_time': '21m 44s', 'remaining_time': '6h 4m 21s'}\n"
     ]
    },
    {
     "name": "stderr",
     "output_type": "stream",
     "text": [
      "Train:   6%|▌         | 575/10125 [21:52<4:40:18,  1.76s/it]"
     ]
    },
    {
     "name": "stdout",
     "output_type": "stream",
     "text": [
      "{'loss': 1.72359352, 'grad_norm': 7.3761816, 'learning_rate': 5.95e-06, 'memory(GiB)': 2.74, 'train_speed(iter/s)': 0.437844, 'epoch': 0.28, 'global_step/max_steps': '575/10125', 'percentage': '5.68%', 'elapsed_time': '21m 52s', 'remaining_time': '6h 3m 26s'}\n"
     ]
    },
    {
     "name": "stderr",
     "output_type": "stream",
     "text": [
      "Train:   6%|▌         | 580/10125 [22:01<4:32:18,  1.71s/it]"
     ]
    },
    {
     "name": "stdout",
     "output_type": "stream",
     "text": [
      "{'loss': 1.64135952, 'grad_norm': 7.64348364, 'learning_rate': 5.95e-06, 'memory(GiB)': 2.74, 'train_speed(iter/s)': 0.438792, 'epoch': 0.29, 'global_step/max_steps': '580/10125', 'percentage': '5.73%', 'elapsed_time': '22m 1s', 'remaining_time': '6h 2m 27s'}\n"
     ]
    },
    {
     "name": "stderr",
     "output_type": "stream",
     "text": [
      "Train:   6%|▌         | 585/10125 [22:10<4:29:36,  1.70s/it]"
     ]
    },
    {
     "name": "stdout",
     "output_type": "stream",
     "text": [
      "{'loss': 2.08847084, 'grad_norm': 10.81845379, 'learning_rate': 5.95e-06, 'memory(GiB)': 2.74, 'train_speed(iter/s)': 0.439752, 'epoch': 0.29, 'global_step/max_steps': '585/10125', 'percentage': '5.78%', 'elapsed_time': '22m 9s', 'remaining_time': '6h 1m 29s'}\n"
     ]
    },
    {
     "name": "stderr",
     "output_type": "stream",
     "text": [
      "Train:   6%|▌         | 590/10125 [22:18<4:39:39,  1.76s/it]"
     ]
    },
    {
     "name": "stdout",
     "output_type": "stream",
     "text": [
      "{'loss': 1.70082092, 'grad_norm': 7.74841118, 'learning_rate': 5.95e-06, 'memory(GiB)': 2.74, 'train_speed(iter/s)': 0.440535, 'epoch': 0.29, 'global_step/max_steps': '590/10125', 'percentage': '5.83%', 'elapsed_time': '22m 18s', 'remaining_time': '6h 0m 39s'}\n"
     ]
    },
    {
     "name": "stderr",
     "output_type": "stream",
     "text": [
      "Train:   6%|▌         | 595/10125 [22:27<4:32:42,  1.72s/it]"
     ]
    },
    {
     "name": "stdout",
     "output_type": "stream",
     "text": [
      "{'loss': 1.63942451, 'grad_norm': 7.52643538, 'learning_rate': 5.95e-06, 'memory(GiB)': 2.74, 'train_speed(iter/s)': 0.441482, 'epoch': 0.29, 'global_step/max_steps': '595/10125', 'percentage': '5.88%', 'elapsed_time': '22m 27s', 'remaining_time': '5h 59m 41s'}\n"
     ]
    },
    {
     "name": "stderr",
     "output_type": "stream",
     "text": [
      "Train:   6%|▌         | 600/10125 [22:35<4:27:43,  1.69s/it]\n"
     ]
    },
    {
     "name": "stdout",
     "output_type": "stream",
     "text": [
      "{'loss': 1.53185644, 'grad_norm': 7.76539469, 'learning_rate': 5.95e-06, 'memory(GiB)': 2.74, 'train_speed(iter/s)': 0.44246, 'epoch': 0.3, 'global_step/max_steps': '600/10125', 'percentage': '5.93%', 'elapsed_time': '22m 35s', 'remaining_time': '5h 58m 42s'}\n"
     ]
    },
    {
     "name": "stderr",
     "output_type": "stream",
     "text": [
      "Val: 100%|██████████| 426/426 [00:49<00:00,  8.60it/s]9s/it]\n"
     ]
    },
    {
     "name": "stdout",
     "output_type": "stream",
     "text": [
      "{'eval_loss': 1.70318115, 'eval_margin': -0.01441079, 'eval_mean_neg': 0.92954367, 'eval_mean_pos': 0.9645704, 'eval_runtime': 49.6212, 'eval_samples_per_second': 51.53, 'eval_steps_per_second': 8.605, 'epoch': 0.3, 'global_step/max_steps': '600/10125', 'percentage': '5.93%', 'elapsed_time': '23m 25s', 'remaining_time': '6h 11m 50s'}\n"
     ]
    },
    {
     "name": "stderr",
     "output_type": "stream",
     "text": [
      "Train:   6%|▌         | 605/10125 [23:34<14:23:47,  5.44s/it]"
     ]
    },
    {
     "name": "stdout",
     "output_type": "stream",
     "text": [
      "{'loss': 1.93361378, 'grad_norm': 10.3470583, 'learning_rate': 5.95e-06, 'memory(GiB)': 2.74, 'train_speed(iter/s)': 0.427534, 'epoch': 0.3, 'global_step/max_steps': '605/10125', 'percentage': '5.98%', 'elapsed_time': '23m 34s', 'remaining_time': '6h 11m 2s'}\n"
     ]
    },
    {
     "name": "stderr",
     "output_type": "stream",
     "text": [
      "Train:   6%|▌         | 610/10125 [23:43<6:20:26,  2.40s/it] "
     ]
    },
    {
     "name": "stdout",
     "output_type": "stream",
     "text": [
      "{'loss': 1.78793106, 'grad_norm': 9.18069458, 'learning_rate': 5.95e-06, 'memory(GiB)': 2.74, 'train_speed(iter/s)': 0.428326, 'epoch': 0.3, 'global_step/max_steps': '610/10125', 'percentage': '6.02%', 'elapsed_time': '23m 43s', 'remaining_time': '6h 10m 9s'}\n"
     ]
    },
    {
     "name": "stderr",
     "output_type": "stream",
     "text": [
      "Train:   6%|▌         | 615/10125 [23:52<5:00:19,  1.89s/it]"
     ]
    },
    {
     "name": "stdout",
     "output_type": "stream",
     "text": [
      "{'loss': 1.61984291, 'grad_norm': 9.05291176, 'learning_rate': 5.95e-06, 'memory(GiB)': 2.74, 'train_speed(iter/s)': 0.429171, 'epoch': 0.3, 'global_step/max_steps': '615/10125', 'percentage': '6.07%', 'elapsed_time': '23m 52s', 'remaining_time': '6h 9m 14s'}\n"
     ]
    },
    {
     "name": "stderr",
     "output_type": "stream",
     "text": [
      "Train:   6%|▌         | 620/10125 [24:02<5:06:34,  1.94s/it]"
     ]
    },
    {
     "name": "stdout",
     "output_type": "stream",
     "text": [
      "{'loss': 1.70228329, 'grad_norm': 8.04196835, 'learning_rate': 5.94e-06, 'memory(GiB)': 2.74, 'train_speed(iter/s)': 0.429809, 'epoch': 0.31, 'global_step/max_steps': '620/10125', 'percentage': '6.12%', 'elapsed_time': '24m 2s', 'remaining_time': '6h 8m 29s'}\n"
     ]
    },
    {
     "name": "stderr",
     "output_type": "stream",
     "text": [
      "Train:   6%|▌         | 625/10125 [24:12<4:59:57,  1.89s/it]"
     ]
    },
    {
     "name": "stdout",
     "output_type": "stream",
     "text": [
      "{'loss': 1.68548279, 'grad_norm': 9.0560751, 'learning_rate': 5.94e-06, 'memory(GiB)': 2.74, 'train_speed(iter/s)': 0.430339, 'epoch': 0.31, 'global_step/max_steps': '625/10125', 'percentage': '6.17%', 'elapsed_time': '24m 12s', 'remaining_time': '6h 7m 51s'}\n"
     ]
    },
    {
     "name": "stderr",
     "output_type": "stream",
     "text": [
      "Train:   6%|▌         | 630/10125 [24:21<4:54:21,  1.86s/it]"
     ]
    },
    {
     "name": "stdout",
     "output_type": "stream",
     "text": [
      "{'loss': 1.59451313, 'grad_norm': 9.02703476, 'learning_rate': 5.94e-06, 'memory(GiB)': 2.74, 'train_speed(iter/s)': 0.431068, 'epoch': 0.31, 'global_step/max_steps': '630/10125', 'percentage': '6.22%', 'elapsed_time': '24m 21s', 'remaining_time': '6h 7m 2s'}\n"
     ]
    },
    {
     "name": "stderr",
     "output_type": "stream",
     "text": [
      "Train:   6%|▋         | 635/10125 [24:30<4:52:28,  1.85s/it]"
     ]
    },
    {
     "name": "stdout",
     "output_type": "stream",
     "text": [
      "{'loss': 1.74813175, 'grad_norm': 8.59377193, 'learning_rate': 5.94e-06, 'memory(GiB)': 2.74, 'train_speed(iter/s)': 0.431649, 'epoch': 0.31, 'global_step/max_steps': '635/10125', 'percentage': '6.27%', 'elapsed_time': '24m 30s', 'remaining_time': '6h 6m 20s'}\n"
     ]
    },
    {
     "name": "stderr",
     "output_type": "stream",
     "text": [
      "Train:   6%|▋         | 640/10125 [24:39<4:36:28,  1.75s/it]"
     ]
    },
    {
     "name": "stdout",
     "output_type": "stream",
     "text": [
      "{'loss': 1.7482439, 'grad_norm': 8.14006138, 'learning_rate': 5.94e-06, 'memory(GiB)': 2.74, 'train_speed(iter/s)': 0.432512, 'epoch': 0.32, 'global_step/max_steps': '640/10125', 'percentage': '6.32%', 'elapsed_time': '24m 39s', 'remaining_time': '6h 5m 25s'}\n"
     ]
    },
    {
     "name": "stderr",
     "output_type": "stream",
     "text": [
      "Train:   6%|▋         | 645/10125 [24:47<4:30:47,  1.71s/it]"
     ]
    },
    {
     "name": "stdout",
     "output_type": "stream",
     "text": [
      "{'loss': 1.62171822, 'grad_norm': 7.92906952, 'learning_rate': 5.94e-06, 'memory(GiB)': 2.74, 'train_speed(iter/s)': 0.433403, 'epoch': 0.32, 'global_step/max_steps': '645/10125', 'percentage': '6.37%', 'elapsed_time': '24m 47s', 'remaining_time': '6h 4m 28s'}\n"
     ]
    },
    {
     "name": "stderr",
     "output_type": "stream",
     "text": [
      "Train:   6%|▋         | 650/10125 [24:56<4:29:56,  1.71s/it]"
     ]
    },
    {
     "name": "stdout",
     "output_type": "stream",
     "text": [
      "{'loss': 1.65642624, 'grad_norm': 7.42439699, 'learning_rate': 5.94e-06, 'memory(GiB)': 2.74, 'train_speed(iter/s)': 0.434255, 'epoch': 0.32, 'global_step/max_steps': '650/10125', 'percentage': '6.42%', 'elapsed_time': '24m 56s', 'remaining_time': '6h 3m 34s'}\n"
     ]
    },
    {
     "name": "stderr",
     "output_type": "stream",
     "text": [
      "Train:   6%|▋         | 655/10125 [25:05<4:49:35,  1.83s/it]"
     ]
    },
    {
     "name": "stdout",
     "output_type": "stream",
     "text": [
      "{'loss': 1.64257946, 'grad_norm': 8.33123016, 'learning_rate': 5.94e-06, 'memory(GiB)': 2.74, 'train_speed(iter/s)': 0.434885, 'epoch': 0.32, 'global_step/max_steps': '655/10125', 'percentage': '6.47%', 'elapsed_time': '25m 5s', 'remaining_time': '6h 2m 51s'}\n"
     ]
    },
    {
     "name": "stderr",
     "output_type": "stream",
     "text": [
      "Train:   7%|▋         | 660/10125 [25:15<4:57:23,  1.89s/it]"
     ]
    },
    {
     "name": "stdout",
     "output_type": "stream",
     "text": [
      "{'loss': 1.84372215, 'grad_norm': 8.57394791, 'learning_rate': 5.94e-06, 'memory(GiB)': 2.74, 'train_speed(iter/s)': 0.435498, 'epoch': 0.33, 'global_step/max_steps': '660/10125', 'percentage': '6.52%', 'elapsed_time': '25m 15s', 'remaining_time': '6h 2m 9s'}\n"
     ]
    },
    {
     "name": "stderr",
     "output_type": "stream",
     "text": [
      "Train:   7%|▋         | 665/10125 [25:24<4:56:09,  1.88s/it]"
     ]
    },
    {
     "name": "stdout",
     "output_type": "stream",
     "text": [
      "{'loss': 1.56419582, 'grad_norm': 9.65955162, 'learning_rate': 5.94e-06, 'memory(GiB)': 2.74, 'train_speed(iter/s)': 0.436104, 'epoch': 0.33, 'global_step/max_steps': '665/10125', 'percentage': '6.57%', 'elapsed_time': '25m 24s', 'remaining_time': '6h 1m 27s'}\n"
     ]
    },
    {
     "name": "stderr",
     "output_type": "stream",
     "text": [
      "Train:   7%|▋         | 670/10125 [25:33<4:50:24,  1.84s/it]"
     ]
    },
    {
     "name": "stdout",
     "output_type": "stream",
     "text": [
      "{'loss': 1.69861641, 'grad_norm': 8.3868618, 'learning_rate': 5.94e-06, 'memory(GiB)': 2.74, 'train_speed(iter/s)': 0.43679, 'epoch': 0.33, 'global_step/max_steps': '670/10125', 'percentage': '6.62%', 'elapsed_time': '25m 33s', 'remaining_time': '6h 0m 42s'}\n"
     ]
    },
    {
     "name": "stderr",
     "output_type": "stream",
     "text": [
      "Train:   7%|▋         | 675/10125 [25:42<4:29:29,  1.71s/it]"
     ]
    },
    {
     "name": "stdout",
     "output_type": "stream",
     "text": [
      "{'loss': 1.77509956, 'grad_norm': 9.56028271, 'learning_rate': 5.93e-06, 'memory(GiB)': 2.74, 'train_speed(iter/s)': 0.437606, 'epoch': 0.33, 'global_step/max_steps': '675/10125', 'percentage': '6.67%', 'elapsed_time': '25m 42s', 'remaining_time': '5h 59m 50s'}\n"
     ]
    },
    {
     "name": "stderr",
     "output_type": "stream",
     "text": [
      "Train:   7%|▋         | 680/10125 [25:51<4:40:15,  1.78s/it]"
     ]
    },
    {
     "name": "stdout",
     "output_type": "stream",
     "text": [
      "{'loss': 1.5768342, 'grad_norm': 7.664958, 'learning_rate': 5.93e-06, 'memory(GiB)': 2.74, 'train_speed(iter/s)': 0.438333, 'epoch': 0.34, 'global_step/max_steps': '680/10125', 'percentage': '6.72%', 'elapsed_time': '25m 51s', 'remaining_time': '5h 59m 3s'}\n"
     ]
    },
    {
     "name": "stderr",
     "output_type": "stream",
     "text": [
      "Train:   7%|▋         | 685/10125 [26:00<4:53:59,  1.87s/it]"
     ]
    },
    {
     "name": "stdout",
     "output_type": "stream",
     "text": [
      "{'loss': 1.81925678, 'grad_norm': 8.06873798, 'learning_rate': 5.93e-06, 'memory(GiB)': 2.74, 'train_speed(iter/s)': 0.438939, 'epoch': 0.34, 'global_step/max_steps': '685/10125', 'percentage': '6.77%', 'elapsed_time': '26m 0s', 'remaining_time': '5h 58m 22s'}\n"
     ]
    },
    {
     "name": "stderr",
     "output_type": "stream",
     "text": [
      "Train:   7%|▋         | 690/10125 [26:08<4:37:59,  1.77s/it]"
     ]
    },
    {
     "name": "stdout",
     "output_type": "stream",
     "text": [
      "{'loss': 1.59759674, 'grad_norm': 9.28845596, 'learning_rate': 5.93e-06, 'memory(GiB)': 2.74, 'train_speed(iter/s)': 0.439691, 'epoch': 0.34, 'global_step/max_steps': '690/10125', 'percentage': '6.81%', 'elapsed_time': '26m 8s', 'remaining_time': '5h 57m 34s'}\n"
     ]
    },
    {
     "name": "stderr",
     "output_type": "stream",
     "text": [
      "Train:   7%|▋         | 695/10125 [26:17<4:47:08,  1.83s/it]"
     ]
    },
    {
     "name": "stdout",
     "output_type": "stream",
     "text": [
      "{'loss': 1.67784061, 'grad_norm': 7.82533407, 'learning_rate': 5.93e-06, 'memory(GiB)': 2.74, 'train_speed(iter/s)': 0.440346, 'epoch': 0.34, 'global_step/max_steps': '695/10125', 'percentage': '6.86%', 'elapsed_time': '26m 17s', 'remaining_time': '5h 56m 50s'}\n"
     ]
    },
    {
     "name": "stderr",
     "output_type": "stream",
     "text": [
      "Train:   7%|▋         | 700/10125 [26:27<4:47:35,  1.83s/it]\n"
     ]
    },
    {
     "name": "stdout",
     "output_type": "stream",
     "text": [
      "{'loss': 1.73548088, 'grad_norm': 8.84015846, 'learning_rate': 5.93e-06, 'memory(GiB)': 2.74, 'train_speed(iter/s)': 0.44092, 'epoch': 0.35, 'global_step/max_steps': '700/10125', 'percentage': '6.91%', 'elapsed_time': '26m 27s', 'remaining_time': '5h 56m 11s'}\n"
     ]
    },
    {
     "name": "stderr",
     "output_type": "stream",
     "text": [
      "Val: 100%|██████████| 426/426 [00:50<00:00,  8.46it/s]3s/it]\n"
     ]
    },
    {
     "name": "stdout",
     "output_type": "stream",
     "text": [
      "{'eval_loss': 1.66217506, 'eval_margin': -0.01476379, 'eval_mean_neg': 0.92643839, 'eval_mean_pos': 0.96316171, 'eval_runtime': 50.4652, 'eval_samples_per_second': 50.669, 'eval_steps_per_second': 8.461, 'epoch': 0.35, 'global_step/max_steps': '700/10125', 'percentage': '6.91%', 'elapsed_time': '27m 17s', 'remaining_time': '6h 7m 31s'}\n"
     ]
    },
    {
     "name": "stderr",
     "output_type": "stream",
     "text": [
      "Train:   7%|▋         | 705/10125 [27:27<14:22:31,  5.49s/it]"
     ]
    },
    {
     "name": "stdout",
     "output_type": "stream",
     "text": [
      "{'loss': 1.73748474, 'grad_norm': 7.56900978, 'learning_rate': 5.93e-06, 'memory(GiB)': 2.74, 'train_speed(iter/s)': 0.427885, 'epoch': 0.35, 'global_step/max_steps': '705/10125', 'percentage': '6.96%', 'elapsed_time': '27m 27s', 'remaining_time': '6h 6m 51s'}\n"
     ]
    },
    {
     "name": "stderr",
     "output_type": "stream",
     "text": [
      "Train:   7%|▋         | 710/10125 [27:36<6:21:57,  2.43s/it] "
     ]
    },
    {
     "name": "stdout",
     "output_type": "stream",
     "text": [
      "{'loss': 1.62168369, 'grad_norm': 8.78024292, 'learning_rate': 5.93e-06, 'memory(GiB)': 2.74, 'train_speed(iter/s)': 0.428566, 'epoch': 0.35, 'global_step/max_steps': '710/10125', 'percentage': '7.01%', 'elapsed_time': '27m 36s', 'remaining_time': '6h 6m 4s'}\n"
     ]
    },
    {
     "name": "stderr",
     "output_type": "stream",
     "text": [
      "Train:   7%|▋         | 715/10125 [27:45<5:04:23,  1.94s/it]"
     ]
    },
    {
     "name": "stdout",
     "output_type": "stream",
     "text": [
      "{'loss': 1.45943317, 'grad_norm': 9.09765911, 'learning_rate': 5.93e-06, 'memory(GiB)': 2.74, 'train_speed(iter/s)': 0.429224, 'epoch': 0.35, 'global_step/max_steps': '715/10125', 'percentage': '7.06%', 'elapsed_time': '27m 45s', 'remaining_time': '6h 5m 19s'}\n"
     ]
    },
    {
     "name": "stderr",
     "output_type": "stream",
     "text": [
      "Train:   7%|▋         | 720/10125 [27:54<4:45:15,  1.82s/it]"
     ]
    },
    {
     "name": "stdout",
     "output_type": "stream",
     "text": [
      "{'loss': 1.67166557, 'grad_norm': 8.4438858, 'learning_rate': 5.93e-06, 'memory(GiB)': 2.74, 'train_speed(iter/s)': 0.429927, 'epoch': 0.36, 'global_step/max_steps': '720/10125', 'percentage': '7.11%', 'elapsed_time': '27m 54s', 'remaining_time': '6h 4m 31s'}\n"
     ]
    },
    {
     "name": "stderr",
     "output_type": "stream",
     "text": [
      "Train:   7%|▋         | 725/10125 [28:03<4:40:42,  1.79s/it]"
     ]
    },
    {
     "name": "stdout",
     "output_type": "stream",
     "text": [
      "{'loss': 1.90488777, 'grad_norm': 8.29573345, 'learning_rate': 5.92e-06, 'memory(GiB)': 2.74, 'train_speed(iter/s)': 0.430641, 'epoch': 0.36, 'global_step/max_steps': '725/10125', 'percentage': '7.16%', 'elapsed_time': '28m 3s', 'remaining_time': '6h 3m 43s'}\n"
     ]
    },
    {
     "name": "stderr",
     "output_type": "stream",
     "text": [
      "Train:   7%|▋         | 730/10125 [28:12<4:41:23,  1.80s/it]"
     ]
    },
    {
     "name": "stdout",
     "output_type": "stream",
     "text": [
      "{'loss': 1.79168797, 'grad_norm': 12.74484062, 'learning_rate': 5.92e-06, 'memory(GiB)': 2.74, 'train_speed(iter/s)': 0.431285, 'epoch': 0.36, 'global_step/max_steps': '730/10125', 'percentage': '7.21%', 'elapsed_time': '28m 12s', 'remaining_time': '6h 2m 59s'}\n"
     ]
    },
    {
     "name": "stderr",
     "output_type": "stream",
     "text": [
      "Train:   7%|▋         | 735/10125 [28:21<4:46:31,  1.83s/it]"
     ]
    },
    {
     "name": "stdout",
     "output_type": "stream",
     "text": [
      "{'loss': 1.76875954, 'grad_norm': 9.11199093, 'learning_rate': 5.92e-06, 'memory(GiB)': 2.74, 'train_speed(iter/s)': 0.431914, 'epoch': 0.36, 'global_step/max_steps': '735/10125', 'percentage': '7.26%', 'elapsed_time': '28m 21s', 'remaining_time': '6h 2m 16s'}\n"
     ]
    },
    {
     "name": "stderr",
     "output_type": "stream",
     "text": [
      "Train:   7%|▋         | 740/10125 [28:30<4:42:52,  1.81s/it]"
     ]
    },
    {
     "name": "stdout",
     "output_type": "stream",
     "text": [
      "{'loss': 1.66441898, 'grad_norm': 7.92282677, 'learning_rate': 5.92e-06, 'memory(GiB)': 2.74, 'train_speed(iter/s)': 0.432592, 'epoch': 0.37, 'global_step/max_steps': '740/10125', 'percentage': '7.31%', 'elapsed_time': '28m 30s', 'remaining_time': '6h 1m 30s'}\n"
     ]
    },
    {
     "name": "stderr",
     "output_type": "stream",
     "text": [
      "Train:   7%|▋         | 745/10125 [28:39<4:40:58,  1.80s/it]"
     ]
    },
    {
     "name": "stdout",
     "output_type": "stream",
     "text": [
      "{'loss': 1.60575562, 'grad_norm': 10.01728249, 'learning_rate': 5.92e-06, 'memory(GiB)': 2.74, 'train_speed(iter/s)': 0.433234, 'epoch': 0.37, 'global_step/max_steps': '745/10125', 'percentage': '7.36%', 'elapsed_time': '28m 39s', 'remaining_time': '6h 0m 47s'}\n"
     ]
    },
    {
     "name": "stderr",
     "output_type": "stream",
     "text": [
      "Train:   7%|▋         | 750/10125 [28:48<4:35:38,  1.76s/it]"
     ]
    },
    {
     "name": "stdout",
     "output_type": "stream",
     "text": [
      "{'loss': 1.5500886, 'grad_norm': 8.73204517, 'learning_rate': 5.92e-06, 'memory(GiB)': 2.74, 'train_speed(iter/s)': 0.433884, 'epoch': 0.37, 'global_step/max_steps': '750/10125', 'percentage': '7.41%', 'elapsed_time': '28m 48s', 'remaining_time': '6h 0m 3s'}\n"
     ]
    },
    {
     "name": "stderr",
     "output_type": "stream",
     "text": [
      "Train:   7%|▋         | 755/10125 [28:57<4:36:18,  1.77s/it]"
     ]
    },
    {
     "name": "stdout",
     "output_type": "stream",
     "text": [
      "{'loss': 1.61467857, 'grad_norm': 8.83925629, 'learning_rate': 5.92e-06, 'memory(GiB)': 2.74, 'train_speed(iter/s)': 0.434544, 'epoch': 0.37, 'global_step/max_steps': '755/10125', 'percentage': '7.46%', 'elapsed_time': '28m 57s', 'remaining_time': '5h 59m 19s'}\n"
     ]
    },
    {
     "name": "stderr",
     "output_type": "stream",
     "text": [
      "Train:   8%|▊         | 760/10125 [29:06<4:51:23,  1.87s/it]"
     ]
    },
    {
     "name": "stdout",
     "output_type": "stream",
     "text": [
      "{'loss': 1.47851849, 'grad_norm': 7.40374088, 'learning_rate': 5.92e-06, 'memory(GiB)': 2.74, 'train_speed(iter/s)': 0.435048, 'epoch': 0.38, 'global_step/max_steps': '760/10125', 'percentage': '7.51%', 'elapsed_time': '29m 6s', 'remaining_time': '5h 58m 42s'}\n"
     ]
    },
    {
     "name": "stderr",
     "output_type": "stream",
     "text": [
      "Train:   8%|▊         | 765/10125 [29:15<4:36:04,  1.77s/it]"
     ]
    },
    {
     "name": "stdout",
     "output_type": "stream",
     "text": [
      "{'loss': 1.72576256, 'grad_norm': 10.78265572, 'learning_rate': 5.92e-06, 'memory(GiB)': 2.74, 'train_speed(iter/s)': 0.435687, 'epoch': 0.38, 'global_step/max_steps': '765/10125', 'percentage': '7.56%', 'elapsed_time': '29m 15s', 'remaining_time': '5h 57m 59s'}\n"
     ]
    },
    {
     "name": "stderr",
     "output_type": "stream",
     "text": [
      "Train:   8%|▊         | 770/10125 [29:24<4:38:28,  1.79s/it]"
     ]
    },
    {
     "name": "stdout",
     "output_type": "stream",
     "text": [
      "{'loss': 1.76157913, 'grad_norm': 11.11009884, 'learning_rate': 5.91e-06, 'memory(GiB)': 2.74, 'train_speed(iter/s)': 0.436312, 'epoch': 0.38, 'global_step/max_steps': '770/10125', 'percentage': '7.60%', 'elapsed_time': '29m 24s', 'remaining_time': '5h 57m 17s'}\n"
     ]
    },
    {
     "name": "stderr",
     "output_type": "stream",
     "text": [
      "Train:   8%|▊         | 775/10125 [29:33<4:44:43,  1.83s/it]"
     ]
    },
    {
     "name": "stdout",
     "output_type": "stream",
     "text": [
      "{'loss': 1.54287481, 'grad_norm': 8.08708858, 'learning_rate': 5.91e-06, 'memory(GiB)': 2.74, 'train_speed(iter/s)': 0.436918, 'epoch': 0.38, 'global_step/max_steps': '775/10125', 'percentage': '7.65%', 'elapsed_time': '29m 33s', 'remaining_time': '5h 56m 36s'}\n"
     ]
    },
    {
     "name": "stderr",
     "output_type": "stream",
     "text": [
      "Train:   8%|▊         | 780/10125 [29:42<4:51:24,  1.87s/it]"
     ]
    },
    {
     "name": "stdout",
     "output_type": "stream",
     "text": [
      "{'loss': 1.66340351, 'grad_norm': 9.75196934, 'learning_rate': 5.91e-06, 'memory(GiB)': 2.74, 'train_speed(iter/s)': 0.437438, 'epoch': 0.39, 'global_step/max_steps': '780/10125', 'percentage': '7.70%', 'elapsed_time': '29m 42s', 'remaining_time': '5h 55m 59s'}\n"
     ]
    },
    {
     "name": "stderr",
     "output_type": "stream",
     "text": [
      "Train:   8%|▊         | 785/10125 [29:52<4:56:50,  1.91s/it]"
     ]
    },
    {
     "name": "stdout",
     "output_type": "stream",
     "text": [
      "{'loss': 1.60868912, 'grad_norm': 9.98577404, 'learning_rate': 5.91e-06, 'memory(GiB)': 2.74, 'train_speed(iter/s)': 0.437929, 'epoch': 0.39, 'global_step/max_steps': '785/10125', 'percentage': '7.75%', 'elapsed_time': '29m 52s', 'remaining_time': '5h 55m 24s'}\n"
     ]
    },
    {
     "name": "stderr",
     "output_type": "stream",
     "text": [
      "Train:   8%|▊         | 790/10125 [30:01<4:40:58,  1.81s/it]"
     ]
    },
    {
     "name": "stdout",
     "output_type": "stream",
     "text": [
      "{'loss': 1.82765198, 'grad_norm': 11.33538055, 'learning_rate': 5.91e-06, 'memory(GiB)': 2.74, 'train_speed(iter/s)': 0.43848, 'epoch': 0.39, 'global_step/max_steps': '790/10125', 'percentage': '7.80%', 'elapsed_time': '30m 1s', 'remaining_time': '5h 54m 45s'}\n"
     ]
    },
    {
     "name": "stderr",
     "output_type": "stream",
     "text": [
      "Train:   8%|▊         | 795/10125 [30:10<4:39:15,  1.80s/it]"
     ]
    },
    {
     "name": "stdout",
     "output_type": "stream",
     "text": [
      "{'loss': 1.87519379, 'grad_norm': 12.49989223, 'learning_rate': 5.91e-06, 'memory(GiB)': 2.74, 'train_speed(iter/s)': 0.439068, 'epoch': 0.39, 'global_step/max_steps': '795/10125', 'percentage': '7.85%', 'elapsed_time': '30m 10s', 'remaining_time': '5h 54m 5s'}\n"
     ]
    },
    {
     "name": "stderr",
     "output_type": "stream",
     "text": [
      "Train:   8%|▊         | 800/10125 [30:19<4:38:06,  1.79s/it]\n"
     ]
    },
    {
     "name": "stdout",
     "output_type": "stream",
     "text": [
      "{'loss': 1.70564232, 'grad_norm': 9.51515484, 'learning_rate': 5.91e-06, 'memory(GiB)': 2.74, 'train_speed(iter/s)': 0.439646, 'epoch': 0.4, 'global_step/max_steps': '800/10125', 'percentage': '7.90%', 'elapsed_time': '30m 19s', 'remaining_time': '5h 53m 26s'}\n"
     ]
    },
    {
     "name": "stderr",
     "output_type": "stream",
     "text": [
      "Val: 100%|██████████| 426/426 [00:59<00:00,  7.18it/s]9s/it]\n"
     ]
    },
    {
     "name": "stdout",
     "output_type": "stream",
     "text": [
      "{'eval_loss': 1.63055599, 'eval_margin': -0.01486927, 'eval_mean_neg': 0.92556769, 'eval_mean_pos': 0.96195841, 'eval_runtime': 59.4778, 'eval_samples_per_second': 42.991, 'eval_steps_per_second': 7.179, 'epoch': 0.4, 'global_step/max_steps': '800/10125', 'percentage': '7.90%', 'elapsed_time': '31m 18s', 'remaining_time': '6h 5m 0s'}\n"
     ]
    },
    {
     "name": "stderr",
     "output_type": "stream",
     "text": [
      "Train:   8%|▊         | 805/10125 [31:28<15:47:02,  6.10s/it]"
     ]
    },
    {
     "name": "stdout",
     "output_type": "stream",
     "text": [
      "{'loss': 1.58597431, 'grad_norm': 9.15116119, 'learning_rate': 5.91e-06, 'memory(GiB)': 2.74, 'train_speed(iter/s)': 0.426303, 'epoch': 0.4, 'global_step/max_steps': '805/10125', 'percentage': '7.95%', 'elapsed_time': '31m 28s', 'remaining_time': '6h 4m 18s'}\n"
     ]
    },
    {
     "name": "stderr",
     "output_type": "stream",
     "text": [
      "Train:   8%|▊         | 810/10125 [31:37<6:34:19,  2.54s/it] "
     ]
    },
    {
     "name": "stdout",
     "output_type": "stream",
     "text": [
      "{'loss': 1.58094625, 'grad_norm': 9.28654194, 'learning_rate': 5.91e-06, 'memory(GiB)': 2.74, 'train_speed(iter/s)': 0.42692, 'epoch': 0.4, 'global_step/max_steps': '810/10125', 'percentage': '8.00%', 'elapsed_time': '31m 37s', 'remaining_time': '6h 3m 35s'}\n"
     ]
    },
    {
     "name": "stderr",
     "output_type": "stream",
     "text": [
      "Train:   8%|▊         | 815/10125 [31:46<4:59:13,  1.93s/it]"
     ]
    },
    {
     "name": "stdout",
     "output_type": "stream",
     "text": [
      "{'loss': 1.5815239, 'grad_norm': 7.03336239, 'learning_rate': 5.9e-06, 'memory(GiB)': 2.74, 'train_speed(iter/s)': 0.427486, 'epoch': 0.4, 'global_step/max_steps': '815/10125', 'percentage': '8.05%', 'elapsed_time': '31m 46s', 'remaining_time': '6h 2m 55s'}\n"
     ]
    },
    {
     "name": "stderr",
     "output_type": "stream",
     "text": [
      "Train:   8%|▊         | 820/10125 [31:55<4:55:43,  1.91s/it]"
     ]
    },
    {
     "name": "stdout",
     "output_type": "stream",
     "text": [
      "{'loss': 1.7259573, 'grad_norm': 7.40382433, 'learning_rate': 5.9e-06, 'memory(GiB)': 2.74, 'train_speed(iter/s)': 0.427944, 'epoch': 0.41, 'global_step/max_steps': '820/10125', 'percentage': '8.10%', 'elapsed_time': '31m 55s', 'remaining_time': '6h 2m 20s'}\n"
     ]
    },
    {
     "name": "stderr",
     "output_type": "stream",
     "text": [
      "Train:   8%|▊         | 825/10125 [32:05<4:47:28,  1.85s/it]"
     ]
    },
    {
     "name": "stdout",
     "output_type": "stream",
     "text": [
      "{'loss': 1.63374119, 'grad_norm': 9.1050415, 'learning_rate': 5.9e-06, 'memory(GiB)': 2.74, 'train_speed(iter/s)': 0.428491, 'epoch': 0.41, 'global_step/max_steps': '825/10125', 'percentage': '8.15%', 'elapsed_time': '32m 5s', 'remaining_time': '6h 1m 40s'}\n"
     ]
    },
    {
     "name": "stderr",
     "output_type": "stream",
     "text": [
      "Train:   8%|▊         | 830/10125 [32:14<5:15:32,  2.04s/it]"
     ]
    },
    {
     "name": "stdout",
     "output_type": "stream",
     "text": [
      "{'loss': 1.80419598, 'grad_norm': 9.3358469, 'learning_rate': 5.9e-06, 'memory(GiB)': 2.74, 'train_speed(iter/s)': 0.428888, 'epoch': 0.41, 'global_step/max_steps': '830/10125', 'percentage': '8.20%', 'elapsed_time': '32m 14s', 'remaining_time': '6h 1m 8s'}\n"
     ]
    },
    {
     "name": "stderr",
     "output_type": "stream",
     "text": [
      "Train:   8%|▊         | 835/10125 [32:24<4:50:42,  1.88s/it]"
     ]
    },
    {
     "name": "stdout",
     "output_type": "stream",
     "text": [
      "{'loss': 1.54946718, 'grad_norm': 9.52893448, 'learning_rate': 5.9e-06, 'memory(GiB)': 2.74, 'train_speed(iter/s)': 0.429433, 'epoch': 0.41, 'global_step/max_steps': '835/10125', 'percentage': '8.25%', 'elapsed_time': '32m 24s', 'remaining_time': '6h 0m 29s'}\n"
     ]
    },
    {
     "name": "stderr",
     "output_type": "stream",
     "text": [
      "Train:   8%|▊         | 840/10125 [32:33<4:43:37,  1.83s/it]"
     ]
    },
    {
     "name": "stdout",
     "output_type": "stream",
     "text": [
      "{'loss': 1.723493, 'grad_norm': 9.38159466, 'learning_rate': 5.9e-06, 'memory(GiB)': 2.74, 'train_speed(iter/s)': 0.429989, 'epoch': 0.41, 'global_step/max_steps': '840/10125', 'percentage': '8.30%', 'elapsed_time': '32m 33s', 'remaining_time': '5h 59m 50s'}\n"
     ]
    },
    {
     "name": "stderr",
     "output_type": "stream",
     "text": [
      "Train:   8%|▊         | 845/10125 [32:42<4:44:02,  1.84s/it]"
     ]
    },
    {
     "name": "stdout",
     "output_type": "stream",
     "text": [
      "{'loss': 1.39628534, 'grad_norm': 8.87391663, 'learning_rate': 5.9e-06, 'memory(GiB)': 2.74, 'train_speed(iter/s)': 0.430524, 'epoch': 0.42, 'global_step/max_steps': '845/10125', 'percentage': '8.35%', 'elapsed_time': '32m 42s', 'remaining_time': '5h 59m 11s'}\n"
     ]
    },
    {
     "name": "stderr",
     "output_type": "stream",
     "text": [
      "Train:   8%|▊         | 850/10125 [32:51<4:40:30,  1.81s/it]"
     ]
    },
    {
     "name": "stdout",
     "output_type": "stream",
     "text": [
      "{'loss': 1.52463131, 'grad_norm': 8.15168095, 'learning_rate': 5.9e-06, 'memory(GiB)': 2.74, 'train_speed(iter/s)': 0.43105, 'epoch': 0.42, 'global_step/max_steps': '850/10125', 'percentage': '8.40%', 'elapsed_time': '32m 51s', 'remaining_time': '5h 58m 33s'}\n"
     ]
    },
    {
     "name": "stderr",
     "output_type": "stream",
     "text": [
      "Train:   8%|▊         | 855/10125 [33:01<4:55:16,  1.91s/it]"
     ]
    },
    {
     "name": "stdout",
     "output_type": "stream",
     "text": [
      "{'loss': 1.71768227, 'grad_norm': 9.82430458, 'learning_rate': 5.9e-06, 'memory(GiB)': 2.74, 'train_speed(iter/s)': 0.431495, 'epoch': 0.42, 'global_step/max_steps': '855/10125', 'percentage': '8.44%', 'elapsed_time': '33m 1s', 'remaining_time': '5h 58m 0s'}\n"
     ]
    },
    {
     "name": "stderr",
     "output_type": "stream",
     "text": [
      "Train:   8%|▊         | 860/10125 [33:10<4:51:55,  1.89s/it]"
     ]
    },
    {
     "name": "stdout",
     "output_type": "stream",
     "text": [
      "{'loss': 1.58295565, 'grad_norm': 8.94005871, 'learning_rate': 5.89e-06, 'memory(GiB)': 2.74, 'train_speed(iter/s)': 0.431941, 'epoch': 0.42, 'global_step/max_steps': '860/10125', 'percentage': '8.49%', 'elapsed_time': '33m 10s', 'remaining_time': '5h 57m 26s'}\n"
     ]
    },
    {
     "name": "stderr",
     "output_type": "stream",
     "text": [
      "Train:   9%|▊         | 865/10125 [33:20<4:56:20,  1.92s/it]"
     ]
    },
    {
     "name": "stdout",
     "output_type": "stream",
     "text": [
      "{'loss': 1.71438046, 'grad_norm': 9.19532299, 'learning_rate': 5.89e-06, 'memory(GiB)': 2.74, 'train_speed(iter/s)': 0.432353, 'epoch': 0.43, 'global_step/max_steps': '865/10125', 'percentage': '8.54%', 'elapsed_time': '33m 20s', 'remaining_time': '5h 56m 54s'}\n"
     ]
    },
    {
     "name": "stderr",
     "output_type": "stream",
     "text": [
      "Train:   9%|▊         | 870/10125 [33:29<4:53:17,  1.90s/it]"
     ]
    },
    {
     "name": "stdout",
     "output_type": "stream",
     "text": [
      "{'loss': 1.65404434, 'grad_norm': 8.83083248, 'learning_rate': 5.89e-06, 'memory(GiB)': 2.74, 'train_speed(iter/s)': 0.432859, 'epoch': 0.43, 'global_step/max_steps': '870/10125', 'percentage': '8.59%', 'elapsed_time': '33m 29s', 'remaining_time': '5h 56m 17s'}\n"
     ]
    },
    {
     "name": "stderr",
     "output_type": "stream",
     "text": [
      "Train:   9%|▊         | 875/10125 [33:38<4:48:30,  1.87s/it]"
     ]
    },
    {
     "name": "stdout",
     "output_type": "stream",
     "text": [
      "{'loss': 1.53880997, 'grad_norm': 9.16267776, 'learning_rate': 5.89e-06, 'memory(GiB)': 2.74, 'train_speed(iter/s)': 0.433349, 'epoch': 0.43, 'global_step/max_steps': '875/10125', 'percentage': '8.64%', 'elapsed_time': '33m 38s', 'remaining_time': '5h 55m 42s'}\n"
     ]
    },
    {
     "name": "stderr",
     "output_type": "stream",
     "text": [
      "Train:   9%|▊         | 880/10125 [33:48<4:50:19,  1.88s/it]"
     ]
    },
    {
     "name": "stdout",
     "output_type": "stream",
     "text": [
      "{'loss': 1.74124203, 'grad_norm': 10.59715366, 'learning_rate': 5.89e-06, 'memory(GiB)': 2.74, 'train_speed(iter/s)': 0.433809, 'epoch': 0.43, 'global_step/max_steps': '880/10125', 'percentage': '8.69%', 'elapsed_time': '33m 48s', 'remaining_time': '5h 55m 8s'}\n"
     ]
    },
    {
     "name": "stderr",
     "output_type": "stream",
     "text": [
      "Train:   9%|▊         | 885/10125 [33:57<4:57:22,  1.93s/it]"
     ]
    },
    {
     "name": "stdout",
     "output_type": "stream",
     "text": [
      "{'loss': 1.60962925, 'grad_norm': 10.02307987, 'learning_rate': 5.89e-06, 'memory(GiB)': 2.74, 'train_speed(iter/s)': 0.434232, 'epoch': 0.44, 'global_step/max_steps': '885/10125', 'percentage': '8.74%', 'elapsed_time': '33m 57s', 'remaining_time': '5h 54m 35s'}\n"
     ]
    },
    {
     "name": "stderr",
     "output_type": "stream",
     "text": [
      "Train:   9%|▉         | 890/10125 [34:06<4:37:15,  1.80s/it]"
     ]
    },
    {
     "name": "stdout",
     "output_type": "stream",
     "text": [
      "{'loss': 1.41637344, 'grad_norm': 8.1489296, 'learning_rate': 5.89e-06, 'memory(GiB)': 2.74, 'train_speed(iter/s)': 0.43476, 'epoch': 0.44, 'global_step/max_steps': '890/10125', 'percentage': '8.79%', 'elapsed_time': '34m 6s', 'remaining_time': '5h 53m 58s'}\n"
     ]
    },
    {
     "name": "stderr",
     "output_type": "stream",
     "text": [
      "Train:   9%|▉         | 895/10125 [34:16<4:44:59,  1.85s/it]"
     ]
    },
    {
     "name": "stdout",
     "output_type": "stream",
     "text": [
      "{'loss': 1.60276737, 'grad_norm': 8.07455921, 'learning_rate': 5.89e-06, 'memory(GiB)': 2.74, 'train_speed(iter/s)': 0.435205, 'epoch': 0.44, 'global_step/max_steps': '895/10125', 'percentage': '8.84%', 'elapsed_time': '34m 16s', 'remaining_time': '5h 53m 25s'}\n"
     ]
    },
    {
     "name": "stderr",
     "output_type": "stream",
     "text": [
      "Train:   9%|▉         | 900/10125 [34:25<4:59:21,  1.95s/it]\n"
     ]
    },
    {
     "name": "stdout",
     "output_type": "stream",
     "text": [
      "{'loss': 1.41708031, 'grad_norm': 9.58499718, 'learning_rate': 5.88e-06, 'memory(GiB)': 2.74, 'train_speed(iter/s)': 0.435608, 'epoch': 0.44, 'global_step/max_steps': '900/10125', 'percentage': '8.89%', 'elapsed_time': '34m 25s', 'remaining_time': '5h 52m 54s'}\n"
     ]
    },
    {
     "name": "stderr",
     "output_type": "stream",
     "text": [
      "Val: 100%|██████████| 426/426 [00:52<00:00,  8.17it/s]5s/it]\n"
     ]
    },
    {
     "name": "stdout",
     "output_type": "stream",
     "text": [
      "{'eval_loss': 1.5988543, 'eval_margin': -0.015979, 'eval_mean_neg': 0.91916943, 'eval_mean_pos': 0.95910609, 'eval_runtime': 52.2734, 'eval_samples_per_second': 48.916, 'eval_steps_per_second': 8.169, 'epoch': 0.44, 'global_step/max_steps': '900/10125', 'percentage': '8.89%', 'elapsed_time': '35m 18s', 'remaining_time': '6h 1m 50s'}\n"
     ]
    },
    {
     "name": "stderr",
     "output_type": "stream",
     "text": [
      "Train:   9%|▉         | 905/10125 [35:27<14:19:54,  5.60s/it]"
     ]
    },
    {
     "name": "stdout",
     "output_type": "stream",
     "text": [
      "{'loss': 1.5874217, 'grad_norm': 10.59078217, 'learning_rate': 5.88e-06, 'memory(GiB)': 2.74, 'train_speed(iter/s)': 0.425387, 'epoch': 0.45, 'global_step/max_steps': '905/10125', 'percentage': '8.94%', 'elapsed_time': '35m 27s', 'remaining_time': '6h 1m 11s'}\n"
     ]
    },
    {
     "name": "stderr",
     "output_type": "stream",
     "text": [
      "Train:   9%|▉         | 910/10125 [35:36<6:15:54,  2.45s/it] "
     ]
    },
    {
     "name": "stdout",
     "output_type": "stream",
     "text": [
      "{'loss': 1.79586754, 'grad_norm': 10.78878498, 'learning_rate': 5.88e-06, 'memory(GiB)': 2.74, 'train_speed(iter/s)': 0.425938, 'epoch': 0.45, 'global_step/max_steps': '910/10125', 'percentage': '8.99%', 'elapsed_time': '35m 36s', 'remaining_time': '6h 0m 31s'}\n"
     ]
    },
    {
     "name": "stderr",
     "output_type": "stream",
     "text": [
      "Train:   9%|▉         | 915/10125 [35:45<4:52:15,  1.90s/it]"
     ]
    },
    {
     "name": "stdout",
     "output_type": "stream",
     "text": [
      "{'loss': 1.71168575, 'grad_norm': 9.29820824, 'learning_rate': 5.88e-06, 'memory(GiB)': 2.74, 'train_speed(iter/s)': 0.426486, 'epoch': 0.45, 'global_step/max_steps': '915/10125', 'percentage': '9.04%', 'elapsed_time': '35m 45s', 'remaining_time': '5h 59m 52s'}\n"
     ]
    },
    {
     "name": "stderr",
     "output_type": "stream",
     "text": [
      "Train:   9%|▉         | 920/10125 [35:54<4:45:43,  1.86s/it]"
     ]
    },
    {
     "name": "stdout",
     "output_type": "stream",
     "text": [
      "{'loss': 1.41596079, 'grad_norm': 7.26039028, 'learning_rate': 5.88e-06, 'memory(GiB)': 2.74, 'train_speed(iter/s)': 0.426946, 'epoch': 0.45, 'global_step/max_steps': '920/10125', 'percentage': '9.09%', 'elapsed_time': '35m 54s', 'remaining_time': '5h 59m 17s'}\n"
     ]
    },
    {
     "name": "stderr",
     "output_type": "stream",
     "text": [
      "Train:   9%|▉         | 925/10125 [36:03<4:40:32,  1.83s/it]"
     ]
    },
    {
     "name": "stdout",
     "output_type": "stream",
     "text": [
      "{'loss': 1.66687984, 'grad_norm': 9.76890373, 'learning_rate': 5.88e-06, 'memory(GiB)': 2.74, 'train_speed(iter/s)': 0.427471, 'epoch': 0.46, 'global_step/max_steps': '925/10125', 'percentage': '9.14%', 'elapsed_time': '36m 3s', 'remaining_time': '5h 58m 38s'}\n"
     ]
    },
    {
     "name": "stderr",
     "output_type": "stream",
     "text": [
      "Train:   9%|▉         | 930/10125 [36:13<4:49:48,  1.89s/it]"
     ]
    },
    {
     "name": "stdout",
     "output_type": "stream",
     "text": [
      "{'loss': 1.57089624, 'grad_norm': 7.8327179, 'learning_rate': 5.88e-06, 'memory(GiB)': 2.74, 'train_speed(iter/s)': 0.427887, 'epoch': 0.46, 'global_step/max_steps': '930/10125', 'percentage': '9.19%', 'elapsed_time': '36m 13s', 'remaining_time': '5h 58m 6s'}\n"
     ]
    },
    {
     "name": "stderr",
     "output_type": "stream",
     "text": [
      "Train:   9%|▉         | 935/10125 [36:22<4:43:25,  1.85s/it]"
     ]
    },
    {
     "name": "stdout",
     "output_type": "stream",
     "text": [
      "{'loss': 1.44817314, 'grad_norm': 10.35597515, 'learning_rate': 5.87e-06, 'memory(GiB)': 2.74, 'train_speed(iter/s)': 0.428353, 'epoch': 0.46, 'global_step/max_steps': '935/10125', 'percentage': '9.23%', 'elapsed_time': '36m 22s', 'remaining_time': '5h 57m 31s'}\n"
     ]
    },
    {
     "name": "stderr",
     "output_type": "stream",
     "text": [
      "Train:   9%|▉         | 940/10125 [36:31<4:52:52,  1.91s/it]"
     ]
    },
    {
     "name": "stdout",
     "output_type": "stream",
     "text": [
      "{'loss': 1.48479919, 'grad_norm': 9.50380993, 'learning_rate': 5.87e-06, 'memory(GiB)': 2.74, 'train_speed(iter/s)': 0.428773, 'epoch': 0.46, 'global_step/max_steps': '940/10125', 'percentage': '9.28%', 'elapsed_time': '36m 31s', 'remaining_time': '5h 56m 58s'}\n"
     ]
    },
    {
     "name": "stderr",
     "output_type": "stream",
     "text": [
      "Train:   9%|▉         | 945/10125 [36:40<4:31:05,  1.77s/it]"
     ]
    },
    {
     "name": "stdout",
     "output_type": "stream",
     "text": [
      "{'loss': 1.66881504, 'grad_norm': 10.12873936, 'learning_rate': 5.87e-06, 'memory(GiB)': 2.74, 'train_speed(iter/s)': 0.429361, 'epoch': 0.47, 'global_step/max_steps': '945/10125', 'percentage': '9.33%', 'elapsed_time': '36m 40s', 'remaining_time': '5h 56m 17s'}\n"
     ]
    },
    {
     "name": "stderr",
     "output_type": "stream",
     "text": [
      "Train:   9%|▉         | 950/10125 [36:50<4:37:55,  1.82s/it]"
     ]
    },
    {
     "name": "stdout",
     "output_type": "stream",
     "text": [
      "{'loss': 1.56766443, 'grad_norm': 10.07617474, 'learning_rate': 5.87e-06, 'memory(GiB)': 2.74, 'train_speed(iter/s)': 0.429794, 'epoch': 0.47, 'global_step/max_steps': '950/10125', 'percentage': '9.38%', 'elapsed_time': '36m 50s', 'remaining_time': '5h 55m 44s'}\n"
     ]
    },
    {
     "name": "stderr",
     "output_type": "stream",
     "text": [
      "Train:   9%|▉         | 955/10125 [36:59<4:45:43,  1.87s/it]"
     ]
    },
    {
     "name": "stdout",
     "output_type": "stream",
     "text": [
      "{'loss': 1.43591814, 'grad_norm': 8.88281727, 'learning_rate': 5.87e-06, 'memory(GiB)': 2.74, 'train_speed(iter/s)': 0.430243, 'epoch': 0.47, 'global_step/max_steps': '955/10125', 'percentage': '9.43%', 'elapsed_time': '36m 59s', 'remaining_time': '5h 55m 10s'}\n"
     ]
    },
    {
     "name": "stderr",
     "output_type": "stream",
     "text": [
      "Train:   9%|▉         | 960/10125 [37:08<4:34:37,  1.80s/it]"
     ]
    },
    {
     "name": "stdout",
     "output_type": "stream",
     "text": [
      "{'loss': 1.56443825, 'grad_norm': 9.53238773, 'learning_rate': 5.87e-06, 'memory(GiB)': 2.74, 'train_speed(iter/s)': 0.430762, 'epoch': 0.47, 'global_step/max_steps': '960/10125', 'percentage': '9.48%', 'elapsed_time': '37m 8s', 'remaining_time': '5h 54m 33s'}\n"
     ]
    },
    {
     "name": "stderr",
     "output_type": "stream",
     "text": [
      "Train:  10%|▉         | 965/10125 [37:17<4:40:11,  1.84s/it]"
     ]
    },
    {
     "name": "stdout",
     "output_type": "stream",
     "text": [
      "{'loss': 1.91233444, 'grad_norm': 11.53937721, 'learning_rate': 5.87e-06, 'memory(GiB)': 2.74, 'train_speed(iter/s)': 0.431228, 'epoch': 0.48, 'global_step/max_steps': '965/10125', 'percentage': '9.53%', 'elapsed_time': '37m 17s', 'remaining_time': '5h 53m 58s'}\n"
     ]
    },
    {
     "name": "stderr",
     "output_type": "stream",
     "text": [
      "Train:  10%|▉         | 970/10125 [37:26<4:37:20,  1.82s/it]"
     ]
    },
    {
     "name": "stdout",
     "output_type": "stream",
     "text": [
      "{'loss': 1.48904943, 'grad_norm': 8.73531437, 'learning_rate': 5.87e-06, 'memory(GiB)': 2.74, 'train_speed(iter/s)': 0.431718, 'epoch': 0.48, 'global_step/max_steps': '970/10125', 'percentage': '9.58%', 'elapsed_time': '37m 26s', 'remaining_time': '5h 53m 23s'}\n"
     ]
    },
    {
     "name": "stderr",
     "output_type": "stream",
     "text": [
      "Train:  10%|▉         | 975/10125 [37:35<4:31:09,  1.78s/it]"
     ]
    },
    {
     "name": "stdout",
     "output_type": "stream",
     "text": [
      "{'loss': 1.55334845, 'grad_norm': 9.7961607, 'learning_rate': 5.86e-06, 'memory(GiB)': 2.74, 'train_speed(iter/s)': 0.432237, 'epoch': 0.48, 'global_step/max_steps': '975/10125', 'percentage': '9.63%', 'elapsed_time': '37m 35s', 'remaining_time': '5h 52m 46s'}\n"
     ]
    },
    {
     "name": "stderr",
     "output_type": "stream",
     "text": [
      "Train:  10%|▉         | 980/10125 [37:44<4:40:31,  1.84s/it]"
     ]
    },
    {
     "name": "stdout",
     "output_type": "stream",
     "text": [
      "{'loss': 1.64208412, 'grad_norm': 10.85256004, 'learning_rate': 5.86e-06, 'memory(GiB)': 2.74, 'train_speed(iter/s)': 0.432656, 'epoch': 0.48, 'global_step/max_steps': '980/10125', 'percentage': '9.68%', 'elapsed_time': '37m 44s', 'remaining_time': '5h 52m 14s'}\n"
     ]
    },
    {
     "name": "stderr",
     "output_type": "stream",
     "text": [
      "Train:  10%|▉         | 985/10125 [37:53<4:34:16,  1.80s/it]"
     ]
    },
    {
     "name": "stdout",
     "output_type": "stream",
     "text": [
      "{'loss': 1.69642544, 'grad_norm': 10.83097267, 'learning_rate': 5.86e-06, 'memory(GiB)': 2.74, 'train_speed(iter/s)': 0.433146, 'epoch': 0.49, 'global_step/max_steps': '985/10125', 'percentage': '9.73%', 'elapsed_time': '37m 53s', 'remaining_time': '5h 51m 38s'}\n"
     ]
    },
    {
     "name": "stderr",
     "output_type": "stream",
     "text": [
      "Train:  10%|▉         | 990/10125 [38:03<4:38:22,  1.83s/it]"
     ]
    },
    {
     "name": "stdout",
     "output_type": "stream",
     "text": [
      "{'loss': 1.769174, 'grad_norm': 10.09578514, 'learning_rate': 5.86e-06, 'memory(GiB)': 2.74, 'train_speed(iter/s)': 0.433571, 'epoch': 0.49, 'global_step/max_steps': '990/10125', 'percentage': '9.78%', 'elapsed_time': '38m 3s', 'remaining_time': '5h 51m 6s'}\n"
     ]
    },
    {
     "name": "stderr",
     "output_type": "stream",
     "text": [
      "Train:  10%|▉         | 995/10125 [38:12<4:34:57,  1.81s/it]"
     ]
    },
    {
     "name": "stdout",
     "output_type": "stream",
     "text": [
      "{'loss': 1.47546816, 'grad_norm': 12.1016407, 'learning_rate': 5.86e-06, 'memory(GiB)': 2.74, 'train_speed(iter/s)': 0.434027, 'epoch': 0.49, 'global_step/max_steps': '995/10125', 'percentage': '9.83%', 'elapsed_time': '38m 12s', 'remaining_time': '5h 50m 32s'}\n"
     ]
    },
    {
     "name": "stderr",
     "output_type": "stream",
     "text": [
      "Train:  10%|▉         | 1000/10125 [38:21<4:32:24,  1.79s/it]\n"
     ]
    },
    {
     "name": "stdout",
     "output_type": "stream",
     "text": [
      "{'loss': 1.39527855, 'grad_norm': 8.63432789, 'learning_rate': 5.86e-06, 'memory(GiB)': 2.74, 'train_speed(iter/s)': 0.434501, 'epoch': 0.49, 'global_step/max_steps': '1000/10125', 'percentage': '9.88%', 'elapsed_time': '38m 21s', 'remaining_time': '5h 49m 58s'}\n"
     ]
    },
    {
     "name": "stderr",
     "output_type": "stream",
     "text": [
      "Val: 100%|██████████| 426/426 [00:48<00:00,  8.72it/s]79s/it]\n"
     ]
    },
    {
     "name": "stdout",
     "output_type": "stream",
     "text": [
      "{'eval_loss': 1.57269609, 'eval_margin': -0.01633605, 'eval_mean_neg': 0.91726404, 'eval_mean_pos': 0.95686877, 'eval_runtime': 48.9619, 'eval_samples_per_second': 52.224, 'eval_steps_per_second': 8.721, 'epoch': 0.49, 'global_step/max_steps': '1000/10125', 'percentage': '9.88%', 'elapsed_time': '39m 10s', 'remaining_time': '5h 57m 25s'}\n"
     ]
    },
    {
     "name": "stderr",
     "output_type": "stream",
     "text": [
      "[INFO:swift] Saving model checkpoint to d:\\Projects\\hyperbook-weaver\\models\\v0-20250626-170913\\checkpoint-1000\n",
      "Train:  10%|▉         | 1005/10125 [39:19<13:35:11,  5.36s/it]"
     ]
    },
    {
     "name": "stdout",
     "output_type": "stream",
     "text": [
      "{'loss': 1.64116306, 'grad_norm': 13.95864868, 'learning_rate': 5.86e-06, 'memory(GiB)': 2.74, 'train_speed(iter/s)': 0.425864, 'epoch': 0.5, 'global_step/max_steps': '1005/10125', 'percentage': '9.93%', 'elapsed_time': '39m 19s', 'remaining_time': '5h 56m 52s'}\n"
     ]
    },
    {
     "name": "stderr",
     "output_type": "stream",
     "text": [
      "Train:  10%|▉         | 1010/10125 [39:28<6:11:05,  2.44s/it] "
     ]
    },
    {
     "name": "stdout",
     "output_type": "stream",
     "text": [
      "{'loss': 1.76498528, 'grad_norm': 12.07099152, 'learning_rate': 5.85e-06, 'memory(GiB)': 2.74, 'train_speed(iter/s)': 0.426329, 'epoch': 0.5, 'global_step/max_steps': '1010/10125', 'percentage': '9.98%', 'elapsed_time': '39m 28s', 'remaining_time': '5h 56m 17s'}\n"
     ]
    },
    {
     "name": "stderr",
     "output_type": "stream",
     "text": [
      "Train:  10%|█         | 1015/10125 [39:37<4:51:47,  1.92s/it]"
     ]
    },
    {
     "name": "stdout",
     "output_type": "stream",
     "text": [
      "{'loss': 1.6283432, 'grad_norm': 10.26188374, 'learning_rate': 5.85e-06, 'memory(GiB)': 2.74, 'train_speed(iter/s)': 0.42678, 'epoch': 0.5, 'global_step/max_steps': '1015/10125', 'percentage': '10.02%', 'elapsed_time': '39m 37s', 'remaining_time': '5h 55m 43s'}\n"
     ]
    },
    {
     "name": "stderr",
     "output_type": "stream",
     "text": [
      "Train:  10%|█         | 1020/10125 [39:46<4:31:39,  1.79s/it]"
     ]
    },
    {
     "name": "stdout",
     "output_type": "stream",
     "text": [
      "{'loss': 1.75104675, 'grad_norm': 11.35182476, 'learning_rate': 5.85e-06, 'memory(GiB)': 2.74, 'train_speed(iter/s)': 0.427307, 'epoch': 0.5, 'global_step/max_steps': '1020/10125', 'percentage': '10.07%', 'elapsed_time': '39m 46s', 'remaining_time': '5h 55m 5s'}\n"
     ]
    },
    {
     "name": "stderr",
     "output_type": "stream",
     "text": [
      "Train:  10%|█         | 1025/10125 [39:55<4:37:12,  1.83s/it]"
     ]
    },
    {
     "name": "stdout",
     "output_type": "stream",
     "text": [
      "{'loss': 1.42485123, 'grad_norm': 8.62859344, 'learning_rate': 5.85e-06, 'memory(GiB)': 2.74, 'train_speed(iter/s)': 0.427776, 'epoch': 0.51, 'global_step/max_steps': '1025/10125', 'percentage': '10.12%', 'elapsed_time': '39m 55s', 'remaining_time': '5h 54m 30s'}\n"
     ]
    },
    {
     "name": "stderr",
     "output_type": "stream",
     "text": [
      "Train:  10%|█         | 1030/10125 [40:04<4:26:16,  1.76s/it]"
     ]
    },
    {
     "name": "stdout",
     "output_type": "stream",
     "text": [
      "{'loss': 1.64483337, 'grad_norm': 10.5667038, 'learning_rate': 5.85e-06, 'memory(GiB)': 2.74, 'train_speed(iter/s)': 0.428301, 'epoch': 0.51, 'global_step/max_steps': '1030/10125', 'percentage': '10.17%', 'elapsed_time': '40m 4s', 'remaining_time': '5h 53m 52s'}\n"
     ]
    },
    {
     "name": "stderr",
     "output_type": "stream",
     "text": [
      "Train:  10%|█         | 1035/10125 [40:13<4:30:27,  1.79s/it]"
     ]
    },
    {
     "name": "stdout",
     "output_type": "stream",
     "text": [
      "{'loss': 1.61528282, 'grad_norm': 9.04096603, 'learning_rate': 5.85e-06, 'memory(GiB)': 2.74, 'train_speed(iter/s)': 0.428794, 'epoch': 0.51, 'global_step/max_steps': '1035/10125', 'percentage': '10.22%', 'elapsed_time': '40m 13s', 'remaining_time': '5h 53m 16s'}\n"
     ]
    },
    {
     "name": "stderr",
     "output_type": "stream",
     "text": [
      "Train:  10%|█         | 1040/10125 [40:22<4:39:08,  1.84s/it]"
     ]
    },
    {
     "name": "stdout",
     "output_type": "stream",
     "text": [
      "{'loss': 1.63034229, 'grad_norm': 9.87870026, 'learning_rate': 5.85e-06, 'memory(GiB)': 2.74, 'train_speed(iter/s)': 0.429209, 'epoch': 0.51, 'global_step/max_steps': '1040/10125', 'percentage': '10.27%', 'elapsed_time': '40m 22s', 'remaining_time': '5h 52m 44s'}\n"
     ]
    },
    {
     "name": "stderr",
     "output_type": "stream",
     "text": [
      "Train:  10%|█         | 1045/10125 [40:31<4:21:32,  1.73s/it]"
     ]
    },
    {
     "name": "stdout",
     "output_type": "stream",
     "text": [
      "{'loss': 1.59248667, 'grad_norm': 9.51145458, 'learning_rate': 5.84e-06, 'memory(GiB)': 2.74, 'train_speed(iter/s)': 0.429736, 'epoch': 0.52, 'global_step/max_steps': '1045/10125', 'percentage': '10.32%', 'elapsed_time': '40m 31s', 'remaining_time': '5h 52m 6s'}\n"
     ]
    },
    {
     "name": "stderr",
     "output_type": "stream",
     "text": [
      "Train:  10%|█         | 1050/10125 [40:40<4:37:37,  1.84s/it]"
     ]
    },
    {
     "name": "stdout",
     "output_type": "stream",
     "text": [
      "{'loss': 1.76000843, 'grad_norm': 11.59015751, 'learning_rate': 5.84e-06, 'memory(GiB)': 2.74, 'train_speed(iter/s)': 0.430172, 'epoch': 0.52, 'global_step/max_steps': '1050/10125', 'percentage': '10.37%', 'elapsed_time': '40m 40s', 'remaining_time': '5h 51m 33s'}\n"
     ]
    },
    {
     "name": "stderr",
     "output_type": "stream",
     "text": [
      "Train:  10%|█         | 1055/10125 [40:49<4:44:40,  1.88s/it]"
     ]
    },
    {
     "name": "stdout",
     "output_type": "stream",
     "text": [
      "{'loss': 1.48808012, 'grad_norm': 11.25406837, 'learning_rate': 5.84e-06, 'memory(GiB)': 2.74, 'train_speed(iter/s)': 0.430585, 'epoch': 0.52, 'global_step/max_steps': '1055/10125', 'percentage': '10.42%', 'elapsed_time': '40m 49s', 'remaining_time': '5h 51m 1s'}\n"
     ]
    },
    {
     "name": "stderr",
     "output_type": "stream",
     "text": [
      "Train:  10%|█         | 1060/10125 [40:59<4:43:49,  1.88s/it]"
     ]
    },
    {
     "name": "stdout",
     "output_type": "stream",
     "text": [
      "{'loss': 1.57556314, 'grad_norm': 10.2366209, 'learning_rate': 5.84e-06, 'memory(GiB)': 2.74, 'train_speed(iter/s)': 0.430975, 'epoch': 0.52, 'global_step/max_steps': '1060/10125', 'percentage': '10.47%', 'elapsed_time': '40m 59s', 'remaining_time': '5h 50m 31s'}\n"
     ]
    },
    {
     "name": "stderr",
     "output_type": "stream",
     "text": [
      "Train:  11%|█         | 1065/10125 [41:08<4:48:30,  1.91s/it]"
     ]
    },
    {
     "name": "stdout",
     "output_type": "stream",
     "text": [
      "{'loss': 1.63640995, 'grad_norm': 9.4409132, 'learning_rate': 5.84e-06, 'memory(GiB)': 2.74, 'train_speed(iter/s)': 0.431304, 'epoch': 0.53, 'global_step/max_steps': '1065/10125', 'percentage': '10.52%', 'elapsed_time': '41m 8s', 'remaining_time': '5h 50m 3s'}\n"
     ]
    },
    {
     "name": "stderr",
     "output_type": "stream",
     "text": [
      "Train:  11%|█         | 1070/10125 [41:18<4:47:46,  1.91s/it]"
     ]
    },
    {
     "name": "stdout",
     "output_type": "stream",
     "text": [
      "{'loss': 1.68945026, 'grad_norm': 10.88924313, 'learning_rate': 5.84e-06, 'memory(GiB)': 2.74, 'train_speed(iter/s)': 0.43166, 'epoch': 0.53, 'global_step/max_steps': '1070/10125', 'percentage': '10.57%', 'elapsed_time': '41m 18s', 'remaining_time': '5h 49m 34s'}\n"
     ]
    },
    {
     "name": "stderr",
     "output_type": "stream",
     "text": [
      "Train:  11%|█         | 1075/10125 [41:28<4:47:58,  1.91s/it]"
     ]
    },
    {
     "name": "stdout",
     "output_type": "stream",
     "text": [
      "{'loss': 1.5202179, 'grad_norm': 9.55225945, 'learning_rate': 5.83e-06, 'memory(GiB)': 2.74, 'train_speed(iter/s)': 0.432016, 'epoch': 0.53, 'global_step/max_steps': '1075/10125', 'percentage': '10.62%', 'elapsed_time': '41m 28s', 'remaining_time': '5h 49m 5s'}\n"
     ]
    },
    {
     "name": "stderr",
     "output_type": "stream",
     "text": [
      "Train:  11%|█         | 1080/10125 [41:37<4:34:07,  1.82s/it]"
     ]
    },
    {
     "name": "stdout",
     "output_type": "stream",
     "text": [
      "{'loss': 1.64053173, 'grad_norm': 10.17383099, 'learning_rate': 5.83e-06, 'memory(GiB)': 2.74, 'train_speed(iter/s)': 0.432457, 'epoch': 0.53, 'global_step/max_steps': '1080/10125', 'percentage': '10.67%', 'elapsed_time': '41m 37s', 'remaining_time': '5h 48m 32s'}\n"
     ]
    },
    {
     "name": "stderr",
     "output_type": "stream",
     "text": [
      "Train:  11%|█         | 1085/10125 [41:46<4:34:08,  1.82s/it]"
     ]
    },
    {
     "name": "stdout",
     "output_type": "stream",
     "text": [
      "{'loss': 1.61149197, 'grad_norm': 9.11911583, 'learning_rate': 5.83e-06, 'memory(GiB)': 2.74, 'train_speed(iter/s)': 0.432899, 'epoch': 0.54, 'global_step/max_steps': '1085/10125', 'percentage': '10.72%', 'elapsed_time': '41m 46s', 'remaining_time': '5h 47m 59s'}\n"
     ]
    },
    {
     "name": "stderr",
     "output_type": "stream",
     "text": [
      "Train:  11%|█         | 1090/10125 [41:54<4:27:35,  1.78s/it]"
     ]
    },
    {
     "name": "stdout",
     "output_type": "stream",
     "text": [
      "{'loss': 1.48048506, 'grad_norm': 9.78450298, 'learning_rate': 5.83e-06, 'memory(GiB)': 2.74, 'train_speed(iter/s)': 0.433349, 'epoch': 0.54, 'global_step/max_steps': '1090/10125', 'percentage': '10.77%', 'elapsed_time': '41m 54s', 'remaining_time': '5h 47m 26s'}\n"
     ]
    },
    {
     "name": "stderr",
     "output_type": "stream",
     "text": [
      "Train:  11%|█         | 1095/10125 [42:03<4:29:48,  1.79s/it]"
     ]
    },
    {
     "name": "stdout",
     "output_type": "stream",
     "text": [
      "{'loss': 1.65567894, 'grad_norm': 9.56017303, 'learning_rate': 5.83e-06, 'memory(GiB)': 2.74, 'train_speed(iter/s)': 0.433798, 'epoch': 0.54, 'global_step/max_steps': '1095/10125', 'percentage': '10.81%', 'elapsed_time': '42m 3s', 'remaining_time': '5h 46m 53s'}\n"
     ]
    },
    {
     "name": "stderr",
     "output_type": "stream",
     "text": [
      "Train:  11%|█         | 1100/10125 [42:13<4:30:58,  1.80s/it]\n"
     ]
    },
    {
     "name": "stdout",
     "output_type": "stream",
     "text": [
      "{'loss': 1.55067692, 'grad_norm': 11.3827076, 'learning_rate': 5.83e-06, 'memory(GiB)': 2.74, 'train_speed(iter/s)': 0.434179, 'epoch': 0.54, 'global_step/max_steps': '1100/10125', 'percentage': '10.86%', 'elapsed_time': '42m 13s', 'remaining_time': '5h 46m 23s'}\n"
     ]
    },
    {
     "name": "stderr",
     "output_type": "stream",
     "text": [
      "Val: 100%|██████████| 426/426 [00:49<00:00,  8.63it/s]80s/it]\n"
     ]
    },
    {
     "name": "stdout",
     "output_type": "stream",
     "text": [
      "{'eval_loss': 1.55077243, 'eval_margin': -0.01654134, 'eval_mean_neg': 0.91600806, 'eval_mean_pos': 0.95698321, 'eval_runtime': 49.4827, 'eval_samples_per_second': 51.675, 'eval_steps_per_second': 8.629, 'epoch': 0.54, 'global_step/max_steps': '1100/10125', 'percentage': '10.86%', 'elapsed_time': '43m 2s', 'remaining_time': '5h 53m 9s'}\n"
     ]
    },
    {
     "name": "stderr",
     "output_type": "stream",
     "text": [
      "Train:  11%|█         | 1105/10125 [43:11<13:30:41,  5.39s/it]"
     ]
    },
    {
     "name": "stdout",
     "output_type": "stream",
     "text": [
      "{'loss': 1.4711812, 'grad_norm': 10.28966999, 'learning_rate': 5.83e-06, 'memory(GiB)': 2.74, 'train_speed(iter/s)': 0.426266, 'epoch': 0.55, 'global_step/max_steps': '1105/10125', 'percentage': '10.91%', 'elapsed_time': '43m 11s', 'remaining_time': '5h 52m 38s'}\n"
     ]
    },
    {
     "name": "stderr",
     "output_type": "stream",
     "text": [
      "Train:  11%|█         | 1110/10125 [43:21<6:00:36,  2.40s/it] "
     ]
    },
    {
     "name": "stdout",
     "output_type": "stream",
     "text": [
      "{'loss': 1.58944712, 'grad_norm': 9.53175449, 'learning_rate': 5.82e-06, 'memory(GiB)': 2.74, 'train_speed(iter/s)': 0.426663, 'epoch': 0.55, 'global_step/max_steps': '1110/10125', 'percentage': '10.96%', 'elapsed_time': '43m 21s', 'remaining_time': '5h 52m 6s'}\n"
     ]
    },
    {
     "name": "stderr",
     "output_type": "stream",
     "text": [
      "Train:  11%|█         | 1115/10125 [43:30<4:45:53,  1.90s/it]"
     ]
    },
    {
     "name": "stdout",
     "output_type": "stream",
     "text": [
      "{'loss': 1.44596443, 'grad_norm': 10.38344002, 'learning_rate': 5.82e-06, 'memory(GiB)': 2.74, 'train_speed(iter/s)': 0.427104, 'epoch': 0.55, 'global_step/max_steps': '1115/10125', 'percentage': '11.01%', 'elapsed_time': '43m 30s', 'remaining_time': '5h 51m 33s'}\n"
     ]
    },
    {
     "name": "stderr",
     "output_type": "stream",
     "text": [
      "Train:  11%|█         | 1120/10125 [43:39<4:32:18,  1.81s/it]"
     ]
    },
    {
     "name": "stdout",
     "output_type": "stream",
     "text": [
      "{'loss': 1.64048576, 'grad_norm': 10.50167847, 'learning_rate': 5.82e-06, 'memory(GiB)': 2.74, 'train_speed(iter/s)': 0.427528, 'epoch': 0.55, 'global_step/max_steps': '1120/10125', 'percentage': '11.06%', 'elapsed_time': '43m 39s', 'remaining_time': '5h 51m 0s'}\n"
     ]
    },
    {
     "name": "stderr",
     "output_type": "stream",
     "text": [
      "Train:  11%|█         | 1125/10125 [43:48<4:33:54,  1.83s/it]"
     ]
    },
    {
     "name": "stdout",
     "output_type": "stream",
     "text": [
      "{'loss': 1.38910561, 'grad_norm': 8.86305428, 'learning_rate': 5.82e-06, 'memory(GiB)': 2.74, 'train_speed(iter/s)': 0.427952, 'epoch': 0.56, 'global_step/max_steps': '1125/10125', 'percentage': '11.11%', 'elapsed_time': '43m 48s', 'remaining_time': '5h 50m 27s'}\n"
     ]
    },
    {
     "name": "stderr",
     "output_type": "stream",
     "text": [
      "Train:  11%|█         | 1130/10125 [43:57<4:30:45,  1.81s/it]"
     ]
    },
    {
     "name": "stdout",
     "output_type": "stream",
     "text": [
      "{'loss': 1.39490118, 'grad_norm': 9.48995972, 'learning_rate': 5.82e-06, 'memory(GiB)': 2.74, 'train_speed(iter/s)': 0.428375, 'epoch': 0.56, 'global_step/max_steps': '1130/10125', 'percentage': '11.16%', 'elapsed_time': '43m 57s', 'remaining_time': '5h 49m 55s'}\n"
     ]
    },
    {
     "name": "stderr",
     "output_type": "stream",
     "text": [
      "Train:  11%|█         | 1135/10125 [44:06<4:37:09,  1.85s/it]"
     ]
    },
    {
     "name": "stdout",
     "output_type": "stream",
     "text": [
      "{'loss': 1.66219406, 'grad_norm': 10.46060848, 'learning_rate': 5.82e-06, 'memory(GiB)': 2.74, 'train_speed(iter/s)': 0.428797, 'epoch': 0.56, 'global_step/max_steps': '1135/10125', 'percentage': '11.21%', 'elapsed_time': '44m 6s', 'remaining_time': '5h 49m 23s'}\n"
     ]
    },
    {
     "name": "stderr",
     "output_type": "stream",
     "text": [
      "Train:  11%|█▏        | 1140/10125 [44:15<4:35:51,  1.84s/it]"
     ]
    },
    {
     "name": "stdout",
     "output_type": "stream",
     "text": [
      "{'loss': 1.56879435, 'grad_norm': 9.03573132, 'learning_rate': 5.81e-06, 'memory(GiB)': 2.74, 'train_speed(iter/s)': 0.429227, 'epoch': 0.56, 'global_step/max_steps': '1140/10125', 'percentage': '11.26%', 'elapsed_time': '44m 15s', 'remaining_time': '5h 48m 50s'}\n"
     ]
    },
    {
     "name": "stderr",
     "output_type": "stream",
     "text": [
      "Train:  11%|█▏        | 1145/10125 [44:24<4:26:00,  1.78s/it]"
     ]
    },
    {
     "name": "stdout",
     "output_type": "stream",
     "text": [
      "{'loss': 1.4029809, 'grad_norm': 10.36916256, 'learning_rate': 5.81e-06, 'memory(GiB)': 2.74, 'train_speed(iter/s)': 0.429667, 'epoch': 0.57, 'global_step/max_steps': '1145/10125', 'percentage': '11.31%', 'elapsed_time': '44m 24s', 'remaining_time': '5h 48m 17s'}\n"
     ]
    },
    {
     "name": "stderr",
     "output_type": "stream",
     "text": [
      "Train:  11%|█▏        | 1150/10125 [44:33<4:27:05,  1.79s/it]"
     ]
    },
    {
     "name": "stdout",
     "output_type": "stream",
     "text": [
      "{'loss': 1.6074398, 'grad_norm': 11.26861095, 'learning_rate': 5.81e-06, 'memory(GiB)': 2.74, 'train_speed(iter/s)': 0.430129, 'epoch': 0.57, 'global_step/max_steps': '1150/10125', 'percentage': '11.36%', 'elapsed_time': '44m 33s', 'remaining_time': '5h 47m 43s'}\n"
     ]
    },
    {
     "name": "stderr",
     "output_type": "stream",
     "text": [
      "Train:  11%|█▏        | 1155/10125 [44:42<4:22:23,  1.76s/it]"
     ]
    },
    {
     "name": "stdout",
     "output_type": "stream",
     "text": [
      "{'loss': 1.3160512, 'grad_norm': 9.57376957, 'learning_rate': 5.81e-06, 'memory(GiB)': 2.74, 'train_speed(iter/s)': 0.430581, 'epoch': 0.57, 'global_step/max_steps': '1155/10125', 'percentage': '11.41%', 'elapsed_time': '44m 42s', 'remaining_time': '5h 47m 9s'}\n"
     ]
    },
    {
     "name": "stderr",
     "output_type": "stream",
     "text": [
      "Train:  11%|█▏        | 1160/10125 [44:51<4:33:38,  1.83s/it]"
     ]
    },
    {
     "name": "stdout",
     "output_type": "stream",
     "text": [
      "{'loss': 1.78680305, 'grad_norm': 15.91310406, 'learning_rate': 5.81e-06, 'memory(GiB)': 2.74, 'train_speed(iter/s)': 0.430958, 'epoch': 0.57, 'global_step/max_steps': '1160/10125', 'percentage': '11.46%', 'elapsed_time': '44m 51s', 'remaining_time': '5h 46m 40s'}\n"
     ]
    },
    {
     "name": "stderr",
     "output_type": "stream",
     "text": [
      "Train:  12%|█▏        | 1165/10125 [45:00<4:29:55,  1.81s/it]"
     ]
    },
    {
     "name": "stdout",
     "output_type": "stream",
     "text": [
      "{'loss': 1.4740242, 'grad_norm': 10.99862289, 'learning_rate': 5.81e-06, 'memory(GiB)': 2.74, 'train_speed(iter/s)': 0.431384, 'epoch': 0.58, 'global_step/max_steps': '1165/10125', 'percentage': '11.51%', 'elapsed_time': '45m 0s', 'remaining_time': '5h 46m 8s'}\n"
     ]
    },
    {
     "name": "stderr",
     "output_type": "stream",
     "text": [
      "Train:  12%|█▏        | 1170/10125 [45:09<4:23:39,  1.77s/it]"
     ]
    },
    {
     "name": "stdout",
     "output_type": "stream",
     "text": [
      "{'loss': 1.66165924, 'grad_norm': 10.47518349, 'learning_rate': 5.8e-06, 'memory(GiB)': 2.74, 'train_speed(iter/s)': 0.431821, 'epoch': 0.58, 'global_step/max_steps': '1170/10125', 'percentage': '11.56%', 'elapsed_time': '45m 9s', 'remaining_time': '5h 45m 35s'}\n"
     ]
    },
    {
     "name": "stderr",
     "output_type": "stream",
     "text": [
      "Train:  12%|█▏        | 1175/10125 [45:18<4:27:28,  1.79s/it]"
     ]
    },
    {
     "name": "stdout",
     "output_type": "stream",
     "text": [
      "{'loss': 1.62706451, 'grad_norm': 8.1786499, 'learning_rate': 5.8e-06, 'memory(GiB)': 2.74, 'train_speed(iter/s)': 0.432235, 'epoch': 0.58, 'global_step/max_steps': '1175/10125', 'percentage': '11.60%', 'elapsed_time': '45m 18s', 'remaining_time': '5h 45m 4s'}\n"
     ]
    },
    {
     "name": "stderr",
     "output_type": "stream",
     "text": [
      "Train:  12%|█▏        | 1180/10125 [45:27<4:36:23,  1.85s/it]"
     ]
    },
    {
     "name": "stdout",
     "output_type": "stream",
     "text": [
      "{'loss': 1.46353779, 'grad_norm': 9.90123844, 'learning_rate': 5.8e-06, 'memory(GiB)': 2.74, 'train_speed(iter/s)': 0.432589, 'epoch': 0.58, 'global_step/max_steps': '1180/10125', 'percentage': '11.65%', 'elapsed_time': '45m 27s', 'remaining_time': '5h 44m 35s'}\n"
     ]
    },
    {
     "name": "stderr",
     "output_type": "stream",
     "text": [
      "Train:  12%|█▏        | 1185/10125 [45:36<4:27:52,  1.80s/it]"
     ]
    },
    {
     "name": "stdout",
     "output_type": "stream",
     "text": [
      "{'loss': 1.6233511, 'grad_norm': 10.68562126, 'learning_rate': 5.8e-06, 'memory(GiB)': 2.74, 'train_speed(iter/s)': 0.432989, 'epoch': 0.59, 'global_step/max_steps': '1185/10125', 'percentage': '11.70%', 'elapsed_time': '45m 36s', 'remaining_time': '5h 44m 4s'}\n"
     ]
    },
    {
     "name": "stderr",
     "output_type": "stream",
     "text": [
      "Train:  12%|█▏        | 1190/10125 [45:45<4:30:17,  1.82s/it]"
     ]
    },
    {
     "name": "stdout",
     "output_type": "stream",
     "text": [
      "{'loss': 1.60616989, 'grad_norm': 12.0388813, 'learning_rate': 5.8e-06, 'memory(GiB)': 2.74, 'train_speed(iter/s)': 0.433384, 'epoch': 0.59, 'global_step/max_steps': '1190/10125', 'percentage': '11.75%', 'elapsed_time': '45m 45s', 'remaining_time': '5h 43m 34s'}\n"
     ]
    },
    {
     "name": "stderr",
     "output_type": "stream",
     "text": [
      "Train:  12%|█▏        | 1195/10125 [45:54<4:36:17,  1.86s/it]"
     ]
    },
    {
     "name": "stdout",
     "output_type": "stream",
     "text": [
      "{'loss': 1.56228514, 'grad_norm': 11.61524582, 'learning_rate': 5.8e-06, 'memory(GiB)': 2.74, 'train_speed(iter/s)': 0.433727, 'epoch': 0.59, 'global_step/max_steps': '1195/10125', 'percentage': '11.80%', 'elapsed_time': '45m 54s', 'remaining_time': '5h 43m 6s'}\n"
     ]
    },
    {
     "name": "stderr",
     "output_type": "stream",
     "text": [
      "Train:  12%|█▏        | 1200/10125 [46:04<4:32:37,  1.83s/it]\n"
     ]
    },
    {
     "name": "stdout",
     "output_type": "stream",
     "text": [
      "{'loss': 1.4618969, 'grad_norm': 10.3995533, 'learning_rate': 5.79e-06, 'memory(GiB)': 2.74, 'train_speed(iter/s)': 0.434098, 'epoch': 0.59, 'global_step/max_steps': '1200/10125', 'percentage': '11.85%', 'elapsed_time': '46m 4s', 'remaining_time': '5h 42m 37s'}\n"
     ]
    },
    {
     "name": "stderr",
     "output_type": "stream",
     "text": [
      "Val: 100%|██████████| 426/426 [00:48<00:00,  8.72it/s]83s/it]\n"
     ]
    },
    {
     "name": "stdout",
     "output_type": "stream",
     "text": [
      "{'eval_loss': 1.52755117, 'eval_margin': -0.01661069, 'eval_mean_neg': 0.9145298, 'eval_mean_pos': 0.95547861, 'eval_runtime': 48.9265, 'eval_samples_per_second': 52.262, 'eval_steps_per_second': 8.727, 'epoch': 0.59, 'global_step/max_steps': '1200/10125', 'percentage': '11.85%', 'elapsed_time': '46m 52s', 'remaining_time': '5h 48m 41s'}\n"
     ]
    },
    {
     "name": "stderr",
     "output_type": "stream",
     "text": [
      "Train:  12%|█▏        | 1205/10125 [47:02<13:16:50,  5.36s/it]"
     ]
    },
    {
     "name": "stdout",
     "output_type": "stream",
     "text": [
      "{'loss': 1.76188869, 'grad_norm': 10.63735867, 'learning_rate': 5.79e-06, 'memory(GiB)': 2.74, 'train_speed(iter/s)': 0.426948, 'epoch': 0.6, 'global_step/max_steps': '1205/10125', 'percentage': '11.90%', 'elapsed_time': '47m 2s', 'remaining_time': '5h 48m 10s'}\n"
     ]
    },
    {
     "name": "stderr",
     "output_type": "stream",
     "text": [
      "Train:  12%|█▏        | 1210/10125 [47:10<5:54:44,  2.39s/it] "
     ]
    },
    {
     "name": "stdout",
     "output_type": "stream",
     "text": [
      "{'loss': 1.6934145, 'grad_norm': 11.18444729, 'learning_rate': 5.79e-06, 'memory(GiB)': 2.74, 'train_speed(iter/s)': 0.427366, 'epoch': 0.6, 'global_step/max_steps': '1210/10125', 'percentage': '11.95%', 'elapsed_time': '47m 10s', 'remaining_time': '5h 47m 38s'}\n"
     ]
    },
    {
     "name": "stderr",
     "output_type": "stream",
     "text": [
      "Train:  12%|█▏        | 1215/10125 [47:19<4:39:47,  1.88s/it]"
     ]
    },
    {
     "name": "stdout",
     "output_type": "stream",
     "text": [
      "{'loss': 1.56943083, 'grad_norm': 9.07469082, 'learning_rate': 5.79e-06, 'memory(GiB)': 2.74, 'train_speed(iter/s)': 0.427788, 'epoch': 0.6, 'global_step/max_steps': '1215/10125', 'percentage': '12.00%', 'elapsed_time': '47m 19s', 'remaining_time': '5h 47m 5s'}\n"
     ]
    },
    {
     "name": "stderr",
     "output_type": "stream",
     "text": [
      "Train:  12%|█▏        | 1220/10125 [47:29<4:36:43,  1.86s/it]"
     ]
    },
    {
     "name": "stdout",
     "output_type": "stream",
     "text": [
      "{'loss': 1.41618156, 'grad_norm': 10.79408169, 'learning_rate': 5.79e-06, 'memory(GiB)': 2.74, 'train_speed(iter/s)': 0.428147, 'epoch': 0.6, 'global_step/max_steps': '1220/10125', 'percentage': '12.05%', 'elapsed_time': '47m 29s', 'remaining_time': '5h 46m 36s'}\n"
     ]
    },
    {
     "name": "stderr",
     "output_type": "stream",
     "text": [
      "Train:  12%|█▏        | 1225/10125 [47:38<4:28:08,  1.81s/it]"
     ]
    },
    {
     "name": "stdout",
     "output_type": "stream",
     "text": [
      "{'loss': 1.36949043, 'grad_norm': 8.99395752, 'learning_rate': 5.79e-06, 'memory(GiB)': 2.74, 'train_speed(iter/s)': 0.428544, 'epoch': 0.61, 'global_step/max_steps': '1225/10125', 'percentage': '12.10%', 'elapsed_time': '47m 38s', 'remaining_time': '5h 46m 5s'}\n"
     ]
    },
    {
     "name": "stderr",
     "output_type": "stream",
     "text": [
      "Train:  12%|█▏        | 1230/10125 [47:47<4:20:04,  1.75s/it]"
     ]
    },
    {
     "name": "stdout",
     "output_type": "stream",
     "text": [
      "{'loss': 1.47333345, 'grad_norm': 17.31025505, 'learning_rate': 5.78e-06, 'memory(GiB)': 2.74, 'train_speed(iter/s)': 0.428967, 'epoch': 0.61, 'global_step/max_steps': '1230/10125', 'percentage': '12.15%', 'elapsed_time': '47m 47s', 'remaining_time': '5h 45m 33s'}\n"
     ]
    },
    {
     "name": "stderr",
     "output_type": "stream",
     "text": [
      "Train:  12%|█▏        | 1235/10125 [47:56<4:27:28,  1.81s/it]"
     ]
    },
    {
     "name": "stdout",
     "output_type": "stream",
     "text": [
      "{'loss': 1.58907366, 'grad_norm': 10.48067951, 'learning_rate': 5.78e-06, 'memory(GiB)': 2.74, 'train_speed(iter/s)': 0.429341, 'epoch': 0.61, 'global_step/max_steps': '1235/10125', 'percentage': '12.20%', 'elapsed_time': '47m 56s', 'remaining_time': '5h 45m 3s'}\n"
     ]
    },
    {
     "name": "stderr",
     "output_type": "stream",
     "text": [
      "Train:  12%|█▏        | 1240/10125 [48:04<4:20:42,  1.76s/it]"
     ]
    },
    {
     "name": "stdout",
     "output_type": "stream",
     "text": [
      "{'loss': 1.58461752, 'grad_norm': 10.2743082, 'learning_rate': 5.78e-06, 'memory(GiB)': 2.74, 'train_speed(iter/s)': 0.429766, 'epoch': 0.61, 'global_step/max_steps': '1240/10125', 'percentage': '12.25%', 'elapsed_time': '48m 4s', 'remaining_time': '5h 44m 31s'}\n"
     ]
    },
    {
     "name": "stderr",
     "output_type": "stream",
     "text": [
      "Train:  12%|█▏        | 1245/10125 [48:13<4:11:33,  1.70s/it]"
     ]
    },
    {
     "name": "stdout",
     "output_type": "stream",
     "text": [
      "{'loss': 1.33416014, 'grad_norm': 8.17840004, 'learning_rate': 5.78e-06, 'memory(GiB)': 2.74, 'train_speed(iter/s)': 0.430225, 'epoch': 0.61, 'global_step/max_steps': '1245/10125', 'percentage': '12.30%', 'elapsed_time': '48m 13s', 'remaining_time': '5h 43m 58s'}\n"
     ]
    },
    {
     "name": "stderr",
     "output_type": "stream",
     "text": [
      "Train:  12%|█▏        | 1250/10125 [48:23<4:37:21,  1.88s/it]"
     ]
    },
    {
     "name": "stdout",
     "output_type": "stream",
     "text": [
      "{'loss': 1.663414, 'grad_norm': 12.04603672, 'learning_rate': 5.78e-06, 'memory(GiB)': 2.74, 'train_speed(iter/s)': 0.430536, 'epoch': 0.62, 'global_step/max_steps': '1250/10125', 'percentage': '12.35%', 'elapsed_time': '48m 23s', 'remaining_time': '5h 43m 31s'}\n"
     ]
    },
    {
     "name": "stderr",
     "output_type": "stream",
     "text": [
      "Train:  12%|█▏        | 1255/10125 [48:31<4:15:41,  1.73s/it]"
     ]
    },
    {
     "name": "stdout",
     "output_type": "stream",
     "text": [
      "{'loss': 1.49328947, 'grad_norm': 11.04355717, 'learning_rate': 5.78e-06, 'memory(GiB)': 2.74, 'train_speed(iter/s)': 0.430975, 'epoch': 0.62, 'global_step/max_steps': '1255/10125', 'percentage': '12.40%', 'elapsed_time': '48m 31s', 'remaining_time': '5h 42m 59s'}\n"
     ]
    },
    {
     "name": "stderr",
     "output_type": "stream",
     "text": [
      "Train:  12%|█▏        | 1260/10125 [48:41<4:30:17,  1.83s/it]"
     ]
    },
    {
     "name": "stdout",
     "output_type": "stream",
     "text": [
      "{'loss': 1.38539362, 'grad_norm': 11.70141792, 'learning_rate': 5.77e-06, 'memory(GiB)': 2.74, 'train_speed(iter/s)': 0.431306, 'epoch': 0.62, 'global_step/max_steps': '1260/10125', 'percentage': '12.44%', 'elapsed_time': '48m 41s', 'remaining_time': '5h 42m 31s'}\n"
     ]
    },
    {
     "name": "stderr",
     "output_type": "stream",
     "text": [
      "Train:  12%|█▏        | 1265/10125 [48:49<4:19:27,  1.76s/it]"
     ]
    },
    {
     "name": "stdout",
     "output_type": "stream",
     "text": [
      "{'loss': 1.5350708, 'grad_norm': 13.07549572, 'learning_rate': 5.77e-06, 'memory(GiB)': 2.74, 'train_speed(iter/s)': 0.431724, 'epoch': 0.62, 'global_step/max_steps': '1265/10125', 'percentage': '12.49%', 'elapsed_time': '48m 49s', 'remaining_time': '5h 42m 0s'}\n"
     ]
    },
    {
     "name": "stderr",
     "output_type": "stream",
     "text": [
      "Train:  13%|█▎        | 1270/10125 [48:59<4:34:51,  1.86s/it]"
     ]
    },
    {
     "name": "stdout",
     "output_type": "stream",
     "text": [
      "{'loss': 1.564114, 'grad_norm': 11.70388889, 'learning_rate': 5.77e-06, 'memory(GiB)': 2.74, 'train_speed(iter/s)': 0.432064, 'epoch': 0.63, 'global_step/max_steps': '1270/10125', 'percentage': '12.54%', 'elapsed_time': '48m 59s', 'remaining_time': '5h 41m 32s'}\n"
     ]
    },
    {
     "name": "stderr",
     "output_type": "stream",
     "text": [
      "Train:  13%|█▎        | 1275/10125 [49:07<4:21:47,  1.77s/it]"
     ]
    },
    {
     "name": "stdout",
     "output_type": "stream",
     "text": [
      "{'loss': 1.76938725, 'grad_norm': 12.03376389, 'learning_rate': 5.77e-06, 'memory(GiB)': 2.74, 'train_speed(iter/s)': 0.432482, 'epoch': 0.63, 'global_step/max_steps': '1275/10125', 'percentage': '12.59%', 'elapsed_time': '49m 7s', 'remaining_time': '5h 41m 1s'}\n"
     ]
    },
    {
     "name": "stderr",
     "output_type": "stream",
     "text": [
      "Train:  13%|█▎        | 1280/10125 [49:16<4:19:07,  1.76s/it]"
     ]
    },
    {
     "name": "stdout",
     "output_type": "stream",
     "text": [
      "{'loss': 1.44886894, 'grad_norm': 10.95141506, 'learning_rate': 5.77e-06, 'memory(GiB)': 2.74, 'train_speed(iter/s)': 0.432876, 'epoch': 0.63, 'global_step/max_steps': '1280/10125', 'percentage': '12.64%', 'elapsed_time': '49m 16s', 'remaining_time': '5h 40m 31s'}\n"
     ]
    },
    {
     "name": "stderr",
     "output_type": "stream",
     "text": [
      "Train:  13%|█▎        | 1285/10125 [49:25<4:30:01,  1.83s/it]"
     ]
    },
    {
     "name": "stdout",
     "output_type": "stream",
     "text": [
      "{'loss': 1.25655117, 'grad_norm': 10.09619427, 'learning_rate': 5.76e-06, 'memory(GiB)': 2.74, 'train_speed(iter/s)': 0.433201, 'epoch': 0.63, 'global_step/max_steps': '1285/10125', 'percentage': '12.69%', 'elapsed_time': '49m 25s', 'remaining_time': '5h 40m 4s'}\n"
     ]
    },
    {
     "name": "stderr",
     "output_type": "stream",
     "text": [
      "Train:  13%|█▎        | 1290/10125 [49:35<4:31:56,  1.85s/it]"
     ]
    },
    {
     "name": "stdout",
     "output_type": "stream",
     "text": [
      "{'loss': 1.47480993, 'grad_norm': 12.46276951, 'learning_rate': 5.76e-06, 'memory(GiB)': 2.74, 'train_speed(iter/s)': 0.433518, 'epoch': 0.64, 'global_step/max_steps': '1290/10125', 'percentage': '12.74%', 'elapsed_time': '49m 35s', 'remaining_time': '5h 39m 37s'}\n"
     ]
    },
    {
     "name": "stderr",
     "output_type": "stream",
     "text": [
      "Train:  13%|█▎        | 1295/10125 [49:44<4:24:30,  1.80s/it]"
     ]
    },
    {
     "name": "stdout",
     "output_type": "stream",
     "text": [
      "{'loss': 1.4962512, 'grad_norm': 10.73158646, 'learning_rate': 5.76e-06, 'memory(GiB)': 2.74, 'train_speed(iter/s)': 0.433907, 'epoch': 0.64, 'global_step/max_steps': '1295/10125', 'percentage': '12.79%', 'elapsed_time': '49m 44s', 'remaining_time': '5h 39m 7s'}\n"
     ]
    },
    {
     "name": "stderr",
     "output_type": "stream",
     "text": [
      "Train:  13%|█▎        | 1300/10125 [49:53<4:23:12,  1.79s/it]\n"
     ]
    },
    {
     "name": "stdout",
     "output_type": "stream",
     "text": [
      "{'loss': 1.50226927, 'grad_norm': 13.61979008, 'learning_rate': 5.76e-06, 'memory(GiB)': 2.74, 'train_speed(iter/s)': 0.43427, 'epoch': 0.64, 'global_step/max_steps': '1300/10125', 'percentage': '12.84%', 'elapsed_time': '49m 53s', 'remaining_time': '5h 38m 39s'}\n"
     ]
    },
    {
     "name": "stderr",
     "output_type": "stream",
     "text": [
      "Val: 100%|██████████| 426/426 [00:50<00:00,  8.49it/s]79s/it]\n"
     ]
    },
    {
     "name": "stdout",
     "output_type": "stream",
     "text": [
      "{'eval_loss': 1.50943136, 'eval_margin': -0.01791834, 'eval_mean_neg': 0.90834969, 'eval_mean_pos': 0.95224798, 'eval_runtime': 50.2771, 'eval_samples_per_second': 50.858, 'eval_steps_per_second': 8.493, 'epoch': 0.64, 'global_step/max_steps': '1300/10125', 'percentage': '12.84%', 'elapsed_time': '50m 43s', 'remaining_time': '5h 44m 20s'}\n"
     ]
    },
    {
     "name": "stderr",
     "output_type": "stream",
     "text": [
      "Train:  13%|█▎        | 1305/10125 [50:52<13:17:48,  5.43s/it]"
     ]
    },
    {
     "name": "stdout",
     "output_type": "stream",
     "text": [
      "{'loss': 1.26315584, 'grad_norm': 9.28342342, 'learning_rate': 5.76e-06, 'memory(GiB)': 2.74, 'train_speed(iter/s)': 0.427445, 'epoch': 0.64, 'global_step/max_steps': '1305/10125', 'percentage': '12.89%', 'elapsed_time': '50m 52s', 'remaining_time': '5h 43m 52s'}\n"
     ]
    },
    {
     "name": "stderr",
     "output_type": "stream",
     "text": [
      "Train:  13%|█▎        | 1310/10125 [51:01<6:04:15,  2.48s/it] "
     ]
    },
    {
     "name": "stdout",
     "output_type": "stream",
     "text": [
      "{'loss': 1.4877367, 'grad_norm': 16.13692856, 'learning_rate': 5.76e-06, 'memory(GiB)': 2.74, 'train_speed(iter/s)': 0.427786, 'epoch': 0.65, 'global_step/max_steps': '1310/10125', 'percentage': '12.94%', 'elapsed_time': '51m 1s', 'remaining_time': '5h 43m 24s'}\n"
     ]
    },
    {
     "name": "stderr",
     "output_type": "stream",
     "text": [
      "Train:  13%|█▎        | 1315/10125 [51:11<4:55:08,  2.01s/it]"
     ]
    },
    {
     "name": "stdout",
     "output_type": "stream",
     "text": [
      "{'loss': 1.49398956, 'grad_norm': 10.2082653, 'learning_rate': 5.75e-06, 'memory(GiB)': 2.74, 'train_speed(iter/s)': 0.428114, 'epoch': 0.65, 'global_step/max_steps': '1315/10125', 'percentage': '12.99%', 'elapsed_time': '51m 11s', 'remaining_time': '5h 42m 56s'}\n"
     ]
    },
    {
     "name": "stderr",
     "output_type": "stream",
     "text": [
      "Train:  13%|█▎        | 1320/10125 [51:20<4:32:59,  1.86s/it]"
     ]
    },
    {
     "name": "stdout",
     "output_type": "stream",
     "text": [
      "{'loss': 1.54945192, 'grad_norm': 13.40100861, 'learning_rate': 5.75e-06, 'memory(GiB)': 2.74, 'train_speed(iter/s)': 0.428475, 'epoch': 0.65, 'global_step/max_steps': '1320/10125', 'percentage': '13.04%', 'elapsed_time': '51m 20s', 'remaining_time': '5h 42m 27s'}\n"
     ]
    },
    {
     "name": "stderr",
     "output_type": "stream",
     "text": [
      "Train:  13%|█▎        | 1325/10125 [51:29<4:22:17,  1.79s/it]"
     ]
    },
    {
     "name": "stdout",
     "output_type": "stream",
     "text": [
      "{'loss': 1.53243151, 'grad_norm': 11.27260971, 'learning_rate': 5.75e-06, 'memory(GiB)': 2.74, 'train_speed(iter/s)': 0.42884, 'epoch': 0.65, 'global_step/max_steps': '1325/10125', 'percentage': '13.09%', 'elapsed_time': '51m 29s', 'remaining_time': '5h 41m 58s'}\n"
     ]
    },
    {
     "name": "stderr",
     "output_type": "stream",
     "text": [
      "Train:  13%|█▎        | 1330/10125 [51:38<4:15:42,  1.74s/it]"
     ]
    },
    {
     "name": "stdout",
     "output_type": "stream",
     "text": [
      "{'loss': 1.53128319, 'grad_norm': 14.47351265, 'learning_rate': 5.75e-06, 'memory(GiB)': 2.74, 'train_speed(iter/s)': 0.429249, 'epoch': 0.66, 'global_step/max_steps': '1330/10125', 'percentage': '13.14%', 'elapsed_time': '51m 38s', 'remaining_time': '5h 41m 27s'}\n"
     ]
    },
    {
     "name": "stderr",
     "output_type": "stream",
     "text": [
      "Train:  13%|█▎        | 1335/10125 [51:47<4:21:11,  1.78s/it]"
     ]
    },
    {
     "name": "stdout",
     "output_type": "stream",
     "text": [
      "{'loss': 1.53739691, 'grad_norm': 12.9696455, 'learning_rate': 5.75e-06, 'memory(GiB)': 2.74, 'train_speed(iter/s)': 0.429613, 'epoch': 0.66, 'global_step/max_steps': '1335/10125', 'percentage': '13.19%', 'elapsed_time': '51m 47s', 'remaining_time': '5h 40m 58s'}\n"
     ]
    },
    {
     "name": "stderr",
     "output_type": "stream",
     "text": [
      "Train:  13%|█▎        | 1340/10125 [51:56<4:33:03,  1.86s/it]"
     ]
    },
    {
     "name": "stdout",
     "output_type": "stream",
     "text": [
      "{'loss': 1.69118519, 'grad_norm': 12.42005062, 'learning_rate': 5.74e-06, 'memory(GiB)': 2.74, 'train_speed(iter/s)': 0.429954, 'epoch': 0.66, 'global_step/max_steps': '1340/10125', 'percentage': '13.23%', 'elapsed_time': '51m 56s', 'remaining_time': '5h 40m 30s'}\n"
     ]
    },
    {
     "name": "stderr",
     "output_type": "stream",
     "text": [
      "Train:  13%|█▎        | 1345/10125 [52:05<4:26:32,  1.82s/it]"
     ]
    },
    {
     "name": "stdout",
     "output_type": "stream",
     "text": [
      "{'loss': 1.46142874, 'grad_norm': 10.04236507, 'learning_rate': 5.74e-06, 'memory(GiB)': 2.74, 'train_speed(iter/s)': 0.430334, 'epoch': 0.66, 'global_step/max_steps': '1345/10125', 'percentage': '13.28%', 'elapsed_time': '52m 5s', 'remaining_time': '5h 40m 0s'}\n"
     ]
    },
    {
     "name": "stderr",
     "output_type": "stream",
     "text": [
      "Train:  13%|█▎        | 1350/10125 [52:14<4:36:48,  1.89s/it]"
     ]
    },
    {
     "name": "stdout",
     "output_type": "stream",
     "text": [
      "{'loss': 1.65043201, 'grad_norm': 11.61602497, 'learning_rate': 5.74e-06, 'memory(GiB)': 2.74, 'train_speed(iter/s)': 0.430639, 'epoch': 0.67, 'global_step/max_steps': '1350/10125', 'percentage': '13.33%', 'elapsed_time': '52m 14s', 'remaining_time': '5h 39m 34s'}\n"
     ]
    },
    {
     "name": "stderr",
     "output_type": "stream",
     "text": [
      "Train:  13%|█▎        | 1355/10125 [52:23<4:25:17,  1.81s/it]"
     ]
    },
    {
     "name": "stdout",
     "output_type": "stream",
     "text": [
      "{'loss': 1.44682636, 'grad_norm': 11.70801163, 'learning_rate': 5.74e-06, 'memory(GiB)': 2.74, 'train_speed(iter/s)': 0.431003, 'epoch': 0.67, 'global_step/max_steps': '1355/10125', 'percentage': '13.38%', 'elapsed_time': '52m 23s', 'remaining_time': '5h 39m 5s'}\n"
     ]
    },
    {
     "name": "stderr",
     "output_type": "stream",
     "text": [
      "Train:  13%|█▎        | 1360/10125 [52:32<4:18:37,  1.77s/it]"
     ]
    },
    {
     "name": "stdout",
     "output_type": "stream",
     "text": [
      "{'loss': 1.50953398, 'grad_norm': 12.51893902, 'learning_rate': 5.74e-06, 'memory(GiB)': 2.74, 'train_speed(iter/s)': 0.431376, 'epoch': 0.67, 'global_step/max_steps': '1360/10125', 'percentage': '13.43%', 'elapsed_time': '52m 32s', 'remaining_time': '5h 38m 36s'}\n"
     ]
    },
    {
     "name": "stderr",
     "output_type": "stream",
     "text": [
      "Train:  13%|█▎        | 1365/10125 [52:42<4:51:17,  2.00s/it]"
     ]
    },
    {
     "name": "stdout",
     "output_type": "stream",
     "text": [
      "{'loss': 1.63370113, 'grad_norm': 12.08888054, 'learning_rate': 5.73e-06, 'memory(GiB)': 2.74, 'train_speed(iter/s)': 0.431559, 'epoch': 0.67, 'global_step/max_steps': '1365/10125', 'percentage': '13.48%', 'elapsed_time': '52m 42s', 'remaining_time': '5h 38m 16s'}\n"
     ]
    },
    {
     "name": "stderr",
     "output_type": "stream",
     "text": [
      "Train:  14%|█▎        | 1370/10125 [52:51<4:27:50,  1.84s/it]"
     ]
    },
    {
     "name": "stdout",
     "output_type": "stream",
     "text": [
      "{'loss': 1.52195807, 'grad_norm': 11.95018959, 'learning_rate': 5.73e-06, 'memory(GiB)': 2.74, 'train_speed(iter/s)': 0.431916, 'epoch': 0.68, 'global_step/max_steps': '1370/10125', 'percentage': '13.53%', 'elapsed_time': '52m 51s', 'remaining_time': '5h 37m 48s'}\n"
     ]
    },
    {
     "name": "stderr",
     "output_type": "stream",
     "text": [
      "Train:  14%|█▎        | 1375/10125 [53:00<4:20:49,  1.79s/it]"
     ]
    },
    {
     "name": "stdout",
     "output_type": "stream",
     "text": [
      "{'loss': 1.92320442, 'grad_norm': 14.94917965, 'learning_rate': 5.73e-06, 'memory(GiB)': 2.74, 'train_speed(iter/s)': 0.432255, 'epoch': 0.68, 'global_step/max_steps': '1375/10125', 'percentage': '13.58%', 'elapsed_time': '53m 0s', 'remaining_time': '5h 37m 20s'}\n"
     ]
    },
    {
     "name": "stderr",
     "output_type": "stream",
     "text": [
      "Train:  14%|█▎        | 1380/10125 [53:09<4:22:00,  1.80s/it]"
     ]
    },
    {
     "name": "stdout",
     "output_type": "stream",
     "text": [
      "{'loss': 1.79438496, 'grad_norm': 13.18165016, 'learning_rate': 5.73e-06, 'memory(GiB)': 2.74, 'train_speed(iter/s)': 0.432596, 'epoch': 0.68, 'global_step/max_steps': '1380/10125', 'percentage': '13.63%', 'elapsed_time': '53m 9s', 'remaining_time': '5h 36m 53s'}\n"
     ]
    },
    {
     "name": "stderr",
     "output_type": "stream",
     "text": [
      "Train:  14%|█▎        | 1385/10125 [53:18<4:10:40,  1.72s/it]"
     ]
    },
    {
     "name": "stdout",
     "output_type": "stream",
     "text": [
      "{'loss': 1.57485437, 'grad_norm': 12.35109329, 'learning_rate': 5.73e-06, 'memory(GiB)': 2.74, 'train_speed(iter/s)': 0.433005, 'epoch': 0.68, 'global_step/max_steps': '1385/10125', 'percentage': '13.68%', 'elapsed_time': '53m 18s', 'remaining_time': '5h 36m 22s'}\n"
     ]
    },
    {
     "name": "stderr",
     "output_type": "stream",
     "text": [
      "Train:  14%|█▎        | 1390/10125 [53:27<4:19:16,  1.78s/it]"
     ]
    },
    {
     "name": "stdout",
     "output_type": "stream",
     "text": [
      "{'loss': 1.57297068, 'grad_norm': 9.12363434, 'learning_rate': 5.73e-06, 'memory(GiB)': 2.74, 'train_speed(iter/s)': 0.433327, 'epoch': 0.69, 'global_step/max_steps': '1390/10125', 'percentage': '13.73%', 'elapsed_time': '53m 27s', 'remaining_time': '5h 35m 56s'}\n"
     ]
    },
    {
     "name": "stderr",
     "output_type": "stream",
     "text": [
      "Train:  14%|█▍        | 1395/10125 [53:36<4:22:35,  1.80s/it]"
     ]
    },
    {
     "name": "stdout",
     "output_type": "stream",
     "text": [
      "{'loss': 1.48530178, 'grad_norm': 9.26350403, 'learning_rate': 5.72e-06, 'memory(GiB)': 2.74, 'train_speed(iter/s)': 0.433671, 'epoch': 0.69, 'global_step/max_steps': '1395/10125', 'percentage': '13.78%', 'elapsed_time': '53m 36s', 'remaining_time': '5h 35m 28s'}\n"
     ]
    },
    {
     "name": "stderr",
     "output_type": "stream",
     "text": [
      "Train:  14%|█▍        | 1400/10125 [53:45<4:27:04,  1.84s/it]\n"
     ]
    },
    {
     "name": "stdout",
     "output_type": "stream",
     "text": [
      "{'loss': 1.64973183, 'grad_norm': 10.72585106, 'learning_rate': 5.72e-06, 'memory(GiB)': 2.74, 'train_speed(iter/s)': 0.43398, 'epoch': 0.69, 'global_step/max_steps': '1400/10125', 'percentage': '13.83%', 'elapsed_time': '53m 45s', 'remaining_time': '5h 35m 2s'}\n"
     ]
    },
    {
     "name": "stderr",
     "output_type": "stream",
     "text": [
      "Val: 100%|██████████| 426/426 [00:48<00:00,  8.74it/s]84s/it]\n"
     ]
    },
    {
     "name": "stdout",
     "output_type": "stream",
     "text": [
      "{'eval_loss': 1.49744689, 'eval_margin': -0.01577201, 'eval_mean_neg': 0.91816658, 'eval_mean_pos': 0.95879936, 'eval_runtime': 48.803, 'eval_samples_per_second': 52.394, 'eval_steps_per_second': 8.749, 'epoch': 0.69, 'global_step/max_steps': '1400/10125', 'percentage': '13.83%', 'elapsed_time': '54m 34s', 'remaining_time': '5h 40m 6s'}\n"
     ]
    },
    {
     "name": "stderr",
     "output_type": "stream",
     "text": [
      "Train:  14%|█▍        | 1405/10125 [54:43<12:47:06,  5.28s/it]"
     ]
    },
    {
     "name": "stdout",
     "output_type": "stream",
     "text": [
      "{'loss': 1.41380768, 'grad_norm': 11.33017254, 'learning_rate': 5.72e-06, 'memory(GiB)': 2.74, 'train_speed(iter/s)': 0.427882, 'epoch': 0.69, 'global_step/max_steps': '1405/10125', 'percentage': '13.88%', 'elapsed_time': '54m 43s', 'remaining_time': '5h 39m 37s'}\n"
     ]
    },
    {
     "name": "stderr",
     "output_type": "stream",
     "text": [
      "Train:  14%|█▍        | 1410/10125 [54:52<5:49:28,  2.41s/it] "
     ]
    },
    {
     "name": "stdout",
     "output_type": "stream",
     "text": [
      "{'loss': 1.75972309, 'grad_norm': 10.67107868, 'learning_rate': 5.72e-06, 'memory(GiB)': 2.74, 'train_speed(iter/s)': 0.428196, 'epoch': 0.7, 'global_step/max_steps': '1410/10125', 'percentage': '13.93%', 'elapsed_time': '54m 52s', 'remaining_time': '5h 39m 11s'}\n"
     ]
    },
    {
     "name": "stderr",
     "output_type": "stream",
     "text": [
      "Train:  14%|█▍        | 1415/10125 [55:01<4:42:18,  1.94s/it]"
     ]
    },
    {
     "name": "stdout",
     "output_type": "stream",
     "text": [
      "{'loss': 1.53317461, 'grad_norm': 9.85411835, 'learning_rate': 5.72e-06, 'memory(GiB)': 2.74, 'train_speed(iter/s)': 0.428506, 'epoch': 0.7, 'global_step/max_steps': '1415/10125', 'percentage': '13.98%', 'elapsed_time': '55m 1s', 'remaining_time': '5h 38m 44s'}\n"
     ]
    },
    {
     "name": "stderr",
     "output_type": "stream",
     "text": [
      "Train:  14%|█▍        | 1420/10125 [55:11<4:39:13,  1.92s/it]"
     ]
    },
    {
     "name": "stdout",
     "output_type": "stream",
     "text": [
      "{'loss': 1.59443245, 'grad_norm': 9.94883156, 'learning_rate': 5.71e-06, 'memory(GiB)': 2.74, 'train_speed(iter/s)': 0.428731, 'epoch': 0.7, 'global_step/max_steps': '1420/10125', 'percentage': '14.02%', 'elapsed_time': '55m 11s', 'remaining_time': '5h 38m 22s'}\n"
     ]
    },
    {
     "name": "stderr",
     "output_type": "stream",
     "text": [
      "Train:  14%|█▍        | 1425/10125 [55:20<4:26:58,  1.84s/it]"
     ]
    },
    {
     "name": "stdout",
     "output_type": "stream",
     "text": [
      "{'loss': 1.55833883, 'grad_norm': 11.04892063, 'learning_rate': 5.71e-06, 'memory(GiB)': 2.74, 'train_speed(iter/s)': 0.429051, 'epoch': 0.7, 'global_step/max_steps': '1425/10125', 'percentage': '14.07%', 'elapsed_time': '55m 20s', 'remaining_time': '5h 37m 55s'}\n"
     ]
    },
    {
     "name": "stderr",
     "output_type": "stream",
     "text": [
      "Train:  14%|█▍        | 1430/10125 [55:29<4:15:45,  1.76s/it]"
     ]
    },
    {
     "name": "stdout",
     "output_type": "stream",
     "text": [
      "{'loss': 1.60766621, 'grad_norm': 10.30450344, 'learning_rate': 5.71e-06, 'memory(GiB)': 2.74, 'train_speed(iter/s)': 0.429403, 'epoch': 0.71, 'global_step/max_steps': '1430/10125', 'percentage': '14.12%', 'elapsed_time': '55m 29s', 'remaining_time': '5h 37m 27s'}\n"
     ]
    },
    {
     "name": "stderr",
     "output_type": "stream",
     "text": [
      "Train:  14%|█▍        | 1435/10125 [55:39<4:28:52,  1.86s/it]"
     ]
    },
    {
     "name": "stdout",
     "output_type": "stream",
     "text": [
      "{'loss': 1.30803671, 'grad_norm': 9.71110058, 'learning_rate': 5.71e-06, 'memory(GiB)': 2.74, 'train_speed(iter/s)': 0.429693, 'epoch': 0.71, 'global_step/max_steps': '1435/10125', 'percentage': '14.17%', 'elapsed_time': '55m 39s', 'remaining_time': '5h 37m 1s'}\n"
     ]
    },
    {
     "name": "stderr",
     "output_type": "stream",
     "text": [
      "Train:  14%|█▍        | 1440/10125 [55:48<4:28:08,  1.85s/it]"
     ]
    },
    {
     "name": "stdout",
     "output_type": "stream",
     "text": [
      "{'loss': 1.47575426, 'grad_norm': 10.92104053, 'learning_rate': 5.71e-06, 'memory(GiB)': 2.74, 'train_speed(iter/s)': 0.429979, 'epoch': 0.71, 'global_step/max_steps': '1440/10125', 'percentage': '14.22%', 'elapsed_time': '55m 48s', 'remaining_time': '5h 36m 36s'}\n"
     ]
    },
    {
     "name": "stderr",
     "output_type": "stream",
     "text": [
      "Train:  14%|█▍        | 1445/10125 [55:57<4:28:16,  1.85s/it]"
     ]
    },
    {
     "name": "stdout",
     "output_type": "stream",
     "text": [
      "{'loss': 1.60238228, 'grad_norm': 12.86631584, 'learning_rate': 5.7e-06, 'memory(GiB)': 2.74, 'train_speed(iter/s)': 0.430288, 'epoch': 0.71, 'global_step/max_steps': '1445/10125', 'percentage': '14.27%', 'elapsed_time': '55m 57s', 'remaining_time': '5h 36m 10s'}\n"
     ]
    },
    {
     "name": "stderr",
     "output_type": "stream",
     "text": [
      "Train:  14%|█▍        | 1450/10125 [56:07<4:23:25,  1.82s/it]"
     ]
    },
    {
     "name": "stdout",
     "output_type": "stream",
     "text": [
      "{'loss': 1.28458519, 'grad_norm': 10.7164526, 'learning_rate': 5.7e-06, 'memory(GiB)': 2.74, 'train_speed(iter/s)': 0.430588, 'epoch': 0.72, 'global_step/max_steps': '1450/10125', 'percentage': '14.32%', 'elapsed_time': '56m 7s', 'remaining_time': '5h 35m 45s'}\n"
     ]
    },
    {
     "name": "stderr",
     "output_type": "stream",
     "text": [
      "Train:  14%|█▍        | 1455/10125 [56:16<4:24:05,  1.83s/it]"
     ]
    },
    {
     "name": "stdout",
     "output_type": "stream",
     "text": [
      "{'loss': 1.44390469, 'grad_norm': 9.84195518, 'learning_rate': 5.7e-06, 'memory(GiB)': 2.74, 'train_speed(iter/s)': 0.430889, 'epoch': 0.72, 'global_step/max_steps': '1455/10125', 'percentage': '14.37%', 'elapsed_time': '56m 16s', 'remaining_time': '5h 35m 19s'}\n"
     ]
    },
    {
     "name": "stderr",
     "output_type": "stream",
     "text": [
      "Train:  14%|█▍        | 1460/10125 [56:25<4:28:09,  1.86s/it]"
     ]
    },
    {
     "name": "stdout",
     "output_type": "stream",
     "text": [
      "{'loss': 1.44645405, 'grad_norm': 13.20259094, 'learning_rate': 5.7e-06, 'memory(GiB)': 2.74, 'train_speed(iter/s)': 0.431188, 'epoch': 0.72, 'global_step/max_steps': '1460/10125', 'percentage': '14.42%', 'elapsed_time': '56m 25s', 'remaining_time': '5h 34m 53s'}\n"
     ]
    },
    {
     "name": "stderr",
     "output_type": "stream",
     "text": [
      "Train:  14%|█▍        | 1465/10125 [56:34<4:24:40,  1.83s/it]"
     ]
    },
    {
     "name": "stdout",
     "output_type": "stream",
     "text": [
      "{'loss': 1.48053913, 'grad_norm': 10.07476521, 'learning_rate': 5.7e-06, 'memory(GiB)': 2.74, 'train_speed(iter/s)': 0.431504, 'epoch': 0.72, 'global_step/max_steps': '1465/10125', 'percentage': '14.47%', 'elapsed_time': '56m 34s', 'remaining_time': '5h 34m 27s'}\n"
     ]
    },
    {
     "name": "stderr",
     "output_type": "stream",
     "text": [
      "Train:  15%|█▍        | 1470/10125 [56:44<4:36:01,  1.91s/it]"
     ]
    },
    {
     "name": "stdout",
     "output_type": "stream",
     "text": [
      "{'loss': 1.54632616, 'grad_norm': 12.41057777, 'learning_rate': 5.69e-06, 'memory(GiB)': 2.74, 'train_speed(iter/s)': 0.431775, 'epoch': 0.73, 'global_step/max_steps': '1470/10125', 'percentage': '14.52%', 'elapsed_time': '56m 44s', 'remaining_time': '5h 34m 3s'}\n"
     ]
    },
    {
     "name": "stderr",
     "output_type": "stream",
     "text": [
      "Train:  15%|█▍        | 1475/10125 [56:53<4:28:27,  1.86s/it]"
     ]
    },
    {
     "name": "stdout",
     "output_type": "stream",
     "text": [
      "{'loss': 1.63676167, 'grad_norm': 10.45786762, 'learning_rate': 5.69e-06, 'memory(GiB)': 2.74, 'train_speed(iter/s)': 0.432055, 'epoch': 0.73, 'global_step/max_steps': '1475/10125', 'percentage': '14.57%', 'elapsed_time': '56m 53s', 'remaining_time': '5h 33m 38s'}\n"
     ]
    },
    {
     "name": "stderr",
     "output_type": "stream",
     "text": [
      "Train:  15%|█▍        | 1480/10125 [57:02<4:22:34,  1.82s/it]"
     ]
    },
    {
     "name": "stdout",
     "output_type": "stream",
     "text": [
      "{'loss': 1.54256182, 'grad_norm': 11.28514004, 'learning_rate': 5.69e-06, 'memory(GiB)': 2.74, 'train_speed(iter/s)': 0.432345, 'epoch': 0.73, 'global_step/max_steps': '1480/10125', 'percentage': '14.62%', 'elapsed_time': '57m 2s', 'remaining_time': '5h 33m 13s'}\n"
     ]
    },
    {
     "name": "stderr",
     "output_type": "stream",
     "text": [
      "Train:  15%|█▍        | 1485/10125 [57:11<4:14:24,  1.77s/it]"
     ]
    },
    {
     "name": "stdout",
     "output_type": "stream",
     "text": [
      "{'loss': 1.44554424, 'grad_norm': 12.71887398, 'learning_rate': 5.69e-06, 'memory(GiB)': 2.74, 'train_speed(iter/s)': 0.432685, 'epoch': 0.73, 'global_step/max_steps': '1485/10125', 'percentage': '14.67%', 'elapsed_time': '57m 11s', 'remaining_time': '5h 32m 46s'}\n"
     ]
    },
    {
     "name": "stderr",
     "output_type": "stream",
     "text": [
      "Train:  15%|█▍        | 1490/10125 [57:20<4:19:30,  1.80s/it]"
     ]
    },
    {
     "name": "stdout",
     "output_type": "stream",
     "text": [
      "{'loss': 1.28017874, 'grad_norm': 11.85071945, 'learning_rate': 5.69e-06, 'memory(GiB)': 2.74, 'train_speed(iter/s)': 0.432985, 'epoch': 0.74, 'global_step/max_steps': '1490/10125', 'percentage': '14.72%', 'elapsed_time': '57m 20s', 'remaining_time': '5h 32m 21s'}\n"
     ]
    },
    {
     "name": "stderr",
     "output_type": "stream",
     "text": [
      "Train:  15%|█▍        | 1495/10125 [57:30<4:25:30,  1.85s/it]"
     ]
    },
    {
     "name": "stdout",
     "output_type": "stream",
     "text": [
      "{'loss': 1.44028006, 'grad_norm': 10.19066238, 'learning_rate': 5.68e-06, 'memory(GiB)': 2.74, 'train_speed(iter/s)': 0.43326, 'epoch': 0.74, 'global_step/max_steps': '1495/10125', 'percentage': '14.77%', 'elapsed_time': '57m 30s', 'remaining_time': '5h 31m 57s'}\n"
     ]
    },
    {
     "name": "stderr",
     "output_type": "stream",
     "text": [
      "Train:  15%|█▍        | 1500/10125 [57:39<4:23:53,  1.84s/it]\n"
     ]
    },
    {
     "name": "stdout",
     "output_type": "stream",
     "text": [
      "{'loss': 1.58079681, 'grad_norm': 11.2476759, 'learning_rate': 5.68e-06, 'memory(GiB)': 2.74, 'train_speed(iter/s)': 0.433524, 'epoch': 0.74, 'global_step/max_steps': '1500/10125', 'percentage': '14.81%', 'elapsed_time': '57m 39s', 'remaining_time': '5h 31m 33s'}\n"
     ]
    },
    {
     "name": "stderr",
     "output_type": "stream",
     "text": [
      "Val: 100%|██████████| 426/426 [00:56<00:00,  7.55it/s]84s/it]\n"
     ]
    },
    {
     "name": "stdout",
     "output_type": "stream",
     "text": [
      "{'eval_loss': 1.48075449, 'eval_margin': -0.01731529, 'eval_mean_neg': 0.91087461, 'eval_mean_pos': 0.95393115, 'eval_runtime': 56.5195, 'eval_samples_per_second': 45.241, 'eval_steps_per_second': 7.555, 'epoch': 0.74, 'global_step/max_steps': '1500/10125', 'percentage': '14.81%', 'elapsed_time': '58m 36s', 'remaining_time': '5h 36m 58s'}\n"
     ]
    },
    {
     "name": "stderr",
     "output_type": "stream",
     "text": [
      "Train:  15%|█▍        | 1505/10125 [58:45<14:10:08,  5.92s/it]"
     ]
    },
    {
     "name": "stdout",
     "output_type": "stream",
     "text": [
      "{'loss': 1.40641842, 'grad_norm': 11.55363083, 'learning_rate': 5.68e-06, 'memory(GiB)': 2.74, 'train_speed(iter/s)': 0.426858, 'epoch': 0.74, 'global_step/max_steps': '1505/10125', 'percentage': '14.86%', 'elapsed_time': '58m 45s', 'remaining_time': '5h 36m 32s'}\n"
     ]
    },
    {
     "name": "stderr",
     "output_type": "stream",
     "text": [
      "Train:  15%|█▍        | 1510/10125 [58:55<6:29:38,  2.71s/it] "
     ]
    },
    {
     "name": "stdout",
     "output_type": "stream",
     "text": [
      "{'loss': 1.721171, 'grad_norm': 10.57602882, 'learning_rate': 5.68e-06, 'memory(GiB)': 2.74, 'train_speed(iter/s)': 0.427036, 'epoch': 0.75, 'global_step/max_steps': '1510/10125', 'percentage': '14.91%', 'elapsed_time': '58m 55s', 'remaining_time': '5h 36m 12s'}\n"
     ]
    },
    {
     "name": "stderr",
     "output_type": "stream",
     "text": [
      "Train:  15%|█▍        | 1515/10125 [59:04<4:41:23,  1.96s/it]"
     ]
    },
    {
     "name": "stdout",
     "output_type": "stream",
     "text": [
      "{'loss': 1.43293676, 'grad_norm': 10.5163784, 'learning_rate': 5.67e-06, 'memory(GiB)': 2.74, 'train_speed(iter/s)': 0.427375, 'epoch': 0.75, 'global_step/max_steps': '1515/10125', 'percentage': '14.96%', 'elapsed_time': '59m 4s', 'remaining_time': '5h 35m 44s'}\n"
     ]
    },
    {
     "name": "stderr",
     "output_type": "stream",
     "text": [
      "Train:  15%|█▌        | 1520/10125 [59:13<4:31:55,  1.90s/it]"
     ]
    },
    {
     "name": "stdout",
     "output_type": "stream",
     "text": [
      "{'loss': 1.63105755, 'grad_norm': 10.76725578, 'learning_rate': 5.67e-06, 'memory(GiB)': 2.74, 'train_speed(iter/s)': 0.427664, 'epoch': 0.75, 'global_step/max_steps': '1520/10125', 'percentage': '15.01%', 'elapsed_time': '59m 13s', 'remaining_time': '5h 35m 19s'}\n"
     ]
    },
    {
     "name": "stderr",
     "output_type": "stream",
     "text": [
      "Train:  15%|█▌        | 1525/10125 [59:22<4:20:59,  1.82s/it]"
     ]
    },
    {
     "name": "stdout",
     "output_type": "stream",
     "text": [
      "{'loss': 1.27257481, 'grad_norm': 10.25341225, 'learning_rate': 5.67e-06, 'memory(GiB)': 2.74, 'train_speed(iter/s)': 0.427976, 'epoch': 0.75, 'global_step/max_steps': '1525/10125', 'percentage': '15.06%', 'elapsed_time': '59m 22s', 'remaining_time': '5h 34m 52s'}\n"
     ]
    },
    {
     "name": "stderr",
     "output_type": "stream",
     "text": [
      "Train:  15%|█▌        | 1530/10125 [59:32<4:22:53,  1.84s/it]"
     ]
    },
    {
     "name": "stdout",
     "output_type": "stream",
     "text": [
      "{'loss': 1.68221149, 'grad_norm': 9.61796856, 'learning_rate': 5.67e-06, 'memory(GiB)': 2.74, 'train_speed(iter/s)': 0.428275, 'epoch': 0.76, 'global_step/max_steps': '1530/10125', 'percentage': '15.11%', 'elapsed_time': '59m 32s', 'remaining_time': '5h 34m 27s'}\n"
     ]
    },
    {
     "name": "stderr",
     "output_type": "stream",
     "text": [
      "Train:  15%|█▌        | 1535/10125 [59:41<4:25:47,  1.86s/it]"
     ]
    },
    {
     "name": "stdout",
     "output_type": "stream",
     "text": [
      "{'loss': 1.36977205, 'grad_norm': 10.87876511, 'learning_rate': 5.67e-06, 'memory(GiB)': 2.74, 'train_speed(iter/s)': 0.428545, 'epoch': 0.76, 'global_step/max_steps': '1535/10125', 'percentage': '15.16%', 'elapsed_time': '59m 41s', 'remaining_time': '5h 34m 2s'}\n"
     ]
    },
    {
     "name": "stderr",
     "output_type": "stream",
     "text": [
      "Train:  15%|█▌        | 1540/10125 [59:50<4:19:09,  1.81s/it]"
     ]
    },
    {
     "name": "stdout",
     "output_type": "stream",
     "text": [
      "{'loss': 1.59040432, 'grad_norm': 11.39761162, 'learning_rate': 5.66e-06, 'memory(GiB)': 2.74, 'train_speed(iter/s)': 0.428843, 'epoch': 0.76, 'global_step/max_steps': '1540/10125', 'percentage': '15.21%', 'elapsed_time': '59m 50s', 'remaining_time': '5h 33m 37s'}\n"
     ]
    },
    {
     "name": "stderr",
     "output_type": "stream",
     "text": [
      "Train:  15%|█▌        | 1545/10125 [59:59<4:13:39,  1.77s/it]"
     ]
    },
    {
     "name": "stdout",
     "output_type": "stream",
     "text": [
      "{'loss': 1.47086382, 'grad_norm': 8.96705055, 'learning_rate': 5.66e-06, 'memory(GiB)': 2.74, 'train_speed(iter/s)': 0.42918, 'epoch': 0.76, 'global_step/max_steps': '1545/10125', 'percentage': '15.26%', 'elapsed_time': '59m 59s', 'remaining_time': '5h 33m 9s'}\n"
     ]
    },
    {
     "name": "stderr",
     "output_type": "stream",
     "text": [
      "Train:  15%|█▌        | 1550/10125 [1:00:09<4:29:03,  1.88s/it]"
     ]
    },
    {
     "name": "stdout",
     "output_type": "stream",
     "text": [
      "{'loss': 1.74840145, 'grad_norm': 15.27864361, 'learning_rate': 5.66e-06, 'memory(GiB)': 2.74, 'train_speed(iter/s)': 0.429426, 'epoch': 0.77, 'global_step/max_steps': '1550/10125', 'percentage': '15.31%', 'elapsed_time': '1h 0m 9s', 'remaining_time': '5h 32m 46s'}\n"
     ]
    },
    {
     "name": "stderr",
     "output_type": "stream",
     "text": [
      "Train:  15%|█▌        | 1555/10125 [1:00:18<4:29:52,  1.89s/it]"
     ]
    },
    {
     "name": "stdout",
     "output_type": "stream",
     "text": [
      "{'loss': 1.67609653, 'grad_norm': 10.08288479, 'learning_rate': 5.66e-06, 'memory(GiB)': 2.74, 'train_speed(iter/s)': 0.429663, 'epoch': 0.77, 'global_step/max_steps': '1555/10125', 'percentage': '15.36%', 'elapsed_time': '1h 0m 18s', 'remaining_time': '5h 32m 24s'}\n"
     ]
    },
    {
     "name": "stderr",
     "output_type": "stream",
     "text": [
      "Train:  15%|█▌        | 1560/10125 [1:00:28<4:45:28,  2.00s/it]"
     ]
    },
    {
     "name": "stdout",
     "output_type": "stream",
     "text": [
      "{'loss': 1.25090752, 'grad_norm': 11.68704033, 'learning_rate': 5.66e-06, 'memory(GiB)': 2.74, 'train_speed(iter/s)': 0.42985, 'epoch': 0.77, 'global_step/max_steps': '1560/10125', 'percentage': '15.41%', 'elapsed_time': '1h 0m 28s', 'remaining_time': '5h 32m 3s'}\n"
     ]
    },
    {
     "name": "stderr",
     "output_type": "stream",
     "text": [
      "Train:  15%|█▌        | 1565/10125 [1:00:38<4:29:27,  1.89s/it]"
     ]
    },
    {
     "name": "stdout",
     "output_type": "stream",
     "text": [
      "{'loss': 1.54772472, 'grad_norm': 9.98731995, 'learning_rate': 5.65e-06, 'memory(GiB)': 2.74, 'train_speed(iter/s)': 0.430121, 'epoch': 0.77, 'global_step/max_steps': '1565/10125', 'percentage': '15.46%', 'elapsed_time': '1h 0m 38s', 'remaining_time': '5h 31m 39s'}\n"
     ]
    },
    {
     "name": "stderr",
     "output_type": "stream",
     "text": [
      "Train:  16%|█▌        | 1570/10125 [1:00:47<4:15:28,  1.79s/it]"
     ]
    },
    {
     "name": "stdout",
     "output_type": "stream",
     "text": [
      "{'loss': 1.50574722, 'grad_norm': 10.84523201, 'learning_rate': 5.65e-06, 'memory(GiB)': 2.74, 'train_speed(iter/s)': 0.430445, 'epoch': 0.78, 'global_step/max_steps': '1570/10125', 'percentage': '15.51%', 'elapsed_time': '1h 0m 47s', 'remaining_time': '5h 31m 13s'}\n"
     ]
    },
    {
     "name": "stderr",
     "output_type": "stream",
     "text": [
      "Train:  16%|█▌        | 1575/10125 [1:00:57<4:33:05,  1.92s/it]"
     ]
    },
    {
     "name": "stdout",
     "output_type": "stream",
     "text": [
      "{'loss': 1.61511211, 'grad_norm': 11.67847538, 'learning_rate': 5.65e-06, 'memory(GiB)': 2.74, 'train_speed(iter/s)': 0.430636, 'epoch': 0.78, 'global_step/max_steps': '1575/10125', 'percentage': '15.56%', 'elapsed_time': '1h 0m 57s', 'remaining_time': '5h 30m 52s'}\n"
     ]
    },
    {
     "name": "stderr",
     "output_type": "stream",
     "text": [
      "Train:  16%|█▌        | 1580/10125 [1:01:06<4:18:14,  1.81s/it]"
     ]
    },
    {
     "name": "stdout",
     "output_type": "stream",
     "text": [
      "{'loss': 1.57428799, 'grad_norm': 12.11773109, 'learning_rate': 5.65e-06, 'memory(GiB)': 2.74, 'train_speed(iter/s)': 0.430945, 'epoch': 0.78, 'global_step/max_steps': '1580/10125', 'percentage': '15.60%', 'elapsed_time': '1h 1m 6s', 'remaining_time': '5h 30m 26s'}\n"
     ]
    },
    {
     "name": "stderr",
     "output_type": "stream",
     "text": [
      "Train:  16%|█▌        | 1585/10125 [1:01:15<4:24:39,  1.86s/it]"
     ]
    },
    {
     "name": "stdout",
     "output_type": "stream",
     "text": [
      "{'loss': 1.50886898, 'grad_norm': 11.80366707, 'learning_rate': 5.64e-06, 'memory(GiB)': 2.74, 'train_speed(iter/s)': 0.431189, 'epoch': 0.78, 'global_step/max_steps': '1585/10125', 'percentage': '15.65%', 'elapsed_time': '1h 1m 15s', 'remaining_time': '5h 30m 4s'}\n"
     ]
    },
    {
     "name": "stderr",
     "output_type": "stream",
     "text": [
      "Train:  16%|█▌        | 1590/10125 [1:01:25<4:31:06,  1.91s/it]"
     ]
    },
    {
     "name": "stdout",
     "output_type": "stream",
     "text": [
      "{'loss': 1.39801226, 'grad_norm': 12.25391769, 'learning_rate': 5.64e-06, 'memory(GiB)': 2.74, 'train_speed(iter/s)': 0.431428, 'epoch': 0.79, 'global_step/max_steps': '1590/10125', 'percentage': '15.70%', 'elapsed_time': '1h 1m 25s', 'remaining_time': '5h 29m 41s'}\n"
     ]
    },
    {
     "name": "stderr",
     "output_type": "stream",
     "text": [
      "Train:  16%|█▌        | 1595/10125 [1:01:33<4:15:43,  1.80s/it]"
     ]
    },
    {
     "name": "stdout",
     "output_type": "stream",
     "text": [
      "{'loss': 1.55024586, 'grad_norm': 11.83179569, 'learning_rate': 5.64e-06, 'memory(GiB)': 2.74, 'train_speed(iter/s)': 0.43175, 'epoch': 0.79, 'global_step/max_steps': '1595/10125', 'percentage': '15.75%', 'elapsed_time': '1h 1m 33s', 'remaining_time': '5h 29m 15s'}\n"
     ]
    },
    {
     "name": "stderr",
     "output_type": "stream",
     "text": [
      "Train:  16%|█▌        | 1600/10125 [1:01:42<4:15:02,  1.80s/it]\n"
     ]
    },
    {
     "name": "stdout",
     "output_type": "stream",
     "text": [
      "{'loss': 1.62924347, 'grad_norm': 11.29192734, 'learning_rate': 5.64e-06, 'memory(GiB)': 2.74, 'train_speed(iter/s)': 0.432049, 'epoch': 0.79, 'global_step/max_steps': '1600/10125', 'percentage': '15.80%', 'elapsed_time': '1h 1m 42s', 'remaining_time': '5h 28m 49s'}\n"
     ]
    },
    {
     "name": "stderr",
     "output_type": "stream",
     "text": [
      "Val: 100%|██████████| 426/426 [00:59<00:00,  7.18it/s]1.80s/it]\n"
     ]
    },
    {
     "name": "stdout",
     "output_type": "stream",
     "text": [
      "{'eval_loss': 1.46747899, 'eval_margin': -0.01736064, 'eval_mean_neg': 0.90973288, 'eval_mean_pos': 0.95315117, 'eval_runtime': 59.3919, 'eval_samples_per_second': 43.053, 'eval_steps_per_second': 7.19, 'epoch': 0.79, 'global_step/max_steps': '1600/10125', 'percentage': '15.80%', 'elapsed_time': '1h 2m 42s', 'remaining_time': '5h 34m 6s'}\n"
     ]
    },
    {
     "name": "stderr",
     "output_type": "stream",
     "text": [
      "Train:  16%|█▌        | 1605/10125 [1:02:51<14:17:12,  6.04s/it]"
     ]
    },
    {
     "name": "stdout",
     "output_type": "stream",
     "text": [
      "{'loss': 1.67987118, 'grad_norm': 14.34677219, 'learning_rate': 5.64e-06, 'memory(GiB)': 2.74, 'train_speed(iter/s)': 0.425548, 'epoch': 0.79, 'global_step/max_steps': '1605/10125', 'percentage': '15.85%', 'elapsed_time': '1h 2m 51s', 'remaining_time': '5h 33m 39s'}\n"
     ]
    },
    {
     "name": "stderr",
     "output_type": "stream",
     "text": [
      "Train:  16%|█▌        | 1610/10125 [1:03:00<6:02:02,  2.55s/it] "
     ]
    },
    {
     "name": "stdout",
     "output_type": "stream",
     "text": [
      "{'loss': 1.62895412, 'grad_norm': 11.78938007, 'learning_rate': 5.63e-06, 'memory(GiB)': 2.74, 'train_speed(iter/s)': 0.425792, 'epoch': 0.8, 'global_step/max_steps': '1610/10125', 'percentage': '15.90%', 'elapsed_time': '1h 3m 0s', 'remaining_time': '5h 33m 16s'}\n"
     ]
    },
    {
     "name": "stderr",
     "output_type": "stream",
     "text": [
      "Train:  16%|█▌        | 1615/10125 [1:03:10<4:47:32,  2.03s/it]"
     ]
    },
    {
     "name": "stdout",
     "output_type": "stream",
     "text": [
      "{'loss': 1.80821972, 'grad_norm': 12.5908165, 'learning_rate': 5.63e-06, 'memory(GiB)': 2.74, 'train_speed(iter/s)': 0.426033, 'epoch': 0.8, 'global_step/max_steps': '1615/10125', 'percentage': '15.95%', 'elapsed_time': '1h 3m 10s', 'remaining_time': '5h 32m 53s'}\n"
     ]
    },
    {
     "name": "stderr",
     "output_type": "stream",
     "text": [
      "Train:  16%|█▌        | 1620/10125 [1:03:19<4:24:36,  1.87s/it]"
     ]
    },
    {
     "name": "stdout",
     "output_type": "stream",
     "text": [
      "{'loss': 1.59985762, 'grad_norm': 10.5877552, 'learning_rate': 5.63e-06, 'memory(GiB)': 2.74, 'train_speed(iter/s)': 0.426321, 'epoch': 0.8, 'global_step/max_steps': '1620/10125', 'percentage': '16.00%', 'elapsed_time': '1h 3m 19s', 'remaining_time': '5h 32m 28s'}\n"
     ]
    },
    {
     "name": "stderr",
     "output_type": "stream",
     "text": [
      "Train:  16%|█▌        | 1625/10125 [1:03:28<4:23:45,  1.86s/it]"
     ]
    },
    {
     "name": "stdout",
     "output_type": "stream",
     "text": [
      "{'loss': 1.51187878, 'grad_norm': 12.23933887, 'learning_rate': 5.63e-06, 'memory(GiB)': 2.74, 'train_speed(iter/s)': 0.426603, 'epoch': 0.8, 'global_step/max_steps': '1625/10125', 'percentage': '16.05%', 'elapsed_time': '1h 3m 28s', 'remaining_time': '5h 32m 3s'}\n"
     ]
    },
    {
     "name": "stderr",
     "output_type": "stream",
     "text": [
      "Train:  16%|█▌        | 1630/10125 [1:03:37<4:20:25,  1.84s/it]"
     ]
    },
    {
     "name": "stdout",
     "output_type": "stream",
     "text": [
      "{'loss': 1.39223652, 'grad_norm': 12.73778629, 'learning_rate': 5.62e-06, 'memory(GiB)': 2.74, 'train_speed(iter/s)': 0.426898, 'epoch': 0.81, 'global_step/max_steps': '1630/10125', 'percentage': '16.10%', 'elapsed_time': '1h 3m 37s', 'remaining_time': '5h 31m 37s'}\n"
     ]
    },
    {
     "name": "stderr",
     "output_type": "stream",
     "text": [
      "Train:  16%|█▌        | 1635/10125 [1:03:47<4:21:39,  1.85s/it]"
     ]
    },
    {
     "name": "stdout",
     "output_type": "stream",
     "text": [
      "{'loss': 1.41110764, 'grad_norm': 13.86384296, 'learning_rate': 5.62e-06, 'memory(GiB)': 2.74, 'train_speed(iter/s)': 0.42717, 'epoch': 0.81, 'global_step/max_steps': '1635/10125', 'percentage': '16.15%', 'elapsed_time': '1h 3m 47s', 'remaining_time': '5h 31m 13s'}\n"
     ]
    },
    {
     "name": "stderr",
     "output_type": "stream",
     "text": [
      "Train:  16%|█▌        | 1640/10125 [1:03:56<4:17:47,  1.82s/it]"
     ]
    },
    {
     "name": "stdout",
     "output_type": "stream",
     "text": [
      "{'loss': 1.48523436, 'grad_norm': 11.76695442, 'learning_rate': 5.62e-06, 'memory(GiB)': 2.74, 'train_speed(iter/s)': 0.427459, 'epoch': 0.81, 'global_step/max_steps': '1640/10125', 'percentage': '16.20%', 'elapsed_time': '1h 3m 56s', 'remaining_time': '5h 30m 48s'}\n"
     ]
    },
    {
     "name": "stderr",
     "output_type": "stream",
     "text": [
      "Train:  16%|█▌        | 1645/10125 [1:04:05<4:08:25,  1.76s/it]"
     ]
    },
    {
     "name": "stdout",
     "output_type": "stream",
     "text": [
      "{'loss': 1.28201275, 'grad_norm': 11.27050304, 'learning_rate': 5.62e-06, 'memory(GiB)': 2.74, 'train_speed(iter/s)': 0.427765, 'epoch': 0.81, 'global_step/max_steps': '1645/10125', 'percentage': '16.25%', 'elapsed_time': '1h 4m 5s', 'remaining_time': '5h 30m 22s'}\n"
     ]
    },
    {
     "name": "stderr",
     "output_type": "stream",
     "text": [
      "Train:  16%|█▋        | 1650/10125 [1:04:14<4:18:54,  1.83s/it]"
     ]
    },
    {
     "name": "stdout",
     "output_type": "stream",
     "text": [
      "{'loss': 1.85405769, 'grad_norm': 12.06879711, 'learning_rate': 5.62e-06, 'memory(GiB)': 2.74, 'train_speed(iter/s)': 0.42806, 'epoch': 0.82, 'global_step/max_steps': '1650/10125', 'percentage': '16.30%', 'elapsed_time': '1h 4m 14s', 'remaining_time': '5h 29m 57s'}\n"
     ]
    },
    {
     "name": "stderr",
     "output_type": "stream",
     "text": [
      "Train:  16%|█▋        | 1655/10125 [1:04:23<4:19:35,  1.84s/it]"
     ]
    },
    {
     "name": "stdout",
     "output_type": "stream",
     "text": [
      "{'loss': 1.7337677, 'grad_norm': 13.05527401, 'learning_rate': 5.61e-06, 'memory(GiB)': 2.74, 'train_speed(iter/s)': 0.428333, 'epoch': 0.82, 'global_step/max_steps': '1655/10125', 'percentage': '16.35%', 'elapsed_time': '1h 4m 23s', 'remaining_time': '5h 29m 32s'}\n"
     ]
    },
    {
     "name": "stderr",
     "output_type": "stream",
     "text": [
      "Train:  16%|█▋        | 1660/10125 [1:04:32<4:16:10,  1.82s/it]"
     ]
    },
    {
     "name": "stdout",
     "output_type": "stream",
     "text": [
      "{'loss': 1.48801746, 'grad_norm': 12.41740131, 'learning_rate': 5.61e-06, 'memory(GiB)': 2.74, 'train_speed(iter/s)': 0.428612, 'epoch': 0.82, 'global_step/max_steps': '1660/10125', 'percentage': '16.40%', 'elapsed_time': '1h 4m 32s', 'remaining_time': '5h 29m 8s'}\n"
     ]
    },
    {
     "name": "stderr",
     "output_type": "stream",
     "text": [
      "Train:  16%|█▋        | 1665/10125 [1:04:41<4:15:42,  1.81s/it]"
     ]
    },
    {
     "name": "stdout",
     "output_type": "stream",
     "text": [
      "{'loss': 1.85398941, 'grad_norm': 12.27272129, 'learning_rate': 5.61e-06, 'memory(GiB)': 2.74, 'train_speed(iter/s)': 0.428914, 'epoch': 0.82, 'global_step/max_steps': '1665/10125', 'percentage': '16.44%', 'elapsed_time': '1h 4m 41s', 'remaining_time': '5h 28m 42s'}\n"
     ]
    },
    {
     "name": "stderr",
     "output_type": "stream",
     "text": [
      "Train:  16%|█▋        | 1670/10125 [1:04:50<4:16:34,  1.82s/it]"
     ]
    },
    {
     "name": "stdout",
     "output_type": "stream",
     "text": [
      "{'loss': 1.44668274, 'grad_norm': 11.36369228, 'learning_rate': 5.61e-06, 'memory(GiB)': 2.74, 'train_speed(iter/s)': 0.42919, 'epoch': 0.82, 'global_step/max_steps': '1670/10125', 'percentage': '16.49%', 'elapsed_time': '1h 4m 50s', 'remaining_time': '5h 28m 18s'}\n"
     ]
    },
    {
     "name": "stderr",
     "output_type": "stream",
     "text": [
      "Train:  17%|█▋        | 1675/10125 [1:04:59<4:05:47,  1.75s/it]"
     ]
    },
    {
     "name": "stdout",
     "output_type": "stream",
     "text": [
      "{'loss': 1.5019228, 'grad_norm': 11.47599125, 'learning_rate': 5.6e-06, 'memory(GiB)': 2.74, 'train_speed(iter/s)': 0.429525, 'epoch': 0.83, 'global_step/max_steps': '1675/10125', 'percentage': '16.54%', 'elapsed_time': '1h 4m 59s', 'remaining_time': '5h 27m 51s'}\n"
     ]
    },
    {
     "name": "stderr",
     "output_type": "stream",
     "text": [
      "Train:  17%|█▋        | 1680/10125 [1:05:08<4:08:29,  1.77s/it]"
     ]
    },
    {
     "name": "stdout",
     "output_type": "stream",
     "text": [
      "{'loss': 1.44144917, 'grad_norm': 12.94003391, 'learning_rate': 5.6e-06, 'memory(GiB)': 2.74, 'train_speed(iter/s)': 0.429819, 'epoch': 0.83, 'global_step/max_steps': '1680/10125', 'percentage': '16.59%', 'elapsed_time': '1h 5m 8s', 'remaining_time': '5h 27m 26s'}\n"
     ]
    },
    {
     "name": "stderr",
     "output_type": "stream",
     "text": [
      "Train:  17%|█▋        | 1685/10125 [1:05:17<4:13:09,  1.80s/it]"
     ]
    },
    {
     "name": "stdout",
     "output_type": "stream",
     "text": [
      "{'loss': 1.78796024, 'grad_norm': 13.02173042, 'learning_rate': 5.6e-06, 'memory(GiB)': 2.74, 'train_speed(iter/s)': 0.430097, 'epoch': 0.83, 'global_step/max_steps': '1685/10125', 'percentage': '16.64%', 'elapsed_time': '1h 5m 17s', 'remaining_time': '5h 27m 1s'}\n"
     ]
    },
    {
     "name": "stderr",
     "output_type": "stream",
     "text": [
      "Train:  17%|█▋        | 1690/10125 [1:05:27<4:34:35,  1.95s/it]"
     ]
    },
    {
     "name": "stdout",
     "output_type": "stream",
     "text": [
      "{'loss': 1.49943275, 'grad_norm': 12.50537014, 'learning_rate': 5.6e-06, 'memory(GiB)': 2.74, 'train_speed(iter/s)': 0.430306, 'epoch': 0.83, 'global_step/max_steps': '1690/10125', 'percentage': '16.69%', 'elapsed_time': '1h 5m 27s', 'remaining_time': '5h 26m 40s'}\n"
     ]
    },
    {
     "name": "stderr",
     "output_type": "stream",
     "text": [
      "Train:  17%|█▋        | 1695/10125 [1:05:36<4:24:20,  1.88s/it]"
     ]
    },
    {
     "name": "stdout",
     "output_type": "stream",
     "text": [
      "{'loss': 1.42405567, 'grad_norm': 16.94291878, 'learning_rate': 5.59e-06, 'memory(GiB)': 2.74, 'train_speed(iter/s)': 0.430565, 'epoch': 0.84, 'global_step/max_steps': '1695/10125', 'percentage': '16.74%', 'elapsed_time': '1h 5m 36s', 'remaining_time': '5h 26m 17s'}\n"
     ]
    },
    {
     "name": "stderr",
     "output_type": "stream",
     "text": [
      "Train:  17%|█▋        | 1700/10125 [1:05:45<4:35:35,  1.96s/it]\n"
     ]
    },
    {
     "name": "stdout",
     "output_type": "stream",
     "text": [
      "{'loss': 1.78809891, 'grad_norm': 13.89608288, 'learning_rate': 5.59e-06, 'memory(GiB)': 2.74, 'train_speed(iter/s)': 0.430784, 'epoch': 0.84, 'global_step/max_steps': '1700/10125', 'percentage': '16.79%', 'elapsed_time': '1h 5m 45s', 'remaining_time': '5h 25m 55s'}\n"
     ]
    },
    {
     "name": "stderr",
     "output_type": "stream",
     "text": [
      "Val: 100%|██████████| 426/426 [00:52<00:00,  8.09it/s]1.96s/it]\n"
     ]
    },
    {
     "name": "stdout",
     "output_type": "stream",
     "text": [
      "{'eval_loss': 1.45505118, 'eval_margin': -0.01715536, 'eval_mean_neg': 0.91030574, 'eval_mean_pos': 0.95368797, 'eval_runtime': 52.7953, 'eval_samples_per_second': 48.432, 'eval_steps_per_second': 8.088, 'epoch': 0.84, 'global_step/max_steps': '1700/10125', 'percentage': '16.79%', 'elapsed_time': '1h 6m 38s', 'remaining_time': '5h 30m 17s'}\n"
     ]
    },
    {
     "name": "stderr",
     "output_type": "stream",
     "text": [
      "Train:  17%|█▋        | 1705/10125 [1:06:47<13:06:02,  5.60s/it]"
     ]
    },
    {
     "name": "stdout",
     "output_type": "stream",
     "text": [
      "{'loss': 1.55841274, 'grad_norm': 12.8709631, 'learning_rate': 5.59e-06, 'memory(GiB)': 2.74, 'train_speed(iter/s)': 0.425404, 'epoch': 0.84, 'global_step/max_steps': '1705/10125', 'percentage': '16.84%', 'elapsed_time': '1h 6m 47s', 'remaining_time': '5h 29m 51s'}\n"
     ]
    },
    {
     "name": "stderr",
     "output_type": "stream",
     "text": [
      "Train:  17%|█▋        | 1710/10125 [1:06:56<5:29:52,  2.35s/it] "
     ]
    },
    {
     "name": "stdout",
     "output_type": "stream",
     "text": [
      "{'loss': 1.23509321, 'grad_norm': 11.7644186, 'learning_rate': 5.59e-06, 'memory(GiB)': 2.74, 'train_speed(iter/s)': 0.425742, 'epoch': 0.84, 'global_step/max_steps': '1710/10125', 'percentage': '16.89%', 'elapsed_time': '1h 6m 56s', 'remaining_time': '5h 29m 24s'}\n"
     ]
    },
    {
     "name": "stderr",
     "output_type": "stream",
     "text": [
      "Train:  17%|█▋        | 1715/10125 [1:07:05<4:23:19,  1.88s/it]"
     ]
    },
    {
     "name": "stdout",
     "output_type": "stream",
     "text": [
      "{'loss': 1.50062199, 'grad_norm': 9.99518776, 'learning_rate': 5.59e-06, 'memory(GiB)': 2.74, 'train_speed(iter/s)': 0.426027, 'epoch': 0.85, 'global_step/max_steps': '1715/10125', 'percentage': '16.94%', 'elapsed_time': '1h 7m 5s', 'remaining_time': '5h 28m 59s'}\n"
     ]
    },
    {
     "name": "stderr",
     "output_type": "stream",
     "text": [
      "Train:  17%|█▋        | 1720/10125 [1:07:13<4:00:02,  1.71s/it]"
     ]
    },
    {
     "name": "stdout",
     "output_type": "stream",
     "text": [
      "{'loss': 1.47133446, 'grad_norm': 10.84959221, 'learning_rate': 5.58e-06, 'memory(GiB)': 2.74, 'train_speed(iter/s)': 0.426358, 'epoch': 0.85, 'global_step/max_steps': '1720/10125', 'percentage': '16.99%', 'elapsed_time': '1h 7m 13s', 'remaining_time': '5h 28m 31s'}\n"
     ]
    },
    {
     "name": "stderr",
     "output_type": "stream",
     "text": [
      "Train:  17%|█▋        | 1725/10125 [1:07:23<4:19:09,  1.85s/it]"
     ]
    },
    {
     "name": "stdout",
     "output_type": "stream",
     "text": [
      "{'loss': 1.43287115, 'grad_norm': 12.19572639, 'learning_rate': 5.58e-06, 'memory(GiB)': 2.74, 'train_speed(iter/s)': 0.426611, 'epoch': 0.85, 'global_step/max_steps': '1725/10125', 'percentage': '17.04%', 'elapsed_time': '1h 7m 23s', 'remaining_time': '5h 28m 8s'}\n"
     ]
    },
    {
     "name": "stderr",
     "output_type": "stream",
     "text": [
      "Train:  17%|█▋        | 1730/10125 [1:07:32<4:10:54,  1.79s/it]"
     ]
    },
    {
     "name": "stdout",
     "output_type": "stream",
     "text": [
      "{'loss': 1.3622921, 'grad_norm': 13.21140862, 'learning_rate': 5.58e-06, 'memory(GiB)': 2.74, 'train_speed(iter/s)': 0.426893, 'epoch': 0.85, 'global_step/max_steps': '1730/10125', 'percentage': '17.09%', 'elapsed_time': '1h 7m 32s', 'remaining_time': '5h 27m 43s'}\n"
     ]
    },
    {
     "name": "stderr",
     "output_type": "stream",
     "text": [
      "Train:  17%|█▋        | 1735/10125 [1:07:41<4:11:29,  1.80s/it]"
     ]
    },
    {
     "name": "stdout",
     "output_type": "stream",
     "text": [
      "{'loss': 1.4770771, 'grad_norm': 11.27207088, 'learning_rate': 5.58e-06, 'memory(GiB)': 2.74, 'train_speed(iter/s)': 0.427189, 'epoch': 0.86, 'global_step/max_steps': '1735/10125', 'percentage': '17.14%', 'elapsed_time': '1h 7m 41s', 'remaining_time': '5h 27m 18s'}\n"
     ]
    },
    {
     "name": "stderr",
     "output_type": "stream",
     "text": [
      "Train:  17%|█▋        | 1740/10125 [1:07:50<4:26:31,  1.91s/it]"
     ]
    },
    {
     "name": "stdout",
     "output_type": "stream",
     "text": [
      "{'loss': 1.35453482, 'grad_norm': 14.27600384, 'learning_rate': 5.57e-06, 'memory(GiB)': 2.74, 'train_speed(iter/s)': 0.427433, 'epoch': 0.86, 'global_step/max_steps': '1740/10125', 'percentage': '17.19%', 'elapsed_time': '1h 7m 50s', 'remaining_time': '5h 26m 55s'}\n"
     ]
    },
    {
     "name": "stderr",
     "output_type": "stream",
     "text": [
      "Train:  17%|█▋        | 1745/10125 [1:07:59<4:08:30,  1.78s/it]"
     ]
    },
    {
     "name": "stdout",
     "output_type": "stream",
     "text": [
      "{'loss': 1.60767765, 'grad_norm': 13.0195322, 'learning_rate': 5.57e-06, 'memory(GiB)': 2.74, 'train_speed(iter/s)': 0.427723, 'epoch': 0.86, 'global_step/max_steps': '1745/10125', 'percentage': '17.23%', 'elapsed_time': '1h 7m 59s', 'remaining_time': '5h 26m 30s'}\n"
     ]
    },
    {
     "name": "stderr",
     "output_type": "stream",
     "text": [
      "Train:  17%|█▋        | 1750/10125 [1:08:08<4:10:59,  1.80s/it]"
     ]
    },
    {
     "name": "stdout",
     "output_type": "stream",
     "text": [
      "{'loss': 1.57403793, 'grad_norm': 12.4793787, 'learning_rate': 5.57e-06, 'memory(GiB)': 2.74, 'train_speed(iter/s)': 0.427996, 'epoch': 0.86, 'global_step/max_steps': '1750/10125', 'percentage': '17.28%', 'elapsed_time': '1h 8m 8s', 'remaining_time': '5h 26m 6s'}\n"
     ]
    },
    {
     "name": "stderr",
     "output_type": "stream",
     "text": [
      "Train:  17%|█▋        | 1755/10125 [1:08:17<4:16:10,  1.84s/it]"
     ]
    },
    {
     "name": "stdout",
     "output_type": "stream",
     "text": [
      "{'loss': 1.46884623, 'grad_norm': 11.04606533, 'learning_rate': 5.57e-06, 'memory(GiB)': 2.74, 'train_speed(iter/s)': 0.428263, 'epoch': 0.87, 'global_step/max_steps': '1755/10125', 'percentage': '17.33%', 'elapsed_time': '1h 8m 17s', 'remaining_time': '5h 25m 42s'}\n"
     ]
    },
    {
     "name": "stderr",
     "output_type": "stream",
     "text": [
      "Train:  17%|█▋        | 1760/10125 [1:08:26<4:14:24,  1.82s/it]"
     ]
    },
    {
     "name": "stdout",
     "output_type": "stream",
     "text": [
      "{'loss': 1.47179623, 'grad_norm': 11.8475914, 'learning_rate': 5.56e-06, 'memory(GiB)': 2.74, 'train_speed(iter/s)': 0.428536, 'epoch': 0.87, 'global_step/max_steps': '1760/10125', 'percentage': '17.38%', 'elapsed_time': '1h 8m 26s', 'remaining_time': '5h 25m 18s'}\n"
     ]
    },
    {
     "name": "stderr",
     "output_type": "stream",
     "text": [
      "Train:  17%|█▋        | 1765/10125 [1:08:36<4:21:55,  1.88s/it]"
     ]
    },
    {
     "name": "stdout",
     "output_type": "stream",
     "text": [
      "{'loss': 1.45186024, 'grad_norm': 12.71565628, 'learning_rate': 5.56e-06, 'memory(GiB)': 2.74, 'train_speed(iter/s)': 0.428765, 'epoch': 0.87, 'global_step/max_steps': '1765/10125', 'percentage': '17.43%', 'elapsed_time': '1h 8m 36s', 'remaining_time': '5h 24m 56s'}\n"
     ]
    },
    {
     "name": "stderr",
     "output_type": "stream",
     "text": [
      "Train:  17%|█▋        | 1770/10125 [1:08:45<4:12:49,  1.82s/it]"
     ]
    },
    {
     "name": "stdout",
     "output_type": "stream",
     "text": [
      "{'loss': 1.51827793, 'grad_norm': 15.13763046, 'learning_rate': 5.56e-06, 'memory(GiB)': 2.74, 'train_speed(iter/s)': 0.429033, 'epoch': 0.87, 'global_step/max_steps': '1770/10125', 'percentage': '17.48%', 'elapsed_time': '1h 8m 45s', 'remaining_time': '5h 24m 32s'}\n"
     ]
    },
    {
     "name": "stderr",
     "output_type": "stream",
     "text": [
      "Train:  18%|█▊        | 1775/10125 [1:08:54<4:12:45,  1.82s/it]"
     ]
    },
    {
     "name": "stdout",
     "output_type": "stream",
     "text": [
      "{'loss': 1.47054892, 'grad_norm': 11.65736485, 'learning_rate': 5.56e-06, 'memory(GiB)': 2.74, 'train_speed(iter/s)': 0.429301, 'epoch': 0.88, 'global_step/max_steps': '1775/10125', 'percentage': '17.53%', 'elapsed_time': '1h 8m 54s', 'remaining_time': '5h 24m 8s'}\n"
     ]
    },
    {
     "name": "stderr",
     "output_type": "stream",
     "text": [
      "Train:  18%|█▊        | 1780/10125 [1:09:02<3:58:06,  1.71s/it]"
     ]
    },
    {
     "name": "stdout",
     "output_type": "stream",
     "text": [
      "{'loss': 1.62462349, 'grad_norm': 13.03159237, 'learning_rate': 5.55e-06, 'memory(GiB)': 2.74, 'train_speed(iter/s)': 0.429624, 'epoch': 0.88, 'global_step/max_steps': '1780/10125', 'percentage': '17.58%', 'elapsed_time': '1h 9m 2s', 'remaining_time': '5h 23m 42s'}\n"
     ]
    },
    {
     "name": "stderr",
     "output_type": "stream",
     "text": [
      "Train:  18%|█▊        | 1785/10125 [1:09:11<4:09:55,  1.80s/it]"
     ]
    },
    {
     "name": "stdout",
     "output_type": "stream",
     "text": [
      "{'loss': 1.52643614, 'grad_norm': 14.1011343, 'learning_rate': 5.55e-06, 'memory(GiB)': 2.74, 'train_speed(iter/s)': 0.429901, 'epoch': 0.88, 'global_step/max_steps': '1785/10125', 'percentage': '17.63%', 'elapsed_time': '1h 9m 11s', 'remaining_time': '5h 23m 18s'}\n"
     ]
    },
    {
     "name": "stderr",
     "output_type": "stream",
     "text": [
      "Train:  18%|█▊        | 1790/10125 [1:09:20<4:05:21,  1.77s/it]"
     ]
    },
    {
     "name": "stdout",
     "output_type": "stream",
     "text": [
      "{'loss': 1.37591667, 'grad_norm': 11.63853836, 'learning_rate': 5.55e-06, 'memory(GiB)': 2.74, 'train_speed(iter/s)': 0.430187, 'epoch': 0.88, 'global_step/max_steps': '1790/10125', 'percentage': '17.68%', 'elapsed_time': '1h 9m 20s', 'remaining_time': '5h 22m 53s'}\n"
     ]
    },
    {
     "name": "stderr",
     "output_type": "stream",
     "text": [
      "Train:  18%|█▊        | 1795/10125 [1:09:29<4:07:02,  1.78s/it]"
     ]
    },
    {
     "name": "stdout",
     "output_type": "stream",
     "text": [
      "{'loss': 1.38155851, 'grad_norm': 11.8478632, 'learning_rate': 5.55e-06, 'memory(GiB)': 2.74, 'train_speed(iter/s)': 0.43048, 'epoch': 0.89, 'global_step/max_steps': '1795/10125', 'percentage': '17.73%', 'elapsed_time': '1h 9m 29s', 'remaining_time': '5h 22m 29s'}\n"
     ]
    },
    {
     "name": "stderr",
     "output_type": "stream",
     "text": [
      "Train:  18%|█▊        | 1800/10125 [1:09:38<4:16:01,  1.85s/it]\n"
     ]
    },
    {
     "name": "stdout",
     "output_type": "stream",
     "text": [
      "{'loss': 1.26008081, 'grad_norm': 11.59480476, 'learning_rate': 5.54e-06, 'memory(GiB)': 2.74, 'train_speed(iter/s)': 0.430739, 'epoch': 0.89, 'global_step/max_steps': '1800/10125', 'percentage': '17.78%', 'elapsed_time': '1h 9m 38s', 'remaining_time': '5h 22m 5s'}\n"
     ]
    },
    {
     "name": "stderr",
     "output_type": "stream",
     "text": [
      "Val: 100%|██████████| 426/426 [00:49<00:00,  8.69it/s]1.85s/it]\n"
     ]
    },
    {
     "name": "stdout",
     "output_type": "stream",
     "text": [
      "{'eval_loss': 1.44858348, 'eval_margin': -0.01753253, 'eval_mean_neg': 0.90892828, 'eval_mean_pos': 0.9541285, 'eval_runtime': 49.1158, 'eval_samples_per_second': 52.061, 'eval_steps_per_second': 8.694, 'epoch': 0.89, 'global_step/max_steps': '1800/10125', 'percentage': '17.78%', 'elapsed_time': '1h 10m 27s', 'remaining_time': '5h 25m 53s'}\n"
     ]
    },
    {
     "name": "stderr",
     "output_type": "stream",
     "text": [
      "Train:  18%|█▊        | 1805/10125 [1:10:36<12:24:06,  5.37s/it]"
     ]
    },
    {
     "name": "stdout",
     "output_type": "stream",
     "text": [
      "{'loss': 1.39638023, 'grad_norm': 13.49860859, 'learning_rate': 5.54e-06, 'memory(GiB)': 2.74, 'train_speed(iter/s)': 0.425982, 'epoch': 0.89, 'global_step/max_steps': '1805/10125', 'percentage': '17.83%', 'elapsed_time': '1h 10m 36s', 'remaining_time': '5h 25m 29s'}\n"
     ]
    },
    {
     "name": "stderr",
     "output_type": "stream",
     "text": [
      "Train:  18%|█▊        | 1810/10125 [1:10:45<5:31:02,  2.39s/it] "
     ]
    },
    {
     "name": "stdout",
     "output_type": "stream",
     "text": [
      "{'loss': 1.68688774, 'grad_norm': 15.9849577, 'learning_rate': 5.54e-06, 'memory(GiB)': 2.74, 'train_speed(iter/s)': 0.426254, 'epoch': 0.89, 'global_step/max_steps': '1810/10125', 'percentage': '17.88%', 'elapsed_time': '1h 10m 45s', 'remaining_time': '5h 25m 5s'}\n"
     ]
    },
    {
     "name": "stderr",
     "output_type": "stream",
     "text": [
      "Train:  18%|█▊        | 1815/10125 [1:10:55<4:31:22,  1.96s/it]"
     ]
    },
    {
     "name": "stdout",
     "output_type": "stream",
     "text": [
      "{'loss': 1.34651566, 'grad_norm': 11.01726151, 'learning_rate': 5.54e-06, 'memory(GiB)': 2.74, 'train_speed(iter/s)': 0.426492, 'epoch': 0.9, 'global_step/max_steps': '1815/10125', 'percentage': '17.93%', 'elapsed_time': '1h 10m 55s', 'remaining_time': '5h 24m 43s'}\n"
     ]
    },
    {
     "name": "stderr",
     "output_type": "stream",
     "text": [
      "Train:  18%|█▊        | 1820/10125 [1:11:04<4:22:18,  1.90s/it]"
     ]
    },
    {
     "name": "stdout",
     "output_type": "stream",
     "text": [
      "{'loss': 1.54332724, 'grad_norm': 8.77801609, 'learning_rate': 5.53e-06, 'memory(GiB)': 2.74, 'train_speed(iter/s)': 0.426729, 'epoch': 0.9, 'global_step/max_steps': '1820/10125', 'percentage': '17.98%', 'elapsed_time': '1h 11m 4s', 'remaining_time': '5h 24m 20s'}\n"
     ]
    },
    {
     "name": "stderr",
     "output_type": "stream",
     "text": [
      "Train:  18%|█▊        | 1825/10125 [1:11:14<4:21:41,  1.89s/it]"
     ]
    },
    {
     "name": "stdout",
     "output_type": "stream",
     "text": [
      "{'loss': 1.41928673, 'grad_norm': 12.88572979, 'learning_rate': 5.53e-06, 'memory(GiB)': 2.74, 'train_speed(iter/s)': 0.426965, 'epoch': 0.9, 'global_step/max_steps': '1825/10125', 'percentage': '18.02%', 'elapsed_time': '1h 11m 14s', 'remaining_time': '5h 23m 58s'}\n"
     ]
    },
    {
     "name": "stderr",
     "output_type": "stream",
     "text": [
      "Train:  18%|█▊        | 1830/10125 [1:11:22<4:11:41,  1.82s/it]"
     ]
    },
    {
     "name": "stdout",
     "output_type": "stream",
     "text": [
      "{'loss': 1.62220688, 'grad_norm': 16.31161308, 'learning_rate': 5.53e-06, 'memory(GiB)': 2.74, 'train_speed(iter/s)': 0.427246, 'epoch': 0.9, 'global_step/max_steps': '1830/10125', 'percentage': '18.07%', 'elapsed_time': '1h 11m 22s', 'remaining_time': '5h 23m 33s'}\n"
     ]
    },
    {
     "name": "stderr",
     "output_type": "stream",
     "text": [
      "Train:  18%|█▊        | 1835/10125 [1:11:32<4:13:27,  1.83s/it]"
     ]
    },
    {
     "name": "stdout",
     "output_type": "stream",
     "text": [
      "{'loss': 1.52893105, 'grad_norm': 11.11052704, 'learning_rate': 5.53e-06, 'memory(GiB)': 2.74, 'train_speed(iter/s)': 0.427473, 'epoch': 0.91, 'global_step/max_steps': '1835/10125', 'percentage': '18.12%', 'elapsed_time': '1h 11m 32s', 'remaining_time': '5h 23m 11s'}\n"
     ]
    },
    {
     "name": "stderr",
     "output_type": "stream",
     "text": [
      "Train:  18%|█▊        | 1840/10125 [1:11:41<4:08:50,  1.80s/it]"
     ]
    },
    {
     "name": "stdout",
     "output_type": "stream",
     "text": [
      "{'loss': 1.55308857, 'grad_norm': 13.83308792, 'learning_rate': 5.52e-06, 'memory(GiB)': 2.74, 'train_speed(iter/s)': 0.427744, 'epoch': 0.91, 'global_step/max_steps': '1840/10125', 'percentage': '18.17%', 'elapsed_time': '1h 11m 41s', 'remaining_time': '5h 22m 47s'}\n"
     ]
    },
    {
     "name": "stderr",
     "output_type": "stream",
     "text": [
      "Train:  18%|█▊        | 1845/10125 [1:11:50<4:03:32,  1.76s/it]"
     ]
    },
    {
     "name": "stdout",
     "output_type": "stream",
     "text": [
      "{'loss': 1.3641366, 'grad_norm': 10.96621132, 'learning_rate': 5.52e-06, 'memory(GiB)': 2.74, 'train_speed(iter/s)': 0.428034, 'epoch': 0.91, 'global_step/max_steps': '1845/10125', 'percentage': '18.22%', 'elapsed_time': '1h 11m 50s', 'remaining_time': '5h 22m 22s'}\n"
     ]
    },
    {
     "name": "stderr",
     "output_type": "stream",
     "text": [
      "Train:  18%|█▊        | 1850/10125 [1:11:59<4:08:14,  1.80s/it]"
     ]
    },
    {
     "name": "stdout",
     "output_type": "stream",
     "text": [
      "{'loss': 1.44577847, 'grad_norm': 12.7329073, 'learning_rate': 5.52e-06, 'memory(GiB)': 2.74, 'train_speed(iter/s)': 0.428298, 'epoch': 0.91, 'global_step/max_steps': '1850/10125', 'percentage': '18.27%', 'elapsed_time': '1h 11m 59s', 'remaining_time': '5h 21m 59s'}\n"
     ]
    },
    {
     "name": "stderr",
     "output_type": "stream",
     "text": [
      "Train:  18%|█▊        | 1855/10125 [1:12:09<4:41:53,  2.05s/it]"
     ]
    },
    {
     "name": "stdout",
     "output_type": "stream",
     "text": [
      "{'loss': 1.62134895, 'grad_norm': 13.09320831, 'learning_rate': 5.52e-06, 'memory(GiB)': 2.74, 'train_speed(iter/s)': 0.42843, 'epoch': 0.92, 'global_step/max_steps': '1855/10125', 'percentage': '18.32%', 'elapsed_time': '1h 12m 9s', 'remaining_time': '5h 21m 41s'}\n"
     ]
    },
    {
     "name": "stderr",
     "output_type": "stream",
     "text": [
      "Train:  18%|█▊        | 1860/10125 [1:12:18<4:11:17,  1.82s/it]"
     ]
    },
    {
     "name": "stdout",
     "output_type": "stream",
     "text": [
      "{'loss': 1.32036428, 'grad_norm': 12.110466, 'learning_rate': 5.51e-06, 'memory(GiB)': 2.74, 'train_speed(iter/s)': 0.428678, 'epoch': 0.92, 'global_step/max_steps': '1860/10125', 'percentage': '18.37%', 'elapsed_time': '1h 12m 18s', 'remaining_time': '5h 21m 18s'}\n"
     ]
    },
    {
     "name": "stderr",
     "output_type": "stream",
     "text": [
      "Train:  18%|█▊        | 1865/10125 [1:12:27<4:06:03,  1.79s/it]"
     ]
    },
    {
     "name": "stdout",
     "output_type": "stream",
     "text": [
      "{'loss': 1.49208441, 'grad_norm': 10.27713871, 'learning_rate': 5.51e-06, 'memory(GiB)': 2.74, 'train_speed(iter/s)': 0.428947, 'epoch': 0.92, 'global_step/max_steps': '1865/10125', 'percentage': '18.42%', 'elapsed_time': '1h 12m 27s', 'remaining_time': '5h 20m 55s'}\n"
     ]
    },
    {
     "name": "stderr",
     "output_type": "stream",
     "text": [
      "Train:  18%|█▊        | 1870/10125 [1:12:36<4:03:51,  1.77s/it]"
     ]
    },
    {
     "name": "stdout",
     "output_type": "stream",
     "text": [
      "{'loss': 1.60235538, 'grad_norm': 14.76849842, 'learning_rate': 5.51e-06, 'memory(GiB)': 2.74, 'train_speed(iter/s)': 0.429236, 'epoch': 0.92, 'global_step/max_steps': '1870/10125', 'percentage': '18.47%', 'elapsed_time': '1h 12m 36s', 'remaining_time': '5h 20m 30s'}\n"
     ]
    },
    {
     "name": "stderr",
     "output_type": "stream",
     "text": [
      "Train:  19%|█▊        | 1875/10125 [1:12:45<4:15:35,  1.86s/it]"
     ]
    },
    {
     "name": "stdout",
     "output_type": "stream",
     "text": [
      "{'loss': 1.39563684, 'grad_norm': 14.31850529, 'learning_rate': 5.51e-06, 'memory(GiB)': 2.74, 'train_speed(iter/s)': 0.42945, 'epoch': 0.93, 'global_step/max_steps': '1875/10125', 'percentage': '18.52%', 'elapsed_time': '1h 12m 45s', 'remaining_time': '5h 20m 9s'}\n"
     ]
    },
    {
     "name": "stderr",
     "output_type": "stream",
     "text": [
      "Train:  19%|█▊        | 1880/10125 [1:12:55<4:22:56,  1.91s/it]"
     ]
    },
    {
     "name": "stdout",
     "output_type": "stream",
     "text": [
      "{'loss': 1.40765572, 'grad_norm': 11.58334827, 'learning_rate': 5.5e-06, 'memory(GiB)': 2.74, 'train_speed(iter/s)': 0.429655, 'epoch': 0.93, 'global_step/max_steps': '1880/10125', 'percentage': '18.57%', 'elapsed_time': '1h 12m 55s', 'remaining_time': '5h 19m 48s'}\n"
     ]
    },
    {
     "name": "stderr",
     "output_type": "stream",
     "text": [
      "Train:  19%|█▊        | 1885/10125 [1:13:04<4:10:03,  1.82s/it]"
     ]
    },
    {
     "name": "stdout",
     "output_type": "stream",
     "text": [
      "{'loss': 1.41837006, 'grad_norm': 10.42914391, 'learning_rate': 5.5e-06, 'memory(GiB)': 2.74, 'train_speed(iter/s)': 0.429914, 'epoch': 0.93, 'global_step/max_steps': '1885/10125', 'percentage': '18.62%', 'elapsed_time': '1h 13m 4s', 'remaining_time': '5h 19m 25s'}\n"
     ]
    },
    {
     "name": "stderr",
     "output_type": "stream",
     "text": [
      "Train:  19%|█▊        | 1890/10125 [1:13:13<4:05:48,  1.79s/it]"
     ]
    },
    {
     "name": "stdout",
     "output_type": "stream",
     "text": [
      "{'loss': 1.48539181, 'grad_norm': 12.34228992, 'learning_rate': 5.5e-06, 'memory(GiB)': 2.74, 'train_speed(iter/s)': 0.430164, 'epoch': 0.93, 'global_step/max_steps': '1890/10125', 'percentage': '18.67%', 'elapsed_time': '1h 13m 13s', 'remaining_time': '5h 19m 2s'}\n"
     ]
    },
    {
     "name": "stderr",
     "output_type": "stream",
     "text": [
      "Train:  19%|█▊        | 1895/10125 [1:13:22<4:11:10,  1.83s/it]"
     ]
    },
    {
     "name": "stdout",
     "output_type": "stream",
     "text": [
      "{'loss': 1.4264802, 'grad_norm': 11.27575207, 'learning_rate': 5.5e-06, 'memory(GiB)': 2.74, 'train_speed(iter/s)': 0.430413, 'epoch': 0.94, 'global_step/max_steps': '1895/10125', 'percentage': '18.72%', 'elapsed_time': '1h 13m 22s', 'remaining_time': '5h 18m 39s'}\n"
     ]
    },
    {
     "name": "stderr",
     "output_type": "stream",
     "text": [
      "Train:  19%|█▉        | 1900/10125 [1:13:31<4:08:41,  1.81s/it]\n"
     ]
    },
    {
     "name": "stdout",
     "output_type": "stream",
     "text": [
      "{'loss': 1.49730244, 'grad_norm': 12.8145628, 'learning_rate': 5.49e-06, 'memory(GiB)': 2.74, 'train_speed(iter/s)': 0.430674, 'epoch': 0.94, 'global_step/max_steps': '1900/10125', 'percentage': '18.77%', 'elapsed_time': '1h 13m 31s', 'remaining_time': '5h 18m 16s'}\n"
     ]
    },
    {
     "name": "stderr",
     "output_type": "stream",
     "text": [
      "Val: 100%|██████████| 426/426 [00:49<00:00,  8.60it/s]1.81s/it]\n"
     ]
    },
    {
     "name": "stdout",
     "output_type": "stream",
     "text": [
      "{'eval_loss': 1.43519962, 'eval_margin': -0.01835913, 'eval_mean_neg': 0.90392792, 'eval_mean_pos': 0.94985926, 'eval_runtime': 49.6691, 'eval_samples_per_second': 51.481, 'eval_steps_per_second': 8.597, 'epoch': 0.94, 'global_step/max_steps': '1900/10125', 'percentage': '18.77%', 'elapsed_time': '1h 14m 21s', 'remaining_time': '5h 21m 51s'}\n"
     ]
    },
    {
     "name": "stderr",
     "output_type": "stream",
     "text": [
      "Train:  19%|█▉        | 1905/10125 [1:14:30<12:17:35,  5.38s/it]"
     ]
    },
    {
     "name": "stdout",
     "output_type": "stream",
     "text": [
      "{'loss': 1.75355396, 'grad_norm': 12.78547192, 'learning_rate': 5.49e-06, 'memory(GiB)': 2.74, 'train_speed(iter/s)': 0.42612, 'epoch': 0.94, 'global_step/max_steps': '1905/10125', 'percentage': '18.81%', 'elapsed_time': '1h 14m 30s', 'remaining_time': '5h 21m 29s'}\n"
     ]
    },
    {
     "name": "stderr",
     "output_type": "stream",
     "text": [
      "Train:  19%|█▉        | 1910/10125 [1:14:39<5:37:10,  2.46s/it] "
     ]
    },
    {
     "name": "stdout",
     "output_type": "stream",
     "text": [
      "{'loss': 1.48884325, 'grad_norm': 12.92162609, 'learning_rate': 5.49e-06, 'memory(GiB)': 2.74, 'train_speed(iter/s)': 0.426342, 'epoch': 0.94, 'global_step/max_steps': '1910/10125', 'percentage': '18.86%', 'elapsed_time': '1h 14m 39s', 'remaining_time': '5h 21m 7s'}\n"
     ]
    },
    {
     "name": "stderr",
     "output_type": "stream",
     "text": [
      "Train:  19%|█▉        | 1915/10125 [1:14:48<4:18:58,  1.89s/it]"
     ]
    },
    {
     "name": "stdout",
     "output_type": "stream",
     "text": [
      "{'loss': 1.53887749, 'grad_norm': 14.71644402, 'learning_rate': 5.49e-06, 'memory(GiB)': 2.74, 'train_speed(iter/s)': 0.4266, 'epoch': 0.95, 'global_step/max_steps': '1915/10125', 'percentage': '18.91%', 'elapsed_time': '1h 14m 48s', 'remaining_time': '5h 20m 43s'}\n"
     ]
    },
    {
     "name": "stderr",
     "output_type": "stream",
     "text": [
      "Train:  19%|█▉        | 1920/10125 [1:14:57<4:15:04,  1.87s/it]"
     ]
    },
    {
     "name": "stdout",
     "output_type": "stream",
     "text": [
      "{'loss': 1.29687948, 'grad_norm': 13.22344017, 'learning_rate': 5.48e-06, 'memory(GiB)': 2.74, 'train_speed(iter/s)': 0.426846, 'epoch': 0.95, 'global_step/max_steps': '1920/10125', 'percentage': '18.96%', 'elapsed_time': '1h 14m 57s', 'remaining_time': '5h 20m 21s'}\n"
     ]
    },
    {
     "name": "stderr",
     "output_type": "stream",
     "text": [
      "Train:  19%|█▉        | 1925/10125 [1:15:06<4:11:00,  1.84s/it]"
     ]
    },
    {
     "name": "stdout",
     "output_type": "stream",
     "text": [
      "{'loss': 1.64932308, 'grad_norm': 12.68533802, 'learning_rate': 5.48e-06, 'memory(GiB)': 2.74, 'train_speed(iter/s)': 0.427105, 'epoch': 0.95, 'global_step/max_steps': '1925/10125', 'percentage': '19.01%', 'elapsed_time': '1h 15m 6s', 'remaining_time': '5h 19m 57s'}\n"
     ]
    },
    {
     "name": "stderr",
     "output_type": "stream",
     "text": [
      "Train:  19%|█▉        | 1930/10125 [1:15:15<4:10:22,  1.83s/it]"
     ]
    },
    {
     "name": "stdout",
     "output_type": "stream",
     "text": [
      "{'loss': 1.53337727, 'grad_norm': 12.51808167, 'learning_rate': 5.48e-06, 'memory(GiB)': 2.74, 'train_speed(iter/s)': 0.427349, 'epoch': 0.95, 'global_step/max_steps': '1930/10125', 'percentage': '19.06%', 'elapsed_time': '1h 15m 15s', 'remaining_time': '5h 19m 35s'}\n"
     ]
    },
    {
     "name": "stderr",
     "output_type": "stream",
     "text": [
      "Train:  19%|█▉        | 1935/10125 [1:15:25<4:25:36,  1.95s/it]"
     ]
    },
    {
     "name": "stdout",
     "output_type": "stream",
     "text": [
      "{'loss': 1.61343441, 'grad_norm': 12.35048008, 'learning_rate': 5.48e-06, 'memory(GiB)': 2.74, 'train_speed(iter/s)': 0.427515, 'epoch': 0.96, 'global_step/max_steps': '1935/10125', 'percentage': '19.11%', 'elapsed_time': '1h 15m 25s', 'remaining_time': '5h 19m 15s'}\n"
     ]
    },
    {
     "name": "stderr",
     "output_type": "stream",
     "text": [
      "Train:  19%|█▉        | 1940/10125 [1:15:34<4:09:00,  1.83s/it]"
     ]
    },
    {
     "name": "stdout",
     "output_type": "stream",
     "text": [
      "{'loss': 1.50821095, 'grad_norm': 12.2324934, 'learning_rate': 5.47e-06, 'memory(GiB)': 2.74, 'train_speed(iter/s)': 0.427771, 'epoch': 0.96, 'global_step/max_steps': '1940/10125', 'percentage': '19.16%', 'elapsed_time': '1h 15m 34s', 'remaining_time': '5h 18m 52s'}\n"
     ]
    },
    {
     "name": "stderr",
     "output_type": "stream",
     "text": [
      "Train:  19%|█▉        | 1945/10125 [1:15:44<4:13:43,  1.86s/it]"
     ]
    },
    {
     "name": "stdout",
     "output_type": "stream",
     "text": [
      "{'loss': 1.46842642, 'grad_norm': 11.16251945, 'learning_rate': 5.47e-06, 'memory(GiB)': 2.74, 'train_speed(iter/s)': 0.427986, 'epoch': 0.96, 'global_step/max_steps': '1945/10125', 'percentage': '19.21%', 'elapsed_time': '1h 15m 44s', 'remaining_time': '5h 18m 31s'}\n"
     ]
    },
    {
     "name": "stderr",
     "output_type": "stream",
     "text": [
      "Train:  19%|█▉        | 1950/10125 [1:15:53<4:03:16,  1.79s/it]"
     ]
    },
    {
     "name": "stdout",
     "output_type": "stream",
     "text": [
      "{'loss': 1.51282434, 'grad_norm': 16.16453171, 'learning_rate': 5.47e-06, 'memory(GiB)': 2.74, 'train_speed(iter/s)': 0.428229, 'epoch': 0.96, 'global_step/max_steps': '1950/10125', 'percentage': '19.26%', 'elapsed_time': '1h 15m 53s', 'remaining_time': '5h 18m 8s'}\n"
     ]
    },
    {
     "name": "stderr",
     "output_type": "stream",
     "text": [
      "Train:  19%|█▉        | 1955/10125 [1:16:02<4:10:20,  1.84s/it]"
     ]
    },
    {
     "name": "stdout",
     "output_type": "stream",
     "text": [
      "{'loss': 1.48959169, 'grad_norm': 10.66917896, 'learning_rate': 5.46e-06, 'memory(GiB)': 2.74, 'train_speed(iter/s)': 0.42845, 'epoch': 0.97, 'global_step/max_steps': '1955/10125', 'percentage': '19.31%', 'elapsed_time': '1h 16m 2s', 'remaining_time': '5h 17m 47s'}\n"
     ]
    },
    {
     "name": "stderr",
     "output_type": "stream",
     "text": [
      "Train:  19%|█▉        | 1960/10125 [1:16:11<4:11:43,  1.85s/it]"
     ]
    },
    {
     "name": "stdout",
     "output_type": "stream",
     "text": [
      "{'loss': 1.49507771, 'grad_norm': 12.79098892, 'learning_rate': 5.46e-06, 'memory(GiB)': 2.74, 'train_speed(iter/s)': 0.42868, 'epoch': 0.97, 'global_step/max_steps': '1960/10125', 'percentage': '19.36%', 'elapsed_time': '1h 16m 11s', 'remaining_time': '5h 17m 25s'}\n"
     ]
    },
    {
     "name": "stderr",
     "output_type": "stream",
     "text": [
      "Train:  19%|█▉        | 1965/10125 [1:16:21<4:10:43,  1.84s/it]"
     ]
    },
    {
     "name": "stdout",
     "output_type": "stream",
     "text": [
      "{'loss': 1.3025528, 'grad_norm': 12.44906902, 'learning_rate': 5.46e-06, 'memory(GiB)': 2.74, 'train_speed(iter/s)': 0.428903, 'epoch': 0.97, 'global_step/max_steps': '1965/10125', 'percentage': '19.41%', 'elapsed_time': '1h 16m 21s', 'remaining_time': '5h 17m 3s'}\n"
     ]
    },
    {
     "name": "stderr",
     "output_type": "stream",
     "text": [
      "Train:  19%|█▉        | 1970/10125 [1:16:30<4:10:19,  1.84s/it]"
     ]
    },
    {
     "name": "stdout",
     "output_type": "stream",
     "text": [
      "{'loss': 1.51301126, 'grad_norm': 9.45337963, 'learning_rate': 5.46e-06, 'memory(GiB)': 2.74, 'train_speed(iter/s)': 0.42912, 'epoch': 0.97, 'global_step/max_steps': '1970/10125', 'percentage': '19.46%', 'elapsed_time': '1h 16m 30s', 'remaining_time': '5h 16m 42s'}\n"
     ]
    },
    {
     "name": "stderr",
     "output_type": "stream",
     "text": [
      "Train:  20%|█▉        | 1975/10125 [1:16:39<4:07:46,  1.82s/it]"
     ]
    },
    {
     "name": "stdout",
     "output_type": "stream",
     "text": [
      "{'loss': 1.52738361, 'grad_norm': 11.49876308, 'learning_rate': 5.45e-06, 'memory(GiB)': 2.74, 'train_speed(iter/s)': 0.429365, 'epoch': 0.98, 'global_step/max_steps': '1975/10125', 'percentage': '19.51%', 'elapsed_time': '1h 16m 39s', 'remaining_time': '5h 16m 20s'}\n"
     ]
    },
    {
     "name": "stderr",
     "output_type": "stream",
     "text": [
      "Train:  20%|█▉        | 1980/10125 [1:16:48<4:13:51,  1.87s/it]"
     ]
    },
    {
     "name": "stdout",
     "output_type": "stream",
     "text": [
      "{'loss': 1.43533859, 'grad_norm': 12.95760441, 'learning_rate': 5.45e-06, 'memory(GiB)': 2.74, 'train_speed(iter/s)': 0.429576, 'epoch': 0.98, 'global_step/max_steps': '1980/10125', 'percentage': '19.56%', 'elapsed_time': '1h 16m 48s', 'remaining_time': '5h 15m 59s'}\n"
     ]
    },
    {
     "name": "stderr",
     "output_type": "stream",
     "text": [
      "Train:  20%|█▉        | 1985/10125 [1:16:57<4:07:43,  1.83s/it]"
     ]
    },
    {
     "name": "stdout",
     "output_type": "stream",
     "text": [
      "{'loss': 1.50097609, 'grad_norm': 10.8321085, 'learning_rate': 5.45e-06, 'memory(GiB)': 2.74, 'train_speed(iter/s)': 0.429818, 'epoch': 0.98, 'global_step/max_steps': '1985/10125', 'percentage': '19.60%', 'elapsed_time': '1h 16m 57s', 'remaining_time': '5h 15m 37s'}\n"
     ]
    },
    {
     "name": "stderr",
     "output_type": "stream",
     "text": [
      "Train:  20%|█▉        | 1990/10125 [1:17:07<4:13:10,  1.87s/it]"
     ]
    },
    {
     "name": "stdout",
     "output_type": "stream",
     "text": [
      "{'loss': 1.52349625, 'grad_norm': 10.36356735, 'learning_rate': 5.45e-06, 'memory(GiB)': 2.74, 'train_speed(iter/s)': 0.43003, 'epoch': 0.98, 'global_step/max_steps': '1990/10125', 'percentage': '19.65%', 'elapsed_time': '1h 17m 7s', 'remaining_time': '5h 15m 16s'}\n"
     ]
    },
    {
     "name": "stderr",
     "output_type": "stream",
     "text": [
      "Train:  20%|█▉        | 1995/10125 [1:17:16<4:12:29,  1.86s/it]"
     ]
    },
    {
     "name": "stdout",
     "output_type": "stream",
     "text": [
      "{'loss': 1.3626008, 'grad_norm': 10.72298145, 'learning_rate': 5.44e-06, 'memory(GiB)': 2.74, 'train_speed(iter/s)': 0.43024, 'epoch': 0.99, 'global_step/max_steps': '1995/10125', 'percentage': '19.70%', 'elapsed_time': '1h 17m 16s', 'remaining_time': '5h 14m 55s'}\n"
     ]
    },
    {
     "name": "stderr",
     "output_type": "stream",
     "text": [
      "Train:  20%|█▉        | 2000/10125 [1:17:25<4:14:48,  1.88s/it]\n"
     ]
    },
    {
     "name": "stdout",
     "output_type": "stream",
     "text": [
      "{'loss': 1.83585243, 'grad_norm': 13.00303936, 'learning_rate': 5.44e-06, 'memory(GiB)': 2.74, 'train_speed(iter/s)': 0.430454, 'epoch': 0.99, 'global_step/max_steps': '2000/10125', 'percentage': '19.75%', 'elapsed_time': '1h 17m 25s', 'remaining_time': '5h 14m 34s'}\n"
     ]
    },
    {
     "name": "stderr",
     "output_type": "stream",
     "text": [
      "Val: 100%|██████████| 426/426 [00:49<00:00,  8.68it/s]1.88s/it]\n"
     ]
    },
    {
     "name": "stdout",
     "output_type": "stream",
     "text": [
      "{'eval_loss': 1.42318726, 'eval_margin': -0.01791371, 'eval_mean_neg': 0.90611291, 'eval_mean_pos': 0.95077002, 'eval_runtime': 49.2191, 'eval_samples_per_second': 51.951, 'eval_steps_per_second': 8.675, 'epoch': 0.99, 'global_step/max_steps': '2000/10125', 'percentage': '19.75%', 'elapsed_time': '1h 18m 15s', 'remaining_time': '5h 17m 54s'}\n"
     ]
    },
    {
     "name": "stderr",
     "output_type": "stream",
     "text": [
      "[INFO:swift] Saving model checkpoint to d:\\Projects\\hyperbook-weaver\\models\\v0-20250626-170913\\checkpoint-2000\n",
      "Train:  20%|█▉        | 2005/10125 [1:18:24<12:11:14,  5.40s/it]"
     ]
    },
    {
     "name": "stdout",
     "output_type": "stream",
     "text": [
      "{'loss': 1.51750193, 'grad_norm': 14.12107849, 'learning_rate': 5.44e-06, 'memory(GiB)': 2.74, 'train_speed(iter/s)': 0.426131, 'epoch': 0.99, 'global_step/max_steps': '2005/10125', 'percentage': '19.80%', 'elapsed_time': '1h 18m 24s', 'remaining_time': '5h 17m 33s'}\n"
     ]
    },
    {
     "name": "stderr",
     "output_type": "stream",
     "text": [
      "Train:  20%|█▉        | 2010/10125 [1:18:34<5:26:36,  2.41s/it] "
     ]
    },
    {
     "name": "stdout",
     "output_type": "stream",
     "text": [
      "{'loss': 1.52398558, 'grad_norm': 10.63825035, 'learning_rate': 5.44e-06, 'memory(GiB)': 2.74, 'train_speed(iter/s)': 0.426362, 'epoch': 0.99, 'global_step/max_steps': '2010/10125', 'percentage': '19.85%', 'elapsed_time': '1h 18m 34s', 'remaining_time': '5h 17m 11s'}\n"
     ]
    },
    {
     "name": "stderr",
     "output_type": "stream",
     "text": [
      "Train:  20%|█▉        | 2015/10125 [1:18:43<4:23:38,  1.95s/it]"
     ]
    },
    {
     "name": "stdout",
     "output_type": "stream",
     "text": [
      "{'loss': 1.485923, 'grad_norm': 10.97129631, 'learning_rate': 5.43e-06, 'memory(GiB)': 2.74, 'train_speed(iter/s)': 0.42658, 'epoch': 1.0, 'global_step/max_steps': '2015/10125', 'percentage': '19.90%', 'elapsed_time': '1h 18m 43s', 'remaining_time': '5h 16m 50s'}\n"
     ]
    },
    {
     "name": "stderr",
     "output_type": "stream",
     "text": [
      "Train:  20%|█▉        | 2020/10125 [1:18:52<4:08:21,  1.84s/it]"
     ]
    },
    {
     "name": "stdout",
     "output_type": "stream",
     "text": [
      "{'loss': 1.26227074, 'grad_norm': 12.90277863, 'learning_rate': 5.43e-06, 'memory(GiB)': 2.74, 'train_speed(iter/s)': 0.426818, 'epoch': 1.0, 'global_step/max_steps': '2020/10125', 'percentage': '19.95%', 'elapsed_time': '1h 18m 52s', 'remaining_time': '5h 16m 28s'}\n"
     ]
    },
    {
     "name": "stderr",
     "output_type": "stream",
     "text": [
      "Train:  20%|██        | 2025/10125 [1:19:00<3:31:28,  1.57s/it]"
     ]
    },
    {
     "name": "stdout",
     "output_type": "stream",
     "text": [
      "{'loss': 1.10338583, 'grad_norm': 7.98169613, 'learning_rate': 5.43e-06, 'memory(GiB)': 2.74, 'train_speed(iter/s)': 0.42712, 'epoch': 1.0, 'global_step/max_steps': '2025/10125', 'percentage': '20.00%', 'elapsed_time': '1h 19m 0s', 'remaining_time': '5h 16m 3s'}\n"
     ]
    },
    {
     "name": "stderr",
     "output_type": "stream",
     "text": [
      "Train:  20%|██        | 2030/10125 [1:19:09<4:00:22,  1.78s/it]"
     ]
    },
    {
     "name": "stdout",
     "output_type": "stream",
     "text": [
      "{'loss': 1.29908628, 'grad_norm': 13.13282108, 'learning_rate': 5.42e-06, 'memory(GiB)': 2.74, 'train_speed(iter/s)': 0.427357, 'epoch': 1.0, 'global_step/max_steps': '2030/10125', 'percentage': '20.05%', 'elapsed_time': '1h 19m 9s', 'remaining_time': '5h 15m 40s'}\n"
     ]
    },
    {
     "name": "stderr",
     "output_type": "stream",
     "text": [
      "Train:  20%|██        | 2035/10125 [1:19:19<4:12:12,  1.87s/it]"
     ]
    },
    {
     "name": "stdout",
     "output_type": "stream",
     "text": [
      "{'loss': 1.26872978, 'grad_norm': 10.85861397, 'learning_rate': 5.42e-06, 'memory(GiB)': 2.74, 'train_speed(iter/s)': 0.427563, 'epoch': 1.0, 'global_step/max_steps': '2035/10125', 'percentage': '20.10%', 'elapsed_time': '1h 19m 19s', 'remaining_time': '5h 15m 19s'}\n"
     ]
    },
    {
     "name": "stderr",
     "output_type": "stream",
     "text": [
      "Train:  20%|██        | 2040/10125 [1:19:28<4:08:16,  1.84s/it]"
     ]
    },
    {
     "name": "stdout",
     "output_type": "stream",
     "text": [
      "{'loss': 1.46674471, 'grad_norm': 11.76733685, 'learning_rate': 5.42e-06, 'memory(GiB)': 2.74, 'train_speed(iter/s)': 0.427778, 'epoch': 1.01, 'global_step/max_steps': '2040/10125', 'percentage': '20.15%', 'elapsed_time': '1h 19m 28s', 'remaining_time': '5h 14m 58s'}\n"
     ]
    },
    {
     "name": "stderr",
     "output_type": "stream",
     "text": [
      "Train:  20%|██        | 2045/10125 [1:19:37<4:07:39,  1.84s/it]"
     ]
    },
    {
     "name": "stdout",
     "output_type": "stream",
     "text": [
      "{'loss': 1.30789614, 'grad_norm': 10.25643635, 'learning_rate': 5.42e-06, 'memory(GiB)': 2.74, 'train_speed(iter/s)': 0.428002, 'epoch': 1.01, 'global_step/max_steps': '2045/10125', 'percentage': '20.20%', 'elapsed_time': '1h 19m 37s', 'remaining_time': '5h 14m 37s'}\n"
     ]
    },
    {
     "name": "stderr",
     "output_type": "stream",
     "text": [
      "Train:  20%|██        | 2050/10125 [1:19:46<4:07:06,  1.84s/it]"
     ]
    },
    {
     "name": "stdout",
     "output_type": "stream",
     "text": [
      "{'loss': 1.39044666, 'grad_norm': 12.85475254, 'learning_rate': 5.41e-06, 'memory(GiB)': 2.74, 'train_speed(iter/s)': 0.428224, 'epoch': 1.01, 'global_step/max_steps': '2050/10125', 'percentage': '20.25%', 'elapsed_time': '1h 19m 46s', 'remaining_time': '5h 14m 15s'}\n"
     ]
    },
    {
     "name": "stderr",
     "output_type": "stream",
     "text": [
      "Train:  20%|██        | 2055/10125 [1:19:56<4:20:25,  1.94s/it]"
     ]
    },
    {
     "name": "stdout",
     "output_type": "stream",
     "text": [
      "{'loss': 1.39877996, 'grad_norm': 12.78738976, 'learning_rate': 5.41e-06, 'memory(GiB)': 2.74, 'train_speed(iter/s)': 0.428395, 'epoch': 1.01, 'global_step/max_steps': '2055/10125', 'percentage': '20.30%', 'elapsed_time': '1h 19m 56s', 'remaining_time': '5h 13m 56s'}\n"
     ]
    },
    {
     "name": "stderr",
     "output_type": "stream",
     "text": [
      "Train:  20%|██        | 2060/10125 [1:20:05<4:10:50,  1.87s/it]"
     ]
    },
    {
     "name": "stdout",
     "output_type": "stream",
     "text": [
      "{'loss': 1.35525236, 'grad_norm': 11.28110123, 'learning_rate': 5.41e-06, 'memory(GiB)': 2.74, 'train_speed(iter/s)': 0.428609, 'epoch': 1.02, 'global_step/max_steps': '2060/10125', 'percentage': '20.35%', 'elapsed_time': '1h 20m 5s', 'remaining_time': '5h 13m 35s'}\n"
     ]
    },
    {
     "name": "stderr",
     "output_type": "stream",
     "text": [
      "Train:  20%|██        | 2065/10125 [1:20:15<4:09:09,  1.85s/it]"
     ]
    },
    {
     "name": "stdout",
     "output_type": "stream",
     "text": [
      "{'loss': 1.71363773, 'grad_norm': 13.44770145, 'learning_rate': 5.4e-06, 'memory(GiB)': 2.74, 'train_speed(iter/s)': 0.42884, 'epoch': 1.02, 'global_step/max_steps': '2065/10125', 'percentage': '20.40%', 'elapsed_time': '1h 20m 15s', 'remaining_time': '5h 13m 13s'}\n"
     ]
    },
    {
     "name": "stderr",
     "output_type": "stream",
     "text": [
      "Train:  20%|██        | 2070/10125 [1:20:24<4:10:12,  1.86s/it]"
     ]
    },
    {
     "name": "stdout",
     "output_type": "stream",
     "text": [
      "{'loss': 1.63526955, 'grad_norm': 14.62539673, 'learning_rate': 5.4e-06, 'memory(GiB)': 2.74, 'train_speed(iter/s)': 0.429056, 'epoch': 1.02, 'global_step/max_steps': '2070/10125', 'percentage': '20.44%', 'elapsed_time': '1h 20m 24s', 'remaining_time': '5h 12m 52s'}\n"
     ]
    },
    {
     "name": "stderr",
     "output_type": "stream",
     "text": [
      "Train:  20%|██        | 2075/10125 [1:20:33<4:03:13,  1.81s/it]"
     ]
    },
    {
     "name": "stdout",
     "output_type": "stream",
     "text": [
      "{'loss': 1.38910484, 'grad_norm': 12.11164761, 'learning_rate': 5.4e-06, 'memory(GiB)': 2.74, 'train_speed(iter/s)': 0.429276, 'epoch': 1.02, 'global_step/max_steps': '2075/10125', 'percentage': '20.49%', 'elapsed_time': '1h 20m 33s', 'remaining_time': '5h 12m 31s'}\n"
     ]
    },
    {
     "name": "stderr",
     "output_type": "stream",
     "text": [
      "Train:  21%|██        | 2080/10125 [1:20:42<4:06:15,  1.84s/it]"
     ]
    },
    {
     "name": "stdout",
     "output_type": "stream",
     "text": [
      "{'loss': 1.33912964, 'grad_norm': 10.35518837, 'learning_rate': 5.4e-06, 'memory(GiB)': 2.74, 'train_speed(iter/s)': 0.42951, 'epoch': 1.03, 'global_step/max_steps': '2080/10125', 'percentage': '20.54%', 'elapsed_time': '1h 20m 42s', 'remaining_time': '5h 12m 9s'}\n"
     ]
    },
    {
     "name": "stderr",
     "output_type": "stream",
     "text": [
      "Train:  21%|██        | 2085/10125 [1:20:52<4:23:11,  1.96s/it]"
     ]
    },
    {
     "name": "stdout",
     "output_type": "stream",
     "text": [
      "{'loss': 1.41393003, 'grad_norm': 10.04706192, 'learning_rate': 5.39e-06, 'memory(GiB)': 2.74, 'train_speed(iter/s)': 0.429681, 'epoch': 1.03, 'global_step/max_steps': '2085/10125', 'percentage': '20.59%', 'elapsed_time': '1h 20m 52s', 'remaining_time': '5h 11m 50s'}\n"
     ]
    },
    {
     "name": "stderr",
     "output_type": "stream",
     "text": [
      "Train:  21%|██        | 2090/10125 [1:21:01<4:09:55,  1.87s/it]"
     ]
    },
    {
     "name": "stdout",
     "output_type": "stream",
     "text": [
      "{'loss': 1.58607378, 'grad_norm': 11.37564564, 'learning_rate': 5.39e-06, 'memory(GiB)': 2.74, 'train_speed(iter/s)': 0.429893, 'epoch': 1.03, 'global_step/max_steps': '2090/10125', 'percentage': '20.64%', 'elapsed_time': '1h 21m 1s', 'remaining_time': '5h 11m 29s'}\n"
     ]
    },
    {
     "name": "stderr",
     "output_type": "stream",
     "text": [
      "Train:  21%|██        | 2095/10125 [1:21:10<4:05:14,  1.83s/it]"
     ]
    },
    {
     "name": "stdout",
     "output_type": "stream",
     "text": [
      "{'loss': 1.65606537, 'grad_norm': 12.56847382, 'learning_rate': 5.39e-06, 'memory(GiB)': 2.74, 'train_speed(iter/s)': 0.430116, 'epoch': 1.03, 'global_step/max_steps': '2095/10125', 'percentage': '20.69%', 'elapsed_time': '1h 21m 10s', 'remaining_time': '5h 11m 8s'}\n"
     ]
    },
    {
     "name": "stderr",
     "output_type": "stream",
     "text": [
      "Train:  21%|██        | 2100/10125 [1:21:19<3:58:28,  1.78s/it]\n"
     ]
    },
    {
     "name": "stdout",
     "output_type": "stream",
     "text": [
      "{'loss': 1.49853535, 'grad_norm': 15.32149506, 'learning_rate': 5.39e-06, 'memory(GiB)': 2.74, 'train_speed(iter/s)': 0.43036, 'epoch': 1.04, 'global_step/max_steps': '2100/10125', 'percentage': '20.74%', 'elapsed_time': '1h 21m 19s', 'remaining_time': '5h 10m 46s'}\n"
     ]
    },
    {
     "name": "stderr",
     "output_type": "stream",
     "text": [
      "Val: 100%|██████████| 426/426 [00:58<00:00,  7.27it/s]1.78s/it]\n"
     ]
    },
    {
     "name": "stdout",
     "output_type": "stream",
     "text": [
      "{'eval_loss': 1.41640949, 'eval_margin': -0.01767818, 'eval_mean_neg': 0.90851462, 'eval_mean_pos': 0.95294428, 'eval_runtime': 58.6501, 'eval_samples_per_second': 43.598, 'eval_steps_per_second': 7.28, 'epoch': 1.04, 'global_step/max_steps': '2100/10125', 'percentage': '20.74%', 'elapsed_time': '1h 22m 17s', 'remaining_time': '5h 14m 30s'}\n"
     ]
    },
    {
     "name": "stderr",
     "output_type": "stream",
     "text": [
      "Train:  21%|██        | 2105/10125 [1:22:27<13:28:29,  6.05s/it]"
     ]
    },
    {
     "name": "stdout",
     "output_type": "stream",
     "text": [
      "{'loss': 1.27400675, 'grad_norm': 13.30226421, 'learning_rate': 5.38e-06, 'memory(GiB)': 2.74, 'train_speed(iter/s)': 0.425467, 'epoch': 1.04, 'global_step/max_steps': '2105/10125', 'percentage': '20.79%', 'elapsed_time': '1h 22m 27s', 'remaining_time': '5h 14m 8s'}\n"
     ]
    },
    {
     "name": "stderr",
     "output_type": "stream",
     "text": [
      "Train:  21%|██        | 2110/10125 [1:22:36<5:41:45,  2.56s/it] "
     ]
    },
    {
     "name": "stdout",
     "output_type": "stream",
     "text": [
      "{'loss': 1.36781731, 'grad_norm': 13.00480175, 'learning_rate': 5.38e-06, 'memory(GiB)': 2.74, 'train_speed(iter/s)': 0.425675, 'epoch': 1.04, 'global_step/max_steps': '2110/10125', 'percentage': '20.84%', 'elapsed_time': '1h 22m 36s', 'remaining_time': '5h 13m 47s'}\n"
     ]
    },
    {
     "name": "stderr",
     "output_type": "stream",
     "text": [
      "Train:  21%|██        | 2115/10125 [1:22:45<4:20:33,  1.95s/it]"
     ]
    },
    {
     "name": "stdout",
     "output_type": "stream",
     "text": [
      "{'loss': 1.30341682, 'grad_norm': 14.76221466, 'learning_rate': 5.38e-06, 'memory(GiB)': 2.74, 'train_speed(iter/s)': 0.425892, 'epoch': 1.04, 'global_step/max_steps': '2115/10125', 'percentage': '20.89%', 'elapsed_time': '1h 22m 45s', 'remaining_time': '5h 13m 26s'}\n"
     ]
    },
    {
     "name": "stderr",
     "output_type": "stream",
     "text": [
      "Train:  21%|██        | 2120/10125 [1:22:54<4:06:33,  1.85s/it]"
     ]
    },
    {
     "name": "stdout",
     "output_type": "stream",
     "text": [
      "{'loss': 1.40212297, 'grad_norm': 17.0403595, 'learning_rate': 5.37e-06, 'memory(GiB)': 2.74, 'train_speed(iter/s)': 0.426107, 'epoch': 1.05, 'global_step/max_steps': '2120/10125', 'percentage': '20.94%', 'elapsed_time': '1h 22m 54s', 'remaining_time': '5h 13m 5s'}\n"
     ]
    },
    {
     "name": "stderr",
     "output_type": "stream",
     "text": [
      "Train:  21%|██        | 2125/10125 [1:23:04<4:03:44,  1.83s/it]"
     ]
    },
    {
     "name": "stdout",
     "output_type": "stream",
     "text": [
      "{'loss': 1.48155632, 'grad_norm': 13.86544132, 'learning_rate': 5.37e-06, 'memory(GiB)': 2.74, 'train_speed(iter/s)': 0.426319, 'epoch': 1.05, 'global_step/max_steps': '2125/10125', 'percentage': '20.99%', 'elapsed_time': '1h 23m 4s', 'remaining_time': '5h 12m 44s'}\n"
     ]
    },
    {
     "name": "stderr",
     "output_type": "stream",
     "text": [
      "Train:  21%|██        | 2130/10125 [1:23:12<3:56:58,  1.78s/it]"
     ]
    },
    {
     "name": "stdout",
     "output_type": "stream",
     "text": [
      "{'loss': 1.41966534, 'grad_norm': 13.69915009, 'learning_rate': 5.37e-06, 'memory(GiB)': 2.74, 'train_speed(iter/s)': 0.426588, 'epoch': 1.05, 'global_step/max_steps': '2130/10125', 'percentage': '21.04%', 'elapsed_time': '1h 23m 12s', 'remaining_time': '5h 12m 20s'}\n"
     ]
    },
    {
     "name": "stderr",
     "output_type": "stream",
     "text": [
      "Train:  21%|██        | 2135/10125 [1:23:22<4:18:15,  1.94s/it]"
     ]
    },
    {
     "name": "stdout",
     "output_type": "stream",
     "text": [
      "{'loss': 1.38069057, 'grad_norm': 11.11370945, 'learning_rate': 5.37e-06, 'memory(GiB)': 2.74, 'train_speed(iter/s)': 0.426787, 'epoch': 1.05, 'global_step/max_steps': '2135/10125', 'percentage': '21.09%', 'elapsed_time': '1h 23m 22s', 'remaining_time': '5h 12m 0s'}\n"
     ]
    },
    {
     "name": "stderr",
     "output_type": "stream",
     "text": [
      "Train:  21%|██        | 2140/10125 [1:23:30<3:58:14,  1.79s/it]"
     ]
    },
    {
     "name": "stdout",
     "output_type": "stream",
     "text": [
      "{'loss': 1.52296114, 'grad_norm': 11.83395958, 'learning_rate': 5.36e-06, 'memory(GiB)': 2.74, 'train_speed(iter/s)': 0.427041, 'epoch': 1.06, 'global_step/max_steps': '2140/10125', 'percentage': '21.14%', 'elapsed_time': '1h 23m 30s', 'remaining_time': '5h 11m 37s'}\n"
     ]
    },
    {
     "name": "stderr",
     "output_type": "stream",
     "text": [
      "Train:  21%|██        | 2145/10125 [1:23:39<3:46:47,  1.71s/it]"
     ]
    },
    {
     "name": "stdout",
     "output_type": "stream",
     "text": [
      "{'loss': 1.38677197, 'grad_norm': 12.54732132, 'learning_rate': 5.36e-06, 'memory(GiB)': 2.74, 'train_speed(iter/s)': 0.427329, 'epoch': 1.06, 'global_step/max_steps': '2145/10125', 'percentage': '21.19%', 'elapsed_time': '1h 23m 39s', 'remaining_time': '5h 11m 13s'}\n"
     ]
    },
    {
     "name": "stderr",
     "output_type": "stream",
     "text": [
      "Train:  21%|██        | 2150/10125 [1:23:48<4:05:31,  1.85s/it]"
     ]
    },
    {
     "name": "stdout",
     "output_type": "stream",
     "text": [
      "{'loss': 1.40697622, 'grad_norm': 12.14345074, 'learning_rate': 5.36e-06, 'memory(GiB)': 2.74, 'train_speed(iter/s)': 0.427525, 'epoch': 1.06, 'global_step/max_steps': '2150/10125', 'percentage': '21.23%', 'elapsed_time': '1h 23m 48s', 'remaining_time': '5h 10m 52s'}\n"
     ]
    },
    {
     "name": "stderr",
     "output_type": "stream",
     "text": [
      "Train:  21%|██▏       | 2155/10125 [1:23:57<4:01:53,  1.82s/it]"
     ]
    },
    {
     "name": "stdout",
     "output_type": "stream",
     "text": [
      "{'loss': 1.30530691, 'grad_norm': 11.80313492, 'learning_rate': 5.35e-06, 'memory(GiB)': 2.74, 'train_speed(iter/s)': 0.427746, 'epoch': 1.06, 'global_step/max_steps': '2155/10125', 'percentage': '21.28%', 'elapsed_time': '1h 23m 57s', 'remaining_time': '5h 10m 31s'}\n"
     ]
    },
    {
     "name": "stderr",
     "output_type": "stream",
     "text": [
      "Train:  21%|██▏       | 2160/10125 [1:24:06<4:00:37,  1.81s/it]"
     ]
    },
    {
     "name": "stdout",
     "output_type": "stream",
     "text": [
      "{'loss': 1.6055563, 'grad_norm': 16.26799774, 'learning_rate': 5.35e-06, 'memory(GiB)': 2.74, 'train_speed(iter/s)': 0.427974, 'epoch': 1.07, 'global_step/max_steps': '2160/10125', 'percentage': '21.33%', 'elapsed_time': '1h 24m 6s', 'remaining_time': '5h 10m 9s'}\n"
     ]
    },
    {
     "name": "stderr",
     "output_type": "stream",
     "text": [
      "Train:  21%|██▏       | 2165/10125 [1:24:16<4:13:46,  1.91s/it]"
     ]
    },
    {
     "name": "stdout",
     "output_type": "stream",
     "text": [
      "{'loss': 1.51913385, 'grad_norm': 13.095047, 'learning_rate': 5.35e-06, 'memory(GiB)': 2.74, 'train_speed(iter/s)': 0.428157, 'epoch': 1.07, 'global_step/max_steps': '2165/10125', 'percentage': '21.38%', 'elapsed_time': '1h 24m 16s', 'remaining_time': '5h 9m 50s'}\n"
     ]
    },
    {
     "name": "stderr",
     "output_type": "stream",
     "text": [
      "Train:  21%|██▏       | 2170/10125 [1:24:25<4:19:58,  1.96s/it]"
     ]
    },
    {
     "name": "stdout",
     "output_type": "stream",
     "text": [
      "{'loss': 1.27731028, 'grad_norm': 13.02245045, 'learning_rate': 5.35e-06, 'memory(GiB)': 2.74, 'train_speed(iter/s)': 0.428326, 'epoch': 1.07, 'global_step/max_steps': '2170/10125', 'percentage': '21.43%', 'elapsed_time': '1h 24m 25s', 'remaining_time': '5h 9m 31s'}\n"
     ]
    },
    {
     "name": "stderr",
     "output_type": "stream",
     "text": [
      "Train:  21%|██▏       | 2175/10125 [1:24:34<4:06:03,  1.86s/it]"
     ]
    },
    {
     "name": "stdout",
     "output_type": "stream",
     "text": [
      "{'loss': 1.44538679, 'grad_norm': 12.22510242, 'learning_rate': 5.34e-06, 'memory(GiB)': 2.74, 'train_speed(iter/s)': 0.42855, 'epoch': 1.07, 'global_step/max_steps': '2175/10125', 'percentage': '21.48%', 'elapsed_time': '1h 24m 34s', 'remaining_time': '5h 9m 9s'}\n"
     ]
    },
    {
     "name": "stderr",
     "output_type": "stream",
     "text": [
      "Train:  22%|██▏       | 2180/10125 [1:24:44<4:13:25,  1.91s/it]"
     ]
    },
    {
     "name": "stdout",
     "output_type": "stream",
     "text": [
      "{'loss': 1.50106192, 'grad_norm': 15.01455593, 'learning_rate': 5.34e-06, 'memory(GiB)': 2.74, 'train_speed(iter/s)': 0.428728, 'epoch': 1.08, 'global_step/max_steps': '2180/10125', 'percentage': '21.53%', 'elapsed_time': '1h 24m 44s', 'remaining_time': '5h 8m 50s'}\n"
     ]
    },
    {
     "name": "stderr",
     "output_type": "stream",
     "text": [
      "Train:  22%|██▏       | 2185/10125 [1:24:54<4:21:32,  1.98s/it]"
     ]
    },
    {
     "name": "stdout",
     "output_type": "stream",
     "text": [
      "{'loss': 1.5212327, 'grad_norm': 12.56980228, 'learning_rate': 5.34e-06, 'memory(GiB)': 2.74, 'train_speed(iter/s)': 0.428878, 'epoch': 1.08, 'global_step/max_steps': '2185/10125', 'percentage': '21.58%', 'elapsed_time': '1h 24m 54s', 'remaining_time': '5h 8m 32s'}\n"
     ]
    },
    {
     "name": "stderr",
     "output_type": "stream",
     "text": [
      "Train:  22%|██▏       | 2190/10125 [1:25:03<4:07:12,  1.87s/it]"
     ]
    },
    {
     "name": "stdout",
     "output_type": "stream",
     "text": [
      "{'loss': 1.21688375, 'grad_norm': 11.79588318, 'learning_rate': 5.33e-06, 'memory(GiB)': 2.74, 'train_speed(iter/s)': 0.429072, 'epoch': 1.08, 'global_step/max_steps': '2190/10125', 'percentage': '21.63%', 'elapsed_time': '1h 25m 3s', 'remaining_time': '5h 8m 12s'}\n"
     ]
    },
    {
     "name": "stderr",
     "output_type": "stream",
     "text": [
      "Train:  22%|██▏       | 2195/10125 [1:25:13<4:04:59,  1.85s/it]"
     ]
    },
    {
     "name": "stdout",
     "output_type": "stream",
     "text": [
      "{'loss': 1.23924341, 'grad_norm': 11.25209713, 'learning_rate': 5.33e-06, 'memory(GiB)': 2.74, 'train_speed(iter/s)': 0.42927, 'epoch': 1.08, 'global_step/max_steps': '2195/10125', 'percentage': '21.68%', 'elapsed_time': '1h 25m 13s', 'remaining_time': '5h 7m 52s'}\n"
     ]
    },
    {
     "name": "stderr",
     "output_type": "stream",
     "text": [
      "Train:  22%|██▏       | 2200/10125 [1:25:22<4:07:22,  1.87s/it]\n"
     ]
    },
    {
     "name": "stdout",
     "output_type": "stream",
     "text": [
      "{'loss': 1.40085983, 'grad_norm': 12.9635191, 'learning_rate': 5.33e-06, 'memory(GiB)': 2.74, 'train_speed(iter/s)': 0.429467, 'epoch': 1.09, 'global_step/max_steps': '2200/10125', 'percentage': '21.73%', 'elapsed_time': '1h 25m 22s', 'remaining_time': '5h 7m 32s'}\n"
     ]
    },
    {
     "name": "stderr",
     "output_type": "stream",
     "text": [
      "Val: 100%|██████████| 426/426 [00:57<00:00,  7.44it/s]1.87s/it]\n"
     ]
    },
    {
     "name": "stdout",
     "output_type": "stream",
     "text": [
      "{'eval_loss': 1.40685701, 'eval_margin': -0.01870526, 'eval_mean_neg': 0.90265304, 'eval_mean_pos': 0.94961113, 'eval_runtime': 57.3871, 'eval_samples_per_second': 44.557, 'eval_steps_per_second': 7.441, 'epoch': 1.09, 'global_step/max_steps': '2200/10125', 'percentage': '21.73%', 'elapsed_time': '1h 26m 19s', 'remaining_time': '5h 10m 58s'}\n"
     ]
    },
    {
     "name": "stderr",
     "output_type": "stream",
     "text": [
      "Train:  22%|██▏       | 2205/10125 [1:26:29<13:22:13,  6.08s/it]"
     ]
    },
    {
     "name": "stdout",
     "output_type": "stream",
     "text": [
      "{'loss': 1.51330776, 'grad_norm': 13.26518822, 'learning_rate': 5.32e-06, 'memory(GiB)': 2.74, 'train_speed(iter/s)': 0.424874, 'epoch': 1.09, 'global_step/max_steps': '2205/10125', 'percentage': '21.78%', 'elapsed_time': '1h 26m 29s', 'remaining_time': '5h 10m 39s'}\n"
     ]
    },
    {
     "name": "stderr",
     "output_type": "stream",
     "text": [
      "Train:  22%|██▏       | 2210/10125 [1:26:38<5:34:35,  2.54s/it] "
     ]
    },
    {
     "name": "stdout",
     "output_type": "stream",
     "text": [
      "{'loss': 1.31966457, 'grad_norm': 13.55386162, 'learning_rate': 5.32e-06, 'memory(GiB)': 2.74, 'train_speed(iter/s)': 0.425089, 'epoch': 1.09, 'global_step/max_steps': '2210/10125', 'percentage': '21.83%', 'elapsed_time': '1h 26m 38s', 'remaining_time': '5h 10m 18s'}\n"
     ]
    },
    {
     "name": "stderr",
     "output_type": "stream",
     "text": [
      "Train:  22%|██▏       | 2215/10125 [1:26:47<4:20:28,  1.98s/it]"
     ]
    },
    {
     "name": "stdout",
     "output_type": "stream",
     "text": [
      "{'loss': 1.52549, 'grad_norm': 13.04057121, 'learning_rate': 5.32e-06, 'memory(GiB)': 2.74, 'train_speed(iter/s)': 0.425288, 'epoch': 1.09, 'global_step/max_steps': '2215/10125', 'percentage': '21.88%', 'elapsed_time': '1h 26m 47s', 'remaining_time': '5h 9m 58s'}\n"
     ]
    },
    {
     "name": "stderr",
     "output_type": "stream",
     "text": [
      "Train:  22%|██▏       | 2220/10125 [1:26:57<4:00:30,  1.83s/it]"
     ]
    },
    {
     "name": "stdout",
     "output_type": "stream",
     "text": [
      "{'loss': 1.37163363, 'grad_norm': 13.09761143, 'learning_rate': 5.32e-06, 'memory(GiB)': 2.74, 'train_speed(iter/s)': 0.425507, 'epoch': 1.1, 'global_step/max_steps': '2220/10125', 'percentage': '21.93%', 'elapsed_time': '1h 26m 57s', 'remaining_time': '5h 9m 36s'}\n"
     ]
    },
    {
     "name": "stderr",
     "output_type": "stream",
     "text": [
      "Train:  22%|██▏       | 2225/10125 [1:27:06<4:00:59,  1.83s/it]"
     ]
    },
    {
     "name": "stdout",
     "output_type": "stream",
     "text": [
      "{'loss': 1.34748087, 'grad_norm': 12.74589825, 'learning_rate': 5.31e-06, 'memory(GiB)': 2.74, 'train_speed(iter/s)': 0.425722, 'epoch': 1.1, 'global_step/max_steps': '2225/10125', 'percentage': '21.98%', 'elapsed_time': '1h 27m 6s', 'remaining_time': '5h 9m 15s'}\n"
     ]
    },
    {
     "name": "stderr",
     "output_type": "stream",
     "text": [
      "Train:  22%|██▏       | 2230/10125 [1:27:15<4:03:46,  1.85s/it]"
     ]
    },
    {
     "name": "stdout",
     "output_type": "stream",
     "text": [
      "{'loss': 1.3328928, 'grad_norm': 14.57769489, 'learning_rate': 5.31e-06, 'memory(GiB)': 2.74, 'train_speed(iter/s)': 0.425915, 'epoch': 1.1, 'global_step/max_steps': '2230/10125', 'percentage': '22.02%', 'elapsed_time': '1h 27m 15s', 'remaining_time': '5h 8m 55s'}\n"
     ]
    },
    {
     "name": "stderr",
     "output_type": "stream",
     "text": [
      "Train:  22%|██▏       | 2235/10125 [1:27:24<3:59:33,  1.82s/it]"
     ]
    },
    {
     "name": "stdout",
     "output_type": "stream",
     "text": [
      "{'loss': 1.25486803, 'grad_norm': 14.43836689, 'learning_rate': 5.31e-06, 'memory(GiB)': 2.74, 'train_speed(iter/s)': 0.426105, 'epoch': 1.1, 'global_step/max_steps': '2235/10125', 'percentage': '22.07%', 'elapsed_time': '1h 27m 24s', 'remaining_time': '5h 8m 35s'}\n"
     ]
    },
    {
     "name": "stderr",
     "output_type": "stream",
     "text": [
      "Train:  22%|██▏       | 2240/10125 [1:27:33<3:58:48,  1.82s/it]"
     ]
    },
    {
     "name": "stdout",
     "output_type": "stream",
     "text": [
      "{'loss': 1.59812908, 'grad_norm': 15.385149, 'learning_rate': 5.3e-06, 'memory(GiB)': 2.74, 'train_speed(iter/s)': 0.426318, 'epoch': 1.11, 'global_step/max_steps': '2240/10125', 'percentage': '22.12%', 'elapsed_time': '1h 27m 33s', 'remaining_time': '5h 8m 14s'}\n"
     ]
    },
    {
     "name": "stderr",
     "output_type": "stream",
     "text": [
      "Train:  22%|██▏       | 2245/10125 [1:27:43<3:57:56,  1.81s/it]"
     ]
    },
    {
     "name": "stdout",
     "output_type": "stream",
     "text": [
      "{'loss': 1.37794199, 'grad_norm': 13.33752918, 'learning_rate': 5.3e-06, 'memory(GiB)': 2.74, 'train_speed(iter/s)': 0.426518, 'epoch': 1.11, 'global_step/max_steps': '2245/10125', 'percentage': '22.17%', 'elapsed_time': '1h 27m 43s', 'remaining_time': '5h 7m 54s'}\n"
     ]
    },
    {
     "name": "stderr",
     "output_type": "stream",
     "text": [
      "Train:  22%|██▏       | 2250/10125 [1:27:52<4:09:40,  1.90s/it]"
     ]
    },
    {
     "name": "stdout",
     "output_type": "stream",
     "text": [
      "{'loss': 1.52648516, 'grad_norm': 12.70425892, 'learning_rate': 5.3e-06, 'memory(GiB)': 2.74, 'train_speed(iter/s)': 0.426682, 'epoch': 1.11, 'global_step/max_steps': '2250/10125', 'percentage': '22.22%', 'elapsed_time': '1h 27m 52s', 'remaining_time': '5h 7m 35s'}\n"
     ]
    },
    {
     "name": "stderr",
     "output_type": "stream",
     "text": [
      "Train:  22%|██▏       | 2255/10125 [1:28:01<3:41:20,  1.69s/it]"
     ]
    },
    {
     "name": "stdout",
     "output_type": "stream",
     "text": [
      "{'loss': 1.50115471, 'grad_norm': 16.13342094, 'learning_rate': 5.3e-06, 'memory(GiB)': 2.74, 'train_speed(iter/s)': 0.426953, 'epoch': 1.11, 'global_step/max_steps': '2255/10125', 'percentage': '22.27%', 'elapsed_time': '1h 28m 1s', 'remaining_time': '5h 7m 11s'}\n"
     ]
    },
    {
     "name": "stderr",
     "output_type": "stream",
     "text": [
      "Train:  22%|██▏       | 2260/10125 [1:28:10<3:51:55,  1.77s/it]"
     ]
    },
    {
     "name": "stdout",
     "output_type": "stream",
     "text": [
      "{'loss': 1.29465857, 'grad_norm': 11.14228725, 'learning_rate': 5.29e-06, 'memory(GiB)': 2.74, 'train_speed(iter/s)': 0.427175, 'epoch': 1.12, 'global_step/max_steps': '2260/10125', 'percentage': '22.32%', 'elapsed_time': '1h 28m 10s', 'remaining_time': '5h 6m 50s'}\n"
     ]
    },
    {
     "name": "stderr",
     "output_type": "stream",
     "text": [
      "Train:  22%|██▏       | 2265/10125 [1:28:19<4:01:54,  1.85s/it]"
     ]
    },
    {
     "name": "stdout",
     "output_type": "stream",
     "text": [
      "{'loss': 1.25771494, 'grad_norm': 10.77159214, 'learning_rate': 5.29e-06, 'memory(GiB)': 2.74, 'train_speed(iter/s)': 0.427372, 'epoch': 1.12, 'global_step/max_steps': '2265/10125', 'percentage': '22.37%', 'elapsed_time': '1h 28m 19s', 'remaining_time': '5h 6m 30s'}\n"
     ]
    },
    {
     "name": "stderr",
     "output_type": "stream",
     "text": [
      "Train:  22%|██▏       | 2270/10125 [1:28:28<4:05:50,  1.88s/it]"
     ]
    },
    {
     "name": "stdout",
     "output_type": "stream",
     "text": [
      "{'loss': 1.32209759, 'grad_norm': 14.98343849, 'learning_rate': 5.29e-06, 'memory(GiB)': 2.74, 'train_speed(iter/s)': 0.427556, 'epoch': 1.12, 'global_step/max_steps': '2270/10125', 'percentage': '22.42%', 'elapsed_time': '1h 28m 28s', 'remaining_time': '5h 6m 10s'}\n"
     ]
    },
    {
     "name": "stderr",
     "output_type": "stream",
     "text": [
      "Train:  22%|██▏       | 2275/10125 [1:28:37<3:54:03,  1.79s/it]"
     ]
    },
    {
     "name": "stdout",
     "output_type": "stream",
     "text": [
      "{'loss': 1.52467175, 'grad_norm': 12.34910202, 'learning_rate': 5.28e-06, 'memory(GiB)': 2.74, 'train_speed(iter/s)': 0.427787, 'epoch': 1.12, 'global_step/max_steps': '2275/10125', 'percentage': '22.47%', 'elapsed_time': '1h 28m 37s', 'remaining_time': '5h 5m 49s'}\n"
     ]
    },
    {
     "name": "stderr",
     "output_type": "stream",
     "text": [
      "Train:  23%|██▎       | 2280/10125 [1:28:46<3:51:44,  1.77s/it]"
     ]
    },
    {
     "name": "stdout",
     "output_type": "stream",
     "text": [
      "{'loss': 1.33385191, 'grad_norm': 14.57342339, 'learning_rate': 5.28e-06, 'memory(GiB)': 2.74, 'train_speed(iter/s)': 0.428026, 'epoch': 1.13, 'global_step/max_steps': '2280/10125', 'percentage': '22.52%', 'elapsed_time': '1h 28m 46s', 'remaining_time': '5h 5m 27s'}\n"
     ]
    },
    {
     "name": "stderr",
     "output_type": "stream",
     "text": [
      "Train:  23%|██▎       | 2285/10125 [1:28:55<4:01:31,  1.85s/it]"
     ]
    },
    {
     "name": "stdout",
     "output_type": "stream",
     "text": [
      "{'loss': 1.41110191, 'grad_norm': 13.37108707, 'learning_rate': 5.28e-06, 'memory(GiB)': 2.74, 'train_speed(iter/s)': 0.428209, 'epoch': 1.13, 'global_step/max_steps': '2285/10125', 'percentage': '22.57%', 'elapsed_time': '1h 28m 55s', 'remaining_time': '5h 5m 7s'}\n"
     ]
    },
    {
     "name": "stderr",
     "output_type": "stream",
     "text": [
      "Train:  23%|██▎       | 2290/10125 [1:29:05<4:10:43,  1.92s/it]"
     ]
    },
    {
     "name": "stdout",
     "output_type": "stream",
     "text": [
      "{'loss': 1.26025391, 'grad_norm': 11.32081223, 'learning_rate': 5.27e-06, 'memory(GiB)': 2.74, 'train_speed(iter/s)': 0.42837, 'epoch': 1.13, 'global_step/max_steps': '2290/10125', 'percentage': '22.62%', 'elapsed_time': '1h 29m 5s', 'remaining_time': '5h 4m 49s'}\n"
     ]
    },
    {
     "name": "stderr",
     "output_type": "stream",
     "text": [
      "Train:  23%|██▎       | 2295/10125 [1:29:14<3:55:51,  1.81s/it]"
     ]
    },
    {
     "name": "stdout",
     "output_type": "stream",
     "text": [
      "{'loss': 1.37416687, 'grad_norm': 13.06964016, 'learning_rate': 5.27e-06, 'memory(GiB)': 2.74, 'train_speed(iter/s)': 0.428594, 'epoch': 1.13, 'global_step/max_steps': '2295/10125', 'percentage': '22.67%', 'elapsed_time': '1h 29m 14s', 'remaining_time': '5h 4m 28s'}\n"
     ]
    },
    {
     "name": "stderr",
     "output_type": "stream",
     "text": [
      "Train:  23%|██▎       | 2300/10125 [1:29:23<3:54:59,  1.80s/it]\n"
     ]
    },
    {
     "name": "stdout",
     "output_type": "stream",
     "text": [
      "{'loss': 1.43559742, 'grad_norm': 10.20835209, 'learning_rate': 5.27e-06, 'memory(GiB)': 2.74, 'train_speed(iter/s)': 0.428811, 'epoch': 1.14, 'global_step/max_steps': '2300/10125', 'percentage': '22.72%', 'elapsed_time': '1h 29m 23s', 'remaining_time': '5h 4m 7s'}\n"
     ]
    },
    {
     "name": "stderr",
     "output_type": "stream",
     "text": [
      "Val: 100%|██████████| 426/426 [00:56<00:00,  7.50it/s]1.80s/it]\n"
     ]
    },
    {
     "name": "stdout",
     "output_type": "stream",
     "text": [
      "{'eval_loss': 1.39652073, 'eval_margin': -0.01881324, 'eval_mean_neg': 0.90221375, 'eval_mean_pos': 0.94869733, 'eval_runtime': 56.9045, 'eval_samples_per_second': 44.935, 'eval_steps_per_second': 7.504, 'epoch': 1.14, 'global_step/max_steps': '2300/10125', 'percentage': '22.72%', 'elapsed_time': '1h 30m 20s', 'remaining_time': '5h 7m 20s'}\n"
     ]
    },
    {
     "name": "stderr",
     "output_type": "stream",
     "text": [
      "Train:  23%|██▎       | 2305/10125 [1:30:29<12:44:50,  5.87s/it]"
     ]
    },
    {
     "name": "stdout",
     "output_type": "stream",
     "text": [
      "{'loss': 1.46744976, 'grad_norm': 13.79307365, 'learning_rate': 5.26e-06, 'memory(GiB)': 2.74, 'train_speed(iter/s)': 0.424529, 'epoch': 1.14, 'global_step/max_steps': '2305/10125', 'percentage': '22.77%', 'elapsed_time': '1h 30m 29s', 'remaining_time': '5h 6m 59s'}\n"
     ]
    },
    {
     "name": "stderr",
     "output_type": "stream",
     "text": [
      "Train:  23%|██▎       | 2310/10125 [1:30:38<5:21:27,  2.47s/it] "
     ]
    },
    {
     "name": "stdout",
     "output_type": "stream",
     "text": [
      "{'loss': 1.26903973, 'grad_norm': 12.79341412, 'learning_rate': 5.26e-06, 'memory(GiB)': 2.74, 'train_speed(iter/s)': 0.42476, 'epoch': 1.14, 'global_step/max_steps': '2310/10125', 'percentage': '22.81%', 'elapsed_time': '1h 30m 38s', 'remaining_time': '5h 6m 37s'}\n"
     ]
    },
    {
     "name": "stderr",
     "output_type": "stream",
     "text": [
      "Train:  23%|██▎       | 2315/10125 [1:30:46<3:58:18,  1.83s/it]"
     ]
    },
    {
     "name": "stdout",
     "output_type": "stream",
     "text": [
      "{'loss': 1.31745777, 'grad_norm': 11.65970898, 'learning_rate': 5.26e-06, 'memory(GiB)': 2.74, 'train_speed(iter/s)': 0.424994, 'epoch': 1.14, 'global_step/max_steps': '2315/10125', 'percentage': '22.86%', 'elapsed_time': '1h 30m 46s', 'remaining_time': '5h 6m 15s'}\n"
     ]
    },
    {
     "name": "stderr",
     "output_type": "stream",
     "text": [
      "Train:  23%|██▎       | 2320/10125 [1:30:55<3:51:58,  1.78s/it]"
     ]
    },
    {
     "name": "stdout",
     "output_type": "stream",
     "text": [
      "{'loss': 1.3997797, 'grad_norm': 10.82825279, 'learning_rate': 5.26e-06, 'memory(GiB)': 2.74, 'train_speed(iter/s)': 0.425231, 'epoch': 1.15, 'global_step/max_steps': '2320/10125', 'percentage': '22.91%', 'elapsed_time': '1h 30m 55s', 'remaining_time': '5h 5m 53s'}\n"
     ]
    },
    {
     "name": "stderr",
     "output_type": "stream",
     "text": [
      "Train:  23%|██▎       | 2325/10125 [1:31:04<3:52:22,  1.79s/it]"
     ]
    },
    {
     "name": "stdout",
     "output_type": "stream",
     "text": [
      "{'loss': 1.40246058, 'grad_norm': 12.87782478, 'learning_rate': 5.25e-06, 'memory(GiB)': 2.74, 'train_speed(iter/s)': 0.425457, 'epoch': 1.15, 'global_step/max_steps': '2325/10125', 'percentage': '22.96%', 'elapsed_time': '1h 31m 4s', 'remaining_time': '5h 5m 32s'}\n"
     ]
    },
    {
     "name": "stderr",
     "output_type": "stream",
     "text": [
      "Train:  23%|██▎       | 2330/10125 [1:31:13<3:53:44,  1.80s/it]"
     ]
    },
    {
     "name": "stdout",
     "output_type": "stream",
     "text": [
      "{'loss': 1.40161858, 'grad_norm': 13.82400227, 'learning_rate': 5.25e-06, 'memory(GiB)': 2.74, 'train_speed(iter/s)': 0.425677, 'epoch': 1.15, 'global_step/max_steps': '2330/10125', 'percentage': '23.01%', 'elapsed_time': '1h 31m 13s', 'remaining_time': '5h 5m 10s'}\n"
     ]
    },
    {
     "name": "stderr",
     "output_type": "stream",
     "text": [
      "Train:  23%|██▎       | 2335/10125 [1:31:22<3:49:35,  1.77s/it]"
     ]
    },
    {
     "name": "stdout",
     "output_type": "stream",
     "text": [
      "{'loss': 1.56232319, 'grad_norm': 13.34300137, 'learning_rate': 5.25e-06, 'memory(GiB)': 2.74, 'train_speed(iter/s)': 0.425902, 'epoch': 1.15, 'global_step/max_steps': '2335/10125', 'percentage': '23.06%', 'elapsed_time': '1h 31m 22s', 'remaining_time': '5h 4m 49s'}\n"
     ]
    },
    {
     "name": "stderr",
     "output_type": "stream",
     "text": [
      "Train:  23%|██▎       | 2340/10125 [1:31:31<3:54:36,  1.81s/it]"
     ]
    },
    {
     "name": "stdout",
     "output_type": "stream",
     "text": [
      "{'loss': 1.39880791, 'grad_norm': 11.4765358, 'learning_rate': 5.24e-06, 'memory(GiB)': 2.74, 'train_speed(iter/s)': 0.42611, 'epoch': 1.16, 'global_step/max_steps': '2340/10125', 'percentage': '23.11%', 'elapsed_time': '1h 31m 31s', 'remaining_time': '5h 4m 28s'}\n"
     ]
    },
    {
     "name": "stderr",
     "output_type": "stream",
     "text": [
      "Train:  23%|██▎       | 2345/10125 [1:31:40<3:57:42,  1.83s/it]"
     ]
    },
    {
     "name": "stdout",
     "output_type": "stream",
     "text": [
      "{'loss': 1.47364388, 'grad_norm': 12.732337, 'learning_rate': 5.24e-06, 'memory(GiB)': 2.74, 'train_speed(iter/s)': 0.426286, 'epoch': 1.16, 'global_step/max_steps': '2345/10125', 'percentage': '23.16%', 'elapsed_time': '1h 31m 40s', 'remaining_time': '5h 4m 9s'}\n"
     ]
    },
    {
     "name": "stderr",
     "output_type": "stream",
     "text": [
      "Train:  23%|██▎       | 2350/10125 [1:31:49<3:40:58,  1.71s/it]"
     ]
    },
    {
     "name": "stdout",
     "output_type": "stream",
     "text": [
      "{'loss': 1.41834841, 'grad_norm': 14.90045261, 'learning_rate': 5.24e-06, 'memory(GiB)': 2.74, 'train_speed(iter/s)': 0.426549, 'epoch': 1.16, 'global_step/max_steps': '2350/10125', 'percentage': '23.21%', 'elapsed_time': '1h 31m 49s', 'remaining_time': '5h 3m 46s'}\n"
     ]
    },
    {
     "name": "stderr",
     "output_type": "stream",
     "text": [
      "Train:  23%|██▎       | 2355/10125 [1:31:58<3:52:35,  1.80s/it]"
     ]
    },
    {
     "name": "stdout",
     "output_type": "stream",
     "text": [
      "{'loss': 1.44502277, 'grad_norm': 13.62273121, 'learning_rate': 5.23e-06, 'memory(GiB)': 2.74, 'train_speed(iter/s)': 0.426757, 'epoch': 1.16, 'global_step/max_steps': '2355/10125', 'percentage': '23.26%', 'elapsed_time': '1h 31m 58s', 'remaining_time': '5h 3m 26s'}\n"
     ]
    },
    {
     "name": "stderr",
     "output_type": "stream",
     "text": [
      "Train:  23%|██▎       | 2360/10125 [1:32:06<3:38:52,  1.69s/it]"
     ]
    },
    {
     "name": "stdout",
     "output_type": "stream",
     "text": [
      "{'loss': 1.61870518, 'grad_norm': 16.73473167, 'learning_rate': 5.23e-06, 'memory(GiB)': 2.74, 'train_speed(iter/s)': 0.427013, 'epoch': 1.17, 'global_step/max_steps': '2360/10125', 'percentage': '23.31%', 'elapsed_time': '1h 32m 6s', 'remaining_time': '5h 3m 3s'}\n"
     ]
    },
    {
     "name": "stderr",
     "output_type": "stream",
     "text": [
      "Train:  23%|██▎       | 2365/10125 [1:32:15<3:59:12,  1.85s/it]"
     ]
    },
    {
     "name": "stdout",
     "output_type": "stream",
     "text": [
      "{'loss': 1.63429623, 'grad_norm': 15.42222309, 'learning_rate': 5.23e-06, 'memory(GiB)': 2.74, 'train_speed(iter/s)': 0.427198, 'epoch': 1.17, 'global_step/max_steps': '2365/10125', 'percentage': '23.36%', 'elapsed_time': '1h 32m 15s', 'remaining_time': '5h 2m 43s'}\n"
     ]
    },
    {
     "name": "stderr",
     "output_type": "stream",
     "text": [
      "Train:  23%|██▎       | 2370/10125 [1:32:24<3:50:55,  1.79s/it]"
     ]
    },
    {
     "name": "stdout",
     "output_type": "stream",
     "text": [
      "{'loss': 1.34241867, 'grad_norm': 12.55275822, 'learning_rate': 5.22e-06, 'memory(GiB)': 2.74, 'train_speed(iter/s)': 0.427416, 'epoch': 1.17, 'global_step/max_steps': '2370/10125', 'percentage': '23.41%', 'elapsed_time': '1h 32m 24s', 'remaining_time': '5h 2m 22s'}\n"
     ]
    },
    {
     "name": "stderr",
     "output_type": "stream",
     "text": [
      "Train:  23%|██▎       | 2375/10125 [1:32:33<3:38:51,  1.69s/it]"
     ]
    },
    {
     "name": "stdout",
     "output_type": "stream",
     "text": [
      "{'loss': 1.57038517, 'grad_norm': 14.82176399, 'learning_rate': 5.22e-06, 'memory(GiB)': 2.74, 'train_speed(iter/s)': 0.42767, 'epoch': 1.17, 'global_step/max_steps': '2375/10125', 'percentage': '23.46%', 'elapsed_time': '1h 32m 33s', 'remaining_time': '5h 2m 0s'}\n"
     ]
    },
    {
     "name": "stderr",
     "output_type": "stream",
     "text": [
      "Train:  24%|██▎       | 2380/10125 [1:32:42<3:53:43,  1.81s/it]"
     ]
    },
    {
     "name": "stdout",
     "output_type": "stream",
     "text": [
      "{'loss': 1.41813936, 'grad_norm': 11.67100525, 'learning_rate': 5.22e-06, 'memory(GiB)': 2.74, 'train_speed(iter/s)': 0.427863, 'epoch': 1.18, 'global_step/max_steps': '2380/10125', 'percentage': '23.51%', 'elapsed_time': '1h 32m 42s', 'remaining_time': '5h 1m 40s'}\n"
     ]
    },
    {
     "name": "stderr",
     "output_type": "stream",
     "text": [
      "Train:  24%|██▎       | 2385/10125 [1:32:50<3:45:15,  1.75s/it]"
     ]
    },
    {
     "name": "stdout",
     "output_type": "stream",
     "text": [
      "{'loss': 1.33834553, 'grad_norm': 11.63492584, 'learning_rate': 5.22e-06, 'memory(GiB)': 2.74, 'train_speed(iter/s)': 0.428094, 'epoch': 1.18, 'global_step/max_steps': '2385/10125', 'percentage': '23.56%', 'elapsed_time': '1h 32m 50s', 'remaining_time': '5h 1m 19s'}\n"
     ]
    },
    {
     "name": "stderr",
     "output_type": "stream",
     "text": [
      "Train:  24%|██▎       | 2390/10125 [1:32:59<3:35:56,  1.68s/it]"
     ]
    },
    {
     "name": "stdout",
     "output_type": "stream",
     "text": [
      "{'loss': 1.25686111, 'grad_norm': 11.60346508, 'learning_rate': 5.21e-06, 'memory(GiB)': 2.74, 'train_speed(iter/s)': 0.428354, 'epoch': 1.18, 'global_step/max_steps': '2390/10125', 'percentage': '23.60%', 'elapsed_time': '1h 32m 59s', 'remaining_time': '5h 0m 56s'}\n"
     ]
    },
    {
     "name": "stderr",
     "output_type": "stream",
     "text": [
      "Train:  24%|██▎       | 2395/10125 [1:33:07<3:33:15,  1.66s/it]"
     ]
    },
    {
     "name": "stdout",
     "output_type": "stream",
     "text": [
      "{'loss': 1.25303106, 'grad_norm': 12.93996143, 'learning_rate': 5.21e-06, 'memory(GiB)': 2.74, 'train_speed(iter/s)': 0.428608, 'epoch': 1.18, 'global_step/max_steps': '2395/10125', 'percentage': '23.65%', 'elapsed_time': '1h 33m 7s', 'remaining_time': '5h 0m 34s'}\n"
     ]
    },
    {
     "name": "stderr",
     "output_type": "stream",
     "text": [
      "Train:  24%|██▎       | 2400/10125 [1:33:15<3:36:03,  1.68s/it]\n"
     ]
    },
    {
     "name": "stdout",
     "output_type": "stream",
     "text": [
      "{'loss': 1.23108253, 'grad_norm': 11.26248932, 'learning_rate': 5.21e-06, 'memory(GiB)': 2.74, 'train_speed(iter/s)': 0.42886, 'epoch': 1.19, 'global_step/max_steps': '2400/10125', 'percentage': '23.70%', 'elapsed_time': '1h 33m 15s', 'remaining_time': '5h 0m 11s'}\n"
     ]
    },
    {
     "name": "stderr",
     "output_type": "stream",
     "text": [
      "Val: 100%|██████████| 426/426 [00:48<00:00,  8.85it/s]1.68s/it]\n"
     ]
    },
    {
     "name": "stdout",
     "output_type": "stream",
     "text": [
      "{'eval_loss': 1.38659441, 'eval_margin': -0.01813102, 'eval_mean_neg': 0.90425217, 'eval_mean_pos': 0.95090121, 'eval_runtime': 48.2649, 'eval_samples_per_second': 52.978, 'eval_steps_per_second': 8.847, 'epoch': 1.19, 'global_step/max_steps': '2400/10125', 'percentage': '23.70%', 'elapsed_time': '1h 34m 4s', 'remaining_time': '5h 2m 47s'}\n"
     ]
    },
    {
     "name": "stderr",
     "output_type": "stream",
     "text": [
      "Train:  24%|██▍       | 2405/10125 [1:34:12<11:05:57,  5.18s/it]"
     ]
    },
    {
     "name": "stdout",
     "output_type": "stream",
     "text": [
      "{'loss': 1.44261932, 'grad_norm': 12.8372488, 'learning_rate': 5.2e-06, 'memory(GiB)': 2.74, 'train_speed(iter/s)': 0.425419, 'epoch': 1.19, 'global_step/max_steps': '2405/10125', 'percentage': '23.75%', 'elapsed_time': '1h 34m 12s', 'remaining_time': '5h 2m 25s'}\n"
     ]
    },
    {
     "name": "stderr",
     "output_type": "stream",
     "text": [
      "Train:  24%|██▍       | 2410/10125 [1:34:21<5:01:33,  2.35s/it] "
     ]
    },
    {
     "name": "stdout",
     "output_type": "stream",
     "text": [
      "{'loss': 1.44705029, 'grad_norm': 13.10154629, 'learning_rate': 5.2e-06, 'memory(GiB)': 2.74, 'train_speed(iter/s)': 0.425628, 'epoch': 1.19, 'global_step/max_steps': '2410/10125', 'percentage': '23.80%', 'elapsed_time': '1h 34m 21s', 'remaining_time': '5h 2m 5s'}\n"
     ]
    },
    {
     "name": "stderr",
     "output_type": "stream",
     "text": [
      "Train:  24%|██▍       | 2415/10125 [1:34:30<4:08:06,  1.93s/it]"
     ]
    },
    {
     "name": "stdout",
     "output_type": "stream",
     "text": [
      "{'loss': 1.31705713, 'grad_norm': 10.99029922, 'learning_rate': 5.2e-06, 'memory(GiB)': 2.74, 'train_speed(iter/s)': 0.425845, 'epoch': 1.19, 'global_step/max_steps': '2415/10125', 'percentage': '23.85%', 'elapsed_time': '1h 34m 30s', 'remaining_time': '5h 1m 44s'}\n"
     ]
    },
    {
     "name": "stderr",
     "output_type": "stream",
     "text": [
      "Train:  24%|██▍       | 2420/10125 [1:34:40<4:00:14,  1.87s/it]"
     ]
    },
    {
     "name": "stdout",
     "output_type": "stream",
     "text": [
      "{'loss': 1.48881025, 'grad_norm': 15.29506969, 'learning_rate': 5.19e-06, 'memory(GiB)': 2.74, 'train_speed(iter/s)': 0.426018, 'epoch': 1.2, 'global_step/max_steps': '2420/10125', 'percentage': '23.90%', 'elapsed_time': '1h 34m 40s', 'remaining_time': '5h 1m 25s'}\n"
     ]
    },
    {
     "name": "stderr",
     "output_type": "stream",
     "text": [
      "Train:  24%|██▍       | 2425/10125 [1:34:48<3:42:46,  1.74s/it]"
     ]
    },
    {
     "name": "stdout",
     "output_type": "stream",
     "text": [
      "{'loss': 1.32661648, 'grad_norm': 12.89766979, 'learning_rate': 5.19e-06, 'memory(GiB)': 2.74, 'train_speed(iter/s)': 0.426253, 'epoch': 1.2, 'global_step/max_steps': '2425/10125', 'percentage': '23.95%', 'elapsed_time': '1h 34m 48s', 'remaining_time': '5h 1m 3s'}\n"
     ]
    },
    {
     "name": "stderr",
     "output_type": "stream",
     "text": [
      "Train:  24%|██▍       | 2430/10125 [1:34:57<3:39:50,  1.71s/it]"
     ]
    },
    {
     "name": "stdout",
     "output_type": "stream",
     "text": [
      "{'loss': 1.49228134, 'grad_norm': 14.28690052, 'learning_rate': 5.19e-06, 'memory(GiB)': 2.74, 'train_speed(iter/s)': 0.4265, 'epoch': 1.2, 'global_step/max_steps': '2430/10125', 'percentage': '24.00%', 'elapsed_time': '1h 34m 57s', 'remaining_time': '5h 0m 41s'}\n"
     ]
    },
    {
     "name": "stderr",
     "output_type": "stream",
     "text": [
      "Train:  24%|██▍       | 2435/10125 [1:35:06<3:51:54,  1.81s/it]"
     ]
    },
    {
     "name": "stdout",
     "output_type": "stream",
     "text": [
      "{'loss': 1.41425705, 'grad_norm': 12.54171181, 'learning_rate': 5.18e-06, 'memory(GiB)': 2.74, 'train_speed(iter/s)': 0.42669, 'epoch': 1.2, 'global_step/max_steps': '2435/10125', 'percentage': '24.05%', 'elapsed_time': '1h 35m 6s', 'remaining_time': '5h 0m 21s'}\n"
     ]
    },
    {
     "name": "stderr",
     "output_type": "stream",
     "text": [
      "Train:  24%|██▍       | 2440/10125 [1:35:15<3:47:26,  1.78s/it]"
     ]
    },
    {
     "name": "stdout",
     "output_type": "stream",
     "text": [
      "{'loss': 1.39086351, 'grad_norm': 17.25584221, 'learning_rate': 5.18e-06, 'memory(GiB)': 2.74, 'train_speed(iter/s)': 0.426899, 'epoch': 1.2, 'global_step/max_steps': '2440/10125', 'percentage': '24.10%', 'elapsed_time': '1h 35m 15s', 'remaining_time': '5h 0m 0s'}\n"
     ]
    },
    {
     "name": "stderr",
     "output_type": "stream",
     "text": [
      "Train:  24%|██▍       | 2445/10125 [1:35:24<3:46:22,  1.77s/it]"
     ]
    },
    {
     "name": "stdout",
     "output_type": "stream",
     "text": [
      "{'loss': 1.30687771, 'grad_norm': 14.79214668, 'learning_rate': 5.18e-06, 'memory(GiB)': 2.74, 'train_speed(iter/s)': 0.427122, 'epoch': 1.21, 'global_step/max_steps': '2445/10125', 'percentage': '24.15%', 'elapsed_time': '1h 35m 24s', 'remaining_time': '4h 59m 39s'}\n"
     ]
    },
    {
     "name": "stderr",
     "output_type": "stream",
     "text": [
      "Train:  24%|██▍       | 2450/10125 [1:35:32<3:46:18,  1.77s/it]"
     ]
    },
    {
     "name": "stdout",
     "output_type": "stream",
     "text": [
      "{'loss': 1.34771328, 'grad_norm': 11.41881084, 'learning_rate': 5.17e-06, 'memory(GiB)': 2.74, 'train_speed(iter/s)': 0.427342, 'epoch': 1.21, 'global_step/max_steps': '2450/10125', 'percentage': '24.20%', 'elapsed_time': '1h 35m 32s', 'remaining_time': '4h 59m 18s'}\n"
     ]
    },
    {
     "name": "stderr",
     "output_type": "stream",
     "text": [
      "Train:  24%|██▍       | 2455/10125 [1:35:41<3:43:36,  1.75s/it]"
     ]
    },
    {
     "name": "stdout",
     "output_type": "stream",
     "text": [
      "{'loss': 1.17559786, 'grad_norm': 12.0943737, 'learning_rate': 5.17e-06, 'memory(GiB)': 2.74, 'train_speed(iter/s)': 0.427563, 'epoch': 1.21, 'global_step/max_steps': '2455/10125', 'percentage': '24.25%', 'elapsed_time': '1h 35m 41s', 'remaining_time': '4h 58m 57s'}\n"
     ]
    },
    {
     "name": "stderr",
     "output_type": "stream",
     "text": [
      "Train:  24%|██▍       | 2460/10125 [1:35:49<3:33:28,  1.67s/it]"
     ]
    },
    {
     "name": "stdout",
     "output_type": "stream",
     "text": [
      "{'loss': 1.3277153, 'grad_norm': 12.6926899, 'learning_rate': 5.17e-06, 'memory(GiB)': 2.74, 'train_speed(iter/s)': 0.427819, 'epoch': 1.21, 'global_step/max_steps': '2460/10125', 'percentage': '24.30%', 'elapsed_time': '1h 35m 49s', 'remaining_time': '4h 58m 35s'}\n"
     ]
    },
    {
     "name": "stderr",
     "output_type": "stream",
     "text": [
      "Train:  24%|██▍       | 2465/10125 [1:35:58<3:34:18,  1.68s/it]"
     ]
    },
    {
     "name": "stdout",
     "output_type": "stream",
     "text": [
      "{'loss': 1.17097893, 'grad_norm': 13.69929123, 'learning_rate': 5.16e-06, 'memory(GiB)': 2.74, 'train_speed(iter/s)': 0.428068, 'epoch': 1.22, 'global_step/max_steps': '2465/10125', 'percentage': '24.35%', 'elapsed_time': '1h 35m 58s', 'remaining_time': '4h 58m 13s'}\n"
     ]
    },
    {
     "name": "stderr",
     "output_type": "stream",
     "text": [
      "Train:  24%|██▍       | 2470/10125 [1:36:06<3:33:57,  1.68s/it]"
     ]
    },
    {
     "name": "stdout",
     "output_type": "stream",
     "text": [
      "{'loss': 1.39636984, 'grad_norm': 13.59200573, 'learning_rate': 5.16e-06, 'memory(GiB)': 2.74, 'train_speed(iter/s)': 0.428314, 'epoch': 1.22, 'global_step/max_steps': '2470/10125', 'percentage': '24.40%', 'elapsed_time': '1h 36m 6s', 'remaining_time': '4h 57m 51s'}\n"
     ]
    },
    {
     "name": "stderr",
     "output_type": "stream",
     "text": [
      "Train:  24%|██▍       | 2475/10125 [1:36:14<3:34:28,  1.68s/it]"
     ]
    },
    {
     "name": "stdout",
     "output_type": "stream",
     "text": [
      "{'loss': 1.27379084, 'grad_norm': 15.33127117, 'learning_rate': 5.16e-06, 'memory(GiB)': 2.74, 'train_speed(iter/s)': 0.428556, 'epoch': 1.22, 'global_step/max_steps': '2475/10125', 'percentage': '24.44%', 'elapsed_time': '1h 36m 14s', 'remaining_time': '4h 57m 29s'}\n"
     ]
    },
    {
     "name": "stderr",
     "output_type": "stream",
     "text": [
      "Train:  24%|██▍       | 2480/10125 [1:36:23<3:51:26,  1.82s/it]"
     ]
    },
    {
     "name": "stdout",
     "output_type": "stream",
     "text": [
      "{'loss': 1.08821945, 'grad_norm': 14.22680473, 'learning_rate': 5.15e-06, 'memory(GiB)': 2.74, 'train_speed(iter/s)': 0.428755, 'epoch': 1.22, 'global_step/max_steps': '2480/10125', 'percentage': '24.49%', 'elapsed_time': '1h 36m 23s', 'remaining_time': '4h 57m 9s'}\n"
     ]
    },
    {
     "name": "stderr",
     "output_type": "stream",
     "text": [
      "Train:  25%|██▍       | 2485/10125 [1:36:32<3:44:12,  1.76s/it]"
     ]
    },
    {
     "name": "stdout",
     "output_type": "stream",
     "text": [
      "{'loss': 1.25621672, 'grad_norm': 14.39008999, 'learning_rate': 5.15e-06, 'memory(GiB)': 2.74, 'train_speed(iter/s)': 0.428972, 'epoch': 1.23, 'global_step/max_steps': '2485/10125', 'percentage': '24.54%', 'elapsed_time': '1h 36m 32s', 'remaining_time': '4h 56m 49s'}\n"
     ]
    },
    {
     "name": "stderr",
     "output_type": "stream",
     "text": [
      "Train:  25%|██▍       | 2490/10125 [1:36:41<3:45:35,  1.77s/it]"
     ]
    },
    {
     "name": "stdout",
     "output_type": "stream",
     "text": [
      "{'loss': 1.30390739, 'grad_norm': 14.12590981, 'learning_rate': 5.15e-06, 'memory(GiB)': 2.74, 'train_speed(iter/s)': 0.429184, 'epoch': 1.23, 'global_step/max_steps': '2490/10125', 'percentage': '24.59%', 'elapsed_time': '1h 36m 41s', 'remaining_time': '4h 56m 28s'}\n"
     ]
    },
    {
     "name": "stderr",
     "output_type": "stream",
     "text": [
      "Train:  25%|██▍       | 2495/10125 [1:36:50<3:41:00,  1.74s/it]"
     ]
    },
    {
     "name": "stdout",
     "output_type": "stream",
     "text": [
      "{'loss': 1.29164047, 'grad_norm': 13.79434967, 'learning_rate': 5.15e-06, 'memory(GiB)': 2.74, 'train_speed(iter/s)': 0.429393, 'epoch': 1.23, 'global_step/max_steps': '2495/10125', 'percentage': '24.64%', 'elapsed_time': '1h 36m 50s', 'remaining_time': '4h 56m 8s'}\n"
     ]
    },
    {
     "name": "stderr",
     "output_type": "stream",
     "text": [
      "Train:  25%|██▍       | 2500/10125 [1:36:59<3:45:16,  1.77s/it]\n"
     ]
    },
    {
     "name": "stdout",
     "output_type": "stream",
     "text": [
      "{'loss': 1.36472445, 'grad_norm': 11.12421513, 'learning_rate': 5.14e-06, 'memory(GiB)': 2.74, 'train_speed(iter/s)': 0.429597, 'epoch': 1.23, 'global_step/max_steps': '2500/10125', 'percentage': '24.69%', 'elapsed_time': '1h 36m 59s', 'remaining_time': '4h 55m 48s'}\n"
     ]
    },
    {
     "name": "stderr",
     "output_type": "stream",
     "text": [
      "Val: 100%|██████████| 426/426 [00:49<00:00,  8.64it/s]1.77s/it]\n"
     ]
    },
    {
     "name": "stdout",
     "output_type": "stream",
     "text": [
      "{'eval_loss': 1.38808918, 'eval_margin': -0.02069632, 'eval_mean_neg': 0.89274549, 'eval_mean_pos': 0.94391721, 'eval_runtime': 49.3967, 'eval_samples_per_second': 51.765, 'eval_steps_per_second': 8.644, 'epoch': 1.23, 'global_step/max_steps': '2500/10125', 'percentage': '24.69%', 'elapsed_time': '1h 37m 48s', 'remaining_time': '4h 58m 18s'}\n"
     ]
    },
    {
     "name": "stderr",
     "output_type": "stream",
     "text": [
      "Train:  25%|██▍       | 2505/10125 [1:37:57<11:22:26,  5.37s/it]"
     ]
    },
    {
     "name": "stdout",
     "output_type": "stream",
     "text": [
      "{'loss': 1.45473576, 'grad_norm': 14.53459454, 'learning_rate': 5.14e-06, 'memory(GiB)': 2.74, 'train_speed(iter/s)': 0.426166, 'epoch': 1.24, 'global_step/max_steps': '2505/10125', 'percentage': '24.74%', 'elapsed_time': '1h 37m 57s', 'remaining_time': '4h 57m 59s'}\n"
     ]
    },
    {
     "name": "stderr",
     "output_type": "stream",
     "text": [
      "Train:  25%|██▍       | 2510/10125 [1:38:06<4:58:15,  2.35s/it] "
     ]
    },
    {
     "name": "stdout",
     "output_type": "stream",
     "text": [
      "{'loss': 1.67759323, 'grad_norm': 16.29029465, 'learning_rate': 5.14e-06, 'memory(GiB)': 2.74, 'train_speed(iter/s)': 0.426379, 'epoch': 1.24, 'global_step/max_steps': '2510/10125', 'percentage': '24.79%', 'elapsed_time': '1h 38m 6s', 'remaining_time': '4h 57m 38s'}\n"
     ]
    },
    {
     "name": "stderr",
     "output_type": "stream",
     "text": [
      "Train:  25%|██▍       | 2515/10125 [1:38:14<3:47:00,  1.79s/it]"
     ]
    },
    {
     "name": "stdout",
     "output_type": "stream",
     "text": [
      "{'loss': 1.36437426, 'grad_norm': 13.19212246, 'learning_rate': 5.13e-06, 'memory(GiB)': 2.74, 'train_speed(iter/s)': 0.426614, 'epoch': 1.24, 'global_step/max_steps': '2515/10125', 'percentage': '24.84%', 'elapsed_time': '1h 38m 14s', 'remaining_time': '4h 57m 17s'}\n"
     ]
    },
    {
     "name": "stderr",
     "output_type": "stream",
     "text": [
      "Train:  25%|██▍       | 2520/10125 [1:38:24<3:45:41,  1.78s/it]"
     ]
    },
    {
     "name": "stdout",
     "output_type": "stream",
     "text": [
      "{'loss': 1.48541069, 'grad_norm': 13.30222702, 'learning_rate': 5.13e-06, 'memory(GiB)': 2.74, 'train_speed(iter/s)': 0.426804, 'epoch': 1.24, 'global_step/max_steps': '2520/10125', 'percentage': '24.89%', 'elapsed_time': '1h 38m 24s', 'remaining_time': '4h 56m 57s'}\n"
     ]
    },
    {
     "name": "stderr",
     "output_type": "stream",
     "text": [
      "Train:  25%|██▍       | 2525/10125 [1:38:33<3:48:18,  1.80s/it]"
     ]
    },
    {
     "name": "stdout",
     "output_type": "stream",
     "text": [
      "{'loss': 1.36866436, 'grad_norm': 14.02719116, 'learning_rate': 5.13e-06, 'memory(GiB)': 2.74, 'train_speed(iter/s)': 0.426979, 'epoch': 1.25, 'global_step/max_steps': '2525/10125', 'percentage': '24.94%', 'elapsed_time': '1h 38m 33s', 'remaining_time': '4h 56m 38s'}\n"
     ]
    },
    {
     "name": "stderr",
     "output_type": "stream",
     "text": [
      "Train:  25%|██▍       | 2530/10125 [1:38:42<3:46:57,  1.79s/it]"
     ]
    },
    {
     "name": "stdout",
     "output_type": "stream",
     "text": [
      "{'loss': 1.51641006, 'grad_norm': 15.64514732, 'learning_rate': 5.12e-06, 'memory(GiB)': 2.74, 'train_speed(iter/s)': 0.42717, 'epoch': 1.25, 'global_step/max_steps': '2530/10125', 'percentage': '24.99%', 'elapsed_time': '1h 38m 42s', 'remaining_time': '4h 56m 18s'}\n"
     ]
    },
    {
     "name": "stderr",
     "output_type": "stream",
     "text": [
      "Train:  25%|██▌       | 2535/10125 [1:38:51<3:45:05,  1.78s/it]"
     ]
    },
    {
     "name": "stdout",
     "output_type": "stream",
     "text": [
      "{'loss': 1.68596649, 'grad_norm': 14.10179901, 'learning_rate': 5.12e-06, 'memory(GiB)': 2.74, 'train_speed(iter/s)': 0.427367, 'epoch': 1.25, 'global_step/max_steps': '2535/10125', 'percentage': '25.04%', 'elapsed_time': '1h 38m 51s', 'remaining_time': '4h 55m 58s'}\n"
     ]
    },
    {
     "name": "stderr",
     "output_type": "stream",
     "text": [
      "Train:  25%|██▌       | 2540/10125 [1:38:59<3:44:44,  1.78s/it]"
     ]
    },
    {
     "name": "stdout",
     "output_type": "stream",
     "text": [
      "{'loss': 1.41080036, 'grad_norm': 12.63095379, 'learning_rate': 5.12e-06, 'memory(GiB)': 2.74, 'train_speed(iter/s)': 0.427592, 'epoch': 1.25, 'global_step/max_steps': '2540/10125', 'percentage': '25.09%', 'elapsed_time': '1h 38m 59s', 'remaining_time': '4h 55m 37s'}\n"
     ]
    },
    {
     "name": "stderr",
     "output_type": "stream",
     "text": [
      "Train:  25%|██▌       | 2545/10125 [1:39:08<3:33:34,  1.69s/it]"
     ]
    },
    {
     "name": "stdout",
     "output_type": "stream",
     "text": [
      "{'loss': 1.26457663, 'grad_norm': 11.1853714, 'learning_rate': 5.11e-06, 'memory(GiB)': 2.74, 'train_speed(iter/s)': 0.427818, 'epoch': 1.26, 'global_step/max_steps': '2545/10125', 'percentage': '25.14%', 'elapsed_time': '1h 39m 8s', 'remaining_time': '4h 55m 16s'}\n"
     ]
    },
    {
     "name": "stderr",
     "output_type": "stream",
     "text": [
      "Train:  25%|██▌       | 2550/10125 [1:39:17<3:38:16,  1.73s/it]"
     ]
    },
    {
     "name": "stdout",
     "output_type": "stream",
     "text": [
      "{'loss': 1.26077471, 'grad_norm': 14.4263134, 'learning_rate': 5.11e-06, 'memory(GiB)': 2.74, 'train_speed(iter/s)': 0.428012, 'epoch': 1.26, 'global_step/max_steps': '2550/10125', 'percentage': '25.19%', 'elapsed_time': '1h 39m 17s', 'remaining_time': '4h 54m 57s'}\n"
     ]
    },
    {
     "name": "stderr",
     "output_type": "stream",
     "text": [
      "Train:  25%|██▌       | 2555/10125 [1:39:26<3:39:04,  1.74s/it]"
     ]
    },
    {
     "name": "stdout",
     "output_type": "stream",
     "text": [
      "{'loss': 1.41721411, 'grad_norm': 13.12529182, 'learning_rate': 5.11e-06, 'memory(GiB)': 2.74, 'train_speed(iter/s)': 0.428217, 'epoch': 1.26, 'global_step/max_steps': '2555/10125', 'percentage': '25.23%', 'elapsed_time': '1h 39m 26s', 'remaining_time': '4h 54m 37s'}\n"
     ]
    },
    {
     "name": "stderr",
     "output_type": "stream",
     "text": [
      "Train:  25%|██▌       | 2560/10125 [1:39:34<3:36:03,  1.71s/it]"
     ]
    },
    {
     "name": "stdout",
     "output_type": "stream",
     "text": [
      "{'loss': 1.45039625, 'grad_norm': 13.67135429, 'learning_rate': 5.1e-06, 'memory(GiB)': 2.74, 'train_speed(iter/s)': 0.428431, 'epoch': 1.26, 'global_step/max_steps': '2560/10125', 'percentage': '25.28%', 'elapsed_time': '1h 39m 34s', 'remaining_time': '4h 54m 16s'}\n"
     ]
    },
    {
     "name": "stderr",
     "output_type": "stream",
     "text": [
      "Train:  25%|██▌       | 2565/10125 [1:39:44<3:50:21,  1.83s/it]"
     ]
    },
    {
     "name": "stdout",
     "output_type": "stream",
     "text": [
      "{'loss': 1.40685806, 'grad_norm': 11.00507355, 'learning_rate': 5.1e-06, 'memory(GiB)': 2.74, 'train_speed(iter/s)': 0.42862, 'epoch': 1.27, 'global_step/max_steps': '2565/10125', 'percentage': '25.33%', 'elapsed_time': '1h 39m 44s', 'remaining_time': '4h 53m 57s'}\n"
     ]
    },
    {
     "name": "stderr",
     "output_type": "stream",
     "text": [
      "Train:  25%|██▌       | 2570/10125 [1:39:53<3:50:36,  1.83s/it]"
     ]
    },
    {
     "name": "stdout",
     "output_type": "stream",
     "text": [
      "{'loss': 1.42189207, 'grad_norm': 11.88421154, 'learning_rate': 5.1e-06, 'memory(GiB)': 2.74, 'train_speed(iter/s)': 0.428801, 'epoch': 1.27, 'global_step/max_steps': '2570/10125', 'percentage': '25.38%', 'elapsed_time': '1h 39m 53s', 'remaining_time': '4h 53m 38s'}\n"
     ]
    },
    {
     "name": "stderr",
     "output_type": "stream",
     "text": [
      "Train:  25%|██▌       | 2575/10125 [1:40:01<3:36:18,  1.72s/it]"
     ]
    },
    {
     "name": "stdout",
     "output_type": "stream",
     "text": [
      "{'loss': 1.36453409, 'grad_norm': 13.02097607, 'learning_rate': 5.09e-06, 'memory(GiB)': 2.74, 'train_speed(iter/s)': 0.429029, 'epoch': 1.27, 'global_step/max_steps': '2575/10125', 'percentage': '25.43%', 'elapsed_time': '1h 40m 1s', 'remaining_time': '4h 53m 16s'}\n"
     ]
    },
    {
     "name": "stderr",
     "output_type": "stream",
     "text": [
      "Train:  25%|██▌       | 2580/10125 [1:40:10<3:31:02,  1.68s/it]"
     ]
    },
    {
     "name": "stdout",
     "output_type": "stream",
     "text": [
      "{'loss': 1.30374689, 'grad_norm': 11.25421906, 'learning_rate': 5.09e-06, 'memory(GiB)': 2.74, 'train_speed(iter/s)': 0.429254, 'epoch': 1.27, 'global_step/max_steps': '2580/10125', 'percentage': '25.48%', 'elapsed_time': '1h 40m 10s', 'remaining_time': '4h 52m 56s'}\n"
     ]
    },
    {
     "name": "stderr",
     "output_type": "stream",
     "text": [
      "Train:  26%|██▌       | 2585/10125 [1:40:18<3:39:10,  1.74s/it]"
     ]
    },
    {
     "name": "stdout",
     "output_type": "stream",
     "text": [
      "{'loss': 1.21058826, 'grad_norm': 12.82228947, 'learning_rate': 5.09e-06, 'memory(GiB)': 2.74, 'train_speed(iter/s)': 0.429456, 'epoch': 1.28, 'global_step/max_steps': '2585/10125', 'percentage': '25.53%', 'elapsed_time': '1h 40m 18s', 'remaining_time': '4h 52m 36s'}\n"
     ]
    },
    {
     "name": "stderr",
     "output_type": "stream",
     "text": [
      "Train:  26%|██▌       | 2590/10125 [1:40:27<3:37:11,  1.73s/it]"
     ]
    },
    {
     "name": "stdout",
     "output_type": "stream",
     "text": [
      "{'loss': 1.58009987, 'grad_norm': 14.02906704, 'learning_rate': 5.08e-06, 'memory(GiB)': 2.74, 'train_speed(iter/s)': 0.429662, 'epoch': 1.28, 'global_step/max_steps': '2590/10125', 'percentage': '25.58%', 'elapsed_time': '1h 40m 27s', 'remaining_time': '4h 52m 16s'}\n"
     ]
    },
    {
     "name": "stderr",
     "output_type": "stream",
     "text": [
      "Train:  26%|██▌       | 2595/10125 [1:40:36<3:37:28,  1.73s/it]"
     ]
    },
    {
     "name": "stdout",
     "output_type": "stream",
     "text": [
      "{'loss': 1.37557354, 'grad_norm': 15.52603149, 'learning_rate': 5.08e-06, 'memory(GiB)': 2.74, 'train_speed(iter/s)': 0.429875, 'epoch': 1.28, 'global_step/max_steps': '2595/10125', 'percentage': '25.63%', 'elapsed_time': '1h 40m 36s', 'remaining_time': '4h 51m 55s'}\n"
     ]
    },
    {
     "name": "stderr",
     "output_type": "stream",
     "text": [
      "Train:  26%|██▌       | 2600/10125 [1:40:45<3:43:22,  1.78s/it]\n"
     ]
    },
    {
     "name": "stdout",
     "output_type": "stream",
     "text": [
      "{'loss': 1.29151363, 'grad_norm': 11.65493011, 'learning_rate': 5.08e-06, 'memory(GiB)': 2.74, 'train_speed(iter/s)': 0.430073, 'epoch': 1.28, 'global_step/max_steps': '2600/10125', 'percentage': '25.68%', 'elapsed_time': '1h 40m 45s', 'remaining_time': '4h 51m 36s'}\n"
     ]
    },
    {
     "name": "stderr",
     "output_type": "stream",
     "text": [
      "Val: 100%|██████████| 426/426 [00:49<00:00,  8.65it/s]1.78s/it]\n"
     ]
    },
    {
     "name": "stdout",
     "output_type": "stream",
     "text": [
      "{'eval_loss': 1.37397838, 'eval_margin': -0.01853256, 'eval_mean_neg': 0.9020772, 'eval_mean_pos': 0.94973129, 'eval_runtime': 49.377, 'eval_samples_per_second': 51.785, 'eval_steps_per_second': 8.648, 'epoch': 1.28, 'global_step/max_steps': '2600/10125', 'percentage': '25.68%', 'elapsed_time': '1h 41m 34s', 'remaining_time': '4h 53m 59s'}\n"
     ]
    },
    {
     "name": "stderr",
     "output_type": "stream",
     "text": [
      "Train:  26%|██▌       | 2605/10125 [1:41:43<11:02:58,  5.29s/it]"
     ]
    },
    {
     "name": "stdout",
     "output_type": "stream",
     "text": [
      "{'loss': 1.12820854, 'grad_norm': 12.21332932, 'learning_rate': 5.07e-06, 'memory(GiB)': 2.74, 'train_speed(iter/s)': 0.426781, 'epoch': 1.29, 'global_step/max_steps': '2605/10125', 'percentage': '25.73%', 'elapsed_time': '1h 41m 43s', 'remaining_time': '4h 53m 39s'}\n"
     ]
    },
    {
     "name": "stderr",
     "output_type": "stream",
     "text": [
      "Train:  26%|██▌       | 2610/10125 [1:41:52<5:00:06,  2.40s/it] "
     ]
    },
    {
     "name": "stdout",
     "output_type": "stream",
     "text": [
      "{'loss': 1.43660336, 'grad_norm': 16.17836189, 'learning_rate': 5.07e-06, 'memory(GiB)': 2.74, 'train_speed(iter/s)': 0.426953, 'epoch': 1.29, 'global_step/max_steps': '2610/10125', 'percentage': '25.78%', 'elapsed_time': '1h 41m 52s', 'remaining_time': '4h 53m 20s'}\n"
     ]
    },
    {
     "name": "stderr",
     "output_type": "stream",
     "text": [
      "Train:  26%|██▌       | 2615/10125 [1:42:01<3:51:28,  1.85s/it]"
     ]
    },
    {
     "name": "stdout",
     "output_type": "stream",
     "text": [
      "{'loss': 1.34285688, 'grad_norm': 12.78404903, 'learning_rate': 5.07e-06, 'memory(GiB)': 2.74, 'train_speed(iter/s)': 0.42716, 'epoch': 1.29, 'global_step/max_steps': '2615/10125', 'percentage': '25.83%', 'elapsed_time': '1h 42m 1s', 'remaining_time': '4h 53m 0s'}\n"
     ]
    },
    {
     "name": "stderr",
     "output_type": "stream",
     "text": [
      "Train:  26%|██▌       | 2620/10125 [1:42:09<3:28:48,  1.67s/it]"
     ]
    },
    {
     "name": "stdout",
     "output_type": "stream",
     "text": [
      "{'loss': 1.37255497, 'grad_norm': 12.17831612, 'learning_rate': 5.06e-06, 'memory(GiB)': 2.74, 'train_speed(iter/s)': 0.427404, 'epoch': 1.29, 'global_step/max_steps': '2620/10125', 'percentage': '25.88%', 'elapsed_time': '1h 42m 9s', 'remaining_time': '4h 52m 38s'}\n"
     ]
    },
    {
     "name": "stderr",
     "output_type": "stream",
     "text": [
      "Train:  26%|██▌       | 2625/10125 [1:42:18<3:33:49,  1.71s/it]"
     ]
    },
    {
     "name": "stdout",
     "output_type": "stream",
     "text": [
      "{'loss': 1.39131317, 'grad_norm': 12.61192417, 'learning_rate': 5.06e-06, 'memory(GiB)': 2.74, 'train_speed(iter/s)': 0.427601, 'epoch': 1.3, 'global_step/max_steps': '2625/10125', 'percentage': '25.93%', 'elapsed_time': '1h 42m 18s', 'remaining_time': '4h 52m 18s'}\n"
     ]
    },
    {
     "name": "stderr",
     "output_type": "stream",
     "text": [
      "Train:  26%|██▌       | 2630/10125 [1:42:27<3:35:57,  1.73s/it]"
     ]
    },
    {
     "name": "stdout",
     "output_type": "stream",
     "text": [
      "{'loss': 1.50669556, 'grad_norm': 12.96623898, 'learning_rate': 5.06e-06, 'memory(GiB)': 2.74, 'train_speed(iter/s)': 0.427817, 'epoch': 1.3, 'global_step/max_steps': '2630/10125', 'percentage': '25.98%', 'elapsed_time': '1h 42m 27s', 'remaining_time': '4h 51m 58s'}\n"
     ]
    },
    {
     "name": "stderr",
     "output_type": "stream",
     "text": [
      "Train:  26%|██▌       | 2635/10125 [1:42:36<3:41:46,  1.78s/it]"
     ]
    },
    {
     "name": "stdout",
     "output_type": "stream",
     "text": [
      "{'loss': 1.37524261, 'grad_norm': 14.62783527, 'learning_rate': 5.05e-06, 'memory(GiB)': 2.74, 'train_speed(iter/s)': 0.42801, 'epoch': 1.3, 'global_step/max_steps': '2635/10125', 'percentage': '26.02%', 'elapsed_time': '1h 42m 36s', 'remaining_time': '4h 51m 38s'}\n"
     ]
    },
    {
     "name": "stderr",
     "output_type": "stream",
     "text": [
      "Train:  26%|██▌       | 2640/10125 [1:42:44<3:38:36,  1.75s/it]"
     ]
    },
    {
     "name": "stdout",
     "output_type": "stream",
     "text": [
      "{'loss': 1.48873024, 'grad_norm': 15.10967159, 'learning_rate': 5.05e-06, 'memory(GiB)': 2.74, 'train_speed(iter/s)': 0.428219, 'epoch': 1.3, 'global_step/max_steps': '2640/10125', 'percentage': '26.07%', 'elapsed_time': '1h 42m 44s', 'remaining_time': '4h 51m 18s'}\n"
     ]
    },
    {
     "name": "stderr",
     "output_type": "stream",
     "text": [
      "Train:  26%|██▌       | 2645/10125 [1:42:53<3:36:11,  1.73s/it]"
     ]
    },
    {
     "name": "stdout",
     "output_type": "stream",
     "text": [
      "{'loss': 1.23470602, 'grad_norm': 12.44627285, 'learning_rate': 5.05e-06, 'memory(GiB)': 2.74, 'train_speed(iter/s)': 0.428434, 'epoch': 1.31, 'global_step/max_steps': '2645/10125', 'percentage': '26.12%', 'elapsed_time': '1h 42m 53s', 'remaining_time': '4h 50m 58s'}\n"
     ]
    },
    {
     "name": "stderr",
     "output_type": "stream",
     "text": [
      "Train:  26%|██▌       | 2650/10125 [1:43:02<3:35:25,  1.73s/it]"
     ]
    },
    {
     "name": "stdout",
     "output_type": "stream",
     "text": [
      "{'loss': 1.42632999, 'grad_norm': 14.14761448, 'learning_rate': 5.04e-06, 'memory(GiB)': 2.74, 'train_speed(iter/s)': 0.428642, 'epoch': 1.31, 'global_step/max_steps': '2650/10125', 'percentage': '26.17%', 'elapsed_time': '1h 43m 2s', 'remaining_time': '4h 50m 37s'}\n"
     ]
    },
    {
     "name": "stderr",
     "output_type": "stream",
     "text": [
      "Train:  26%|██▌       | 2655/10125 [1:43:10<3:43:35,  1.80s/it]"
     ]
    },
    {
     "name": "stdout",
     "output_type": "stream",
     "text": [
      "{'loss': 1.30970974, 'grad_norm': 11.71989727, 'learning_rate': 5.04e-06, 'memory(GiB)': 2.74, 'train_speed(iter/s)': 0.428833, 'epoch': 1.31, 'global_step/max_steps': '2655/10125', 'percentage': '26.22%', 'elapsed_time': '1h 43m 10s', 'remaining_time': '4h 50m 18s'}\n"
     ]
    },
    {
     "name": "stderr",
     "output_type": "stream",
     "text": [
      "Train:  26%|██▋       | 2660/10125 [1:43:19<3:32:41,  1.71s/it]"
     ]
    },
    {
     "name": "stdout",
     "output_type": "stream",
     "text": [
      "{'loss': 1.42402821, 'grad_norm': 16.53536224, 'learning_rate': 5.03e-06, 'memory(GiB)': 2.74, 'train_speed(iter/s)': 0.429054, 'epoch': 1.31, 'global_step/max_steps': '2660/10125', 'percentage': '26.27%', 'elapsed_time': '1h 43m 19s', 'remaining_time': '4h 49m 57s'}\n"
     ]
    },
    {
     "name": "stderr",
     "output_type": "stream",
     "text": [
      "Train:  26%|██▋       | 2665/10125 [1:43:27<3:30:00,  1.69s/it]"
     ]
    },
    {
     "name": "stdout",
     "output_type": "stream",
     "text": [
      "{'loss': 1.21412926, 'grad_norm': 10.76753807, 'learning_rate': 5.03e-06, 'memory(GiB)': 2.74, 'train_speed(iter/s)': 0.429275, 'epoch': 1.32, 'global_step/max_steps': '2665/10125', 'percentage': '26.32%', 'elapsed_time': '1h 43m 27s', 'remaining_time': '4h 49m 37s'}\n"
     ]
    },
    {
     "name": "stderr",
     "output_type": "stream",
     "text": [
      "Train:  26%|██▋       | 2670/10125 [1:43:36<3:30:08,  1.69s/it]"
     ]
    },
    {
     "name": "stdout",
     "output_type": "stream",
     "text": [
      "{'loss': 1.26246271, 'grad_norm': 14.30755043, 'learning_rate': 5.03e-06, 'memory(GiB)': 2.74, 'train_speed(iter/s)': 0.429482, 'epoch': 1.32, 'global_step/max_steps': '2670/10125', 'percentage': '26.37%', 'elapsed_time': '1h 43m 36s', 'remaining_time': '4h 49m 17s'}\n"
     ]
    },
    {
     "name": "stderr",
     "output_type": "stream",
     "text": [
      "Train:  26%|██▋       | 2675/10125 [1:43:45<3:36:08,  1.74s/it]"
     ]
    },
    {
     "name": "stdout",
     "output_type": "stream",
     "text": [
      "{'loss': 1.46944046, 'grad_norm': 13.55585384, 'learning_rate': 5.02e-06, 'memory(GiB)': 2.74, 'train_speed(iter/s)': 0.429689, 'epoch': 1.32, 'global_step/max_steps': '2675/10125', 'percentage': '26.42%', 'elapsed_time': '1h 43m 45s', 'remaining_time': '4h 48m 57s'}\n"
     ]
    },
    {
     "name": "stderr",
     "output_type": "stream",
     "text": [
      "Train:  26%|██▋       | 2680/10125 [1:43:53<3:36:42,  1.75s/it]"
     ]
    },
    {
     "name": "stdout",
     "output_type": "stream",
     "text": [
      "{'loss': 1.11639404, 'grad_norm': 11.75280571, 'learning_rate': 5.02e-06, 'memory(GiB)': 2.74, 'train_speed(iter/s)': 0.429892, 'epoch': 1.32, 'global_step/max_steps': '2680/10125', 'percentage': '26.47%', 'elapsed_time': '1h 43m 53s', 'remaining_time': '4h 48m 37s'}\n"
     ]
    },
    {
     "name": "stderr",
     "output_type": "stream",
     "text": [
      "Train:  27%|██▋       | 2685/10125 [1:44:02<3:25:43,  1.66s/it]"
     ]
    },
    {
     "name": "stdout",
     "output_type": "stream",
     "text": [
      "{'loss': 1.13505611, 'grad_norm': 13.27793789, 'learning_rate': 5.02e-06, 'memory(GiB)': 2.74, 'train_speed(iter/s)': 0.430123, 'epoch': 1.33, 'global_step/max_steps': '2685/10125', 'percentage': '26.52%', 'elapsed_time': '1h 44m 2s', 'remaining_time': '4h 48m 16s'}\n"
     ]
    },
    {
     "name": "stderr",
     "output_type": "stream",
     "text": [
      "Train:  27%|██▋       | 2690/10125 [1:44:10<3:29:45,  1.69s/it]"
     ]
    },
    {
     "name": "stdout",
     "output_type": "stream",
     "text": [
      "{'loss': 1.44503689, 'grad_norm': 13.67214394, 'learning_rate': 5.01e-06, 'memory(GiB)': 2.74, 'train_speed(iter/s)': 0.43034, 'epoch': 1.33, 'global_step/max_steps': '2690/10125', 'percentage': '26.57%', 'elapsed_time': '1h 44m 10s', 'remaining_time': '4h 47m 56s'}\n"
     ]
    },
    {
     "name": "stderr",
     "output_type": "stream",
     "text": [
      "Train:  27%|██▋       | 2695/10125 [1:44:19<3:35:35,  1.74s/it]"
     ]
    },
    {
     "name": "stdout",
     "output_type": "stream",
     "text": [
      "{'loss': 1.36354942, 'grad_norm': 15.41335678, 'learning_rate': 5.01e-06, 'memory(GiB)': 2.74, 'train_speed(iter/s)': 0.43055, 'epoch': 1.33, 'global_step/max_steps': '2695/10125', 'percentage': '26.62%', 'elapsed_time': '1h 44m 19s', 'remaining_time': '4h 47m 36s'}\n"
     ]
    },
    {
     "name": "stderr",
     "output_type": "stream",
     "text": [
      "Train:  27%|██▋       | 2700/10125 [1:44:27<3:24:42,  1.65s/it]\n"
     ]
    },
    {
     "name": "stdout",
     "output_type": "stream",
     "text": [
      "{'loss': 1.22451792, 'grad_norm': 17.70770454, 'learning_rate': 5.01e-06, 'memory(GiB)': 2.74, 'train_speed(iter/s)': 0.430784, 'epoch': 1.33, 'global_step/max_steps': '2700/10125', 'percentage': '26.67%', 'elapsed_time': '1h 44m 27s', 'remaining_time': '4h 47m 15s'}\n"
     ]
    },
    {
     "name": "stderr",
     "output_type": "stream",
     "text": [
      "Val: 100%|██████████| 426/426 [00:49<00:00,  8.66it/s]1.65s/it]\n"
     ]
    },
    {
     "name": "stdout",
     "output_type": "stream",
     "text": [
      "{'eval_loss': 1.37394834, 'eval_margin': -0.02019725, 'eval_mean_neg': 0.89408696, 'eval_mean_pos': 0.94558281, 'eval_runtime': 49.3015, 'eval_samples_per_second': 51.864, 'eval_steps_per_second': 8.661, 'epoch': 1.33, 'global_step/max_steps': '2700/10125', 'percentage': '26.67%', 'elapsed_time': '1h 45m 16s', 'remaining_time': '4h 49m 30s'}\n"
     ]
    },
    {
     "name": "stderr",
     "output_type": "stream",
     "text": [
      "Train:  27%|██▋       | 2705/10125 [1:45:25<10:54:57,  5.30s/it]"
     ]
    },
    {
     "name": "stdout",
     "output_type": "stream",
     "text": [
      "{'loss': 1.49100742, 'grad_norm': 14.32388496, 'learning_rate': 5e-06, 'memory(GiB)': 2.74, 'train_speed(iter/s)': 0.427618, 'epoch': 1.34, 'global_step/max_steps': '2705/10125', 'percentage': '26.72%', 'elapsed_time': '1h 45m 25s', 'remaining_time': '4h 49m 11s'}\n"
     ]
    },
    {
     "name": "stderr",
     "output_type": "stream",
     "text": [
      "Train:  27%|██▋       | 2710/10125 [1:45:34<4:54:19,  2.38s/it] "
     ]
    },
    {
     "name": "stdout",
     "output_type": "stream",
     "text": [
      "{'loss': 1.56705656, 'grad_norm': 16.97918892, 'learning_rate': 5e-06, 'memory(GiB)': 2.74, 'train_speed(iter/s)': 0.427803, 'epoch': 1.34, 'global_step/max_steps': '2710/10125', 'percentage': '26.77%', 'elapsed_time': '1h 45m 34s', 'remaining_time': '4h 48m 51s'}\n"
     ]
    },
    {
     "name": "stderr",
     "output_type": "stream",
     "text": [
      "Train:  27%|██▋       | 2715/10125 [1:45:43<3:49:43,  1.86s/it]"
     ]
    },
    {
     "name": "stdout",
     "output_type": "stream",
     "text": [
      "{'loss': 1.39412785, 'grad_norm': 12.33352375, 'learning_rate': 5e-06, 'memory(GiB)': 2.74, 'train_speed(iter/s)': 0.428004, 'epoch': 1.34, 'global_step/max_steps': '2715/10125', 'percentage': '26.81%', 'elapsed_time': '1h 45m 43s', 'remaining_time': '4h 48m 32s'}\n"
     ]
    },
    {
     "name": "stderr",
     "output_type": "stream",
     "text": [
      "Train:  27%|██▋       | 2720/10125 [1:45:51<3:37:46,  1.76s/it]"
     ]
    },
    {
     "name": "stdout",
     "output_type": "stream",
     "text": [
      "{'loss': 1.65877819, 'grad_norm': 16.27241135, 'learning_rate': 4.99e-06, 'memory(GiB)': 2.74, 'train_speed(iter/s)': 0.428208, 'epoch': 1.34, 'global_step/max_steps': '2720/10125', 'percentage': '26.86%', 'elapsed_time': '1h 45m 51s', 'remaining_time': '4h 48m 12s'}\n"
     ]
    },
    {
     "name": "stderr",
     "output_type": "stream",
     "text": [
      "Train:  27%|██▋       | 2725/10125 [1:46:00<3:39:16,  1.78s/it]"
     ]
    },
    {
     "name": "stdout",
     "output_type": "stream",
     "text": [
      "{'loss': 1.10456896, 'grad_norm': 13.76053905, 'learning_rate': 4.99e-06, 'memory(GiB)': 2.74, 'train_speed(iter/s)': 0.428389, 'epoch': 1.35, 'global_step/max_steps': '2725/10125', 'percentage': '26.91%', 'elapsed_time': '1h 46m 0s', 'remaining_time': '4h 47m 53s'}\n"
     ]
    },
    {
     "name": "stderr",
     "output_type": "stream",
     "text": [
      "Train:  27%|██▋       | 2730/10125 [1:46:09<3:42:11,  1.80s/it]"
     ]
    },
    {
     "name": "stdout",
     "output_type": "stream",
     "text": [
      "{'loss': 1.30259142, 'grad_norm': 12.05747318, 'learning_rate': 4.99e-06, 'memory(GiB)': 2.74, 'train_speed(iter/s)': 0.428554, 'epoch': 1.35, 'global_step/max_steps': '2730/10125', 'percentage': '26.96%', 'elapsed_time': '1h 46m 9s', 'remaining_time': '4h 47m 34s'}\n"
     ]
    },
    {
     "name": "stderr",
     "output_type": "stream",
     "text": [
      "Train:  27%|██▋       | 2735/10125 [1:46:19<3:43:29,  1.81s/it]"
     ]
    },
    {
     "name": "stdout",
     "output_type": "stream",
     "text": [
      "{'loss': 1.49328384, 'grad_norm': 13.67866611, 'learning_rate': 4.98e-06, 'memory(GiB)': 2.74, 'train_speed(iter/s)': 0.428723, 'epoch': 1.35, 'global_step/max_steps': '2735/10125', 'percentage': '27.01%', 'elapsed_time': '1h 46m 19s', 'remaining_time': '4h 47m 16s'}\n"
     ]
    },
    {
     "name": "stderr",
     "output_type": "stream",
     "text": [
      "Train:  27%|██▋       | 2740/10125 [1:46:28<3:52:02,  1.89s/it]"
     ]
    },
    {
     "name": "stdout",
     "output_type": "stream",
     "text": [
      "{'loss': 1.53978786, 'grad_norm': 15.6744709, 'learning_rate': 4.98e-06, 'memory(GiB)': 2.74, 'train_speed(iter/s)': 0.428873, 'epoch': 1.35, 'global_step/max_steps': '2740/10125', 'percentage': '27.06%', 'elapsed_time': '1h 46m 28s', 'remaining_time': '4h 46m 58s'}\n"
     ]
    },
    {
     "name": "stderr",
     "output_type": "stream",
     "text": [
      "Train:  27%|██▋       | 2745/10125 [1:46:37<3:43:46,  1.82s/it]"
     ]
    },
    {
     "name": "stdout",
     "output_type": "stream",
     "text": [
      "{'loss': 1.28677139, 'grad_norm': 12.54801846, 'learning_rate': 4.98e-06, 'memory(GiB)': 2.74, 'train_speed(iter/s)': 0.429041, 'epoch': 1.36, 'global_step/max_steps': '2745/10125', 'percentage': '27.11%', 'elapsed_time': '1h 46m 37s', 'remaining_time': '4h 46m 40s'}\n"
     ]
    },
    {
     "name": "stderr",
     "output_type": "stream",
     "text": [
      "Train:  27%|██▋       | 2750/10125 [1:46:46<3:37:36,  1.77s/it]"
     ]
    },
    {
     "name": "stdout",
     "output_type": "stream",
     "text": [
      "{'loss': 1.22758141, 'grad_norm': 12.567976, 'learning_rate': 4.97e-06, 'memory(GiB)': 2.74, 'train_speed(iter/s)': 0.429223, 'epoch': 1.36, 'global_step/max_steps': '2750/10125', 'percentage': '27.16%', 'elapsed_time': '1h 46m 46s', 'remaining_time': '4h 46m 21s'}\n"
     ]
    },
    {
     "name": "stderr",
     "output_type": "stream",
     "text": [
      "Train:  27%|██▋       | 2755/10125 [1:46:56<3:47:03,  1.85s/it]"
     ]
    },
    {
     "name": "stdout",
     "output_type": "stream",
     "text": [
      "{'loss': 1.33450184, 'grad_norm': 12.93315792, 'learning_rate': 4.97e-06, 'memory(GiB)': 2.74, 'train_speed(iter/s)': 0.429373, 'epoch': 1.36, 'global_step/max_steps': '2755/10125', 'percentage': '27.21%', 'elapsed_time': '1h 46m 56s', 'remaining_time': '4h 46m 3s'}\n"
     ]
    },
    {
     "name": "stderr",
     "output_type": "stream",
     "text": [
      "Train:  27%|██▋       | 2760/10125 [1:47:05<3:55:43,  1.92s/it]"
     ]
    },
    {
     "name": "stdout",
     "output_type": "stream",
     "text": [
      "{'loss': 1.35717001, 'grad_norm': 14.77004147, 'learning_rate': 4.97e-06, 'memory(GiB)': 2.74, 'train_speed(iter/s)': 0.429506, 'epoch': 1.36, 'global_step/max_steps': '2760/10125', 'percentage': '27.26%', 'elapsed_time': '1h 47m 5s', 'remaining_time': '4h 45m 46s'}\n"
     ]
    },
    {
     "name": "stderr",
     "output_type": "stream",
     "text": [
      "Train:  27%|██▋       | 2765/10125 [1:47:15<3:58:20,  1.94s/it]"
     ]
    },
    {
     "name": "stdout",
     "output_type": "stream",
     "text": [
      "{'loss': 1.43717299, 'grad_norm': 17.05768013, 'learning_rate': 4.96e-06, 'memory(GiB)': 2.74, 'train_speed(iter/s)': 0.429628, 'epoch': 1.37, 'global_step/max_steps': '2765/10125', 'percentage': '27.31%', 'elapsed_time': '1h 47m 15s', 'remaining_time': '4h 45m 30s'}\n"
     ]
    },
    {
     "name": "stderr",
     "output_type": "stream",
     "text": [
      "Train:  27%|██▋       | 2770/10125 [1:47:24<3:41:56,  1.81s/it]"
     ]
    },
    {
     "name": "stdout",
     "output_type": "stream",
     "text": [
      "{'loss': 1.37853994, 'grad_norm': 14.70242023, 'learning_rate': 4.96e-06, 'memory(GiB)': 2.74, 'train_speed(iter/s)': 0.429796, 'epoch': 1.37, 'global_step/max_steps': '2770/10125', 'percentage': '27.36%', 'elapsed_time': '1h 47m 24s', 'remaining_time': '4h 45m 11s'}\n"
     ]
    },
    {
     "name": "stderr",
     "output_type": "stream",
     "text": [
      "Train:  27%|██▋       | 2774/10125 [1:47:31<3:42:13,  1.81s/it][INFO:swift] last_model_checkpoint: d:\\Projects\\hyperbook-weaver\\models\\v0-20250626-170913\\checkpoint-2000\n",
      "[INFO:swift] best_model_checkpoint: d:\\Projects\\hyperbook-weaver\\models\\v0-20250626-170913\\checkpoint-2000\n",
      "[INFO:swift] images_dir: d:\\Projects\\hyperbook-weaver\\models\\v0-20250626-170913\\images\n"
     ]
    },
    {
     "ename": "KeyboardInterrupt",
     "evalue": "",
     "output_type": "error",
     "traceback": [
      "\u001b[31m---------------------------------------------------------------------------\u001b[39m",
      "\u001b[31mKeyboardInterrupt\u001b[39m                         Traceback (most recent call last)",
      "\u001b[36mCell\u001b[39m\u001b[36m \u001b[39m\u001b[32mIn[2]\u001b[39m\u001b[32m, line 1\u001b[39m\n\u001b[32m----> \u001b[39m\u001b[32m1\u001b[39m \u001b[43msft_main\u001b[49m\u001b[43m(\u001b[49m\u001b[43margs\u001b[49m\u001b[43m)\u001b[49m\n",
      "\u001b[36mFile \u001b[39m\u001b[32md:\\Projects\\hyperbook-weaver\\venv\\Lib\\site-packages\\swift\\llm\\train\\sft.py:269\u001b[39m, in \u001b[36msft_main\u001b[39m\u001b[34m(args)\u001b[39m\n\u001b[32m    268\u001b[39m \u001b[38;5;28;01mdef\u001b[39;00m\u001b[38;5;250m \u001b[39m\u001b[34msft_main\u001b[39m(args: Union[List[\u001b[38;5;28mstr\u001b[39m], TrainArguments, \u001b[38;5;28;01mNone\u001b[39;00m] = \u001b[38;5;28;01mNone\u001b[39;00m):\n\u001b[32m--> \u001b[39m\u001b[32m269\u001b[39m     \u001b[38;5;28;01mreturn\u001b[39;00m \u001b[43mSwiftSft\u001b[49m\u001b[43m(\u001b[49m\u001b[43margs\u001b[49m\u001b[43m)\u001b[49m\u001b[43m.\u001b[49m\u001b[43mmain\u001b[49m\u001b[43m(\u001b[49m\u001b[43m)\u001b[49m\n",
      "\u001b[36mFile \u001b[39m\u001b[32md:\\Projects\\hyperbook-weaver\\venv\\Lib\\site-packages\\swift\\llm\\base.py:49\u001b[39m, in \u001b[36mSwiftPipeline.main\u001b[39m\u001b[34m(self)\u001b[39m\n\u001b[32m     47\u001b[39m logger.info(\u001b[33mf\u001b[39m\u001b[33m'\u001b[39m\u001b[33mStart time of running main: \u001b[39m\u001b[38;5;132;01m{\u001b[39;00mdt.datetime.now().strftime(\u001b[33m\"\u001b[39m\u001b[33m%\u001b[39m\u001b[33mY-\u001b[39m\u001b[33m%\u001b[39m\u001b[33mm-\u001b[39m\u001b[38;5;132;01m%d\u001b[39;00m\u001b[33m \u001b[39m\u001b[33m%\u001b[39m\u001b[33mH:\u001b[39m\u001b[33m%\u001b[39m\u001b[33mM:\u001b[39m\u001b[33m%\u001b[39m\u001b[33mS.\u001b[39m\u001b[38;5;132;01m%f\u001b[39;00m\u001b[33m\"\u001b[39m)\u001b[38;5;132;01m}\u001b[39;00m\u001b[33m'\u001b[39m)\n\u001b[32m     48\u001b[39m logger.info(\u001b[33mf\u001b[39m\u001b[33m'\u001b[39m\u001b[33mswift.__version__: \u001b[39m\u001b[38;5;132;01m{\u001b[39;00mswift.__version__\u001b[38;5;132;01m}\u001b[39;00m\u001b[33m'\u001b[39m)\n\u001b[32m---> \u001b[39m\u001b[32m49\u001b[39m result = \u001b[38;5;28;43mself\u001b[39;49m\u001b[43m.\u001b[49m\u001b[43mrun\u001b[49m\u001b[43m(\u001b[49m\u001b[43m)\u001b[49m\n\u001b[32m     50\u001b[39m logger.info(\u001b[33mf\u001b[39m\u001b[33m'\u001b[39m\u001b[33mEnd time of running main: \u001b[39m\u001b[38;5;132;01m{\u001b[39;00mdt.datetime.now().strftime(\u001b[33m\"\u001b[39m\u001b[33m%\u001b[39m\u001b[33mY-\u001b[39m\u001b[33m%\u001b[39m\u001b[33mm-\u001b[39m\u001b[38;5;132;01m%d\u001b[39;00m\u001b[33m \u001b[39m\u001b[33m%\u001b[39m\u001b[33mH:\u001b[39m\u001b[33m%\u001b[39m\u001b[33mM:\u001b[39m\u001b[33m%\u001b[39m\u001b[33mS.\u001b[39m\u001b[38;5;132;01m%f\u001b[39;00m\u001b[33m\"\u001b[39m)\u001b[38;5;132;01m}\u001b[39;00m\u001b[33m'\u001b[39m)\n\u001b[32m     51\u001b[39m \u001b[38;5;28;01mreturn\u001b[39;00m result\n",
      "\u001b[36mFile \u001b[39m\u001b[32md:\\Projects\\hyperbook-weaver\\venv\\Lib\\site-packages\\swift\\llm\\train\\sft.py:123\u001b[39m, in \u001b[36mSwiftSft.run\u001b[39m\u001b[34m(self)\u001b[39m\n\u001b[32m    112\u001b[39m trainer_cls = TrainerFactory.get_trainer_cls(args)\n\u001b[32m    113\u001b[39m trainer = trainer_cls(\n\u001b[32m    114\u001b[39m     model=\u001b[38;5;28mself\u001b[39m.model,\n\u001b[32m    115\u001b[39m     args=\u001b[38;5;28mself\u001b[39m.args.training_args,\n\u001b[32m   (...)\u001b[39m\u001b[32m    121\u001b[39m     **\u001b[38;5;28mself\u001b[39m._get_trainer_kwargs(),\n\u001b[32m    122\u001b[39m )\n\u001b[32m--> \u001b[39m\u001b[32m123\u001b[39m \u001b[38;5;28;01mreturn\u001b[39;00m \u001b[38;5;28;43mself\u001b[39;49m\u001b[43m.\u001b[49m\u001b[43mtrain\u001b[49m\u001b[43m(\u001b[49m\u001b[43mtrainer\u001b[49m\u001b[43m)\u001b[49m\n",
      "\u001b[36mFile \u001b[39m\u001b[32md:\\Projects\\hyperbook-weaver\\venv\\Lib\\site-packages\\swift\\llm\\train\\sft.py:184\u001b[39m, in \u001b[36mSwiftSft.train\u001b[39m\u001b[34m(self, trainer)\u001b[39m\n\u001b[32m    182\u001b[39m logger.info(\u001b[33mf\u001b[39m\u001b[33m'\u001b[39m\u001b[33mThe logging file will be saved in: \u001b[39m\u001b[38;5;132;01m{\u001b[39;00mlogging_path\u001b[38;5;132;01m}\u001b[39;00m\u001b[33m'\u001b[39m)\n\u001b[32m    183\u001b[39m \u001b[38;5;28;01mtry\u001b[39;00m:\n\u001b[32m--> \u001b[39m\u001b[32m184\u001b[39m     \u001b[43mtrainer\u001b[49m\u001b[43m.\u001b[49m\u001b[43mtrain\u001b[49m\u001b[43m(\u001b[49m\u001b[43mtrainer\u001b[49m\u001b[43m.\u001b[49m\u001b[43margs\u001b[49m\u001b[43m.\u001b[49m\u001b[43mresume_from_checkpoint\u001b[49m\u001b[43m)\u001b[49m\n\u001b[32m    185\u001b[39m \u001b[38;5;28;01mfinally\u001b[39;00m:\n\u001b[32m    186\u001b[39m     res = \u001b[38;5;28mself\u001b[39m._save_trainer_state(trainer)\n",
      "\u001b[36mFile \u001b[39m\u001b[32md:\\Projects\\hyperbook-weaver\\venv\\Lib\\site-packages\\swift\\trainers\\trainers.py:56\u001b[39m, in \u001b[36mTrainer.train\u001b[39m\u001b[34m(self, *args, **kwargs)\u001b[39m\n\u001b[32m     54\u001b[39m \u001b[38;5;28;01mdef\u001b[39;00m\u001b[38;5;250m \u001b[39m\u001b[34mtrain\u001b[39m(\u001b[38;5;28mself\u001b[39m, *args, **kwargs):\n\u001b[32m     55\u001b[39m     \u001b[38;5;28;01mwith\u001b[39;00m \u001b[38;5;28mself\u001b[39m._patch_loss_function():\n\u001b[32m---> \u001b[39m\u001b[32m56\u001b[39m         \u001b[38;5;28;01mreturn\u001b[39;00m \u001b[38;5;28;43msuper\u001b[39;49m\u001b[43m(\u001b[49m\u001b[43m)\u001b[49m\u001b[43m.\u001b[49m\u001b[43mtrain\u001b[49m\u001b[43m(\u001b[49m\u001b[43m*\u001b[49m\u001b[43margs\u001b[49m\u001b[43m,\u001b[49m\u001b[43m \u001b[49m\u001b[43m*\u001b[49m\u001b[43m*\u001b[49m\u001b[43mkwargs\u001b[49m\u001b[43m)\u001b[49m\n",
      "\u001b[36mFile \u001b[39m\u001b[32md:\\Projects\\hyperbook-weaver\\venv\\Lib\\site-packages\\swift\\trainers\\mixin.py:379\u001b[39m, in \u001b[36mSwiftMixin.train\u001b[39m\u001b[34m(self, *args, **kwargs)\u001b[39m\n\u001b[32m    377\u001b[39m \u001b[38;5;28mself\u001b[39m._prepare_gradient_checkpointing(\u001b[38;5;28mself\u001b[39m.accelerator.unwrap_model(\u001b[38;5;28mself\u001b[39m.model))\n\u001b[32m    378\u001b[39m \u001b[38;5;28;01mwith\u001b[39;00m \u001b[38;5;28mself\u001b[39m.hub.patch_hub(), \u001b[38;5;28mself\u001b[39m._fix_grad_norm_nan():\n\u001b[32m--> \u001b[39m\u001b[32m379\u001b[39m     res = \u001b[38;5;28;43msuper\u001b[39;49m\u001b[43m(\u001b[49m\u001b[43m)\u001b[49m\u001b[43m.\u001b[49m\u001b[43mtrain\u001b[49m\u001b[43m(\u001b[49m\u001b[43m*\u001b[49m\u001b[43margs\u001b[49m\u001b[43m,\u001b[49m\u001b[43m \u001b[49m\u001b[43m*\u001b[49m\u001b[43m*\u001b[49m\u001b[43mkwargs\u001b[49m\u001b[43m)\u001b[49m\n\u001b[32m    380\u001b[39m \u001b[38;5;28mself\u001b[39m.template.remove_post_encode_hook()\n\u001b[32m    381\u001b[39m \u001b[38;5;28mself\u001b[39m.args.gradient_checkpointing = gradient_checkpointing  \u001b[38;5;66;03m# recover\u001b[39;00m\n",
      "\u001b[36mFile \u001b[39m\u001b[32md:\\Projects\\hyperbook-weaver\\venv\\Lib\\site-packages\\transformers\\trainer.py:2240\u001b[39m, in \u001b[36mTrainer.train\u001b[39m\u001b[34m(self, resume_from_checkpoint, trial, ignore_keys_for_eval, **kwargs)\u001b[39m\n\u001b[32m   2238\u001b[39m         hf_hub_utils.enable_progress_bars()\n\u001b[32m   2239\u001b[39m \u001b[38;5;28;01melse\u001b[39;00m:\n\u001b[32m-> \u001b[39m\u001b[32m2240\u001b[39m     \u001b[38;5;28;01mreturn\u001b[39;00m \u001b[43minner_training_loop\u001b[49m\u001b[43m(\u001b[49m\n\u001b[32m   2241\u001b[39m \u001b[43m        \u001b[49m\u001b[43margs\u001b[49m\u001b[43m=\u001b[49m\u001b[43margs\u001b[49m\u001b[43m,\u001b[49m\n\u001b[32m   2242\u001b[39m \u001b[43m        \u001b[49m\u001b[43mresume_from_checkpoint\u001b[49m\u001b[43m=\u001b[49m\u001b[43mresume_from_checkpoint\u001b[49m\u001b[43m,\u001b[49m\n\u001b[32m   2243\u001b[39m \u001b[43m        \u001b[49m\u001b[43mtrial\u001b[49m\u001b[43m=\u001b[49m\u001b[43mtrial\u001b[49m\u001b[43m,\u001b[49m\n\u001b[32m   2244\u001b[39m \u001b[43m        \u001b[49m\u001b[43mignore_keys_for_eval\u001b[49m\u001b[43m=\u001b[49m\u001b[43mignore_keys_for_eval\u001b[49m\u001b[43m,\u001b[49m\n\u001b[32m   2245\u001b[39m \u001b[43m    \u001b[49m\u001b[43m)\u001b[49m\n",
      "\u001b[36mFile \u001b[39m\u001b[32md:\\Projects\\hyperbook-weaver\\venv\\Lib\\site-packages\\transformers\\trainer.py:2509\u001b[39m, in \u001b[36mTrainer._inner_training_loop\u001b[39m\u001b[34m(self, batch_size, args, resume_from_checkpoint, trial, ignore_keys_for_eval)\u001b[39m\n\u001b[32m   2507\u001b[39m update_step += \u001b[32m1\u001b[39m\n\u001b[32m   2508\u001b[39m num_batches = args.gradient_accumulation_steps \u001b[38;5;28;01mif\u001b[39;00m update_step != (total_updates - \u001b[32m1\u001b[39m) \u001b[38;5;28;01melse\u001b[39;00m remainder\n\u001b[32m-> \u001b[39m\u001b[32m2509\u001b[39m batch_samples, num_items_in_batch = \u001b[38;5;28;43mself\u001b[39;49m\u001b[43m.\u001b[49m\u001b[43mget_batch_samples\u001b[49m\u001b[43m(\u001b[49m\u001b[43mepoch_iterator\u001b[49m\u001b[43m,\u001b[49m\u001b[43m \u001b[49m\u001b[43mnum_batches\u001b[49m\u001b[43m,\u001b[49m\u001b[43m \u001b[49m\u001b[43margs\u001b[49m\u001b[43m.\u001b[49m\u001b[43mdevice\u001b[49m\u001b[43m)\u001b[49m\n\u001b[32m   2510\u001b[39m \u001b[38;5;28;01mfor\u001b[39;00m i, inputs \u001b[38;5;129;01min\u001b[39;00m \u001b[38;5;28menumerate\u001b[39m(batch_samples):\n\u001b[32m   2511\u001b[39m     step += \u001b[32m1\u001b[39m\n",
      "\u001b[36mFile \u001b[39m\u001b[32md:\\Projects\\hyperbook-weaver\\venv\\Lib\\site-packages\\swift\\trainers\\mixin.py:528\u001b[39m, in \u001b[36mSwiftMixin.get_batch_samples\u001b[39m\u001b[34m(self, *args, **kwargs)\u001b[39m\n\u001b[32m    527\u001b[39m \u001b[38;5;28;01mdef\u001b[39;00m\u001b[38;5;250m \u001b[39m\u001b[34mget_batch_samples\u001b[39m(\u001b[38;5;28mself\u001b[39m, *args, **kwargs):\n\u001b[32m--> \u001b[39m\u001b[32m528\u001b[39m     res = \u001b[38;5;28;43msuper\u001b[39;49m\u001b[43m(\u001b[49m\u001b[43m)\u001b[49m\u001b[43m.\u001b[49m\u001b[43mget_batch_samples\u001b[49m\u001b[43m(\u001b[49m\u001b[43m*\u001b[49m\u001b[43margs\u001b[49m\u001b[43m,\u001b[49m\u001b[43m \u001b[49m\u001b[43m*\u001b[49m\u001b[43m*\u001b[49m\u001b[43mkwargs\u001b[49m\u001b[43m)\u001b[49m\n\u001b[32m    529\u001b[39m     \u001b[38;5;28;01mfrom\u001b[39;00m\u001b[38;5;250m \u001b[39m\u001b[34;01mswift\u001b[39;00m\u001b[34;01m.\u001b[39;00m\u001b[34;01mtrainers\u001b[39;00m\u001b[34;01m.\u001b[39;00m\u001b[34;01msequence_parallel\u001b[39;00m\u001b[38;5;250m \u001b[39m\u001b[38;5;28;01mimport\u001b[39;00m sequence_parallel\n\u001b[32m    530\u001b[39m     \u001b[38;5;28;01mif\u001b[39;00m \u001b[38;5;28mself\u001b[39m.template.sequence_parallel_size == \u001b[32m1\u001b[39m \u001b[38;5;129;01mor\u001b[39;00m \u001b[33m'\u001b[39m\u001b[33mUlysses\u001b[39m\u001b[33m'\u001b[39m == sequence_parallel.\u001b[34m__class__\u001b[39m.\u001b[34m__name__\u001b[39m:\n\u001b[32m    531\u001b[39m         \u001b[38;5;66;03m# ulysses split inputs in the model hook, so no need to gather num_items_in_batch\u001b[39;00m\n",
      "\u001b[36mFile \u001b[39m\u001b[32md:\\Projects\\hyperbook-weaver\\venv\\Lib\\site-packages\\transformers\\trainer.py:5263\u001b[39m, in \u001b[36mTrainer.get_batch_samples\u001b[39m\u001b[34m(self, epoch_iterator, num_batches, device)\u001b[39m\n\u001b[32m   5261\u001b[39m \u001b[38;5;28;01mfor\u001b[39;00m _ \u001b[38;5;129;01min\u001b[39;00m \u001b[38;5;28mrange\u001b[39m(num_batches):\n\u001b[32m   5262\u001b[39m     \u001b[38;5;28;01mtry\u001b[39;00m:\n\u001b[32m-> \u001b[39m\u001b[32m5263\u001b[39m         batch_samples.append(\u001b[38;5;28;43mnext\u001b[39;49m\u001b[43m(\u001b[49m\u001b[43mepoch_iterator\u001b[49m\u001b[43m)\u001b[49m)\n\u001b[32m   5264\u001b[39m     \u001b[38;5;28;01mexcept\u001b[39;00m \u001b[38;5;167;01mStopIteration\u001b[39;00m:\n\u001b[32m   5265\u001b[39m         \u001b[38;5;28;01mbreak\u001b[39;00m\n",
      "\u001b[36mFile \u001b[39m\u001b[32md:\\Projects\\hyperbook-weaver\\venv\\Lib\\site-packages\\accelerate\\data_loader.py:578\u001b[39m, in \u001b[36mDataLoaderShard.__iter__\u001b[39m\u001b[34m(self)\u001b[39m\n\u001b[32m    576\u001b[39m     current_batch = send_to_device(current_batch, \u001b[38;5;28mself\u001b[39m.device, non_blocking=\u001b[38;5;28mself\u001b[39m._non_blocking)\n\u001b[32m    577\u001b[39m \u001b[38;5;28mself\u001b[39m._update_state_dict()\n\u001b[32m--> \u001b[39m\u001b[32m578\u001b[39m next_batch = \u001b[38;5;28;43mnext\u001b[39;49m\u001b[43m(\u001b[49m\u001b[43mdataloader_iter\u001b[49m\u001b[43m)\u001b[49m\n\u001b[32m    579\u001b[39m \u001b[38;5;28;01mif\u001b[39;00m batch_index >= \u001b[38;5;28mself\u001b[39m.skip_batches:\n\u001b[32m    580\u001b[39m     \u001b[38;5;28;01myield\u001b[39;00m current_batch\n",
      "\u001b[36mFile \u001b[39m\u001b[32md:\\Projects\\hyperbook-weaver\\venv\\Lib\\site-packages\\torch\\utils\\data\\dataloader.py:733\u001b[39m, in \u001b[36m_BaseDataLoaderIter.__next__\u001b[39m\u001b[34m(self)\u001b[39m\n\u001b[32m    730\u001b[39m \u001b[38;5;28;01mif\u001b[39;00m \u001b[38;5;28mself\u001b[39m._sampler_iter \u001b[38;5;129;01mis\u001b[39;00m \u001b[38;5;28;01mNone\u001b[39;00m:\n\u001b[32m    731\u001b[39m     \u001b[38;5;66;03m# TODO(https://github.com/pytorch/pytorch/issues/76750)\u001b[39;00m\n\u001b[32m    732\u001b[39m     \u001b[38;5;28mself\u001b[39m._reset()  \u001b[38;5;66;03m# type: ignore[call-arg]\u001b[39;00m\n\u001b[32m--> \u001b[39m\u001b[32m733\u001b[39m data = \u001b[38;5;28;43mself\u001b[39;49m\u001b[43m.\u001b[49m\u001b[43m_next_data\u001b[49m\u001b[43m(\u001b[49m\u001b[43m)\u001b[49m\n\u001b[32m    734\u001b[39m \u001b[38;5;28mself\u001b[39m._num_yielded += \u001b[32m1\u001b[39m\n\u001b[32m    735\u001b[39m \u001b[38;5;28;01mif\u001b[39;00m (\n\u001b[32m    736\u001b[39m     \u001b[38;5;28mself\u001b[39m._dataset_kind == _DatasetKind.Iterable\n\u001b[32m    737\u001b[39m     \u001b[38;5;129;01mand\u001b[39;00m \u001b[38;5;28mself\u001b[39m._IterableDataset_len_called \u001b[38;5;129;01mis\u001b[39;00m \u001b[38;5;129;01mnot\u001b[39;00m \u001b[38;5;28;01mNone\u001b[39;00m\n\u001b[32m    738\u001b[39m     \u001b[38;5;129;01mand\u001b[39;00m \u001b[38;5;28mself\u001b[39m._num_yielded > \u001b[38;5;28mself\u001b[39m._IterableDataset_len_called\n\u001b[32m    739\u001b[39m ):\n",
      "\u001b[36mFile \u001b[39m\u001b[32md:\\Projects\\hyperbook-weaver\\venv\\Lib\\site-packages\\torch\\utils\\data\\dataloader.py:789\u001b[39m, in \u001b[36m_SingleProcessDataLoaderIter._next_data\u001b[39m\u001b[34m(self)\u001b[39m\n\u001b[32m    787\u001b[39m \u001b[38;5;28;01mdef\u001b[39;00m\u001b[38;5;250m \u001b[39m\u001b[34m_next_data\u001b[39m(\u001b[38;5;28mself\u001b[39m):\n\u001b[32m    788\u001b[39m     index = \u001b[38;5;28mself\u001b[39m._next_index()  \u001b[38;5;66;03m# may raise StopIteration\u001b[39;00m\n\u001b[32m--> \u001b[39m\u001b[32m789\u001b[39m     data = \u001b[38;5;28;43mself\u001b[39;49m\u001b[43m.\u001b[49m\u001b[43m_dataset_fetcher\u001b[49m\u001b[43m.\u001b[49m\u001b[43mfetch\u001b[49m\u001b[43m(\u001b[49m\u001b[43mindex\u001b[49m\u001b[43m)\u001b[49m  \u001b[38;5;66;03m# may raise StopIteration\u001b[39;00m\n\u001b[32m    790\u001b[39m     \u001b[38;5;28;01mif\u001b[39;00m \u001b[38;5;28mself\u001b[39m._pin_memory:\n\u001b[32m    791\u001b[39m         data = _utils.pin_memory.pin_memory(data, \u001b[38;5;28mself\u001b[39m._pin_memory_device)\n",
      "\u001b[36mFile \u001b[39m\u001b[32md:\\Projects\\hyperbook-weaver\\venv\\Lib\\site-packages\\torch\\utils\\data\\_utils\\fetch.py:55\u001b[39m, in \u001b[36m_MapDatasetFetcher.fetch\u001b[39m\u001b[34m(self, possibly_batched_index)\u001b[39m\n\u001b[32m     53\u001b[39m \u001b[38;5;28;01melse\u001b[39;00m:\n\u001b[32m     54\u001b[39m     data = \u001b[38;5;28mself\u001b[39m.dataset[possibly_batched_index]\n\u001b[32m---> \u001b[39m\u001b[32m55\u001b[39m \u001b[38;5;28;01mreturn\u001b[39;00m \u001b[38;5;28;43mself\u001b[39;49m\u001b[43m.\u001b[49m\u001b[43mcollate_fn\u001b[49m\u001b[43m(\u001b[49m\u001b[43mdata\u001b[49m\u001b[43m)\u001b[49m\n",
      "\u001b[36mFile \u001b[39m\u001b[32md:\\Projects\\hyperbook-weaver\\venv\\Lib\\site-packages\\swift\\llm\\template\\base.py:1245\u001b[39m, in \u001b[36mTemplate.data_collator\u001b[39m\u001b[34m(self, batch, padding_to)\u001b[39m\n\u001b[32m   1243\u001b[39m     \u001b[38;5;28;01mreturn\u001b[39;00m \u001b[38;5;28mself\u001b[39m._seq_cls_data_collator(batch, padding_to=padding_to)\n\u001b[32m   1244\u001b[39m \u001b[38;5;28;01melif\u001b[39;00m \u001b[38;5;28mself\u001b[39m.mode == \u001b[33m'\u001b[39m\u001b[33membedding\u001b[39m\u001b[33m'\u001b[39m:\n\u001b[32m-> \u001b[39m\u001b[32m1245\u001b[39m     \u001b[38;5;28;01mreturn\u001b[39;00m \u001b[38;5;28;43mself\u001b[39;49m\u001b[43m.\u001b[49m\u001b[43m_embedding_data_collator\u001b[49m\u001b[43m(\u001b[49m\u001b[43mbatch\u001b[49m\u001b[43m,\u001b[49m\u001b[43m \u001b[49m\u001b[43mpadding_to\u001b[49m\u001b[43m=\u001b[49m\u001b[43mpadding_to\u001b[49m\u001b[43m)\u001b[49m\n",
      "\u001b[36mFile \u001b[39m\u001b[32md:\\Projects\\hyperbook-weaver\\venv\\Lib\\site-packages\\swift\\llm\\template\\base.py:1334\u001b[39m, in \u001b[36mTemplate._embedding_data_collator\u001b[39m\u001b[34m(self, batch, padding_to)\u001b[39m\n\u001b[32m   1332\u001b[39m         new_batch += \u001b[38;5;28mself\u001b[39m._fetch_inputs_startswith([b], prefix)\n\u001b[32m   1333\u001b[39m     labels.extend(b.get(\u001b[33m'\u001b[39m\u001b[33mlabels\u001b[39m\u001b[33m'\u001b[39m, \u001b[38;5;28;01mNone\u001b[39;00m))\n\u001b[32m-> \u001b[39m\u001b[32m1334\u001b[39m res = \u001b[38;5;28;43mself\u001b[39;49m\u001b[43m.\u001b[49m\u001b[43m_data_collator\u001b[49m\u001b[43m(\u001b[49m\u001b[43mnew_batch\u001b[49m\u001b[43m,\u001b[49m\u001b[43m \u001b[49m\u001b[43mpadding_to\u001b[49m\u001b[43m=\u001b[49m\u001b[43mpadding_to\u001b[49m\u001b[43m)\u001b[49m\n\u001b[32m   1335\u001b[39m \u001b[38;5;28;01mif\u001b[39;00m labels:\n\u001b[32m   1336\u001b[39m     res[\u001b[33m'\u001b[39m\u001b[33mlabels\u001b[39m\u001b[33m'\u001b[39m] = torch.tensor(labels, dtype=torch.float32)\n",
      "\u001b[36mFile \u001b[39m\u001b[32md:\\Projects\\hyperbook-weaver\\venv\\Lib\\site-packages\\swift\\llm\\template\\base.py:1418\u001b[39m, in \u001b[36mTemplate._data_collator\u001b[39m\u001b[34m(self, batch, padding_to)\u001b[39m\n\u001b[32m   1416\u001b[39m         seq_lens = [seq.shape[\u001b[32m0\u001b[39m] \u001b[38;5;28;01mfor\u001b[39;00m seq \u001b[38;5;129;01min\u001b[39;00m res[key]]\n\u001b[32m   1417\u001b[39m \u001b[38;5;28;01mif\u001b[39;00m \u001b[38;5;129;01mnot\u001b[39;00m packing_mode \u001b[38;5;129;01mand\u001b[39;00m seq_lens \u001b[38;5;129;01mand\u001b[39;00m (\u001b[33m'\u001b[39m\u001b[33minput_ids\u001b[39m\u001b[33m'\u001b[39m \u001b[38;5;129;01min\u001b[39;00m res \u001b[38;5;129;01mor\u001b[39;00m \u001b[33m'\u001b[39m\u001b[33minputs_embeds\u001b[39m\u001b[33m'\u001b[39m \u001b[38;5;129;01min\u001b[39;00m res):\n\u001b[32m-> \u001b[39m\u001b[32m1418\u001b[39m     res[\u001b[33m'\u001b[39m\u001b[33mattention_mask\u001b[39m\u001b[33m'\u001b[39m] = [\u001b[43mtorch\u001b[49m\u001b[43m.\u001b[49m\u001b[43mones\u001b[49m\u001b[43m(\u001b[49m\u001b[43mseq_len\u001b[49m\u001b[43m,\u001b[49m\u001b[43m \u001b[49m\u001b[43mdtype\u001b[49m\u001b[43m=\u001b[49m\u001b[43mtorch\u001b[49m\u001b[43m.\u001b[49m\u001b[43mint64\u001b[49m\u001b[43m)\u001b[49m \u001b[38;5;28;01mfor\u001b[39;00m seq_len \u001b[38;5;129;01min\u001b[39;00m seq_lens]\n\u001b[32m   1419\u001b[39m     \u001b[38;5;28;01mif\u001b[39;00m \u001b[38;5;28mself\u001b[39m.is_training \u001b[38;5;129;01mand\u001b[39;00m \u001b[38;5;28mself\u001b[39m.padding_side == \u001b[33m'\u001b[39m\u001b[33mleft\u001b[39m\u001b[33m'\u001b[39m:\n\u001b[32m   1420\u001b[39m         res[\u001b[33m'\u001b[39m\u001b[33mposition_ids\u001b[39m\u001b[33m'\u001b[39m] = [torch.arange(seq_len, dtype=torch.int64) \u001b[38;5;28;01mfor\u001b[39;00m seq_len \u001b[38;5;129;01min\u001b[39;00m seq_lens]\n",
      "\u001b[31mKeyboardInterrupt\u001b[39m: "
     ]
    }
   ],
   "source": [
    "sft_main(args)"
   ]
  }
 ],
 "metadata": {
  "kernelspec": {
   "display_name": "venv",
   "language": "python",
   "name": "python3"
  },
  "language_info": {
   "codemirror_mode": {
    "name": "ipython",
    "version": 3
   },
   "file_extension": ".py",
   "mimetype": "text/x-python",
   "name": "python",
   "nbconvert_exporter": "python",
   "pygments_lexer": "ipython3",
   "version": "3.12.0"
  }
 },
 "nbformat": 4,
 "nbformat_minor": 5
}
